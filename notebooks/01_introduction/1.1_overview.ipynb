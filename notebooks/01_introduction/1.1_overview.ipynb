{
 "cells": [
  {
   "cell_type": "markdown",
   "id": "joined-journalist",
   "metadata": {},
   "source": [
    "# Overview\n",
    "\n",
    "Author: Cian Wilson\n",
    "\n",
    "The thermal structure of subduction zones is fundamental to our understanding of the physical and chemical processes that occur at active convergent plate margins.  These include magma generation and related arc volcanism, shallow and deep seismicity and metamorphic reactions that can release fluids.  Computational models can predict the thermal structure to great numerical precision when models are fully described but this does not guarantee accuracy or applicability.  In a trio of companion papers ([I](http://dx.doi.org/10.1186/s40645-023-00573-z), [II](http://dx.doi.org/10.1186/s40645-023-00588-6), and [III](http://dx.doi.org/10.1186/s40645-023-00589-5)), the construction of thermal subduction zone models, their use in subduction zone studies, and their link to geophysical and geochemical observations were explored.  This [Jupyter Book](https://jupyterbook.org/) reproduces the examples presented in part [II](http://dx.doi.org/10.1186/s40645-023-00588-6) where the finite element techniques that can be used to predict the thermal structure were discussed in an introductory fashion along with their verification and validation.  In addition we provide the full global suite of models discussed in part [III](http://dx.doi.org/10.1186/s40645-023-00589-5) as an easily accessible and modifiable source of subduction zone thermal models.  Unlike the examples presented in part [II](http://dx.doi.org/10.1186/s40645-023-00588-6) ([github](https://github.com/cianwilson/vankeken_wilson_peps_2023), [zenodo](https://doi.org/10.5281/zenodo.7843967)), which mostly used the finite element model builder [TerraFERMA](https://terraferma.github.io) and a legacy version of the finite element library [FEniCS](https://fenicsproject.org/download/archive/), here we present these models using the latest version of FEniCS, [FEniCSx](https://fenicsproject.org/)."
   ]
  }
 ],
 "metadata": {
  "kernelspec": {
   "display_name": "Python 3 (ipykernel)",
   "language": "python",
   "name": "python3"
  },
  "language_info": {
   "codemirror_mode": {
    "name": "ipython",
    "version": 3
   },
   "file_extension": ".py",
   "mimetype": "text/x-python",
   "name": "python",
   "nbconvert_exporter": "python",
   "pygments_lexer": "ipython3",
   "version": "3.10.12"
  }
 },
 "nbformat": 4,
 "nbformat_minor": 5
}
