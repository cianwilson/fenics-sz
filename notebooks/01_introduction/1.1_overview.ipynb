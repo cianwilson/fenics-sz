{
 "cells": [
  {
   "cell_type": "markdown",
   "id": "joined-journalist",
   "metadata": {},
   "source": [
    "# Overview\n",
    "\n",
    "Author: Cian Wilson\n",
    "\n",
    "The thermal structure of subduction zones is fundamental to our understanding of the physical and chemical processes that occur at active convergent plate margins.  These include magma generation and related arc volcanism, shallow and deep seismicity and metamorphic reactions that can release fluids.  Computational models can predict the thermal structure to great numerical precision when models are fully described but this does not guarantee accuracy or applicability.  \n",
    "\n",
    "In a trio of companion papers ([I](http://dx.doi.org/10.1186/s40645-023-00573-z), [II](http://dx.doi.org/10.1186/s40645-023-00588-6), and [III](http://dx.doi.org/10.1186/s40645-023-00589-5)), the construction of thermal subduction zone models, their use in subduction zone studies, and their link to geophysical and geochemical observations were explored.  This [jupyter book](https://jupyterbook.org/) reproduces the models presented in part [II](http://dx.doi.org/10.1186/s40645-023-00588-6) ([github](https://github.com/cianwilson/vankeken_wilson_peps_2023), [zenodo](https://doi.org/10.5281/zenodo.7843967)) however unlike those models, which mostly used the finite element model builder [TerraFERMA](https://terraferma.github.io) and a legacy version of the finite element library [FEniCS](https://fenicsproject.org/download/archive/), here we present these models using the latest version of FEniCS, [FEniCSx](https://fenicsproject.org/).  Most of the functionality of these models is developed in accessible and interactive [jupyter notebooks](https://jupyter-notebook.readthedocs.io/en/latest/) before being converted to importable python modules for use in subsequent notebooks and user-developed python scripts.  Parallelization within the notebooks is facilitated by [ipython parallel](https://ipyparallel.readthedocs.io/en/latest/) and we rely on [PETSc for python](https://petsc.org/release/petsc4py/) for access to the suite of linear algebra tools provided by [PETSc](https://petsc.org/release/).\n",
    "\n",
    "The book begins by presenting several [background](../02_background/2.1_background_intro.ipynb) problems from part [II](http://dx.doi.org/10.1186/s40645-023-00588-6) where the finite element techniques for geodynamics were discussed in an introductory fashion along with their verification, validation and parallel scaling.  The ultimate goal is to develop [models that can be used to predict the thermal structure of subduction zones](../03_sz_problems/3.1_sz_intro.ipynb) and to apply these models to the [full global suite of models](../04_global_suites/4.3a_time_dependent.ipynb) discussed in part [III](http://dx.doi.org/10.1186/s40645-023-00589-5).  This suite, originally proposed by [Syracuse et al., PEPI, 2010](https://doi.org/10.1016/j.pepi.2010.02.004), represents a global compilation of two-dimensional subduction zone transects at the locations seen in Figure 1.1.1.\n",
    "\n",
    "![Global Suite Locations](images/syracuselocations.png)\n",
    "\n",
    "*Figure 1.1.1 Locations of global suite of subduction zones, after [Syracuse et al., PEPI, 2010](https://doi.org/10.1016/j.pepi.2010.02.004).*\n",
    "\n",
    "Before developing these models we start by discussing how to use and interact with this book on the [next page](1.2_usage.ipynb)."
   ]
  },
  {
   "cell_type": "markdown",
   "id": "be3bf949",
   "metadata": {},
   "source": []
  }
 ],
 "metadata": {
  "kernelspec": {
   "display_name": "Python 3 (ipykernel)",
   "language": "python",
   "name": "python3"
  },
  "language_info": {
   "codemirror_mode": {
    "name": "ipython",
    "version": 3
   },
   "file_extension": ".py",
   "mimetype": "text/x-python",
   "name": "python",
   "nbconvert_exporter": "python",
   "pygments_lexer": "ipython3",
   "version": "3.10.12"
  }
 },
 "nbformat": 4,
 "nbformat_minor": 5
}
