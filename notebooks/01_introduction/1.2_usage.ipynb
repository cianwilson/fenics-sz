{
 "cells": [
  {
   "cell_type": "markdown",
   "id": "f38a4992-51cc-4bf2-90ae-8ae9eefcc816",
   "metadata": {},
   "source": [
    "# Usage\n",
    "\n",
    "Author: Cian Wilson\n",
    "\n",
    "The easiest way to read this [Jupyter Book](https://jupyterbook.org/) is on the [FEniCS-SZ website](https://cianwilson.github.io/fenics-sz) however all the pages of the book can also be run interactively in a web browser from any jupyter server with the appropriate software packages installed.  Below we start by providing instructions for running the notebooks through [docker](https://docs.docker.com/get-started/), a containerized software environment, for which we supply [pre-built container images](https://github.com/cianwilson/fenics-sz/pkgs/container/fenics-sz).  These can be most easily run [online](#online-binder) (but with limited computational resources) through [binder](https://mybinder.org/) or [locally](#local-docker) on any machine with docker installed.  In addition we provide some guidelines for [installing](#local-installation) the necessary software packages on any jupyter server using [conda](https://docs.conda.io)."
   ]
  },
  {
   "cell_type": "markdown",
   "id": "aa5867d3-65ca-4385-9442-aede387e9a91",
   "metadata": {},
   "source": [
    "## Online Binder\n",
    "This website is published as a [Jupyter Book](https://jupyterbook.org/). Each page is a Jupyter notebook that can be run interactively in the browser.  To start such an interactive session using [binder](https://mybinder.org/) click the ![Binder symbol](../images/binder.png)-symbol in the top right corner of the relevant page.  Note that [binder](https://mybinder.org/) may take some time to start while it downloads and starts the docker image.\n",
    "\n",
    "```{admonition} Interactive Changes\n",
    "Binder allows users to run notebooks interactively, making changes to the published Jupyter Book.  Note that these changes will be lost once the binder session ends unless the changed files are manually downloaded by selecting them in the Jupyter lab file browser and downloading them to the local machine.\n",
    "```\n",
    "\n",
    "```{admonition} Computational Costs\n",
    "Binder limits the amount of computational resources available.  Extremely high resolution simulations may therefore not be feasible online.\n",
    "```"
   ]
  },
  {
   "cell_type": "markdown",
   "id": "c6feed65-a6bd-4efa-a5f0-7bc24df3eb87",
   "metadata": {},
   "source": [
    "## Local Docker\n",
    "To run the notebooks locally, outside of [binder](https://mybinder.org/), an installation of the FEniCSx is required. We strongly recommend new users do this using [docker](https://www.docker.com/).\n",
    "\n",
    "Docker is software that uses _images_ and _containers_ to supply virtualized installations of software across different kinds of operating systems (Linux, Mac, Windows).  The first step is to install docker, following the instructions at their [webpage](https://docs.docker.com/get-started/).\n",
    "\n",
    "Once docker is installed we provide compatible docker images using [github packages](https://github.com/users/cianwilson/packages/container/package/fenics-sz).\n",
    "\n",
    "```{admonition} Computational Resources\n",
    "On non-linux operating systems docker limits the computational resources available to the virtualized docker container, which may limit the size of simulations it is possible to run locally.  Modify the docker settings to change these settings and make more resources available.\n",
    "```\n",
    "\n",
    "To use these images with this book on a local machine, first (using a terminal) clone the repository and change into that directory\n",
    "```bash\n",
    "  git clone -b release https://github.com/cianwilson/fenics-sz.git\n",
    "  cd fenics-sz\n",
    "```"
   ]
  },
  {
   "cell_type": "markdown",
   "id": "289dbae7-abd9-4879-a460-8981cadf55f0",
   "metadata": {},
   "source": [
    "### Browser\n",
    "\n",
    "If running the book in a browser run the following docker command\n",
    "\n",
    "```bash\n",
    "  docker run --init --rm -p 8888:8888 --workdir /root/shared -v \"$(pwd)\":/root/shared ghcr.io/cianwilson/fenics-sz:release\n",
    "```\n",
    "The first time this is run it will automatically download the docker image and start Jupyter lab in the docker container on the local machine.  To view the notebooks and modify them locally, copy and paste the URL printed in the terminal into a web-browser.\n",
    "\n",
    "```{admonition} Updates\n",
    "`docker run` will only download the docker image the first time it is called.  To get updates to the images run\n",
    "\n",
    "   docker pull ghcr.io/cianwilson/fenics-sz:release\n",
    "\n",
    "before calling `docker run`.\n",
    "```"
   ]
  },
  {
   "cell_type": "markdown",
   "id": "7c7afc7a-b567-41f4-b3e6-9a78ea189d59",
   "metadata": {},
   "source": [
    "### Terminal\n",
    "\n",
    "Alternatively, the image can be used through an interactive terminal by running\n",
    "\n",
    "```bash\n",
    "  docker run -it --rm -p 8888:8888 --workdir /root/shared -v \"$(pwd)\":/root/shared  --entrypoint=\"/bin/bash\" ghcr.io/cianwilson/fenics-sz:release\n",
    "```\n",
    "This can be useful, for example to install extra packages in the docker container through the terminal.\n",
    "\n",
    "Jupyter lab can also be started from within the docker container\n",
    "```bash\n",
    "  jupyter lab --ip 0.0.0.0 --port 8888 --no-browser --allow-root\n",
    "```\n",
    "again copying and pasting the resulting URL into a web browser to access the notebooks."
   ]
  },
  {
   "cell_type": "markdown",
   "id": "af07bd73-b5e6-4cd2-9cfb-b1a5a032a536",
   "metadata": {},
   "source": [
    "## Local Installation\n",
    "\n",
    "If not using docker a local installation of FEniCSx is necessary, including all of its components\n",
    " * [UFL](https://github.com/FEniCS/ufl)\n",
    " * [Basix](https://github.com/FEniCS/basix)\n",
    " * [FFCx](https://github.com/FEniCS/ffcx)\n",
    " * [DOLFINx](https://github.com/FEniCS/dolfinx)\n",
    "\n",
    "along with other dependencies, which can be seen in the files [`docker/pyproject.toml`](../../docker/pyproject.toml) and [`docker/Dockerfile`](../../docker/Dockerfile).\n",
    "\n",
    "```{admonition} Xvfb\n",
    "Note that we use [pyvista](https://docs.pyvista.org/) for plotting and, on linux machines, this requires [Xvfb](https://x.org/releases/X11R7.7/doc/man/man1/Xvfb.1.xhtml) to be installed on the system.\n",
    "```\n",
    "\n",
    "Installation instructions for FEniCSx are available on the [FEniCS project homepage](https://fenicsproject.org/download/). This Jupyter book was built with and is known to be compatible with"
   ]
  },
  {
   "cell_type": "code",
   "execution_count": null,
   "id": "5fd22073",
   "metadata": {},
   "outputs": [],
   "source": [
    "import dolfinx\n",
    "print(f\"DOLFINx version: {dolfinx.__version__} based on GIT commit: {dolfinx.git_commit_hash} of https://github.com/FEniCS/dolfinx/\")"
   ]
  },
  {
   "cell_type": "markdown",
   "id": "d2285570",
   "metadata": {},
   "source": [
    "### Conda\n",
    "\n",
    "Aside from using the recommended method through docker, [conda](https://docs.conda.io) provides the easiest way of installing the necessary software packages.  Below we provide some guidance on setting up a conda environment for running the notebooks.\n",
    "\n",
    "We provide the [`docker/requirements.txt`](../../docker/requirements.txt) file that can be used to install a conda environment matching the docker installation\n",
    "```bash\n",
    "  conda create -n fenics-sz python=3.12.3 -c conda-forge --file docker/requirements.txt\n",
    "```\n",
    "This can then be activated using\n",
    "```bash\n",
    "  conda activate fenics-sz\n",
    "```\n",
    "We recommend disabling threading by setting\n",
    "```bash\n",
    "  export OMP_NUM_THREADS=1\n",
    "```\n",
    "before starting jupyter lab with\n",
    "```bash\n",
    "  jupyter lab\n",
    "```\n",
    "which will display a URL to copy and paste to the web browser if it doesn't automatically open.\n",
    "\n",
    "`docker/requirements.txt` contains the strictest list of version requirements to match the docker installation.  This sometimes causes conda to fail to resolve the dependencies so we provide an alternative `docker/requirements_min.txt` file that contains less stringent version restrictions and can be installed and started using\n",
    "```bash\n",
    "  conda create -n fenics-sz-min python=3.12.3 -c conda-forge --file docker/requirements_min.txt\n",
    "  conda activate fenics-sz-min\n",
    "  export OMP_NUM_THREADS=1\n",
    "  jupyter lab\n",
    "```\n",
    "Note that as this doesn't guarantee the same software versions as used in our docker environment, some changes may occur between the published website output and output produced using this conda environment.\n",
    "\n",
    "```{admonition} Xvfb\n",
    "Remember that linux machines require Xvfb to be installed independently of the above instructions for plotting to work.\n",
    "```"
   ]
  },
  {
   "cell_type": "markdown",
   "id": "96b25ab2",
   "metadata": {},
   "source": [
    "With a working software environment available, either locally or online through binder, we next discuss some [background](../02_background/2.1_background_intro.ipynb) tutorial problems that motivate our final application.  Those already familiar with the finite element method should skip ahead to our implementation of [subduction zone problems](../03_sz_problems/3.1a_sz_intro.ipynb) or to the [global suite](../04_global_suites/4.1a_global_suites_intro.ipynb) of subduction zone models."
   ]
  },
  {
   "cell_type": "markdown",
   "id": "1d4f4146",
   "metadata": {},
   "source": []
  }
 ],
 "metadata": {
  "kernelspec": {
   "display_name": "dolfinx-env",
   "language": "python",
   "name": "python3"
  },
  "language_info": {
   "codemirror_mode": {
    "name": "ipython",
    "version": 3
   },
   "file_extension": ".py",
   "mimetype": "text/x-python",
   "name": "python",
   "nbconvert_exporter": "python",
   "pygments_lexer": "ipython3",
   "version": "3.12.3"
  }
 },
 "nbformat": 4,
 "nbformat_minor": 5
}
