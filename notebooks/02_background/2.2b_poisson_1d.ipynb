{
 "cells": [
  {
   "cell_type": "markdown",
   "id": "3d209deb-bd7c-4d83-960e-2921fb00229e",
   "metadata": {},
   "source": [
    "# Poisson Example 1D\n",
    "\n",
    "Authors: Kidus Teshome, Cian Wilson"
   ]
  },
  {
   "cell_type": "markdown",
   "id": "88fa271a-352b-4672-8465-112ec85de1b6",
   "metadata": {},
   "source": [
    "## Description\n",
    "\n",
    "As a [reminder](./2.2a_poisson_1d_intro.ipynb) we are seeking the approximate solution of the Poisson equation\n",
    "\\begin{align}\n",
    "-\\frac{d^2 T}{dx^2} &= h  % && \\text{in }\\Omega\n",
    "\\end{align}\n",
    "on a 1D domain of unit length, $\\Omega = [0,1]$, where we choose for this example $h=\\frac{1}{4}\\pi^2 \\sin\\left(\\frac{\\pi x}{2} \\right)$. At the boundaries, $x=0$ and $x=1$, we apply as boundary conditions \n",
    "\\begin{align}\n",
    "T &= 0 && \\text{at } x=0  \\\\\n",
    "\\frac{dT}{dx} &= 0 && \\text{at } x=1 \n",
    "\\end{align}\n",
    "The first boundary condition is an example of an essential or Dirichlet boundary condition where we specify the value of the solution. The second boundary condition is an example of a natural or Neumann boundary condition that can be interpreted to mean that the solution is symmetrical around $x$=1.\n",
    "\n",
    "The analytical solution to the Poisson equation in 1D with the given boundary conditions and forcing function is simply\n",
    "\\begin{equation}\n",
    "  T = \\sin\\left(\\frac{\\pi x}{2}\\right)\n",
    "\\end{equation}\n",
    "but we will still solve this numerically as a verification test of our implementation."
   ]
  },
  {
   "cell_type": "markdown",
   "id": "21e0ab44-b65b-4f29-bfa5-022ca3ee9064",
   "metadata": {},
   "source": [
    "## Implementation\n",
    "\n",
    "Traditionally, finite element methods have been implemented using Fortran or C/C++\n",
    "based codes that, at the core, build the matrix-vector system by numerical integration, after which this system is solved by linear algebraic solvers. Most FEM codes provide options for time-dependence and the ability to solve nonlinear and nonlinearly coupled systems of PDEs. \n",
    "Examples of such codes that have been used in geodynamical applications including subduction zone modeling are\n",
    "[ConMan](https://doi.org/10.1016/0031-9201(90)90225-M), [Sopale](https://doi.org/10.1111/j.1365-246X.1995.tb05908.x),\n",
    "[Underworld](https://doi.org/10.1016/j.pepi.2007.06.009),\n",
    "[CitcomS](https://doi.org/10.1029/2008GC002048), \n",
    "[MILAMIN](https://doi.org/10.1029/2007GC001719),\n",
    "[ASPECT](https://doi.org/10.1111/j.1365-246X.2012.05609.x), \n",
    "[Sepran](https://doi.org/10.1007/s12583-015-0508-0), \n",
    "[Fluidity](https://doi.org/10.1029/2011GC003551),\n",
    "and [Rhea](https://doi.org/10.1093/gji/ggs070).\n",
    "A number of these are distributed as open-source\n",
    "software and many among those are currently maintained through the \n",
    "[Computational Infrastructure for Geodynamics](https://geodynamics.org). \n",
    "These implementations can be shown to be accurate using intercomparisons\n",
    "and benchmarks and make use of advances in parallel computing and efficient linear algebra solver techniques. Yet, modifications to the existing code requires deep insight into the structure of the Fortran/C/C++ code which is not trivial for experienced, let alone beginning, users.\n",
    "\n",
    "In recent years an alternative approach for FEM has become available which elevates the user interface to simply specifying the FEM problem and solution method with a high-level approach. Python code is used to automatically build a finite element model that can be executed in a variety of environments ranging from [Jupyter Notebooks](https://jupyter-notebook.readthedocs.io/en/latest/) and desktop computers to massively parallel high performance computers. Two prominent examples of this approach are [Firedrake](https://www.firedrakeproject.org) and [FEniCS](https://www.fenicsproject.org). Examples of the use of these two approaches in geodynamical applications are in [Davies et al., 2022](https://doi.org/10.5194/gmd-15-5127-2022) and [Vynnytska et al., 2013](https://doi.org/10.1016/j.cageo.2012.05.012).\n",
    "\n",
    "Here we will focus on reproducing the results of [Wilson & van Keken, 2023](http://dx.doi.org/10.1186/s40645-023-00588-6) using the latest version of FEniCS, FEniCSx.\n",
    "[FEniCS](https://doi.org/10.11588/ans.2015.100.20553) is a suite of open-source numerical libraries for the description of finite element problems.  Most importantly it provides a high-level, human-readable language for the description of equations in python using the Unified Form Language ([UFL](https://doi.org/10.1145/2566630)). This is then translated into fast code to assemble the resulting discrete matrix-vector system using the FEniCS Form Compiler ([FFC](https://doi.org/10.1145/1163641.1163644)). In [Wilson & van Keken, 2023](http://dx.doi.org/10.1186/s40645-023-00588-6) the following example was presented using FEniCS v2019.1.0 and [TerraFERMA](https://terraferma.github.io), a GUI-based model building framework that also uses FEniCS v2019.1.0.  These simulations are publicly available in a [zenodo](https://doi.org/10.5281/zenodo.7843967) archive and can be run using a [docker](https://github.com/users/cianwilson/packages/container/package/vankeken_wilson_peps_2023) image."
   ]
  },
  {
   "cell_type": "markdown",
   "id": "157b8be2-f0f9-47f4-b5c3-3368af97ad44",
   "metadata": {},
   "source": [
    "### Preamble\n",
    "\n",
    "We start by loading all the modules we will require and setting up an output folder."
   ]
  },
  {
   "cell_type": "code",
   "execution_count": null,
   "id": "96600b19-6685-49b9-9f6a-aec666b6d0fc",
   "metadata": {},
   "outputs": [],
   "source": [
    "from mpi4py import MPI\n",
    "import dolfinx as df\n",
    "import dolfinx.fem.petsc\n",
    "import numpy as np\n",
    "import ufl\n",
    "import matplotlib.pyplot as pl\n",
    "import sys, os\n",
    "basedir = ''\n",
    "if \"__file__\" in globals(): basedir = os.path.dirname(__file__)\n",
    "sys.path.append(os.path.join(basedir, os.path.pardir, os.path.pardir, 'python'))\n",
    "import utils.mesh\n",
    "import pathlib\n",
    "output_folder = pathlib.Path(os.path.join(basedir, \"output\"))\n",
    "output_folder.mkdir(exist_ok=True, parents=True)"
   ]
  },
  {
   "cell_type": "markdown",
   "id": "332212af-87d8-48d3-bfdd-73f1d1cc5e3e",
   "metadata": {},
   "source": [
    "### Solution\n",
    "\n",
    "We then declare a python function `solve_poisson_1d` that contains a complete description of the discrete Poisson equation problem.\n",
    "\n",
    "This function follows much the same flow as described in the [introduction](./2.2a_poisson_1d_intro.ipynb)\n",
    "1. we describe the domain $\\Omega$ and discretize it into `ne` elements or cells to make a `mesh`\n",
    "2. we declare the **function space**, `V`, to use Lagrange polynomials of degree `p`\n",
    "3. we define the Dirichlet boundary condition, `bc` at $x=0$, setting the desired value there to be 0\n",
    "4. we define the right hand side forcing function $h$, `h`\n",
    "5. using the function space we declare trial, `T_a`, and test, `T_t`, functions and describe the **discrete weak forms**, `S` and `f`, that will be used to assemble the matrix and vector\n",
    "6. we assemble and solve the matrix problem using a linear algebra back-end and return the temperature solution, `T_i`\n",
    "\n",
    "For a more detailed description of solving the Poisson equation using FEniCSx, see [the FEniCSx tutorial](https://jsdokken.com/dolfinx-tutorial/chapter1/fundamentals.html)."
   ]
  },
  {
   "cell_type": "code",
   "execution_count": null,
   "id": "c74d79ab-1ec0-4c39-b72f-7e3f780c775a",
   "metadata": {},
   "outputs": [],
   "source": [
    "def solve_poisson_1d(ne, p=1):\n",
    "    \"\"\"\n",
    "    A python function to solve a one-dimensional Poisson problem\n",
    "    on a unit interval domain.\n",
    "    Parameters:\n",
    "      * ne - number of elements\n",
    "      * p  - polynomial order of the solution function space\n",
    "    \"\"\"\n",
    "    \n",
    "    # Describe the domain (a one-dimensional unit interval)\n",
    "    # and also the tessellation of that domain into ne \n",
    "    # equally spaced elements\n",
    "    mesh = df.mesh.create_unit_interval(MPI.COMM_WORLD, ne)\n",
    "\n",
    "    # Define the solution function space using Lagrange polynomials\n",
    "    # of order p\n",
    "    V = df.fem.functionspace(mesh, (\"Lagrange\", p))\n",
    "\n",
    "    # Define the location of the boundary, x=0\n",
    "    def boundary(x):\n",
    "        return np.isclose(x[0], 0)\n",
    "    # Specify the value and define a boundary condition (bc)\n",
    "    boundary_dofs = df.fem.locate_dofs_geometrical(V, boundary)\n",
    "    gD = df.fem.Constant(mesh, df.default_scalar_type(0.0))\n",
    "    bc = df.fem.dirichletbc(gD, boundary_dofs, V)\n",
    "\n",
    "    # Define the right hand side function, h\n",
    "    x = ufl.SpatialCoordinate(mesh)\n",
    "    h = (ufl.pi**2)*ufl.sin(ufl.pi*x[0]/2)/4\n",
    "\n",
    "    # Define the trial and test functions on the same function space (V)\n",
    "    T_a = ufl.TrialFunction(V)\n",
    "    T_t = ufl.TestFunction(V)\n",
    "    \n",
    "    # Define the integral to be assembled into the stiffness matrix\n",
    "    S = ufl.inner(ufl.grad(T_t), ufl.grad(T_a))*ufl.dx\n",
    "    # Define the integral to be assembled into the forcing vector\n",
    "    f = T_t*h*ufl.dx\n",
    "\n",
    "    # Compute the solution (given the boundary condition, bc)\n",
    "    problem = df.fem.petsc.LinearProblem(S, f, bcs=[bc], \\\n",
    "                                         petsc_options={\"ksp_type\": \"preonly\", \\\n",
    "                                                        \"pc_type\": \"lu\",\n",
    "                                                        \"pc_factor_mat_solver_type\": \"mumps\"})\n",
    "    T_i = problem.solve()\n",
    "\n",
    "    # Return the solution\n",
    "    return T_i"
   ]
  },
  {
   "cell_type": "markdown",
   "id": "1222c88a-3301-49c1-8e4a-642422ede9ed",
   "metadata": {},
   "source": [
    "We can then use `solve_poisson_1d` to solve on, for example, `ne = 4` elements with P1, `p = 1` elements."
   ]
  },
  {
   "cell_type": "code",
   "execution_count": null,
   "id": "4d76bf54-eff2-4c3b-a128-6823ac6ba0a4",
   "metadata": {
    "tags": [
     "main"
    ]
   },
   "outputs": [],
   "source": [
    "ne = 4\n",
    "p = 1\n",
    "T_P1 = solve_poisson_1d(ne, p=p)\n",
    "T_P1.name = \"T (P1)\""
   ]
  },
  {
   "cell_type": "markdown",
   "id": "9a99bb9f-6ffb-4361-9b74-dae144811eec",
   "metadata": {},
   "source": [
    "In order to visualize the solution, we write a python function that evaluates both the numerical and analytical solutions at a series of points and plots them both using [matplotlib](https://matplotlib.org/)."
   ]
  },
  {
   "cell_type": "code",
   "execution_count": null,
   "id": "fda35ba2-20d3-4582-8df2-10e570289e23",
   "metadata": {},
   "outputs": [],
   "source": [
    "def plot_1d(T, x, filename=None):\n",
    "    nx = len(x)\n",
    "    # convert 1d points to 3d points (necessary for eval call)\n",
    "    xyz = np.stack((x, np.zeros_like(x), np.zeros_like(x)), axis=1)\n",
    "    # work out which cells those points are in using a utility function we provide\n",
    "    mesh = T.function_space.mesh\n",
    "    cinds, cells = utils.mesh.get_cell_collisions(xyz, mesh)\n",
    "    # evaluate the numerical solution\n",
    "    T_x = T.eval(xyz[cinds], cells)[:,0]\n",
    "    # if running in parallel gather the solution to the rank-0 process\n",
    "    cinds_g = mesh.comm.gather(cinds, root=0)\n",
    "    T_x_g = mesh.comm.gather(T_x, root=0)\n",
    "    # only plot on the rank-0 process\n",
    "    if mesh.comm.rank == 0:\n",
    "        T_x = np.empty_like(x)\n",
    "        for r, cinds_p in enumerate(cinds_g):\n",
    "            for i, cind in enumerate(cinds_p):\n",
    "                T_x[cind] = T_x_g[r][i]\n",
    "        # plot\n",
    "        fig = pl.figure()\n",
    "        ax = fig.gca()\n",
    "        ax.plot(x, T_x, label=T.name)                              # numerical solution\n",
    "        ax.plot(x[::int(nx/ne/p)], T_x[::int(nx/ne/p)], 'o')       # nodal points (uses globally defined ne and p)\n",
    "        ax.plot(x, np.sin(np.pi*x/2), '--g', label='T (exact)')    # analytical solution\n",
    "        ax.legend()\n",
    "        ax.set_xlabel('$x$')\n",
    "        ax.set_ylabel('$T$')\n",
    "        ax.set_title('Numerical and exact solutions')\n",
    "        # save the figure\n",
    "        if filename is not None: fig.savefig(filename)"
   ]
  },
  {
   "cell_type": "markdown",
   "id": "6d2b4ac0-775b-4dd4-b12c-097bd0f367a7",
   "metadata": {},
   "source": [
    "Comparing the numerical, $\\tilde{T}$, and analytical, $T$, solutions we can see that even at this small number of elements we do a good job at reproducing the correct answer."
   ]
  },
  {
   "cell_type": "code",
   "execution_count": null,
   "id": "efbbec92-c34d-43e5-a63a-c43995864920",
   "metadata": {
    "tags": [
     "main"
    ]
   },
   "outputs": [],
   "source": [
    "x = np.linspace(0, 1, 201)\n",
    "plot_1d(T_P1, x, filename=output_folder / '1d_poisson_P1_solution.pdf')"
   ]
  },
  {
   "cell_type": "markdown",
   "id": "052b6800-26cd-413c-bf6c-c3d0fe4e3aa8",
   "metadata": {},
   "source": [
    "We can also try with a higher order element and see how it improves the solution."
   ]
  },
  {
   "cell_type": "code",
   "execution_count": null,
   "id": "89ad4f11-9cff-4598-8f85-fa41acbd9ccc",
   "metadata": {
    "tags": [
     "main"
    ]
   },
   "outputs": [],
   "source": [
    "ne = 4\n",
    "p = 2\n",
    "T_P2 = solve_poisson_1d(ne, p=p)\n",
    "T_P2.name = \"T (P2)\""
   ]
  },
  {
   "cell_type": "markdown",
   "id": "8ab175da-07b5-47da-ac27-b69597fb7197",
   "metadata": {},
   "source": [
    "The higher polynomial degree qualitatively appears to have a dramatic improvement in the solution accuracy."
   ]
  },
  {
   "cell_type": "code",
   "execution_count": null,
   "id": "a0efdf6e-6e68-453f-896d-df498cd57ebc",
   "metadata": {
    "tags": [
     "main"
    ]
   },
   "outputs": [],
   "source": [
    "x = np.linspace(0, 1, 201)\n",
    "plot_1d(T_P2, x, filename=output_folder / '1d_poisson_P2_solution.pdf')"
   ]
  },
  {
   "cell_type": "markdown",
   "id": "b2c48e3d-4fb2-4b98-92dc-98969956b254",
   "metadata": {},
   "source": [
    "## Testing"
   ]
  },
  {
   "cell_type": "markdown",
   "id": "f0fb5734-7cce-4a22-b4f3-acd8503c4306",
   "metadata": {},
   "source": [
    "We can quantify the error in cases where the analytical solution is known by taking the L2 norm of the difference between the numerical and exact solutions."
   ]
  },
  {
   "cell_type": "code",
   "execution_count": null,
   "id": "1398b33d-712f-4cfc-b08a-20b241a14c1d",
   "metadata": {},
   "outputs": [],
   "source": [
    "def evaluate_error(T_i):\n",
    "    \"\"\"\n",
    "    A python function to evaluate the l2 norm of the error in \n",
    "    the one dimensional Poisson problem given a known analytical\n",
    "    solution.\n",
    "    \"\"\"\n",
    "    # Define the exact solution\n",
    "    x  = ufl.SpatialCoordinate(T_i.function_space.mesh)\n",
    "    Te = ufl.sin(ufl.pi*x[0]/2)\n",
    "    \n",
    "    # Define the error between the exact solution and the given\n",
    "    # approximate solution\n",
    "    l2err = df.fem.assemble_scalar(df.fem.form((T_i - Te)*(T_i - Te)*ufl.dx))\n",
    "    l2err = T_i.function_space.mesh.comm.allreduce(l2err, op=MPI.SUM)**0.5\n",
    "    \n",
    "    # Return the l2 norm of the error\n",
    "    return l2err"
   ]
  },
  {
   "cell_type": "markdown",
   "id": "b0e5ebe5-7149-4927-a17b-62e1b16367f9",
   "metadata": {},
   "source": [
    "Repeating the numerical experiments with increasing `ne` allows us to test the **convergence** of our approximate finite element solution to the known analytical solution.  A key feature of any discretization technique is that with an increasing number of degrees of freedom (DOFs) these solutions should converge, i.e. the error in our approximation should decrease.  As an error metric we will use the $L^2$ norm of the difference between the\n",
    "approximate, $\\tilde{T}$, and analytical, $T$, solutions\n",
    "\\begin{equation}\n",
    "e_{L^2} = \\sqrt{\\int_\\Omega \\left(\\tilde{T} - T\\right)^2 dx}\n",
    "\\end{equation}\n",
    "The rate at which this decreases is known as the order of convergence. Numerical analysis predicts a certain order depending on the type of the polynomials used as finite element shape functions and other constraints related to the well-posedness of the problem. For piecewise linear shape functions we expect second-order convergence, that is that the error decreases as $h^{-2}$ where $h$ is the nodal point spacing. With piecewise quadratic elements we expect to see third-order convergence."
   ]
  },
  {
   "cell_type": "code",
   "execution_count": null,
   "id": "a8b0fad9-b206-4754-89ae-1607ef65419b",
   "metadata": {
    "tags": [
     "main"
    ]
   },
   "outputs": [],
   "source": [
    "# Open a figure for plotting\n",
    "fig = pl.figure()\n",
    "ax = fig.gca()\n",
    "\n",
    "# List of polynomial orders to try\n",
    "ps = [1, 2]\n",
    "# List of resolutions to try\n",
    "nelements = [10, 20, 40, 80, 160, 320]\n",
    "# Keep track of whether we get the expected order of convergence\n",
    "test_passes = True\n",
    "# Loop over the polynomial orders\n",
    "for p in ps:\n",
    "    # Accumulate the errors\n",
    "    errors_l2_a = []\n",
    "    # Loop over the resolutions\n",
    "    for ne in nelements:\n",
    "        # Solve the 1D Poisson problem\n",
    "        T_i = solve_poisson_1d(ne, p)\n",
    "        # Evaluate the error in the approximate solution\n",
    "        l2error = evaluate_error(T_i)\n",
    "        # Print to screen and save if on rank 0\n",
    "        if T_i.function_space.mesh.comm.rank == 0:\n",
    "            print('ne = ', ne, ', l2error = ', l2error)\n",
    "        errors_l2_a.append(l2error)\n",
    "\n",
    "    # Work out the order of convergence at this p\n",
    "    hs = 1./np.array(nelements)/p\n",
    "    \n",
    "    # Write the errors to disk\n",
    "    if T_i.function_space.mesh.comm.rank == 0:\n",
    "        with open(output_folder / '1d_poisson_convergence_p{}.csv'.format(p), 'w') as f:\n",
    "            np.savetxt(f, np.c_[nelements, hs, errors_l2_a], delimiter=',', \n",
    "                        header='nelements, hs, l2errs')\n",
    "        \n",
    "    # Fit a line to the convergence data\n",
    "    fit = np.polyfit(np.log(hs), np.log(errors_l2_a),1)\n",
    "    \n",
    "    if T_i.function_space.mesh.comm.rank == 0:\n",
    "        print(\"***********  order of accuracy p={}, order={:.2f}\".format(p,fit[0]))\n",
    "    \n",
    "    # log-log plot of the error  \n",
    "    ax.loglog(hs,errors_l2_a,'o-',label='p={}, order={:.2f}'.format(p,fit[0]))\n",
    "    \n",
    "    # Test if the order of convergence is as expected\n",
    "    test_passes = test_passes and fit[0] > p+0.9\n",
    "\n",
    "# Tidy up the plot\n",
    "ax.set_xlabel('h')\n",
    "ax.set_ylabel('||e||_2')\n",
    "ax.grid()\n",
    "ax.set_title('Convergence')\n",
    "ax.legend()\n",
    "\n",
    "# Write convergence to disk\n",
    "if T_i.function_space.mesh.comm.rank == 0:\n",
    "    fig.savefig(output_folder / '1d_poisson_convergence.pdf')\n",
    "    \n",
    "    print(\"***********  convergence figure in output/1d_poisson_convergence.pdf\")\n",
    "\n",
    "# Check if we passed the test\n",
    "assert(test_passes)"
   ]
  },
  {
   "cell_type": "markdown",
   "id": "bf86ad03-3b06-4863-b3f5-7b6a58765091",
   "metadata": {},
   "source": [
    "The convergence tests show that we achieve the expected orders of convergence for all polynomial degrees."
   ]
  },
  {
   "cell_type": "markdown",
   "id": "c7b45164-7726-4331-80f0-5cb5893e7442",
   "metadata": {},
   "source": [
    "## Finish up\n",
    "\n",
    "Convert this notebook to a python module (saving first and ignoring markdown cells and those tagged as \"main\" or \"ipy\")."
   ]
  },
  {
   "cell_type": "code",
   "execution_count": null,
   "id": "d94037d3-fa5d-40b3-92bc-4a79f8c861f4",
   "metadata": {
    "tags": [
     "ipy"
    ]
   },
   "outputs": [],
   "source": [
    "from ipylab import JupyterFrontEnd\n",
    "app = JupyterFrontEnd()\n",
    "app.commands.execute('docmanager:save')\n",
    "!jupyter nbconvert --TagRemovePreprocessor.enabled=True --TagRemovePreprocessor.remove_cell_tags=\"['main', 'ipy']\" --TemplateExporter.exclude_markdown=True --TemplateExporter.exclude_input_prompt=True --TemplateExporter.exclude_output_prompt=True --NbConvertApp.export_format=script --ClearOutputPreprocessor.enabled=True --FilesWriter.build_directory=../../python/background --NbConvertApp.output_base=poisson_1d 2.2b_poisson_1d.ipynb"
   ]
  },
  {
   "cell_type": "code",
   "execution_count": null,
   "id": "e07d97da-6a2c-4bac-ba70-fd71bcf600d9",
   "metadata": {},
   "outputs": [],
   "source": []
  }
 ],
 "metadata": {
  "kernelspec": {
   "display_name": "dolfinx-env",
   "language": "python",
   "name": "python3"
  },
  "language_info": {
   "codemirror_mode": {
    "name": "ipython",
    "version": 3
   },
   "file_extension": ".py",
   "mimetype": "text/x-python",
   "name": "python",
   "nbconvert_exporter": "python",
   "pygments_lexer": "ipython3",
   "version": "3.12.3"
  }
 },
 "nbformat": 4,
 "nbformat_minor": 5
}
