{
 "cells": [
  {
   "cell_type": "markdown",
   "id": "f32f12a8-7593-4984-ae16-a5210986434c",
   "metadata": {},
   "source": [
    "# Poisson Example 2D\n",
    "\n",
    "Authors: Cian Wilson, Peter van Keken"
   ]
  },
  {
   "cell_type": "markdown",
   "id": "e2f4f19b-7ff8-4253-956e-fd4bc6034b69",
   "metadata": {},
   "source": [
    "## General description\n",
    "\n",
    "We can generalize (and formalize) the description of the Poisson equation \n",
    "using the steady-state heat diffusion equation in multiple dimensions\n",
    "\\begin{align}\n",
    "-\\nabla \\cdot\\left( k \\nabla T \\right) &= H && \\text{in }\\Omega\n",
    "\\end{align}\n",
    "$T$ is the temperature solution we are seeking, $k$ is the thermal conductivity, $H$ is a heat source, and $\\Omega$ is the domain with boundary $\\partial\\Omega$.  If $k$ is constant in space we can simplify the equation to\n",
    "\\begin{align}\n",
    "-\\nabla^2 T &= h && \\text{in }\\Omega\n",
    "\\end{align}\n",
    "where $h = \\frac{H}{k}$.  "
   ]
  },
  {
   "cell_type": "markdown",
   "id": "3bd74c25-1d90-40db-85cf-7a39dd9949f7",
   "metadata": {},
   "source": [
    "### Boundary conditions\n",
    "\n",
    "We supplement the Poisson equation with some combination of boundary conditions \n",
    "\\begin{align}\n",
    "T &= g_D && \\text{on } \\partial\\Omega_D \\subset \\partial\\Omega \\\\\n",
    "\\nabla T\\cdot\\hat{\\vec{n}} &= g_N && \\text{on } \\partial\\Omega_N \\subset \\partial\\Omega \\\\\n",
    "aT + \\nabla T\\cdot\\hat{\\vec{n}} &= g_R && \\text{on } \\partial\\Omega_R \\subset \\partial\\Omega \n",
    "\\end{align}\n",
    "where $\\partial\\Omega_D$, $\\partial\\Omega_N$ and $\\partial\\Omega_R$ are\n",
    "segments of the domain boundary that do not overlap $(\\partial\\Omega_D \\bigcap \\partial\\Omega_N =\\emptyset, \\partial\\Omega_D \\bigcap \\partial\\Omega_R =\\emptyset, \\partial\\Omega_N \\bigcap \\partial\\Omega_R =\\emptyset)$ and that together span the entire boundary $(\\partial\\Omega_D \\bigcup \\partial\\Omega_N \\bigcup \\partial\\Omega_R = \\partial\\Omega)$.  The unit outward-pointing normal to the boundary $\\partial\\Omega$ is denoted by $\\hat{\\vec{n}}$ and $g_D = g_D(\\vec{x}, t)$, $g_N = g_N(\\vec{x}, t)$, $g_R = g_R(\\vec{x}, t)$ and $a = a(\\vec{x}, t)$ are known functions of space and time.  \n",
    "\n",
    "The first boundary condition is known as a Dirichlet boundary condition and specifies the value of the solution on $\\partial\\Omega_D$. The second is a Neumann boundary condition and specifies the value of the flux through $\\partial\\Omega_N$. Finally, the third is a Robin boundary condition, which describes a linear combination of the flux and the solution on $\\partial\\Omega_R$."
   ]
  },
  {
   "cell_type": "markdown",
   "id": "623fa8e3-a79c-4a46-873b-238042d4b598",
   "metadata": {},
   "source": [
    "### Weak form\n",
    "\n",
    "The first step in the finite element discretization is to transform the equation into its **weak form**.  This requires multiplying the equation by a test function,  $T_t$,  and integrating over the domain $\\Omega$\n",
    "\\begin{equation}\n",
    "-\\int_\\Omega T_t \\nabla^2 T ~dx = \\int_\\Omega T_t h ~dx\n",
    "\\end{equation}\n",
    "After integrating the left-hand side by parts\n",
    "\\begin{equation}\n",
    "\\int_\\Omega \\nabla T_t \\cdot \\nabla T ~dx - \\int_{\\partial\\Omega} T_t \\nabla T\\cdot\\hat{\\vec{n}}~ds = \\int_\\Omega T_t h ~dx\n",
    "\\end{equation}\n",
    "we can see that we have reduced the continuity requirements on $T$ by only requiring its first derivative to be bounded across $\\Omega$. Integrating by parts also allows Neumann and Robin boundary conditions to be imposed \"naturally\" through the second integral on the left-hand side since this directly incorporates the flux components across the boundary.  In this formulation, Dirichlet conditions cannot be imposed weakly and are referred to as essential boundary conditions,  that are required of the solution but do not arise naturally in the weak form.  \n",
    "\n",
    "The weak form therefore becomes: find $T$ such that $T = g_D$ on $\\partial\\Omega_D$ and\n",
    "\\begin{equation}\n",
    "\\int_\\Omega \\nabla T_t \\cdot \\nabla T ~dx - \\int_{\\partial\\Omega_N} T_t g_N ~ds - \\int_{\\partial\\Omega_R} T_t \\left(g_R - aT\\right)~ds = \\int_\\Omega T_t h ~dx\n",
    "\\end{equation}\n",
    "for all $T_t$ such that $T_t = 0$ on $\\partial\\Omega_D$.  "
   ]
  },
  {
   "cell_type": "markdown",
   "id": "bdcaf2c3-42f7-4a14-8cb0-5782634f8b7c",
   "metadata": {},
   "source": [
    "### Discretization\n",
    "\n",
    "The weak and strong forms of the problem are equivalent so long as the solution is sufficiently smooth.  We make our first approximation by, instead of seeking $T$ such that $T = g_D$ on $\\partial\\Omega_D$, seeking the discrete trial function $\\tilde{T}$ such that $\\tilde{T} = g_D$ on $\\partial\\Omega_D$ where\n",
    "\\begin{equation}\n",
    "T \\approx \\tilde{T} = \\sum_j \\phi_j T_j\n",
    "\\end{equation}\n",
    "for all test functions $\\tilde{T}_t$ where\n",
    "\\begin{equation}\n",
    "T_t \\approx \\tilde{T}_t = \\sum_i \\phi_i T_{ti}\n",
    "\\end{equation}\n",
    "noting again that $\\tilde{T}_t = 0$ on $\\partial\\Omega_D$.\n",
    "\n",
    "$\\phi_j$ are the finite element shape functions. Assuming these are continuous across elements of the mesh, $\\tilde{T}$ and $\\tilde{T}_t$ can be substituted into the weak form to yield\n",
    "\n",
    "\\begin{multline}\n",
    "\\sum_i\\sum_j T_{ti}T_j\\sum_k  \\int_{e_k} \\nabla \\phi_i \\cdot \\nabla \\phi_j ~dx \n",
    " + \\sum_i\\sum_j T_{ti}T_j \\sum_k \\int_{\\partial e_k \\cap {\\partial\\Omega_R}} \\phi_i a\\phi_j ~ds\n",
    "\\\\- \\sum_i T_{ti} \\sum_k \\int_{\\partial e_k \\cap {\\partial\\Omega_N}} \\phi_i g_N ~ds \n",
    "- \\sum_i T_{ti} \\sum_k \\int_{\\partial e_k \\cap {\\partial\\Omega_R}} \\phi_i g_R \n",
    "= \\sum_i T_{ti} \\sum_k \\int_{e_k} \\phi_i h ~dx\n",
    "\\end{multline}\n",
    "\n",
    "where we are integrating over the whole domain by summing the integrals over all the elements  $e_k$ ($\\int_\\Omega dx$=$\\sum_k\\int_{e_k} dx$).  Note that in practice, because the shape functions are zero over most of the domain, only element integrals with non-zero values need be included in the summation.  The element boundaries, $\\partial e_k$, are only of interest (due to the assumed continuity of the shape functions between the elements) if they either intersect with $\\partial\\Omega_N$, $\\partial e_k \\cap {\\partial\\Omega_N}$, or $\\partial\\Omega_R$, $\\partial e_k \\cap {\\partial\\Omega_R}$.  Since the solution of the now discretized weak form should be valid for all $\\tilde{T}_t$ we can drop $T_{ti}$\n",
    "\n",
    "\\begin{multline}\n",
    "\\sum_jT_j\\sum_k  \\int_{e_k} \\nabla \\phi_i \\cdot \\nabla \\phi_j ~dx \n",
    " + \\sum_jT_j\\sum_k \\int_{\\partial e_k \\cap {\\partial\\Omega_R}} \\phi_i a \\phi_j ~ds\n",
    "\\\\- \\sum_k \\int_{\\partial e_k \\cap {\\partial\\Omega_N}} \\phi_i g_N ~ds \n",
    "- \\sum_k \\int_{\\partial e_k \\cap {\\partial\\Omega_R}} \\phi_i g_R~ds \n",
    "= \\sum_k \\int_{e_k} \\phi_i h ~dx\n",
    "\\end{multline}"
   ]
  },
  {
   "cell_type": "markdown",
   "id": "69588041-d26c-43f3-842a-d477b0214ced",
   "metadata": {},
   "source": [
    "### Matrix equation\n",
    "\n",
    "The discrete weak form represents a matrix-vector system\n",
    "\\begin{equation}\n",
    "{\\bf S} {\\bf u} = {\\bf f}\n",
    "\\end{equation}\n",
    "with\n",
    "\n",
    "\\begin{align}\n",
    "{\\bf S} &= S_{ij} = \\sum_k\\int_{e_k} \\nabla \\phi_i \\cdot \\nabla \\phi_j ~dx + \\sum_k \\int_{\\partial e_k \\cap {\\partial\\Omega_R}} \\phi_i a\\phi_j ~ds  \\\\\n",
    "{\\bf f} &= f_i = \\sum_k \\int_{e_k} \\phi_i h ~dx + \\sum_k \\int_{\\partial e_k \\cap {\\partial\\Omega_N}} \\phi_i g_N ~ds \n",
    "+ \\sum_k \\int_{\\partial e_k \\cap {\\partial\\Omega_R}} \\phi_i g_R~ds \\\\\n",
    "{\\bf u} &= {\\bf T} = T_j \n",
    "\\end{align}\n",
    "\n",
    "The compact support of the shape functions $\\phi_{(i,j)}$, which limits their nonzero values to the elements immediately neighboring DOF $i$ or $j$, means that the integrals can be evaluated efficiently by only considering shape functions associated with an element $e_k$.  It also means that the resulting matrix ${\\bf S}$ is sparse, with most entries being zero.\n",
    "\n",
    "In the [next page](./2.3b_poisson_2d.ipynb) we will implement this solution strategy for a specific example of the Poisson problem in 2D."
   ]
  },
  {
   "cell_type": "markdown",
   "id": "5cbe073f",
   "metadata": {},
   "source": []
  }
 ],
 "metadata": {
  "kernelspec": {
   "display_name": "dolfinx-env",
   "language": "python",
   "name": "python3"
  },
  "language_info": {
   "codemirror_mode": {
    "name": "ipython",
    "version": 3
   },
   "file_extension": ".py",
   "mimetype": "text/x-python",
   "name": "python",
   "nbconvert_exporter": "python",
   "pygments_lexer": "ipython3",
   "version": "3.12.3"
  }
 },
 "nbformat": 4,
 "nbformat_minor": 5
}
