{
 "cells": [
  {
   "cell_type": "markdown",
   "id": "f32f12a8-7593-4984-ae16-a5210986434c",
   "metadata": {},
   "source": [
    "# Poisson Example 2D\n",
    "\n",
    "Authors: Kidus Teshome, Cian Wilson"
   ]
  },
  {
   "cell_type": "markdown",
   "id": "22c361d2-1d91-4bfe-b9db-7147a1b5a223",
   "metadata": {},
   "source": [
    "## A specific example"
   ]
  },
  {
   "cell_type": "markdown",
   "id": "6a767259-f987-4c96-9287-45ab3f1a70b4",
   "metadata": {},
   "source": [
    "In this case we use a manufactured solution (that is, one that is not necessarily an example of a solution to a PDE representing a naturally occurring physical problem) where we take a known analytical solution $T(x,y)$ and substitute this into the original equation to find $h$, then use this as the right-hand side in our numerical test. We choose $T(x,y) = \\exp\\left(x+\\tfrac{y}{2}\\right)$, which is the solution to\n",
    "\\begin{equation}\n",
    "-\\nabla^2 T = -\\tfrac{5}{4} \\exp \\left( x+\\tfrac{y}{2} \\right)\n",
    "\\end{equation}\n",
    "Solving the Poisson equation numerically in a unit square, $\\Omega=[0,1]\\times[0,1]$, for the approximate solution $\\tilde{T} \\approx T$, we impose the boundary conditions\n",
    "\\begin{align}\n",
    "  \\tilde{T} &= \\exp\\left(x+\\tfrac{y}{2}\\right) && \\text{on } \\partial\\Omega \\text{ where } x=0 \\text{ or } y=0 \\\\\n",
    "  \\nabla \\tilde{T}\\cdot \\hat{\\vec{n}} &= \\exp\\left(x + \\tfrac{y}{2}\\right) && \\text{on } \\partial\\Omega \\text{ where } x=1  \\\\\n",
    "  \\nabla \\tilde{T}\\cdot \\hat{\\vec{n}} &= \\tfrac{1}{2}\\exp\\left(x + \\tfrac{y}{2}\\right) && \\text{on } \\partial\\Omega \\text{ where } y=1\n",
    " \\end{align}\n",
    "representing an essential Dirichlet condition on the value of $\\tilde{T}$ and natural Neumann conditions on $\\nabla\\tilde{T}$."
   ]
  },
  {
   "cell_type": "markdown",
   "id": "c0a61793-ec84-41fc-bd8e-1f9ed86dc482",
   "metadata": {},
   "source": [
    "## Implementation"
   ]
  },
  {
   "cell_type": "markdown",
   "id": "7d8da32e-15d4-432a-ae48-a4a98f6c38ac",
   "metadata": {},
   "source": [
    "This example was presented by [Wilson & van Keken, 2023](http://dx.doi.org/10.1186/s40645-023-00588-6) using FEniCS v2019.1.0 and [TerraFERMA](https://terraferma.github.io), a GUI-based model building framework that also uses FEniCS v2019.1.0.  Here we reproduce these results using the latest version of FEniCS, FEniCSx."
   ]
  },
  {
   "cell_type": "markdown",
   "id": "ae3634be-0776-4547-80c1-7dbc1b427774",
   "metadata": {},
   "source": [
    "### Preamble"
   ]
  },
  {
   "cell_type": "markdown",
   "id": "ce25e79f-2e15-4b34-8303-ac853efdd27d",
   "metadata": {},
   "source": [
    "We start by loading all the modules we will require and initializing our plotting preferences through [pyvista](https://pyvista.org/)."
   ]
  },
  {
   "cell_type": "code",
   "execution_count": null,
   "id": "96600b19-6685-49b9-9f6a-aec666b6d0fc",
   "metadata": {},
   "outputs": [],
   "source": [
    "from mpi4py import MPI\n",
    "import dolfinx as df\n",
    "from petsc4py import PETSc\n",
    "import dolfinx.fem.petsc\n",
    "import numpy as np\n",
    "import ufl\n",
    "import matplotlib.pyplot as pl\n",
    "import sys, os\n",
    "basedir = ''\n",
    "if \"__file__\" in globals(): basedir = os.path.dirname(__file__)\n",
    "sys.path.append(os.path.join(basedir, os.path.pardir, os.path.pardir, 'python'))\n",
    "import utils\n",
    "import pyvista as pv\n",
    "if __name__ == \"__main__\" and \"__file__\" in globals():\n",
    "    pv.OFF_SCREEN = True\n",
    "import pathlib\n",
    "if __name__ == \"__main__\":\n",
    "    output_folder = pathlib.Path(os.path.join(basedir, \"output\"))\n",
    "    output_folder.mkdir(exist_ok=True, parents=True)"
   ]
  },
  {
   "cell_type": "markdown",
   "id": "f8efc8ed-1686-4851-9b04-e6805576ef0c",
   "metadata": {},
   "source": [
    "### Solution"
   ]
  },
  {
   "cell_type": "markdown",
   "id": "e5339d0c-7c86-4d3e-aee4-caf1b81f53c5",
   "metadata": {},
   "source": [
    "We then declare a python function `solve_poisson_2d` that contains a complete description of the discrete Poisson equation problem.\n",
    "\n",
    "This function follows much the same flow as described in the introduction\n",
    "1. we describe the unit square domain $\\Omega = [0,1]\\times[0,1]$ and discretize it into $2 \\times$ `ne` $\\times$ `ne` triangular elements or cells to make a `mesh`\n",
    "2. we declare the **function space**, `V`, to use Lagrange polynomials of degree `p`\n",
    "3. using this function space we declare trial, `T_a`, and test, `T_t`, functions\n",
    "4. we define the Dirichlet boundary condition, `bc` at the boundaries where $x=0$ or $y=0$, setting the desired value there to the known exact solution\n",
    "5. we define a finite element `Function`, `gN`, containing the values of $\\nabla \\tilde{T}$ on the Neumann boundaries where $x=1$ or $y=1$ (note that this will be used in the weak form rather than as a boundary condition object)\n",
    "6. we define the right hand side forcing function $h$, `h`\n",
    "7. we describe the **discrete weak forms**, `S` and `f`, that will be used to assemble the matrix $\\mathbf{S}$ and vector $\\mathbf{f}$\n",
    "8. we solve the matrix problem using a linear algebra back-end and return the solution\n",
    "\n",
    "For a more detailed description of solving the Poisson equation using FEniCSx, see [the FEniCSx tutorial](https://jsdokken.com/dolfinx-tutorial/chapter1/fundamentals.html)."
   ]
  },
  {
   "cell_type": "code",
   "execution_count": null,
   "id": "65d8287e",
   "metadata": {},
   "outputs": [],
   "source": [
    "import time\n",
    "import contextlib\n",
    "@contextlib.contextmanager\n",
    "def record_time(suffix: str=\"\", comm=MPI.COMM_WORLD):\n",
    "    try:\n",
    "        start_time = time.time()\n",
    "        yield\n",
    "    finally:\n",
    "        print(suffix+f\"({comm.rank}) {time.time() - start_time}\")"
   ]
  },
  {
   "cell_type": "code",
   "execution_count": null,
   "id": "c74d79ab-1ec0-4c39-b72f-7e3f780c775a",
   "metadata": {},
   "outputs": [],
   "source": [
    "def solve_poisson_2d(ne, p=1, petsc_options={\"ksp_type\": \"preonly\", \\\n",
    "                                             \"pc_type\": \"lu\",\n",
    "                                             \"pc_factor_mat_solver_type\": \"mumps\"}):\n",
    "    \"\"\"\n",
    "    A python function to solve a two-dimensional Poisson problem\n",
    "    on a unit square domain.\n",
    "    Parameters:\n",
    "    * ne - number of elements in each dimension\n",
    "    * p  - polynomial order of the solution function space\n",
    "    \"\"\"\n",
    "    # Describe the domain (a unit square)\n",
    "    # and also the tessellation of that domain into ne \n",
    "    # equally spaced squares in each dimension which are\n",
    "    # subdivided into two triangular elements each\n",
    "    with df.common.Timer(\"Poisson Mesh\"):\n",
    "        mesh = df.mesh.create_unit_square(MPI.COMM_WORLD, ne, ne)\n",
    "\n",
    "    # Define the solution function space using Lagrange polynomials\n",
    "    # of order p\n",
    "    with df.common.Timer(\"Poisson Functions\"):\n",
    "        V = df.fem.functionspace(mesh, (\"Lagrange\", p))\n",
    "        T_a = ufl.TrialFunction(V)\n",
    "        T_t = ufl.TestFunction(V)\n",
    "\n",
    "    with df.common.Timer(\"Poisson Dirichlet BCs\"):\n",
    "        # Define the location of the boundary condition, x=0 and y=0\n",
    "        def boundary(x):\n",
    "            return np.logical_or(np.isclose(x[0], 0), np.isclose(x[1], 0))\n",
    "        boundary_dofs = df.fem.locate_dofs_geometrical(V, boundary)\n",
    "        # Specify the value and define a Dirichlet boundary condition (bc)\n",
    "        gD = df.fem.Function(V)\n",
    "        gD.interpolate(lambda x: np.exp(x[0] + x[1]/2.))\n",
    "        bc = df.fem.dirichletbc(gD, boundary_dofs)\n",
    "\n",
    "    with df.common.Timer(\"Poisson Neumann BCs\"):\n",
    "        # Get the coordinates\n",
    "        x = ufl.SpatialCoordinate(mesh)\n",
    "        # Define the Neumann boundary condition function\n",
    "        gN = ufl.as_vector((ufl.exp(x[0] + x[1]/2.), 0.5*ufl.exp(x[0] + x[1]/2.)))\n",
    "        # Define the right hand side function, h\n",
    "        h = -5./4.*ufl.exp(x[0] + x[1]/2.)\n",
    "\n",
    "    with df.common.Timer(\"Poisson Forms\"):\n",
    "        # Get the unit vector normal to the facets\n",
    "        n = ufl.FacetNormal(mesh)\n",
    "        # Define the integral to be assembled into the stiffness matrix\n",
    "        S = df.fem.form(ufl.inner(ufl.grad(T_t), ufl.grad(T_a))*ufl.dx)\n",
    "        # Define the integral to be assembled into the forcing vector,\n",
    "        # incorporating the Neumann boundary condition weakly\n",
    "        f = df.fem.form(T_t*h*ufl.dx + T_t*ufl.inner(gN, n)*ufl.ds)\n",
    "\n",
    "\n",
    "    with df.common.Timer(\"Poisson Assemble\"):\n",
    "        # # Compute the solution (given the boundary condition, bc)\n",
    "        # problem = df.fem.petsc.LinearProblem(S, f, bcs=[bc], \\\n",
    "        #                                     petsc_options=petsc_options)\n",
    "        # T_i = problem.solve()\n",
    "\n",
    "        A = df.fem.petsc.assemble_matrix(S, bcs=[bc])\n",
    "        A.assemble()\n",
    "        b = df.fem.petsc.assemble_vector(f)\n",
    "        df.fem.petsc.apply_lifting(b, [S], bcs=[[bc]])\n",
    "        b.ghostUpdate(addv=PETSc.InsertMode.ADD, mode=PETSc.ScatterMode.REVERSE)\n",
    "\n",
    "        df.fem.petsc.set_bc(b, [bc])\n",
    "\n",
    "    with df.common.Timer(\"Poisson Solve\"):\n",
    "        ksp = PETSc.KSP().create(MPI.COMM_WORLD)\n",
    "        ksp.setOperators(A)\n",
    "        ksp.setType(\"preonly\")\n",
    "\n",
    "        pc = ksp.getPC()\n",
    "        pc.setType(\"lu\")\n",
    "        pc.setFactorSolverType(\"mumps\")\n",
    "        pc.setFactorSetUpSolverType()\n",
    "\n",
    "        #opts = PETSc.Options()  # type: ignore\n",
    "        #opts[\"mat_mumps_icntl_4\"] = 2\n",
    "        #ksp.setFromOptions()\n",
    "\n",
    "        T_i = df.fem.Function(V)\n",
    "\n",
    "        ksp.solve(b, T_i.x.petsc_vec)\n",
    "\n",
    "    return T_i"
   ]
  },
  {
   "cell_type": "markdown",
   "id": "54e63b5e-2348-4a36-91b6-65bb55640d14",
   "metadata": {},
   "source": [
    "We can now numerically solve the equations using, e.g., 4 elements and piecewise linear polynomials."
   ]
  },
  {
   "cell_type": "code",
   "execution_count": null,
   "id": "4d76bf54-eff2-4c3b-a128-6823ac6ba0a4",
   "metadata": {},
   "outputs": [],
   "source": [
    "if __name__ == \"__main__\":\n",
    "    ne = 4\n",
    "    p = 1\n",
    "    T_P1 = solve_poisson_2d(ne, p=p)\n",
    "    T_P1.name = \"T (P1)\""
   ]
  },
  {
   "cell_type": "markdown",
   "id": "7abd1ba7-ce69-4382-b339-212934607926",
   "metadata": {},
   "source": [
    "```{admonition} __main__\n",
    "Note that this code block starts with `if __name__ == \"__main__\":` to prevent it from being run unless being run as a script or in a Jupyter notebook.  This prevents unecessary computations when this code is used as a python module.\n",
    "```"
   ]
  },
  {
   "cell_type": "markdown",
   "id": "fdebb514-fe51-43ce-8019-8a92d2f9c403",
   "metadata": {},
   "source": [
    "And use some utility functions (see `../python/utils.py`) to plot it."
   ]
  },
  {
   "cell_type": "code",
   "execution_count": null,
   "id": "f081a820-4cba-442b-bbb0-467344b7619f",
   "metadata": {},
   "outputs": [],
   "source": [
    "if __name__ == \"__main__\":\n",
    "    # plot the solution as a colormap\n",
    "    plotter_P1 = utils.plot_scalar(T_P1, gather=True)\n",
    "    # plot the mesh\n",
    "    utils.plot_mesh(T_P1.function_space.mesh, plotter=plotter_P1, gather=True, show_edges=True, style=\"wireframe\", color='k', line_width=2)\n",
    "    # plot the values of the solution at the nodal points \n",
    "    utils.plot_scalar_values(T_P1, plotter=plotter_P1, gather=True, point_size=15, font_size=22, shape_color='w', text_color='k', bold=False)\n",
    "    # show the plot\n",
    "    utils.plot_show(plotter_P1)\n",
    "    # save the plot\n",
    "    utils.plot_save(plotter_P1, output_folder / \"2d_poisson_P1_solution.png\")\n",
    "    comm = T_P1.function_space.mesh.comm\n",
    "    if comm.size > 1:\n",
    "        # if we're running in parallel (e.g. from a script) then save an image per process as well\n",
    "        plotter_P1_p = utils.plot_scalar(T_P1)\n",
    "        utils.plot_mesh(T_P1.function_space.mesh, plotter=plotter_P1_p, show_edges=True, style=\"wireframe\", color='k', line_width=2)\n",
    "        utils.plot_scalar_values(T_P1, plotter=plotter_P1_p, point_size=15, font_size=22, shape_color='w', text_color='k', bold=False)\n",
    "        utils.plot_save(plotter_P1_p, output_folder / \"2d_poisson_P1_solution_p{:d}.png\".format(comm.rank,))"
   ]
  },
  {
   "cell_type": "markdown",
   "id": "b1f67f37-28b7-4865-aade-20ee962de959",
   "metadata": {},
   "source": [
    "Similarly, we can solve the equation using quadratic elements (`p=2`)."
   ]
  },
  {
   "cell_type": "code",
   "execution_count": null,
   "id": "89ad4f11-9cff-4598-8f85-fa41acbd9ccc",
   "metadata": {},
   "outputs": [],
   "source": [
    "if __name__ == \"__main__\":\n",
    "    ne = 4\n",
    "    p = 2\n",
    "    T_P2 = solve_poisson_2d(ne, p=p)\n",
    "    T_P2.name = \"T (P2)\""
   ]
  },
  {
   "cell_type": "code",
   "execution_count": null,
   "id": "9c98af9e-1342-448d-ba5b-2ba70a5ac816",
   "metadata": {},
   "outputs": [],
   "source": [
    "if __name__ == \"__main__\":\n",
    "    # plot the solution as a colormap\n",
    "    plotter_P2 = utils.plot_scalar(T_P2, gather=True, cmap='coolwarm')\n",
    "    # plot the mesh\n",
    "    utils.plot_mesh(T_P2.function_space.mesh, plotter=plotter_P2, gather=True, show_edges=True, style=\"wireframe\", color='k', line_width=2)\n",
    "    # plot the values of the solution at the nodal points \n",
    "    #utils.plot_scalar_values(T_P2, plotter=plotter_P2, gather=True, point_size=15, font_size=12, shape_color='w', text_color='k', bold=False)\n",
    "    # show the plot\n",
    "    utils.plot_show(plotter_P2)\n",
    "    # save the plot\n",
    "    utils.plot_save(plotter_P2, output_folder / \"2d_poisson_P2_solution.png\")\n",
    "    comm = T_P2.function_space.mesh.comm\n",
    "    if comm.size > 1:\n",
    "        # if we're running in parallel (e.g. from a script) then save an image per process as well\n",
    "        plotter_P2_p = utils.plot_scalar(T_P2, cmap='coolwarm')\n",
    "        utils.plot_mesh(T_P2.function_space.mesh, plotter=plotter_P2_p, show_edges=True, style=\"wireframe\", color='k', line_width=2)\n",
    "        #utils.plot_scalar_values(T_P2, plotter=plotter_P2_p, point_size=15, font_size=12, shape_color='w', text_color='k', bold=False)\n",
    "        utils.plot_save(plotter_P2_p, output_folder / \"2d_poisson_P2_solution_p{:d}.png\".format(comm.rank,))"
   ]
  },
  {
   "cell_type": "markdown",
   "id": "ccf98e06-9c01-4098-81c1-ec6cd980343e",
   "metadata": {},
   "source": [
    "## Themes and variations"
   ]
  },
  {
   "cell_type": "markdown",
   "id": "b579c554-3e04-4368-a34a-b0a77a6308ab",
   "metadata": {},
   "source": [
    "Some suggested interactive tasks.\n",
    "\n",
    "* Given that we know the exact solution to this problem is $T(x,y)$=$\\exp\\left(x+\\tfrac{y}{2}\\right)$ write a python function to evaluate the error in our numerical solution.\n",
    "* Loop over a variety of `ne`s and `p`s and check that the numerical solution converges with an increasing number of degrees of freedom.\n",
    "\n",
    "Note that, aside from the analytic solution being different, these tasks should be very similar to the 1D case in `notebooks/poisson_1d.ipynb`.\n",
    "\n",
    "Finally,\n",
    "* To try writing your own weak form, write an equation for the gradient of $\\tilde{T}$, describe it using ufl, solve it, and plot the solution."
   ]
  },
  {
   "cell_type": "markdown",
   "id": "33dffc3f-23ab-4069-8c10-eda67c102a69",
   "metadata": {},
   "source": [
    "## Finish up"
   ]
  },
  {
   "cell_type": "markdown",
   "id": "a52bf97d-bc5f-4e49-a968-204eae87d2f8",
   "metadata": {},
   "source": [
    "Convert this notebook to a python script (making sure to save first)"
   ]
  },
  {
   "cell_type": "code",
   "execution_count": null,
   "id": "c0a19606-e33a-407a-a549-47fb5c3355f4",
   "metadata": {},
   "outputs": [],
   "source": [
    "if __name__ == \"__main__\" and \"__file__\" not in globals():\n",
    "    from ipylab import JupyterFrontEnd\n",
    "    app = JupyterFrontEnd()\n",
    "    app.commands.execute('docmanager:save')\n",
    "    !jupyter nbconvert --NbConvertApp.export_format=script --ClearOutputPreprocessor.enabled=True --FilesWriter.build_directory=../../python/background --NbConvertApp.output_base=poisson_2d 2.3b_poisson_2d.ipynb"
   ]
  },
  {
   "cell_type": "code",
   "execution_count": null,
   "id": "62ae931a",
   "metadata": {},
   "outputs": [],
   "source": []
  }
 ],
 "metadata": {
  "kernelspec": {
   "display_name": "Python 3",
   "language": "python",
   "name": "python3"
  },
  "language_info": {
   "codemirror_mode": {
    "name": "ipython",
    "version": 3
   },
   "file_extension": ".py",
   "mimetype": "text/x-python",
   "name": "python",
   "nbconvert_exporter": "python",
   "pygments_lexer": "ipython3",
   "version": "3.10.12"
  }
 },
 "nbformat": 4,
 "nbformat_minor": 5
}
