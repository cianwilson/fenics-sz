{
 "cells": [
  {
   "cell_type": "markdown",
   "id": "f32f12a8-7593-4984-ae16-a5210986434c",
   "metadata": {},
   "source": [
    "# Poisson Example 2D\n",
    "\n",
    "Authors: Kidus Teshome, Cian Wilson"
   ]
  },
  {
   "cell_type": "markdown",
   "id": "22c361d2-1d91-4bfe-b9db-7147a1b5a223",
   "metadata": {},
   "source": [
    "## A specific example\n",
    "\n",
    "In this case we use a manufactured solution (that is, one that is not necessarily an example of a solution to a PDE representing a naturally occurring physical problem) where we take a known analytical solution $T(x,y)$ and substitute this into the original equation to find $h$, then use this as the right-hand side in our numerical test. We choose $T(x,y) = \\exp\\left(x+\\tfrac{y}{2}\\right)$, which is the solution to\n",
    "\\begin{equation}\n",
    "-\\nabla^2 T = -\\tfrac{5}{4} \\exp \\left( x+\\tfrac{y}{2} \\right)\n",
    "\\end{equation}\n",
    "Solving the Poisson equation numerically in a unit square, $\\Omega=[0,1]\\times[0,1]$, for the approximate solution $\\tilde{T} \\approx T$, we impose the boundary conditions\n",
    "\\begin{align}\n",
    "  \\tilde{T} &= \\exp\\left(x+\\tfrac{y}{2}\\right) && \\text{on } \\partial\\Omega \\text{ where } x=0 \\text{ or } y=0 \\\\\n",
    "  \\nabla \\tilde{T}\\cdot \\hat{\\vec{n}} &= \\exp\\left(x + \\tfrac{y}{2}\\right) && \\text{on } \\partial\\Omega \\text{ where } x=1  \\\\\n",
    "  \\nabla \\tilde{T}\\cdot \\hat{\\vec{n}} &= \\tfrac{1}{2}\\exp\\left(x + \\tfrac{y}{2}\\right) && \\text{on } \\partial\\Omega \\text{ where } y=1\n",
    " \\end{align}\n",
    "representing an essential Dirichlet condition on the value of $\\tilde{T}$ and natural Neumann conditions on $\\nabla\\tilde{T}$."
   ]
  },
  {
   "cell_type": "markdown",
   "id": "c0a61793-ec84-41fc-bd8e-1f9ed86dc482",
   "metadata": {},
   "source": [
    "## Implementation\n",
    "\n",
    "This example was presented by [Wilson & van Keken, 2023](http://dx.doi.org/10.1186/s40645-023-00588-6) using FEniCS v2019.1.0 and [TerraFERMA](https://terraferma.github.io), a GUI-based model building framework that also uses FEniCS v2019.1.0.  Here we reproduce these results using the latest version of FEniCS, FEniCSx."
   ]
  },
  {
   "cell_type": "markdown",
   "id": "ae3634be-0776-4547-80c1-7dbc1b427774",
   "metadata": {},
   "source": [
    "### Preamble\n",
    "\n",
    "We start by loading all the modules we will require and initializing our plotting preferences through [pyvista](https://pyvista.org/)."
   ]
  },
  {
   "cell_type": "code",
   "execution_count": null,
   "id": "96600b19-6685-49b9-9f6a-aec666b6d0fc",
   "metadata": {},
   "outputs": [],
   "source": [
    "from mpi4py import MPI\n",
    "import dolfinx as df\n",
    "from petsc4py import PETSc\n",
    "import dolfinx.fem.petsc\n",
    "import numpy as np\n",
    "import ufl\n",
    "import matplotlib.pyplot as pl\n",
    "import sys, os\n",
    "basedir = ''\n",
    "if \"__file__\" in globals(): basedir = os.path.dirname(__file__)\n",
    "sys.path.append(os.path.join(basedir, os.path.pardir, os.path.pardir, 'python'))\n",
    "import utils.plot\n",
    "import pathlib\n",
    "output_folder = pathlib.Path(os.path.join(basedir, \"output\"))\n",
    "output_folder.mkdir(exist_ok=True, parents=True)"
   ]
  },
  {
   "cell_type": "markdown",
   "id": "f8efc8ed-1686-4851-9b04-e6805576ef0c",
   "metadata": {},
   "source": [
    "### Solution\n",
    "\n",
    "We then declare a python function `solve_poisson_2d` that contains a complete description of the discrete Poisson equation problem.\n",
    "\n",
    "This function follows much the same flow as described in the [introduction](./2.3a_poisson_2d_intro.ipynb)\n",
    "1. we describe the unit square domain $\\Omega = [0,1]\\times[0,1]$ and discretize it into $2 \\times$ `ne` $\\times$ `ne` triangular elements or cells to make a `mesh`\n",
    "2. we declare the **function space**, `V`, to use Lagrange polynomials of degree `p`\n",
    "3. we define the Dirichlet boundary condition, `bc` at the boundaries where $x=0$ or $y=0$, setting the desired value there to the known exact solution\n",
    "4. we define a finite element `Function`, `gN`, containing the values of $\\nabla \\tilde{T}$ on the Neumann boundaries where $x=1$ or $y=1$ (note that this will be used in the weak form rather than as a boundary condition object)\n",
    "5. we define the right hand side forcing function $h$, `h`\n",
    "6. using the function space we declare trial, `T_a`, and test, `T_t`, functions and use them to describe the **discrete weak forms**, `S` and `f`, that will be used to assemble the matrix $\\mathbf{A}$ and vector $\\mathbf{b}$\n",
    "7. we assemble the matrix problem and solve it using a PETSc linear algebra back-end, return the solution temperature, `T_i`\n",
    "\n",
    "Note that to aid with profiling in subsequent notebooks, in a departure from the [implementation for the 1D case](./2.2b_poisson_1d.ipynb), we\n",
    "1. allow solver options to be passed into the function in a `petsc_options` dictionary\n",
    "2. group some of the steps together in timed blocks\n",
    "3. split the `LinearProblem` solve into assembly and solution steps to time each independently\n",
    "\n",
    "For a more detailed description of solving the Poisson equation using FEniCSx, see [the FEniCSx tutorial](https://jsdokken.com/dolfinx-tutorial/chapter1/fundamentals.html)."
   ]
  },
  {
   "cell_type": "code",
   "execution_count": null,
   "id": "c74d79ab-1ec0-4c39-b72f-7e3f780c775a",
   "metadata": {},
   "outputs": [],
   "source": [
    "def solve_poisson_2d(ne, p=1, petsc_options=None):\n",
    "    \"\"\"\n",
    "    A python function to solve a two-dimensional Poisson problem\n",
    "    on a unit square domain.\n",
    "    Parameters:\n",
    "    * ne - number of elements in each dimension\n",
    "    * p  - polynomial order of the solution function space\n",
    "    * petsc_options - a dictionary of petsc options to pass to the solver \n",
    "                      (defaults to an LU direct solver using the MUMPS library)\n",
    "    \"\"\"\n",
    "\n",
    "    # Set the default PETSc solver options if none have been supplied\n",
    "    if petsc_options is None:\n",
    "        petsc_options = {\"ksp_type\": \"preonly\", \\\n",
    "                         \"pc_type\": \"lu\",\n",
    "                         \"pc_factor_mat_solver_type\": \"mumps\"}\n",
    "    opts = PETSc.Options()\n",
    "    for k, v in petsc_options.items(): opts[k] = v\n",
    "    \n",
    "    # Describe the domain (a unit square)\n",
    "    # and also the tessellation of that domain into ne \n",
    "    # equally spaced squares in each dimension which are\n",
    "    # subdivided into two triangular elements each\n",
    "    with df.common.Timer(\"Mesh\"):\n",
    "        mesh = df.mesh.create_unit_square(MPI.COMM_WORLD, ne, ne, ghost_mode=df.mesh.GhostMode.none)\n",
    "\n",
    "    # Define the solution function space using Lagrange polynomials\n",
    "    # of order p\n",
    "    with df.common.Timer(\"Function spaces\"):\n",
    "        V = df.fem.functionspace(mesh, (\"Lagrange\", p))\n",
    "\n",
    "    with df.common.Timer(\"Dirichlet BCs\"):\n",
    "        # Define the location of the boundary condition, x=0 and y=0\n",
    "        def boundary(x):\n",
    "            return np.logical_or(np.isclose(x[0], 0), np.isclose(x[1], 0))\n",
    "        boundary_dofs = df.fem.locate_dofs_geometrical(V, boundary)\n",
    "        # Specify the value and define a Dirichlet boundary condition (bc)\n",
    "        gD = df.fem.Function(V)\n",
    "        gD.interpolate(lambda x: np.exp(x[0] + x[1]/2.))\n",
    "        bc = df.fem.dirichletbc(gD, boundary_dofs)\n",
    "\n",
    "    with df.common.Timer(\"Neumann BCs\"):\n",
    "        # Get the coordinates\n",
    "        x = ufl.SpatialCoordinate(mesh)\n",
    "        # Define the Neumann boundary condition function\n",
    "        gN = ufl.as_vector((ufl.exp(x[0] + x[1]/2.), 0.5*ufl.exp(x[0] + x[1]/2.)))\n",
    "        # Define the right hand side function, h\n",
    "        h = -5./4.*ufl.exp(x[0] + x[1]/2.)\n",
    "\n",
    "    with df.common.Timer(\"Forms\"):\n",
    "        T_a = ufl.TrialFunction(V)\n",
    "        T_t = ufl.TestFunction(V)\n",
    "        # Get the unit vector normal to the facets\n",
    "        n = ufl.FacetNormal(mesh)\n",
    "        # Define the integral to be assembled into the stiffness matrix\n",
    "        S = df.fem.form(ufl.inner(ufl.grad(T_t), ufl.grad(T_a))*ufl.dx)\n",
    "        # Define the integral to be assembled into the forcing vector,\n",
    "        # incorporating the Neumann boundary condition weakly\n",
    "        f = df.fem.form(T_t*h*ufl.dx + T_t*ufl.inner(gN, n)*ufl.ds)\n",
    "\n",
    "    # The next two sections \"Assemble\" and \"Solve\"\n",
    "    # are the equivalent of the much simpler:\n",
    "    # ```\n",
    "    # problem = df.fem.petsc.LinearProblem(S, f, bcs=[bc], \\\n",
    "    #                                      petsc_options=petsc_options)\n",
    "    # T_i = problem.solve()\n",
    "    # ```\n",
    "    # We split them up here so we can time and profile each step separately.\n",
    "    with df.common.Timer(\"Assemble\"):\n",
    "        # Assemble the matrix from the S form\n",
    "        A = df.fem.petsc.assemble_matrix(S, bcs=[bc])\n",
    "        A.assemble()\n",
    "        # Assemble the R.H.S. vector from the f form\n",
    "        b = df.fem.petsc.assemble_vector(f)\n",
    "\n",
    "        # Set the boundary conditions\n",
    "        df.fem.petsc.apply_lifting(b, [S], bcs=[[bc]])\n",
    "        b.ghostUpdate(addv=PETSc.InsertMode.ADD, mode=PETSc.ScatterMode.REVERSE)\n",
    "        df.fem.petsc.set_bc(b, [bc])\n",
    "\n",
    "    with df.common.Timer(\"Solve\"):\n",
    "        # Setup the solver (a PETSc KSP object)\n",
    "        solver = PETSc.KSP().create(MPI.COMM_WORLD)\n",
    "        solver.setOperators(A)\n",
    "        solver.setFromOptions()\n",
    "        \n",
    "        # Set up the solution function\n",
    "        T_i = df.fem.Function(V)\n",
    "        # Call the solver\n",
    "        solver.solve(b, T_i.x.petsc_vec)\n",
    "        # Communicate the solution across processes\n",
    "        T_i.x.scatter_forward()\n",
    "\n",
    "    with df.common.Timer(\"Cleanup\"):\n",
    "        solver.destroy()\n",
    "        A.destroy()\n",
    "        b.destroy()\n",
    "\n",
    "    return T_i"
   ]
  },
  {
   "cell_type": "markdown",
   "id": "54e63b5e-2348-4a36-91b6-65bb55640d14",
   "metadata": {},
   "source": [
    "We can now numerically solve the equations using, e.g., 4 elements and piecewise linear polynomials."
   ]
  },
  {
   "cell_type": "code",
   "execution_count": null,
   "id": "4d76bf54-eff2-4c3b-a128-6823ac6ba0a4",
   "metadata": {
    "tags": [
     "main"
    ]
   },
   "outputs": [],
   "source": [
    "ne = 4\n",
    "p = 1\n",
    "T_P1 = solve_poisson_2d(ne, p=p)\n",
    "T_P1.name = \"T (P1)\""
   ]
  },
  {
   "cell_type": "markdown",
   "id": "fdebb514-fe51-43ce-8019-8a92d2f9c403",
   "metadata": {},
   "source": [
    "And use some utility functions (see `python/utils/plot.py`) to plot it."
   ]
  },
  {
   "cell_type": "code",
   "execution_count": null,
   "id": "f081a820-4cba-442b-bbb0-467344b7619f",
   "metadata": {
    "tags": [
     "main"
    ]
   },
   "outputs": [],
   "source": [
    "# plot the solution as a colormap\n",
    "plotter_P1 = utils.plot.plot_scalar(T_P1, gather=True, cmap='coolwarm')\n",
    "# plot the mesh\n",
    "utils.plot.plot_mesh(T_P1.function_space.mesh, plotter=plotter_P1, gather=True, show_edges=True, style=\"wireframe\", color='k', line_width=2)\n",
    "# plot the values of the solution at the nodal points \n",
    "utils.plot.plot_scalar_values(T_P1, plotter=plotter_P1, gather=True, point_size=15, font_size=22, shape_color='w', text_color='k', bold=False)\n",
    "# show the plot\n",
    "utils.plot.plot_show(plotter_P1)\n",
    "# save the plot\n",
    "utils.plot.plot_save(plotter_P1, output_folder / \"2d_poisson_P1_solution.png\")"
   ]
  },
  {
   "cell_type": "markdown",
   "id": "b1f67f37-28b7-4865-aade-20ee962de959",
   "metadata": {},
   "source": [
    "Similarly, we can solve the equation using quadratic elements (`p=2`)."
   ]
  },
  {
   "cell_type": "code",
   "execution_count": null,
   "id": "89ad4f11-9cff-4598-8f85-fa41acbd9ccc",
   "metadata": {
    "tags": [
     "main"
    ]
   },
   "outputs": [],
   "source": [
    "ne = 4\n",
    "p = 2\n",
    "T_P2 = solve_poisson_2d(ne, p=p)\n",
    "T_P2.name = \"T (P2)\""
   ]
  },
  {
   "cell_type": "code",
   "execution_count": null,
   "id": "9c98af9e-1342-448d-ba5b-2ba70a5ac816",
   "metadata": {
    "tags": [
     "main"
    ]
   },
   "outputs": [],
   "source": [
    "# plot the solution as a colormap\n",
    "plotter_P2 = utils.plot.plot_scalar(T_P2, gather=True, cmap='coolwarm')\n",
    "# plot the mesh\n",
    "utils.plot.plot_mesh(T_P2.function_space.mesh, plotter=plotter_P2, gather=True, show_edges=True, style=\"wireframe\", color='k', line_width=2)\n",
    "# plot the values of the solution at the nodal points \n",
    "utils.plot.plot_scalar_values(T_P2, plotter=plotter_P2, gather=True, point_size=15, font_size=12, shape_color='w', text_color='k', bold=False)\n",
    "# show the plot\n",
    "utils.plot.plot_show(plotter_P2)\n",
    "# save the plot\n",
    "utils.plot.plot_save(plotter_P2, output_folder / \"2d_poisson_P2_solution.png\")"
   ]
  },
  {
   "cell_type": "markdown",
   "id": "ccf98e06-9c01-4098-81c1-ec6cd980343e",
   "metadata": {},
   "source": [
    "## Themes and variations\n",
    "\n",
    "Some suggested interactive tasks.\n",
    "\n",
    "* Given that we know the exact solution to this problem is $T(x,y) = \\exp\\left(x+\\tfrac{y}{2}\\right)$ write a python function to evaluate the error in our numerical solution.\n",
    "* Loop over a variety of `ne`s and `p`s and check that the numerical solution converges with an increasing number of degrees of freedom.\n",
    "\n",
    "Note that, aside from the analytic solution being different, these tasks should be very similar to the 1D case in [`notebooks/02_background/2.2b_poisson_1d.ipynb`](./2.2b_poisson_1d.ipynb).\n",
    "\n",
    "Finally,\n",
    "* To try writing your own weak form, write an equation for the gradient of $\\tilde{T}$, describe it using ufl, solve it, and plot the solution."
   ]
  },
  {
   "cell_type": "markdown",
   "id": "986ab0dc",
   "metadata": {},
   "source": [
    "## Finish up\n",
    "\n",
    "Convert this notebook to a python module (saving first and ignoring markdown cells and those tagged as \"main\" or \"ipy\")."
   ]
  },
  {
   "cell_type": "code",
   "execution_count": null,
   "id": "c0a19606-e33a-407a-a549-47fb5c3355f4",
   "metadata": {
    "tags": [
     "ipy"
    ]
   },
   "outputs": [],
   "source": [
    "from ipylab import JupyterFrontEnd\n",
    "app = JupyterFrontEnd()\n",
    "app.commands.execute('docmanager:save')\n",
    "!jupyter nbconvert --TagRemovePreprocessor.enabled=True --TagRemovePreprocessor.remove_cell_tags=\"['main', 'ipy']\" --TemplateExporter.exclude_markdown=True --TemplateExporter.exclude_input_prompt=True --TemplateExporter.exclude_output_prompt=True --NbConvertApp.export_format=script --ClearOutputPreprocessor.enabled=True --FilesWriter.build_directory=../../python/background --NbConvertApp.output_base=poisson_2d 2.3b_poisson_2d.ipynb"
   ]
  },
  {
   "cell_type": "code",
   "execution_count": null,
   "id": "62ae931a",
   "metadata": {},
   "outputs": [],
   "source": []
  }
 ],
 "metadata": {
  "kernelspec": {
   "display_name": "Python 3 (ipykernel)",
   "language": "python",
   "name": "python3"
  },
  "language_info": {
   "codemirror_mode": {
    "name": "ipython",
    "version": 3
   },
   "file_extension": ".py",
   "mimetype": "text/x-python",
   "name": "python",
   "nbconvert_exporter": "python",
   "pygments_lexer": "ipython3",
   "version": "3.12.3"
  }
 },
 "nbformat": 4,
 "nbformat_minor": 5
}
