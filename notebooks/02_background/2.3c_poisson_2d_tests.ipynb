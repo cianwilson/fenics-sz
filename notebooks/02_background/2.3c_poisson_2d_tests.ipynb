{
 "cells": [
  {
   "cell_type": "markdown",
   "id": "873326ab-056d-4165-95e4-be0270cc3ea4",
   "metadata": {},
   "source": [
    "# Poisson Example 2D\n",
    "\n",
    "Authors: Kidus Teshome, Cameron Seebeck, Cian Wilson"
   ]
  },
  {
   "cell_type": "markdown",
   "id": "d34770fc-5114-458e-8850-3e091fe9e999",
   "metadata": {},
   "source": [
    "## Description"
   ]
  },
  {
   "cell_type": "markdown",
   "id": "490426df-24b9-4f91-bbb9-2a02ef7ce188",
   "metadata": {},
   "source": [
    "As a reminder, in this case we are seeking the approximate solution to\n",
    "\\begin{equation}\n",
    "- \\nabla^2 T = -\\tfrac{5}{4} \\exp \\left( x+\\tfrac{y}{2} \\right)\n",
    "\\end{equation}\n",
    "in a unit square, $\\Omega=[0,1]\\times[0,1]$, imposing the boundary conditions\n",
    "\\begin{align}\n",
    "  T &= \\exp\\left(x+\\tfrac{y}{2}\\right) && \\text{on } \\partial\\Omega \\text{ where } x=0 \\text{ or } y=0 \\\\\n",
    "  \\nabla T\\cdot \\hat{\\vec{n}} &= \\exp\\left(x + \\tfrac{y}{2}\\right) && \\text{on } \\partial\\Omega \\text{ where } x=1  \\\\\n",
    "  \\nabla T\\cdot \\hat{\\vec{n}} &= \\tfrac{1}{2}\\exp\\left(x + \\tfrac{y}{2}\\right) && \\text{on } \\partial\\Omega \\text{ where } y=1\n",
    " \\end{align}\n",
    "\n",
    "The analytical solution to this problem is $T(x,y) = \\exp\\left(x+\\tfrac{y}{2}\\right)$."
   ]
  },
  {
   "cell_type": "markdown",
   "id": "c5ae6af0-4e8d-41ab-8aae-131a3690bc21",
   "metadata": {},
   "source": [
    "## Themes and variations"
   ]
  },
  {
   "cell_type": "markdown",
   "id": "514bf2cd-8236-4b3c-92b0-0a6c794501c3",
   "metadata": {},
   "source": [
    "* Given that we know the exact solution to this problem is $T(x,y)$=$\\exp\\left(x+\\tfrac{y}{2}\\right)$ write a python function to evaluate the error in our numerical solution.\n",
    "* Loop over a variety of numbers of elements, `ne`, and polynomial degrees, `p`, and check that the numerical solution converges with an increasing number of degrees of freedom.\n",
    "* Write an equation for the gradient of $\\tilde{T}$, describe it using UFL, solve it, and plot the solution."
   ]
  },
  {
   "cell_type": "markdown",
   "id": "75ea99bb-ee37-4be9-b4f6-32f060d90102",
   "metadata": {},
   "source": [
    "### Preamble"
   ]
  },
  {
   "cell_type": "markdown",
   "id": "4f7ab789-6830-4668-87c9-faa13608f7ac",
   "metadata": {},
   "source": [
    "Start by loading `solve_poisson_2d` from `notebooks/poisson_2d.ipynb` and setting up some paths."
   ]
  },
  {
   "cell_type": "code",
   "execution_count": null,
   "id": "a3c0c86c-7233-4209-8128-0d78e38e8a64",
   "metadata": {},
   "outputs": [],
   "source": [
    "import sys, os\n",
    "basedir = ''\n",
    "if \"__file__\" in globals(): basedir = os.path.dirname(__file__)\n",
    "sys.path.append(os.path.join(basedir, os.path.pardir, os.path.pardir, 'python'))\n",
    "from background.poisson_2d import solve_poisson_2d\n",
    "from mpi4py import MPI\n",
    "import dolfinx as df\n",
    "import dolfinx.fem.petsc\n",
    "import numpy as np\n",
    "import ufl\n",
    "import utils\n",
    "import matplotlib.pyplot as pl\n",
    "import pyvista as pv\n",
    "if __name__ == \"__main__\" and \"__file__\" in globals():\n",
    "    pv.OFF_SCREEN = True\n",
    "import pathlib\n",
    "if __name__ == \"__main__\":\n",
    "    output_folder = pathlib.Path(os.path.join(basedir, \"output\"))\n",
    "    output_folder.mkdir(exist_ok=True, parents=True)"
   ]
  },
  {
   "cell_type": "markdown",
   "id": "ed3cb5d7-724d-428b-804c-a32d204af6d5",
   "metadata": {},
   "source": [
    "### Error analysis"
   ]
  },
  {
   "cell_type": "markdown",
   "id": "26dd6767-8066-48db-b809-bf087b03c1ce",
   "metadata": {},
   "source": [
    "We can quantify the error in cases where the analytical solution is known by taking the L2 norm of the difference between the numerical and (known) exact solutions."
   ]
  },
  {
   "cell_type": "code",
   "execution_count": null,
   "id": "5741126c-5999-4f0d-950e-4174d366d316",
   "metadata": {},
   "outputs": [],
   "source": [
    "def evaluate_error(T_i):\n",
    "    \"\"\"\n",
    "    A python function to evaluate the l2 norm of the error in \n",
    "    the two dimensional Poisson problem given a known analytical\n",
    "    solution.\n",
    "    \"\"\"\n",
    "    # Define the exact solution\n",
    "    x  = ufl.SpatialCoordinate(T_i.function_space.mesh)\n",
    "    Te = ufl.exp(x[0] + x[1]/2.)\n",
    "    \n",
    "    # Define the error between the exact solution and the given\n",
    "    # approximate solution\n",
    "    l2err = df.fem.assemble_scalar(df.fem.form((T_i - Te)*(T_i - Te)*ufl.dx))\n",
    "    l2err = T_i.function_space.mesh.comm.allreduce(l2err, op=MPI.SUM)**0.5\n",
    "    \n",
    "    # Return the l2 norm of the error\n",
    "    return l2err\n"
   ]
  },
  {
   "cell_type": "markdown",
   "id": "7d7fe150-6d1b-4077-8d4f-04645f6666bd",
   "metadata": {},
   "source": [
    "### Convergence test"
   ]
  },
  {
   "cell_type": "markdown",
   "id": "f474f67c-11f8-4afd-b454-ef99e8789bec",
   "metadata": {},
   "source": [
    "Repeating the numerical experiments with increasing `ne` allows us to test the **convergence** of our approximate finite element solution to the known analytical solution.  A key feature of any discretization technique is that with an increasing number of degrees of freedom (DOFs) these solutions should converge, i.e. the error in our approximation should decrease."
   ]
  },
  {
   "cell_type": "code",
   "execution_count": null,
   "id": "d03c68d4-c22c-4768-b20d-c91b8ddc5fbc",
   "metadata": {},
   "outputs": [],
   "source": [
    "if __name__ == \"__main__\":\n",
    "    # Open a figure for plotting\n",
    "    fig = pl.figure()\n",
    "    ax = fig.gca()\n",
    "    \n",
    "    # List of polynomial orders to try\n",
    "    ps = [1, 2]\n",
    "    # List of resolutions to try\n",
    "    nelements = [10, 20, 40, 80, 160, 320]\n",
    "    # Keep track of whether we get the expected order of convergence\n",
    "    test_passes = True\n",
    "    # Loop over the polynomial orders\n",
    "    for p in ps:\n",
    "        # Accumulate the errors\n",
    "        errors_l2_a = []\n",
    "        # Loop over the resolutions\n",
    "        for ne in nelements:\n",
    "            # Solve the 2D Poisson problem\n",
    "            T_i = solve_poisson_2d(ne, p)\n",
    "            # Evaluate the error in the approximate solution\n",
    "            l2error = evaluate_error(T_i)\n",
    "            # Print to screen and save if on rank 0\n",
    "            if T_i.function_space.mesh.comm.rank == 0:\n",
    "                print('ne = ', ne, ', l2error = ', l2error)\n",
    "            errors_l2_a.append(l2error)\n",
    "        \n",
    "        # Work out the order of convergence at this p\n",
    "        hs = 1./np.array(nelements)/p\n",
    "        \n",
    "        # Write the errors to disk\n",
    "        if T_i.function_space.mesh.comm.rank == 0:\n",
    "            with open(output_folder / '2d_poisson_convergence_p{}.csv'.format(p), 'w') as f:\n",
    "                np.savetxt(f, np.c_[nelements, hs, errors_l2_a], delimiter=',', \n",
    "                        header='nelements, hs, l2errs')\n",
    "        \n",
    "        # Fit a line to the convergence data\n",
    "        fit = np.polyfit(np.log(hs), np.log(errors_l2_a),1)\n",
    "        if T_i.function_space.mesh.comm.rank == 0:\n",
    "            print(\"***********  order of accuracy p={}, order={:.2f}\".format(p,fit[0]))\n",
    "        \n",
    "        # log-log plot of the error  \n",
    "        ax.loglog(hs,errors_l2_a,'o-',label='p={}, order={:.2f}'.format(p,fit[0]))\n",
    "        \n",
    "        # Test if the order of convergence is as expected\n",
    "        test_passes = test_passes and fit[0] > p+0.9\n",
    "    \n",
    "    # Tidy up the plot\n",
    "    ax.set_xlabel('h')\n",
    "    ax.set_ylabel('||e||_2')\n",
    "    ax.grid()\n",
    "    ax.set_title('Convergence')\n",
    "    ax.legend()\n",
    "    \n",
    "    # Write convergence to disk\n",
    "    if T_i.function_space.mesh.comm.rank == 0:\n",
    "        fig.savefig(output_folder / '2d_poisson_convergence.pdf')\n",
    "        \n",
    "        print(\"***********  convergence figure in output/2d_poisson_convergence.pdf\")\n",
    "    \n",
    "    # Check if we passed the test\n",
    "    assert(test_passes)"
   ]
  },
  {
   "cell_type": "markdown",
   "id": "f73ef9e5-c2a4-42f9-80b1-4f8e9ccffecb",
   "metadata": {},
   "source": [
    "The convergence tests show that we achieve the expected orders of convergence for all polynomial degrees tested."
   ]
  },
  {
   "cell_type": "markdown",
   "id": "e6323d94-cdba-4fb5-b0dd-0b861e6bee32",
   "metadata": {},
   "source": [
    "### Gradient"
   ]
  },
  {
   "cell_type": "markdown",
   "id": "390471a7-ef3d-4ff4-8e2a-a218034065a3",
   "metadata": {},
   "source": [
    "To find the gradient of the approximate solution $\\tilde{T}$ we seek the approximate solution to\n",
    "\\begin{equation}\n",
    "  \\vec{g} = \\nabla \\tilde{T}\n",
    "\\end{equation}\n",
    "where $\\vec{g}$ is the gradient solution we seek in the domain $\\Omega=[0,1]\\times[0,1]$.  This is a projection operation and no boundary conditions are required.\n",
    "\n",
    "We proceed as before\n",
    "1. we solve for $\\tilde{T}$ using elements with polynomial degree `p` on a mesh of $2 \\times$ `ne` $\\times$ `ne` triangular elements or cells\n",
    "2. we reuse the mesh to declare a _vector_ **function space** for $\\vec{g} \\approx \\tilde{\\vec{g}}$, `Vg`, to use Lagrange polynomials of degree `pg`\n",
    "3. using this function space we declare trial, `g_a`, and test, `g_t`, functions\n",
    "4. we define the right hand side using the gradient of $\\tilde{T}$\n",
    "5. we describe the **discrete weak forms**, `Sg` and `fg`, that will be used to assemble the matrix $\\mathbf{S}_g$ and vector $\\mathbf{f}_g$\n",
    "6. we solve the matrix problem using a linear algebra back-end and return the solution"
   ]
  },
  {
   "cell_type": "code",
   "execution_count": null,
   "id": "6ddd92a9-1644-43bb-be9f-e7a2e363f420",
   "metadata": {},
   "outputs": [],
   "source": [
    "if __name__ == \"__main__\":\n",
    "    # solve for T\n",
    "    ne = 10\n",
    "    p = 1\n",
    "    T = solve_poisson_2d(ne, p)\n",
    "    T.name = 'T'\n",
    "\n",
    "    # reuse the mesh from T\n",
    "    mesh = T.function_space.mesh\n",
    "\n",
    "    # define the function space for g to be of polynomial degree pg and a vector of length mesh.geometry.dim\n",
    "    pg = 2\n",
    "    Vg = df.fem.functionspace(mesh, (\"Lagrange\", pg, (mesh.geometry.dim,)))\n",
    "\n",
    "    # define trial and test functions using Vg\n",
    "    g_a = ufl.TrialFunction(Vg)\n",
    "    g_t = ufl.TestFunction(Vg)\n",
    "\n",
    "    # define the bilinear and linear forms, Sg and fg\n",
    "    Sg = ufl.inner(g_t, g_a) * ufl.dx\n",
    "    fg = ufl.inner(g_t, ufl.grad(T)) * ufl.dx\n",
    "\n",
    "    # assemble the problem and solve\n",
    "    problem = df.fem.petsc.LinearProblem(Sg, fg, bcs=[], \n",
    "                                         petsc_options={\"ksp_type\": \"preonly\", \n",
    "                                                        \"pc_type\": \"lu\", \n",
    "                                                        \"pc_factor_mat_solver_type\": \"mumps\"})\n",
    "    gh = problem.solve()\n",
    "    gh.name = \"grad(T)\""
   ]
  },
  {
   "cell_type": "markdown",
   "id": "0dcb1925-9a90-4120-b7ea-332847083ec6",
   "metadata": {},
   "source": [
    "We can then plot the solutions."
   ]
  },
  {
   "cell_type": "code",
   "execution_count": null,
   "id": "24e08d2c-f6dc-4d4b-b312-626df5e3b1a2",
   "metadata": {},
   "outputs": [],
   "source": [
    "if __name__ == \"__main__\":\n",
    "    # plot T as a colormap\n",
    "    plotter_g = utils.plot_scalar(T, gather=True)\n",
    "    # plot g as glyphs\n",
    "    utils.plot_vector_glyphs(gh, plotter=plotter_g, gather=True, factor=0.03, cmap='coolwarm')\n",
    "    utils.plot_show(plotter_g)\n",
    "    utils.plot_save(plotter_g, output_folder / \"2d_poisson_gradient.png\")\n",
    "    comm = mesh.comm\n",
    "    if comm.size > 1:\n",
    "        # if we're running in parallel (e.g. from a script) then save an image per process as well\n",
    "        plotter_g_p = utils.plot_scalar(T)\n",
    "        # plot g as glyphs\n",
    "        utils.plot_vector_glyphs(gh, plotter=plotter_g_p, factor=0.03, cmap='coolwarm')\n",
    "        utils.plot_save(plotter_g_p, output_folder / \"2d_poisson_gradient_p{:d}.png\".format(comm.rank,))"
   ]
  },
  {
   "cell_type": "markdown",
   "id": "6e0e2bb2-976a-40b1-b0b4-9e0682c566f2",
   "metadata": {},
   "source": [
    "## Finish up"
   ]
  },
  {
   "cell_type": "markdown",
   "id": "39640a16-0566-44e6-aa74-c0bba5348839",
   "metadata": {},
   "source": [
    "Convert this notebook to a python script (making sure to save first)"
   ]
  },
  {
   "cell_type": "code",
   "execution_count": null,
   "id": "042ed12a-b3ba-4c98-88f4-fce01594c8e9",
   "metadata": {},
   "outputs": [],
   "source": [
    "if __name__ == \"__main__\" and \"__file__\" not in globals():\n",
    "    from ipylab import JupyterFrontEnd\n",
    "    app = JupyterFrontEnd()\n",
    "    app.commands.execute('docmanager:save')\n",
    "    !jupyter nbconvert --NbConvertApp.export_format=script --ClearOutputPreprocessor.enabled=True --FilesWriter.build_directory=../../python/background --NbConvertApp.output_base=poisson_2d_tests 2.3c_poisson_2d_tests.ipynb"
   ]
  },
  {
   "cell_type": "code",
   "execution_count": null,
   "id": "ca0596f6-4bd1-4baa-a5fa-13e0a897723c",
   "metadata": {},
   "outputs": [],
   "source": []
  }
 ],
 "metadata": {
  "kernelspec": {
   "display_name": "Python 3",
   "language": "python",
   "name": "python3"
  },
  "language_info": {
   "codemirror_mode": {
    "name": "ipython",
    "version": 3
   },
   "file_extension": ".py",
   "mimetype": "text/x-python",
   "name": "python",
   "nbconvert_exporter": "python",
   "pygments_lexer": "ipython3",
   "version": "3.10.12"
  }
 },
 "nbformat": 4,
 "nbformat_minor": 5
}
