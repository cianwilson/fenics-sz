{
 "cells": [
  {
   "cell_type": "markdown",
   "metadata": {},
   "source": [
    "# Poisson Example 2D\n",
    "\n",
    "Authors: Cian Wilson"
   ]
  },
  {
   "cell_type": "code",
   "execution_count": null,
   "metadata": {},
   "outputs": [],
   "source": [
    "from mpi4py import MPI\n",
    "if MPI.COMM_WORLD.size > 1:\n",
    "    raise Warning(\"This script shouldn't be run in parallel!\")"
   ]
  },
  {
   "cell_type": "code",
   "execution_count": null,
   "metadata": {},
   "outputs": [],
   "source": [
    "import ipyparallel as ipp"
   ]
  },
  {
   "cell_type": "code",
   "execution_count": null,
   "metadata": {},
   "outputs": [],
   "source": []
  },
  {
   "cell_type": "code",
   "execution_count": null,
   "metadata": {},
   "outputs": [],
   "source": [
    "labels = [\n",
    "              'Poisson Mesh', 'Poisson Functions',\n",
    "              'Poisson Dirichlet BCs', 'Poisson Neumann BCs',\n",
    "              'Poisson Forms', 'Poisson Assemble',\n",
    "              'Poisson Solve'\n",
    "         ]"
   ]
  },
  {
   "cell_type": "code",
   "execution_count": null,
   "metadata": {},
   "outputs": [],
   "source": [
    "def profile_poisson(ne, p, labels, petsc_options=None):\n",
    "     # import necessary modules\n",
    "     import sys, os\n",
    "     basedir = ''\n",
    "     if \"__file__\" in globals(): basedir = os.path.dirname(__file__)\n",
    "     sys.path.append(os.path.join(basedir, os.path.pardir, os.path.pardir, 'python'))\n",
    "     from background.poisson_2d import solve_poisson_2d\n",
    "     import dolfinx as df\n",
    "     from mpi4py import MPI\n",
    "    \n",
    "     # solve the Poisson problem\n",
    "     T_i = solve_poisson_2d(ne, p, petsc_options=petsc_options)\n",
    "\n",
    "     # extract and return the computation times from dolfinx\n",
    "     times = [df.common.timing(l)[1] for l in labels]\n",
    "     maxtimes = T_i.function_space.mesh.comm.reduce(times, op=MPI.MAX)\n",
    "     return maxtimes\n"
   ]
  },
  {
   "cell_type": "code",
   "execution_count": null,
   "metadata": {},
   "outputs": [],
   "source": [
    "nproc = 2\n",
    "ne = 64\n",
    "p = 2\n",
    "\n",
    "cluster = ipp.Cluster(engine_launcher_class=\"mpi\", n=nproc)\n",
    "rc = cluster.start_and_connect_sync()\n",
    "view = rc[:]\n",
    "\n",
    "maxtimes = [view.remote(block=True)(profile_poisson)(ne, p, labels)[0]]\n",
    "\n",
    "print('=========================', flush=True)\n",
    "print('\\t'.join(['\\t']+[repr(nproc) for nproc in [nproc]]))\n",
    "for l, label in enumerate(labels):\n",
    "    print('\\t'.join([label]+[repr(t[l]) for t in maxtimes]))\n",
    "print('=========================')\n",
    "\n",
    "rc.shutdown(hub=True)\n"
   ]
  },
  {
   "cell_type": "code",
   "execution_count": null,
   "metadata": {},
   "outputs": [],
   "source": []
  },
  {
   "cell_type": "code",
   "execution_count": null,
   "metadata": {},
   "outputs": [],
   "source": []
  },
  {
   "cell_type": "code",
   "execution_count": null,
   "metadata": {},
   "outputs": [],
   "source": [
    "def scale_poisson_parallel(nprocs, ne, p, petsc_options=None):\n",
    "    maxtimes = []\n",
    "    for nproc in nprocs:\n",
    "        cluster = ipp.Cluster(engine_launcher_class=\"mpi\", n=nproc)\n",
    "        rc = cluster.start_and_connect_sync()\n",
    "        view = rc[:]\n",
    "\n",
    "        maxtimes.append(view.remote(block=True)(profile_poisson)(ne, p, \n",
    "                                                labels, petsc_options=petsc_options)[0])\n",
    "        \n",
    "        rc.shutdown(hub=True)\n",
    "\n",
    "    print('=========================', flush=True)\n",
    "    print('\\t'.join(['\\t']+[repr(nproc) for nproc in nprocs]))\n",
    "    for l, label in enumerate(labels):\n",
    "        print('\\t'.join([label]+[repr(t[l]) for t in maxtimes]))\n",
    "    print('=========================')\n",
    "\n",
    "    return maxtimes\n",
    "\n"
   ]
  },
  {
   "cell_type": "code",
   "execution_count": null,
   "metadata": {},
   "outputs": [],
   "source": [
    "ne = 320\n",
    "p = 2\n",
    "nprocs = [1, 2, 4, 8]\n",
    "\n",
    "scale_poisson_parallel(nprocs, ne, p)"
   ]
  },
  {
   "cell_type": "code",
   "execution_count": null,
   "metadata": {},
   "outputs": [],
   "source": [
    "ne = 320\n",
    "p = 2\n",
    "nprocs = [1, 2, 4, 8]\n",
    "petsc_options = {'ksp_type':'cg', 'pc_type':'sor'}\n",
    "\n",
    "scale_poisson_parallel(nprocs, ne, p, petsc_options=petsc_options)"
   ]
  },
  {
   "cell_type": "code",
   "execution_count": null,
   "metadata": {},
   "outputs": [],
   "source": [
    "ne = 320\n",
    "p = 2\n",
    "nprocs = [1, 2, 4, 8]\n",
    "petsc_options = {'ksp_type':'cg', 'pc_type':'gamg'}\n",
    "\n",
    "scale_poisson_parallel(nprocs, ne, p, petsc_options=petsc_options)"
   ]
  },
  {
   "cell_type": "code",
   "execution_count": null,
   "metadata": {},
   "outputs": [],
   "source": [
    "ne = 320\n",
    "p = 2\n",
    "nprocs = [1, 2, 4, 8]\n",
    "petsc_options = {'ksp_type':'preonly', 'pc_type':'lu', 'pc_factor_mat_solver_type':'superlu_dist'}\n",
    "\n",
    "scale_poisson_parallel(nprocs, ne, p, petsc_options=petsc_options)"
   ]
  },
  {
   "cell_type": "code",
   "execution_count": null,
   "metadata": {},
   "outputs": [],
   "source": [
    "ne = 320\n",
    "p = 2\n",
    "nprocs = [1, 2, 4, 8]\n",
    "petsc_options = {'ksp_type':'preonly', 'pc_type':'lu', 'pc_factor_mat_solver_type':'superlu_dist', 'mat_superlu_dist_iterfine':True}\n",
    "\n",
    "scale_poisson_parallel(nprocs, ne, p, petsc_options=petsc_options)"
   ]
  },
  {
   "cell_type": "code",
   "execution_count": null,
   "metadata": {},
   "outputs": [],
   "source": []
  },
  {
   "cell_type": "markdown",
   "metadata": {},
   "source": [
    "## Finish up"
   ]
  },
  {
   "cell_type": "markdown",
   "metadata": {},
   "source": [
    "Convert this notebook to a python script (making sure to save first)"
   ]
  },
  {
   "cell_type": "code",
   "execution_count": null,
   "metadata": {},
   "outputs": [],
   "source": [
    "if __name__ == \"__main__\" and \"__file__\" not in globals():\n",
    "    from ipylab import JupyterFrontEnd\n",
    "    app = JupyterFrontEnd()\n",
    "    app.commands.execute('docmanager:save')\n",
    "    !jupyter nbconvert --TagRemovePreprocessor.enabled=True --TagRemovePreprocessor.remove_cell_tags=\"['main', 'ipy']\" --TemplateExporter.exclude_markdown=True --TemplateExporter.exclude_input_prompt=True --TemplateExporter.exclude_output_prompt=True --NbConvertApp.export_format=script --ClearOutputPreprocessor.enabled=True --FilesWriter.build_directory=../../python/background --NbConvertApp.output_base=poisson_2d_parallel 2.3d_poisson_2d_parallel.ipynb"
   ]
  }
 ],
 "metadata": {
  "kernelspec": {
   "display_name": "dolfinx-env",
   "language": "python",
   "name": "python3"
  },
  "language_info": {
   "codemirror_mode": {
    "name": "ipython",
    "version": 3
   },
   "file_extension": ".py",
   "mimetype": "text/x-python",
   "name": "python",
   "nbconvert_exporter": "python",
   "pygments_lexer": "ipython3",
   "version": "3.12.3"
  }
 },
 "nbformat": 4,
 "nbformat_minor": 4
}
