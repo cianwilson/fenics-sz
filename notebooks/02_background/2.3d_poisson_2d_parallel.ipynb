{
 "cells": [
  {
   "cell_type": "markdown",
   "metadata": {},
   "source": [
    "# Poisson Example 2D\n",
    "\n",
    "Authors: Cian Wilson"
   ]
  },
  {
   "cell_type": "markdown",
   "metadata": {},
   "source": [
    "## Description\n",
    "\n",
    "As a reminder, in this case we are seeking the approximate solution to\n",
    "\n",
    "\\begin{equation}\n",
    "- \\nabla^2 T = -\\tfrac{5}{4} \\exp \\left( x+\\tfrac{y}{2} \\right)\n",
    "\\end{equation}\n",
    "in a unit square, $\\Omega=[0,1]\\times[0,1]$, imposing the boundary conditions\n",
    "\n",
    "\\begin{align}\n",
    "  T &= \\exp\\left(x+\\tfrac{y}{2}\\right) && \\text{on } \\partial\\Omega \\text{ where } x=0 \\text{ or } y=0 \\\\\n",
    "  \\nabla T\\cdot \\hat{\\vec{n}} &= \\exp\\left(x + \\tfrac{y}{2}\\right) && \\text{on } \\partial\\Omega \\text{ where } x=1  \\\\\n",
    "  \\nabla T\\cdot \\hat{\\vec{n}} &= \\tfrac{1}{2}\\exp\\left(x + \\tfrac{y}{2}\\right) && \\text{on } \\partial\\Omega \\text{ where } y=1\n",
    " \\end{align}\n",
    "\n",
    "The analytical solution to this problem is $T(x,y) = \\exp\\left(x+\\tfrac{y}{2}\\right)$."
   ]
  },
  {
   "cell_type": "markdown",
   "metadata": {},
   "source": [
    "## Parallel Scaling\n",
    "\n",
    "In [the previous notebook](./2.3c_poisson_2d_tests.ipynb) we tested that the error in our [implementation](./2.3b_poisson_2d.ipynb) of a Poisson problem in two-dimensions converged as the number of elements or the polynomial degree increased - a key feature of any numerical scheme.  Another important property of a numerical implementation, particularly in greater than one-dimensional domains, is that they can scale in parallel.  So-called **strong scaling** means that, as more computer processors are used, the time the calculation takes, known as the simulation **wall time**, decreases.  (The alternative, **weak scaling** means that the wall time stays the same if the number of elements is increased proportionally to the number of processors.)\n",
    "\n",
    "Here we perform strong scaling tests on our function `solve_poisson_2d` from [`notebooks/02_background/2.3b_poisson_2d.ipynb`](./2.3b_poisson_2d.ipynb).  "
   ]
  },
  {
   "cell_type": "markdown",
   "metadata": {},
   "source": [
    "### Preamble\n",
    "\n",
    "We start by loading all the modules we will require."
   ]
  },
  {
   "cell_type": "code",
   "execution_count": null,
   "metadata": {},
   "outputs": [],
   "source": [
    "import sys, os\n",
    "path = os.path.join(os.path.pardir, os.path.pardir, 'python')\n",
    "sys.path.append(path)\n",
    "import utils.ipp\n",
    "from background.poisson_2d_tests import test_plot_convergence"
   ]
  },
  {
   "cell_type": "markdown",
   "metadata": {},
   "source": [
    "### Implementation\n",
    "\n",
    "We perform the strong parallel scaling test using a utility function (from [`python/utils/ipp.py`](../../python/utils/ipp.py)) that loops over a list of the number of processors calling our function for a given number of elements, `ne`, and polynomial order `p`.  It runs our function `solve_poisson_2d` a specified `number` of times and evaluates and returns the time taken for each of a number of requested `steps`."
   ]
  },
  {
   "cell_type": "code",
   "execution_count": null,
   "metadata": {},
   "outputs": [],
   "source": [
    "# the list of the number of processors we will use\n",
    "nprocs_scale = [1, 2]\n",
    "\n",
    "# the number of elements to solve the problem on\n",
    "ne = 128\n",
    "\n",
    "# the polynomial degree of our temperature field\n",
    "p = 2\n",
    "\n",
    "# perform the calculation a set number of times\n",
    "number = 2\n",
    "\n",
    "# We are interested in the time to create the mesh,\n",
    "# declare the functions, assemble the problem and solve it.\n",
    "# From our implementation in `solve_poisson_2d` it is also\n",
    "# possible to request the time to declare the Dirichlet and\n",
    "# Neumann boundary conditions and the forms.\n",
    "steps = [\n",
    "          'Mesh', 'Functions',\n",
    "          'Assemble', 'Solve',\n",
    "         ]\n",
    "\n",
    "# declare a dictionary to store the times each step takes\n",
    "maxtimes = {}\n"
   ]
  },
  {
   "cell_type": "markdown",
   "metadata": {},
   "source": [
    "To start with we test the scaling with the default solver options, which is a direct LU decomposition using the MUMPS library implementation."
   ]
  },
  {
   "cell_type": "code",
   "execution_count": null,
   "metadata": {},
   "outputs": [],
   "source": [
    "maxtimes['mumps'] = utils.ipp.profile_parallel(nprocs_scale, steps, path, \n",
    "                                        'background.poisson_2d', 'solve_poisson_2d',\n",
    "                                        ne, p, number=number)"
   ]
  },
  {
   "cell_type": "markdown",
   "metadata": {},
   "source": [
    "We also want to check that the solution is still converging in parallel.  We do this by running our convergence test from [`notebooks/02_background/2.3c_poisson_tests.ipynb`](./2.3c_poisson_2d_tests.ipynb) in parallel using another utility function `utils.ipp.run_parallel`."
   ]
  },
  {
   "cell_type": "code",
   "execution_count": null,
   "metadata": {},
   "outputs": [],
   "source": [
    "# the list of the number of processors to test the convergence on\n",
    "nprocs_conv = [2,]\n",
    "# List of polynomial orders to try\n",
    "ps = [1, 2]\n",
    "# List of resolutions to try\n",
    "nelements = [10, 20, 40, 80, 160]"
   ]
  },
  {
   "cell_type": "code",
   "execution_count": null,
   "metadata": {},
   "outputs": [],
   "source": [
    "\n",
    "errors_l2_all = utils.ipp.run_parallel(nprocs_conv, path, 'background.poisson_2d_tests', 'convergence_errors', ps, nelements)\n",
    "\n",
    "for errors_l2 in errors_l2_all:\n",
    "    test_plot_convergence(ps, nelements, errors_l2)"
   ]
  }
 ],
 "metadata": {
  "kernelspec": {
   "display_name": "dolfinx-env",
   "language": "python",
   "name": "python3"
  },
  "language_info": {
   "codemirror_mode": {
    "name": "ipython",
    "version": 3
   },
   "file_extension": ".py",
   "mimetype": "text/x-python",
   "name": "python",
   "nbconvert_exporter": "python",
   "pygments_lexer": "ipython3",
   "version": "3.12.3"
  }
 },
 "nbformat": 4,
 "nbformat_minor": 4
}
