{
 "cells": [
  {
   "cell_type": "markdown",
   "id": "6d1c4577-6165-4cc8-aaff-1233e161119e",
   "metadata": {},
   "source": [
    "# Batchelor Cornerflow Example\n",
    "\n",
    "Authors: Cameron Seebeck, Cian Wilson"
   ]
  },
  {
   "cell_type": "markdown",
   "id": "9c520214-db8e-476f-93a2-1e24812a3aad",
   "metadata": {},
   "source": [
    "## Description\n",
    "\n",
    "As a [reminder](./2.4a_batchelor_intro.ipynb) we are seeking the approximate velocity and pressure solution of the Stokes equation\n",
    "\\begin{align}\n",
    "-\\nabla\\cdot \\left(\\frac{\\nabla\\tilde{\\vec{v}} + \\nabla\\tilde{\\vec{v}}^T}{2}\\right) + \\nabla \\tilde{P} &= 0 && \\text{in }\\Omega \\\\\n",
    "\\nabla\\cdot\\tilde{\\vec{v}} &= 0 && \\text{in }\\Omega\n",
    "\\end{align}\n",
    "in a unit square domain, $\\Omega = [0,1]\\times[0,1]$.\n",
    "\n",
    "We apply strong Dirichlet boundary conditions for velocity on all four boundaries\n",
    "\\begin{align}\n",
    "  \\tilde{\\vec{v}} &= (0,0)^T && \\text{on } \\partial\\Omega \\text{ where } x=0  \\\\\n",
    "  \\tilde{\\vec{v}} &= (U, 0)^T  && \\text{on } \\partial\\Omega \\text{ where } y=0 \\\\\n",
    "  \\tilde{\\vec{v}} &= \\vec{v} && \\text{on } \\partial\\Omega \\text{ where } x=1 \\text{ or } y = 1\n",
    "\\end{align}\n",
    "and a constraint on the pressure to remove its null space, e.g. by applying a reference point\n",
    "\\begin{align}\n",
    "  \\tilde{P} &= 0 && \\text{at } (x, y) = (0,0)\n",
    "\\end{align}"
   ]
  },
  {
   "cell_type": "markdown",
   "id": "0dc642e5-b6f9-42ef-a23b-300e067f21b5",
   "metadata": {},
   "source": [
    "## Implementation\n",
    "\n",
    "The solution to this example was presented in [Batchelor (1967)](https://www.cambridge.org/core/books/an-introduction-to-fluid-dynamics/18AA1576B9C579CE25621E80F9266993) and has been used frequently as a benchmark problem. One such implementation was presented by [Wilson & van Keken, 2023](http://dx.doi.org/10.1186/s40645-023-00588-6) using [TerraFERMA](https://terraferma.github.io), a GUI-based model building framework that uses FEniCS v2019.1.0.  Here we reproduce these results using the latest version of FEniCS, FEniCSx."
   ]
  },
  {
   "cell_type": "markdown",
   "id": "38f6d835-b1b1-459d-bfc2-3b45ea4883c8",
   "metadata": {},
   "source": [
    "### Preamble\n",
    "\n",
    "We start by loading all the modules we will require."
   ]
  },
  {
   "cell_type": "code",
   "execution_count": null,
   "id": "0c08f601-4df0-44f4-b0e6-ad1a9d545f06",
   "metadata": {},
   "outputs": [],
   "source": [
    "from mpi4py import MPI\n",
    "import dolfinx as df\n",
    "import dolfinx.fem.petsc\n",
    "from petsc4py import PETSc\n",
    "import numpy as np\n",
    "import ufl\n",
    "import matplotlib.pyplot as pl\n",
    "import basix\n",
    "import sys, os\n",
    "basedir = ''\n",
    "if \"__file__\" in globals(): basedir = os.path.dirname(__file__)\n",
    "sys.path.append(os.path.join(basedir, os.path.pardir, os.path.pardir, 'python'))\n",
    "import utils.plot\n",
    "import pathlib\n",
    "output_folder = pathlib.Path(os.path.join(basedir, \"output\"))\n",
    "output_folder.mkdir(exist_ok=True, parents=True)"
   ]
  },
  {
   "cell_type": "markdown",
   "id": "8fa06ae7-8388-47b4-be6b-7d4738100691",
   "metadata": {},
   "source": [
    "### Solution"
   ]
  },
  {
   "cell_type": "markdown",
   "id": "7c2a14d4-6f72-4597-8674-e14d4039a44f",
   "metadata": {},
   "source": [
    "We start by defining the analytical solution\n",
    "\\begin{align}\n",
    "\\vec{v} = \\left(\\begin{array}{cc}\\cos\\theta & -\\sin\\theta \\\\\n",
    " \\sin\\theta &  \\cos\\theta\\end{array}\\right) \\left(\\begin{array}{c}\\frac{1}{r}\\frac{\\partial\\psi}{\\partial\\theta} \\\\ -\\frac{\\partial\\psi}{\\partial r}\\end{array}\\right)\n",
    "\\end{align}\n",
    "where $\\psi = \\psi(r,\\theta)$ is a function of the radius, $r$, and angle from the $x$-axis, $\\theta$\n",
    "\\begin{equation}\n",
    "\\psi (r, \\theta)~=~ - \\frac{r U }{\\frac{1}{4}\\pi^2-1} \\left( -\\frac{1}{4}\\pi^2 \\sin \\theta + \\frac{1}{2}\\pi \\theta \\sin \\theta + \\theta \\cos \\theta \\right)\n",
    "\\end{equation}\n",
    "We describe this solution using UFL in the python function `v_exact_batchelor`."
   ]
  },
  {
   "cell_type": "code",
   "execution_count": null,
   "id": "0bbac148-1658-4a4f-a1e9-57f5b77343ed",
   "metadata": {},
   "outputs": [],
   "source": [
    "def v_exact_batchelor(mesh, U=1):\n",
    "    \"\"\"\n",
    "    A python function that returns the exact Batchelor velocity solution\n",
    "    using UFL on the given mesh.\n",
    "    Parameters:\n",
    "    * mesh - the mesh on which we wish to define the coordinates for the solution\n",
    "    * U    - convergence speed of lower boundary (defaults to 1)\n",
    "    \"\"\"\n",
    "    # Define the coordinate systems\n",
    "    x = ufl.SpatialCoordinate(mesh)\n",
    "    theta = ufl.atan2(x[1],x[0])\n",
    "\n",
    "    # Define the derivative to the streamfunction psi\n",
    "    d_psi_d_r = -U*(-0.25*ufl.pi**2*ufl.sin(theta) \\\n",
    "                    +0.5*ufl.pi*theta*ufl.sin(theta) \\\n",
    "                    +theta*ufl.cos(theta)) \\\n",
    "                    /(0.25*ufl.pi**2-1)\n",
    "    d_psi_d_theta_over_r = -U*(-0.25*ufl.pi**2*ufl.cos(theta) \\\n",
    "                               +0.5*ufl.pi*ufl.sin(theta) \\\n",
    "                               +0.5*ufl.pi*theta*ufl.cos(theta) \\\n",
    "                               +ufl.cos(theta) \\\n",
    "                               -theta*ufl.sin(theta)) \\\n",
    "                               /(0.25*ufl.pi**2-1)\n",
    "\n",
    "    # Rotate the solution into Cartesian and return\n",
    "    return ufl.as_vector([ufl.cos(theta)*d_psi_d_theta_over_r + ufl.sin(theta)*d_psi_d_r, \\\n",
    "                          ufl.sin(theta)*d_psi_d_theta_over_r - ufl.cos(theta)*d_psi_d_r])"
   ]
  },
  {
   "cell_type": "markdown",
   "id": "0ebcd6ea-4bd9-4aef-baff-cc15b7fcef5e",
   "metadata": {},
   "source": [
    "We then build a workflow that contains a complete description of the discrete Stokes equation problem.  This follows much the same flow as described in previous examples but because this case is more complicated we split up each step into individual functions that we combine later into a single function call\n",
    "1. in `unit_square_mesh` we describe the unit square domain $\\Omega = [0,1]\\times[0,1]$ and discretize it into $2 \\times$ `ne` $\\times$ `ne` triangular elements or cells to make a `mesh`"
   ]
  },
  {
   "cell_type": "code",
   "execution_count": null,
   "id": "2d81ad31-0597-42d4-ad0e-ac770045eedb",
   "metadata": {},
   "outputs": [],
   "source": [
    "def unit_square_mesh(ne):\n",
    "    \"\"\"\n",
    "    A python function to set up a mesh of a unit square domain.\n",
    "    Parameters:\n",
    "    * ne   - number of elements in each dimension\n",
    "    Returns:\n",
    "    * mesh - the mesh\n",
    "    \"\"\"\n",
    "    # Describe the domain (a unit square)\n",
    "    # and also the tessellation of that domain into ne\n",
    "    # equally spaced squared in each dimension, which are\n",
    "    # subduvided into two triangular elements each\n",
    "    with df.common.Timer(\"Mesh\"):\n",
    "        mesh = df.mesh.create_unit_square(MPI.COMM_WORLD, ne, ne, \n",
    "                                          ghost_mode=df.mesh.GhostMode.none)\n",
    "    return mesh"
   ]
  },
  {
   "cell_type": "markdown",
   "id": "cdf1cdb9",
   "metadata": {},
   "source": [
    "2. in `functionspaces` we declare finite elements for velocity and pressure using Lagrange polynomials of degree `p+1` and `p` respectively and use these to declare the **function spaces**, `V_v` and `V_p`, for velocity and pressure respectively"
   ]
  },
  {
   "cell_type": "code",
   "execution_count": null,
   "id": "1b3016e4",
   "metadata": {},
   "outputs": [],
   "source": [
    "def functionspaces(mesh, p=1):\n",
    "    \"\"\"\n",
    "    A python function to set up velocity and pressure function spaces.\n",
    "    Parameters:\n",
    "    * mesh - the mesh to set up the functions on\n",
    "    * p    - polynomial order of the pressure solution (optional, defaults to 1)\n",
    "    Returns:\n",
    "    * V_v  - velocity function space of polynomial order p+1\n",
    "    * V_p  - pressure function space of polynomial order p\n",
    "    \"\"\"\n",
    "    with df.common.Timer(\"Function spaces\"):\n",
    "        # Define velocity and pressure elements\n",
    "        v_e = basix.ufl.element(\"Lagrange\", mesh.basix_cell(), p+1, shape=(mesh.geometry.dim,))\n",
    "        p_e = basix.ufl.element(\"Lagrange\", mesh.basix_cell(), p)\n",
    "\n",
    "        # Define the velocity and pressure function spaces\n",
    "        V_v = df.fem.functionspace(mesh, v_e)\n",
    "        V_p = df.fem.functionspace(mesh, p_e)\n",
    "    \n",
    "    return V_v, V_p"
   ]
  },
  {
   "cell_type": "markdown",
   "id": "6a84ed9d",
   "metadata": {},
   "source": [
    "3. set up boundary conditions\n",
    "    1. in `velocity_bcs` we define a list of Dirichlet boundary conditions on velocity\n",
    "    2. in `pressure_bcs` we define a constraint on the pressure in the lower left corner of the domain"
   ]
  },
  {
   "cell_type": "code",
   "execution_count": null,
   "id": "eb925761",
   "metadata": {},
   "outputs": [],
   "source": [
    "def velocity_bcs(V_v, U=1):\n",
    "    \"\"\"\n",
    "    A python function to set up the velocity boundary conditions.\n",
    "    Parameters:\n",
    "    * V_v - velocity function space\n",
    "    * U   - convergence speed of lower boundary (optional, defaults to 1)\n",
    "    Returns:\n",
    "    * bcs - a list of boundary conditions\n",
    "    \"\"\"\n",
    "    with df.common.Timer(\"Dirichlet BCs\"):\n",
    "        # Declare a list of boundary conditions\n",
    "        bcs = []\n",
    "        \n",
    "        # Grab the mesh\n",
    "        mesh = V_v.mesh\n",
    "\n",
    "        # Define the location of the left boundary and find the velocity DOFs\n",
    "        def boundary_left(x):\n",
    "            return np.isclose(x[0], 0)\n",
    "        dofs_v_left = df.fem.locate_dofs_geometrical(V_v, boundary_left)\n",
    "        # Specify the velocity value and define a Dirichlet boundary condition\n",
    "        zero_v = df.fem.Constant(mesh, df.default_scalar_type((0.0, 0.0)))\n",
    "        bcs.append(df.fem.dirichletbc(zero_v, dofs_v_left, V_v))\n",
    "\n",
    "        # Define the location of the bottom boundary and find the velocity DOFs\n",
    "        # for x velocity (0) and y velocity (1) separately\n",
    "        def boundary_base(x):\n",
    "            return np.isclose(x[1], 0)\n",
    "        dofs_v_base = df.fem.locate_dofs_geometrical(V_v, boundary_base)\n",
    "        # Specify the value of the x component of velocity and define a Dirichlet boundary condition\n",
    "        U_v = df.fem.Constant(mesh, df.default_scalar_type((U, 0.0)))\n",
    "        bcs.append(df.fem.dirichletbc(U_v, dofs_v_base, V_v))\n",
    "\n",
    "        # Define the location of the right and top boundaries and find the velocity DOFs\n",
    "        def boundary_rightandtop(x):\n",
    "            return np.logical_or(np.isclose(x[0], 1), np.isclose(x[1], 1))\n",
    "        dofs_v_rightandtop = df.fem.locate_dofs_geometrical(V_v, boundary_rightandtop)\n",
    "        # Specify the exact velocity value and define a Dirichlet boundary condition\n",
    "        exact_v = df.fem.Function(V_v)\n",
    "        # Interpolate from a UFL expression, evaluated at the velocity interpolation points\n",
    "        exact_v.interpolate(df.fem.Expression(v_exact_batchelor(mesh, U=U), V_v.element.interpolation_points()))\n",
    "        bcs.append(df.fem.dirichletbc(exact_v, dofs_v_rightandtop))\n",
    "    \n",
    "    return bcs\n",
    "\n",
    "def pressure_bcs(V_p):\n",
    "    \"\"\"\n",
    "    A python function to set up the pressure boundary conditions.\n",
    "    Parameters:\n",
    "    * V_p - pressure function space\n",
    "    Returns:\n",
    "    * bcs - a list of boundary conditions\n",
    "    \"\"\"\n",
    "    with df.common.Timer(\"Dirichlet BCs\"):\n",
    "        # Declare a list of boundary conditions\n",
    "        bcs = []\n",
    "\n",
    "        # Grab the mesh\n",
    "        mesh = V_p.mesh\n",
    "\n",
    "        # Define the location of the lower left corner of the domain and find the pressure DOF there\n",
    "        def corner_lowerleft(x):\n",
    "            return np.logical_and(np.isclose(x[0], 0), np.isclose(x[1], 0))\n",
    "        dofs_p_lowerleft = df.fem.locate_dofs_geometrical(V_p, corner_lowerleft)\n",
    "        # Specify the arbitrary pressure value and define a Dirichlet boundary condition\n",
    "        zero_p = df.fem.Constant(mesh, df.default_scalar_type(0.0))\n",
    "        bcs.append(df.fem.dirichletbc(zero_p, dofs_p_lowerleft, V_p))\n",
    "    \n",
    "    return bcs"
   ]
  },
  {
   "cell_type": "markdown",
   "id": "0e51d64c",
   "metadata": {},
   "source": [
    "4. declare discrete weak forms \n",
    "    * `stokes_weakforms` uses the velocity and pressure function spaces to declare trial, `v_a` and `p_a`, and test, `v_t` and `p_t`, functions for the velocity and pressure respectively and uses them to describe the discrete weak forms, `S` and `f`, that will be used to assemble the matrix $\\mathbf{A}$ and vector $\\mathbf{b}$\n",
    "    * we also implement a dummy weak form for the pressure block in `dummy_pressure_weakform` that allows us to apply a pressure boundary condition"
   ]
  },
  {
   "cell_type": "code",
   "execution_count": null,
   "id": "857fe108",
   "metadata": {},
   "outputs": [],
   "source": [
    "def stokes_weakforms(V_v, V_p):  \n",
    "    \"\"\"\n",
    "    A python function to return the weak forms of the Stokes problem.\n",
    "    Parameters:\n",
    "    * V_v - velocity function space\n",
    "    * V_p - pressure function space\n",
    "    Returns:\n",
    "    * S   - a bilinear form\n",
    "    * f   - a linear form\n",
    "    \"\"\"  \n",
    "    with df.common.Timer(\"Forms\"):\n",
    "        # Grab the mesh\n",
    "        mesh = V_p.mesh\n",
    "\n",
    "        # Define the trial functions for velocity and pressure\n",
    "        v_a, p_a = ufl.TrialFunction(V_v), ufl.TrialFunction(V_p)\n",
    "        # Define the test functions for velocity and pressure\n",
    "        v_t, p_t = ufl.TestFunction(V_v),  ufl.TestFunction(V_p)\n",
    "\n",
    "        # Define the integrals to be assembled into the stiffness matrix\n",
    "        K = ufl.inner(ufl.sym(ufl.grad(v_t)), ufl.sym(ufl.grad(v_a))) * ufl.dx\n",
    "        G = -ufl.div(v_t)*p_a*ufl.dx\n",
    "        D = -p_t*ufl.div(v_a)*ufl.dx\n",
    "        S = df.fem.form([[K, G], [D, None]])\n",
    "\n",
    "        # Define the integral to the assembled into the forcing vector\n",
    "        # which in this case is just zero\n",
    "        zero_p = df.fem.Constant(mesh, df.default_scalar_type(0.0))\n",
    "        zero_v = df.fem.Constant(mesh, df.default_scalar_type((0.0, 0.0)))\n",
    "        f = df.fem.form([ufl.inner(v_t, zero_v)*ufl.dx, zero_p*p_t*ufl.dx])\n",
    "    \n",
    "    return S, f\n",
    "\n",
    "def dummy_pressure_weakform(V_p):\n",
    "    \"\"\"\n",
    "    A python function to return a dummy (zero) weak form for the pressure block of \n",
    "    the Stokes problem.\n",
    "    Parameters:\n",
    "    * V_p - pressure function space\n",
    "    Returns:\n",
    "    * M   - a bilinear form\n",
    "    \"\"\"  \n",
    "    with df.common.Timer(\"Forms\"):\n",
    "        # Grab the mesh\n",
    "        mesh = V_p.mesh\n",
    "\n",
    "        # Define the trial function for the pressure\n",
    "        p_a = ufl.TrialFunction(V_p)\n",
    "        # Define the test function for the pressure\n",
    "        p_t = ufl.TestFunction(V_p)\n",
    "\n",
    "        # Define the dummy integrals to be assembled into a zero pressure mass matrix\n",
    "        zero_p = df.fem.Constant(mesh, df.default_scalar_type(0.0))\n",
    "        M = df.fem.form(p_t*p_a*zero_p*ufl.dx)\n",
    "    \n",
    "    return M"
   ]
  },
  {
   "cell_type": "markdown",
   "id": "14083f24",
   "metadata": {},
   "source": [
    "5. in `assemble` we assemble the matrix problem "
   ]
  },
  {
   "cell_type": "code",
   "execution_count": null,
   "id": "486e9a5e",
   "metadata": {},
   "outputs": [],
   "source": [
    "def assemble(S, f, bcs):\n",
    "    \"\"\"\n",
    "    A python function to assemble the forms into a matrix and a vector.\n",
    "    Parameters:\n",
    "    * S   - Stokes form\n",
    "    * f   - RHS form\n",
    "    * bcs - list of boundary conditions\n",
    "    Returns:\n",
    "    * Sm  - a matrix\n",
    "    * fm  - a vector\n",
    "    \"\"\"  \n",
    "    with df.common.Timer(\"Assemble\"):\n",
    "        Sm = df.fem.petsc.assemble_matrix_block(S, bcs=bcs)\n",
    "        Sm.assemble()\n",
    "        fm = df.fem.petsc.assemble_vector_block(f, S, bcs=bcs)\n",
    "    return Sm, fm"
   ]
  },
  {
   "cell_type": "markdown",
   "id": "01514bbc",
   "metadata": {},
   "source": [
    "6. in `solve` we solve the matrix problem using a PETSc linear algebra back-end, returning the solution functions for velocity, `v_i`, and pressure, `p_i`"
   ]
  },
  {
   "cell_type": "code",
   "execution_count": null,
   "id": "7f15ba83",
   "metadata": {},
   "outputs": [],
   "source": [
    "def solve(Sm, fm, V_v, V_p):\n",
    "    \"\"\"\n",
    "    A python function to solve a matrix vector system.\n",
    "    Parameters:\n",
    "    * Sm  - matrix\n",
    "    * fm  - vector\n",
    "    * V_v - velocity function space\n",
    "    * V_p - pressure function space\n",
    "    Returns:\n",
    "    * v_i - velocity solution function\n",
    "    * p_i - pressure solution function\n",
    "    \"\"\"  \n",
    "\n",
    "    with df.common.Timer(\"Solve\"):\n",
    "        solver = PETSc.KSP().create(MPI.COMM_WORLD)\n",
    "        solver.setOperators(Sm)\n",
    "        solver.setFromOptions()\n",
    "\n",
    "        # Create a solution vector and solve the system\n",
    "        x = Sm.createVecRight()\n",
    "        solver.solve(fm, x)\n",
    "\n",
    "        # Set up the solution functions\n",
    "        v_i = df.fem.Function(V_v)\n",
    "        p_i = df.fem.Function(V_p)\n",
    "        # Extract the velocity and pressure solutions for the coupled problem\n",
    "        offset = V_v.dofmap.index_map.size_local*V_v.dofmap.index_map_bs\n",
    "        v_i.x.array[:offset] = x.array_r[:offset]\n",
    "        p_i.x.array[:(len(x.array_r) - offset)] = x.array_r[offset:]\n",
    "        # Update the ghost values\n",
    "        v_i.x.scatter_forward()\n",
    "        p_i.x.scatter_forward()\n",
    "    \n",
    "    with df.common.Timer(\"Cleanup\"):\n",
    "        solver.destroy()\n",
    "        x.destroy()\n",
    "\n",
    "    return v_i, p_i"
   ]
  },
  {
   "cell_type": "markdown",
   "id": "2f41941d",
   "metadata": {},
   "source": [
    "Finally, we set up a python function, `solve_batchelor`, that brings all these steps together into a complete problem."
   ]
  },
  {
   "cell_type": "code",
   "execution_count": null,
   "id": "af296aa3",
   "metadata": {},
   "outputs": [],
   "source": [
    "def solve_batchelor(ne, p=1, U=1, petsc_options=None):\n",
    "    \"\"\"\n",
    "    A python function to solve a two-dimensional corner flow \n",
    "    problem on a unit square domain.\n",
    "    Parameters:\n",
    "    * ne - number of elements in each dimension\n",
    "    * p  - polynomial order of the pressure solution (optional, defaults to 1)\n",
    "    * U  - convergence speed of lower boundary (optional, defaults to 1)\n",
    "    * petsc_options - a dictionary of petsc options to pass to the solver \n",
    "                      (optional, defaults to an LU direct solver using the MUMPS library)\n",
    "    Returns:\n",
    "    * v_i - velocity solution function\n",
    "    * p_i - pressure solution function\n",
    "    \"\"\"\n",
    "\n",
    "    # 0. Set some default PETSc options\n",
    "    if petsc_options is None:\n",
    "        petsc_options = {\"ksp_type\": \"preonly\", \\\n",
    "                         \"pc_type\": \"lu\",\n",
    "                         \"pc_factor_mat_solver_type\": \"mumps\"}\n",
    "    # and load them into the PETSc options system\n",
    "    opts = PETSc.Options()\n",
    "    for k, v in petsc_options.items(): opts[k] = v\n",
    "    \n",
    "    # 1. Set up a mesh\n",
    "    mesh = unit_square_mesh(ne)\n",
    "    # 2. Declare the appropriate function spaces\n",
    "    V_v, V_p = functionspaces(mesh, p)\n",
    "    # 3. Collect all the boundary conditions into a list\n",
    "    bcs  = velocity_bcs(V_v, U=U)\n",
    "    bcs += pressure_bcs(V_p)\n",
    "    # 4. Declare the weak forms\n",
    "    S, f = stokes_weakforms(V_v, V_p)\n",
    "    #    Include a dummy zero pressure mass matrix to allow us to set a pressure constraint\n",
    "    S[1][1] = dummy_pressure_weakform(V_p)\n",
    "    # 5. Assemble the matrix equation\n",
    "    Sm, fm = assemble(S, f, bcs)\n",
    "    # 6. Solve the matrix equation\n",
    "    v_i, p_i = solve(Sm, fm, V_v, V_p)\n",
    "    \n",
    "    with df.common.Timer(\"Cleanup\"):\n",
    "        Sm.destroy()\n",
    "        fm.destroy()\n",
    "\n",
    "    return v_i, p_i"
   ]
  },
  {
   "cell_type": "markdown",
   "id": "cf35e293-506d-447c-8a51-639e94ca5cca",
   "metadata": {},
   "source": [
    "We can now numerically solve the equations using, e.g., 10 elements in each dimension and piecewise linear polynomials for pressure (and piecewise quadratic polynomials for velocity)."
   ]
  },
  {
   "cell_type": "code",
   "execution_count": null,
   "id": "e0b87dec-fb8c-41d0-970e-d2d377fe2d29",
   "metadata": {
    "tags": [
     "main"
    ]
   },
   "outputs": [],
   "source": [
    "ne = 10\n",
    "p = 1\n",
    "U = 1\n",
    "v, p = solve_batchelor(ne, p=p, U=U)\n",
    "v.name = \"Velocity\""
   ]
  },
  {
   "cell_type": "markdown",
   "id": "2aa9be4a",
   "metadata": {},
   "source": [
    "And use some utility functions (see `python/utils/plot.py`) to plot it."
   ]
  },
  {
   "cell_type": "code",
   "execution_count": null,
   "id": "6f427b04-215c-42ef-8430-9b54b76840ce",
   "metadata": {
    "tags": [
     "main"
    ]
   },
   "outputs": [],
   "source": [
    "plotter = utils.plot.plot_mesh(v.function_space.mesh, gather=True, show_edges=True, style=\"wireframe\")\n",
    "utils.plot.plot_vector_glyphs(v, plotter=plotter, gather=True, factor=0.3)\n",
    "utils.plot.plot_show(plotter)\n",
    "utils.plot.plot_save(plotter, output_folder / 'batchelor_solution.png')"
   ]
  },
  {
   "cell_type": "markdown",
   "id": "c478db36-f890-4ce5-aad2-c25112d565fb",
   "metadata": {},
   "source": [
    "## Testing\n",
    "\n",
    "### Error analysis\n",
    "\n",
    "We can quantify the error in cases where the analytical solution is known by taking the L2 norm of the difference between the numerical and exact solutions."
   ]
  },
  {
   "cell_type": "code",
   "execution_count": null,
   "id": "de15d3f6-6e1d-41d3-8f56-bcf76a7b1a59",
   "metadata": {},
   "outputs": [],
   "source": [
    "def evaluate_error(v_i, U=1):\n",
    "    \"\"\"\n",
    "    A python function to evaluate the l2 norm of the error in \n",
    "    the two dimensional Batchelor corner flow problem.\n",
    "    Parameters:\n",
    "    * v_i - numerical solution for velocity\n",
    "    * U   - convergence speed of lower boundary (optional, defaults to 1)\n",
    "    Returns:\n",
    "    * l2err - l2 error of solution\n",
    "    \"\"\"\n",
    "    # Define the exact solution (in UFL)\n",
    "    ve = v_exact_batchelor(v_i.function_space.mesh, U=U)\n",
    "\n",
    "    # Define the error as the squared difference between the exact solution and the given approximate solution\n",
    "    l2err = df.fem.assemble_scalar(df.fem.form(ufl.inner(v_i - ve, v_i - ve)*ufl.dx))\n",
    "    l2err = v_i.function_space.mesh.comm.allreduce(l2err, op=MPI.SUM)**0.5\n",
    "\n",
    "    # Return the l2 norm of the error\n",
    "    return l2err"
   ]
  },
  {
   "cell_type": "markdown",
   "id": "0eb74b6f-8b05-4da1-b917-b167d83c5288",
   "metadata": {},
   "source": [
    "### Convergence test\n",
    "\n",
    "Repeating the numerical experiments with increasing `ne` allows us to test the **convergence** of our approximate finite element solution to the known analytical solution.  A key feature of any discretization technique is that with an increasing number of degrees of freedom (DOFs) these solutions should converge, i.e. the error in our approximation should decrease.\n",
    "\n",
    "We implement a function, `convergence_errors` to loop over different pressure polynomial orders, `p`, and numbers of elements, `ne` evaluating the error for each."
   ]
  },
  {
   "cell_type": "code",
   "execution_count": null,
   "id": "7b488e33-8759-4d1c-98dc-13c7e9ccfb39",
   "metadata": {},
   "outputs": [],
   "source": [
    "def convergence_errors(ps, nelements, U=1, petsc_options=None):\n",
    "    \"\"\"\n",
    "    A python function to run a convergence test of a two-dimensional corner flow \n",
    "    problem on a unit square domain.\n",
    "    Parameters:\n",
    "    * ps        - a list of pressure polynomial orders to test\n",
    "    * nelements - a list of the number of elements to test\n",
    "    * U         - convergence speed of lower boundary (optional, defaults to 1)\n",
    "    * petsc_options - a dictionary of petsc options to pass to the solver \n",
    "                      (optional, defaults to an LU direct solver using the MUMPS library)\n",
    "    Returns:\n",
    "    * errors_l2 - a list of l2 errors\n",
    "    \"\"\"\n",
    "    errors_l2 = []\n",
    "    # Loop over the polynomial orders\n",
    "    for p in ps:\n",
    "        # Accumulate the errors\n",
    "        errors_l2_p = []\n",
    "        # Loop over the resolutions\n",
    "        for ne in nelements:\n",
    "            # Solve the 2D Batchelor corner flow problem\n",
    "            v_i, p_i = solve_batchelor(ne, p=p, U=U, \n",
    "                                       petsc_options=petsc_options)\n",
    "            # Evaluate the error in the approximate solution\n",
    "            l2error = evaluate_error(v_i, U=U)\n",
    "            # Print to screen and save if on rank 0\n",
    "            if MPI.COMM_WORLD.rank == 0:\n",
    "                print('p={}, ne={}, l2error={}'.format(p, ne, l2error))\n",
    "            errors_l2_p.append(l2error)\n",
    "        if MPI.COMM_WORLD.rank == 0:\n",
    "            print('*************************************************')\n",
    "        errors_l2.append(errors_l2_p)\n",
    "    \n",
    "    return errors_l2"
   ]
  },
  {
   "cell_type": "markdown",
   "id": "ea130307",
   "metadata": {},
   "source": [
    "We can use this function to get the errors at a range of polynomial orders and numbers of elements."
   ]
  },
  {
   "cell_type": "code",
   "execution_count": null,
   "id": "d6e0e043",
   "metadata": {
    "tags": [
     "main"
    ]
   },
   "outputs": [],
   "source": [
    "# List of polynomial orders to try\n",
    "ps = [1, 2]\n",
    "# List of resolutions to try\n",
    "nelements = [10, 20, 40, 80, 160]\n",
    "\n",
    "errors_l2 = convergence_errors(ps, nelements)"
   ]
  },
  {
   "cell_type": "markdown",
   "id": "1ba0400f",
   "metadata": {},
   "source": [
    "Here we can see that the error is decreasing both with increasing `ne` and increasing `p` but this is clearer if we plot the errors and evaluate their **order of convergence**.  To do this we write a python function `test_plot_convergence`."
   ]
  },
  {
   "cell_type": "code",
   "execution_count": null,
   "id": "c4159576",
   "metadata": {},
   "outputs": [],
   "source": [
    "def test_plot_convergence(ps, nelements, errors_l2, output_basename=None):\n",
    "    \"\"\"\n",
    "    A python function to test and plot convergence of the given errors.\n",
    "    Parameters:\n",
    "    * ps              - a list of pressure polynomial orders to test\n",
    "    * nelements       - a list of the number of elements to test\n",
    "    * errors_l2       - errors_l2 from convergence_errors\n",
    "    * output_basename - basename for output (optional, defaults to no output)\n",
    "    Returns:\n",
    "    * test_passes     - a boolean indicating if the convergence test has passed\n",
    "    \"\"\"\n",
    "\n",
    "    # Open a figure for plotting\n",
    "    if MPI.COMM_WORLD.rank == 0:\n",
    "        fig = pl.figure()\n",
    "        ax = fig.gca()\n",
    "\n",
    "    # Keep track of whether we get the expected order of convergence\n",
    "    test_passes = True\n",
    "\n",
    "    # Loop over the polynomial orders\n",
    "    for i, p in enumerate(ps):\n",
    "        # Work out the order of convergence at this p\n",
    "        hs = 1./np.array(nelements)/p\n",
    "        # Fit a line to the convergence data\n",
    "        fit = np.polyfit(np.log(hs), np.log(errors_l2[i]),1)\n",
    "        # Test if the order of convergence is as expected (first order)\n",
    "        test_passes = test_passes and abs(fit[0]-1) < 0.1\n",
    "\n",
    "        # Write the errors to disk\n",
    "        if MPI.COMM_WORLD.rank == 0:\n",
    "            if output_basename is not None:\n",
    "                with open(str(output_basename) + '_p{}.csv'.format(p), 'w') as f:\n",
    "                    np.savetxt(f, np.c_[nelements, hs, errors_l2[i]], delimiter=',', \n",
    "                             header='nelements, hs, l2errs')\n",
    "            \n",
    "            print(\"order of accuracy p={}, order={}\".format(p,fit[0]))\n",
    "        \n",
    "            # log-log plot of the L2 error \n",
    "            ax.loglog(hs,errors_l2[i],'o-',label='p={}, order={:.2f}'.format(p,fit[0]))\n",
    "        \n",
    "    if MPI.COMM_WORLD.rank == 0:\n",
    "        # Tidy up the plot\n",
    "        ax.set_xlabel(r'$h$')\n",
    "        ax.set_ylabel(r'$||e||_2$')\n",
    "        ax.grid()\n",
    "        ax.set_title('Convergence')\n",
    "        ax.legend()\n",
    "\n",
    "        # Write convergence to disk\n",
    "        if output_basename is not None:\n",
    "            fig.savefig(str(output_basename) + '.pdf')\n",
    "\n",
    "            print(\"***********  convergence figure in \"+str(output_basename)+\".pdf\")\n",
    "    \n",
    "    return test_passes"
   ]
  },
  {
   "cell_type": "code",
   "execution_count": null,
   "id": "fc1dd67d",
   "metadata": {
    "tags": [
     "main"
    ]
   },
   "outputs": [],
   "source": [
    "test_passes = test_plot_convergence(ps, nelements, errors_l2, \n",
    "                                    output_basename=output_folder / 'batchelor_convergence')\n",
    "\n",
    "assert(test_passes)"
   ]
  },
  {
   "cell_type": "markdown",
   "id": "48169baa-bdad-4e69-b2e9-c99a9cf11837",
   "metadata": {},
   "source": [
    "Solving the equations on a series of successively finer meshes and comparing the resulting solution to the analytical result using the error metric\n",
    "\\begin{equation}\n",
    "e_{L^2} = \\sqrt{\\int_\\Omega (\\tilde{\\vec{v}}-\\vec{v})\\cdot(\\tilde{\\vec{v}}-\\vec{v}) dx }\n",
    "\\end{equation}\n",
    "shows linear rather than quadratic convergence, regardless of the polynomial order we select for our numerical solution.\n",
    "\n",
    "This first-order convergence rate is lower than would be expected for piecewise quadratic or piecewise cubic velocity functions (recall that the velocity is one degree higher than the specified pressure polynomial degree). This drop in convergence rate is caused by the boundary conditions at the origin being discontinuous, which cannot be represented in the selected function space and results in a pressure singularity at that point.  This is an example where convergence analysis demonstrates suboptimal results due to our inability to represent the solution in the selected finite element function space.\n",
    "\n",
    "Aside from the convergence rate we are also interested in the performance of our implementation.  We will test this in the [next notebook](./2.4c_batchelor_parallel.ipynb) by timing different sections of our calculation both in serial and parallel."
   ]
  },
  {
   "attachments": {},
   "cell_type": "markdown",
   "id": "95576f76-6816-4a3e-a93e-4e5aa04cd413",
   "metadata": {},
   "source": [
    "## Finish up\n",
    "\n",
    "Convert this notebook to a python module (saving first and ignoring markdown cells and those tagged as \"main\" or \"ipy\")."
   ]
  },
  {
   "cell_type": "code",
   "execution_count": null,
   "id": "caccf403-d279-4221-b9ea-5822f0cc0fb9",
   "metadata": {
    "tags": [
     "ipy"
    ]
   },
   "outputs": [],
   "source": [
    "from ipylab import JupyterFrontEnd\n",
    "app = JupyterFrontEnd()\n",
    "app.commands.execute('docmanager:save')\n",
    "!jupyter nbconvert --TagRemovePreprocessor.enabled=True --TagRemovePreprocessor.remove_cell_tags=\"['main', 'ipy']\" --TemplateExporter.exclude_markdown=True --TemplateExporter.exclude_input_prompt=True --TemplateExporter.exclude_output_prompt=True --NbConvertApp.export_format=script --ClearOutputPreprocessor.enabled=True --FilesWriter.build_directory=../../python/background --NbConvertApp.output_base=batchelor 2.4b_batchelor.ipynb"
   ]
  },
  {
   "cell_type": "code",
   "execution_count": null,
   "id": "160d2191-b090-46ef-8d2d-edcbca6c2cd0",
   "metadata": {},
   "outputs": [],
   "source": []
  }
 ],
 "metadata": {
  "kernelspec": {
   "display_name": "dolfinx-env",
   "language": "python",
   "name": "python3"
  },
  "language_info": {
   "codemirror_mode": {
    "name": "ipython",
    "version": 3
   },
   "file_extension": ".py",
   "mimetype": "text/x-python",
   "name": "python",
   "nbconvert_exporter": "python",
   "pygments_lexer": "ipython3",
   "version": "3.12.3"
  }
 },
 "nbformat": 4,
 "nbformat_minor": 5
}
