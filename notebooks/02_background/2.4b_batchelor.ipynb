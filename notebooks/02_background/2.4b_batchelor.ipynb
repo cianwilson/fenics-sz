{
 "cells": [
  {
   "cell_type": "markdown",
   "id": "6d1c4577-6165-4cc8-aaff-1233e161119e",
   "metadata": {},
   "source": [
    "# Batchelor Cornerflow Example\n",
    "\n",
    "Authors: Cameron Seebeck, Cian Wilson"
   ]
  },
  {
   "cell_type": "markdown",
   "id": "9c520214-db8e-476f-93a2-1e24812a3aad",
   "metadata": {},
   "source": [
    "## Description"
   ]
  },
  {
   "cell_type": "markdown",
   "id": "eae958ba-e1b6-4667-a5bd-2491d256dc5e",
   "metadata": {},
   "source": [
    "As a reminder we are seeking the approximate velocity and pressure solution of the Stokes equation\n",
    "\\begin{align}\n",
    "-\\nabla\\cdot \\left(\\frac{\\nabla\\vec{v} + \\nabla\\vec{v}^T}{2}\\right) + \\nabla P &= 0 && \\text{in }\\Omega \\\\\n",
    "\\nabla\\cdot\\vec{v} &= 0 && \\text{in }\\Omega\n",
    "\\end{align}\n",
    "in a unit square domain, $\\Omega = [0,1]\\times[0,1]$.\n",
    "\n",
    "We apply strong Dirichlet boundary conditions for velocity on all four boundaries\n",
    "\\begin{align}\n",
    "  \\vec{v} &= (0,0)^T && \\text{on } \\partial\\Omega \\text{ where } x=0  \\\\\n",
    "  \\vec{v} &= (U, 0)^T  && \\text{on } \\partial\\Omega \\text{ where } y=0 \\\\\n",
    "  \\vec{v} &= \\vec{v} && \\text{on } \\partial\\Omega \\text{ where } x=1 \\text{ or } y = 1\n",
    "\\end{align}\n",
    "and an additional point constraint on pressure\n",
    "\\begin{align}\n",
    "  P &= 0 && \\text{at } (x, y) = (0,0)\n",
    "\\end{align}\n",
    "to remove its null space."
   ]
  },
  {
   "cell_type": "markdown",
   "id": "0dc642e5-b6f9-42ef-a23b-300e067f21b5",
   "metadata": {},
   "source": [
    "## Implementation"
   ]
  },
  {
   "cell_type": "markdown",
   "id": "c387c2a2-6cab-4063-9773-488ecede32c2",
   "metadata": {},
   "source": [
    "This example was presented by [Wilson & van Keken, 2023](http://dx.doi.org/10.1186/s40645-023-00588-6) using FEniCS v2019.1.0 and [TerraFERMA](https://terraferma.github.io), a GUI-based model building framework that also uses FEniCS v2019.1.0.  Here we reproduce these results using the latest version of FEniCS, FEniCSx."
   ]
  },
  {
   "cell_type": "markdown",
   "id": "38f6d835-b1b1-459d-bfc2-3b45ea4883c8",
   "metadata": {},
   "source": [
    "### Preamble"
   ]
  },
  {
   "cell_type": "markdown",
   "id": "09d28365-5df9-4549-ba50-a7f8fa627ade",
   "metadata": {},
   "source": [
    "We start by loading all the modules we will require and initializing our plotting preferences through [pyvista](https://pyvista.org/)."
   ]
  },
  {
   "cell_type": "code",
   "execution_count": null,
   "id": "0c08f601-4df0-44f4-b0e6-ad1a9d545f06",
   "metadata": {},
   "outputs": [],
   "source": [
    "from mpi4py import MPI\n",
    "import dolfinx as df\n",
    "import dolfinx.fem.petsc\n",
    "from petsc4py import PETSc\n",
    "import numpy as np\n",
    "import ufl\n",
    "import matplotlib.pyplot as pl\n",
    "import basix\n",
    "import sys, os\n",
    "basedir = ''\n",
    "if \"__file__\" in globals(): basedir = os.path.dirname(__file__)\n",
    "sys.path.append(os.path.join(basedir, os.path.pardir, os.path.pardir, 'python'))\n",
    "import utils\n",
    "import pyvista as pv\n",
    "if __name__ == \"__main__\" and \"__file__\" in globals():\n",
    "    pv.OFF_SCREEN = True\n",
    "import pathlib\n",
    "if __name__ == \"__main__\":\n",
    "    output_folder = pathlib.Path(os.path.join(basedir, \"output\"))\n",
    "    output_folder.mkdir(exist_ok=True, parents=True)"
   ]
  },
  {
   "cell_type": "markdown",
   "id": "8fa06ae7-8388-47b4-be6b-7d4738100691",
   "metadata": {},
   "source": [
    "### Solution"
   ]
  },
  {
   "cell_type": "markdown",
   "id": "7c2a14d4-6f72-4597-8674-e14d4039a44f",
   "metadata": {},
   "source": [
    "We start by defining the analytical solution\n",
    "\\begin{align}\n",
    "\\vec{v} = \\left(\\begin{array}{cc}\\cos\\theta & -\\sin\\theta \\\\\n",
    " \\sin\\theta &  \\cos\\theta\\end{array}\\right) \\left(\\begin{array}{c}\\frac{1}{r}\\frac{\\partial\\psi}{\\partial\\theta} \\\\ -\\frac{\\partial\\psi}{\\partial r}\\end{array}\\right)\n",
    "\\end{align}\n",
    "where $\\psi = \\psi(r,\\theta)$ is a function of the radius, $r$, and angle from the $x$-axis, $\\theta$\n",
    "\\begin{equation}\n",
    "\\psi (r, \\theta)~=~ - \\frac{r U }{\\frac{1}{4}\\pi^2-1} \\left( -\\frac{1}{4}\\pi^2 \\sin \\theta + \\frac{1}{2}\\pi \\theta \\sin \\theta + \\theta \\cos \\theta \\right)\n",
    "\\end{equation}\n",
    "We describe this solution using UFL in the python function `v_exact_batchelor`."
   ]
  },
  {
   "cell_type": "code",
   "execution_count": null,
   "id": "0bbac148-1658-4a4f-a1e9-57f5b77343ed",
   "metadata": {},
   "outputs": [],
   "source": [
    "def v_exact_batchelor(mesh, U=1):\n",
    "    \"\"\"\n",
    "    A python function that returns the exact Batchelor velocity solution\n",
    "    using UFL.\n",
    "    Parameters:\n",
    "    * mesh - the mesh on which we wish to define the coordinates for the solution\n",
    "    * U    - convergence speed of lower boundary (defaults to 1)\n",
    "    \"\"\"\n",
    "    # Define the coordinate systems\n",
    "    x = ufl.SpatialCoordinate(mesh)\n",
    "    theta = ufl.atan2(x[1],x[0])\n",
    "\n",
    "    # Define the derivative to the streamfunction psi\n",
    "    d_psi_d_r = -U*(-0.25*ufl.pi**2*ufl.sin(theta) \\\n",
    "                    +0.5*ufl.pi*theta*ufl.sin(theta) \\\n",
    "                    +theta*ufl.cos(theta)) \\\n",
    "                    /(0.25*ufl.pi**2-1)\n",
    "    d_psi_d_theta_over_r = -U*(-0.25*ufl.pi**2*ufl.cos(theta) \\\n",
    "                               +0.5*ufl.pi*ufl.sin(theta) \\\n",
    "                               +0.5*ufl.pi*theta*ufl.cos(theta) \\\n",
    "                               +ufl.cos(theta) \\\n",
    "                               -theta*ufl.sin(theta)) \\\n",
    "                               /(0.25*ufl.pi**2-1)\n",
    "\n",
    "    # Rotate the solution into Cartesian and return\n",
    "    return ufl.as_vector([ufl.cos(theta)*d_psi_d_theta_over_r + ufl.sin(theta)*d_psi_d_r, \\\n",
    "                          ufl.sin(theta)*d_psi_d_theta_over_r - ufl.cos(theta)*d_psi_d_r])"
   ]
  },
  {
   "cell_type": "markdown",
   "id": "0ebcd6ea-4bd9-4aef-baff-cc15b7fcef5e",
   "metadata": {},
   "source": [
    "We then declare a python function `solve_batchelor` that contains a complete description of the discrete Stokes equation problem.\n",
    "\n",
    "This function follows much the same flow as described in previous examples\n",
    "1. we describe the unit square domain $\\Omega = [0,1]\\times[0,1]$ and discretize it into $2 \\times$ `ne` $\\times$ `ne` triangular elements or cells to make a `mesh`\n",
    "2. we declare finite elements for velocity and pressure using Lagrange polynomials of degree `p+1` and `p` respectively and use these to declare the **mixed function space**, `V` of the coupled problem and the **sub function spaces**, `V_v`, `V_vx`, `V_vy`, and `V_p`, for velocity, $x$ velocity, $y$ velocity, and pressure respectively\n",
    "3. using the mixed function space we declare trial, `v_a` and `p_a`, and test, `v_t` and `p_t`, functions for the velocity and pressure respectively\n",
    "4. we define a list of Dirichlet boundary conditions, `bcs`, including velocity boundary conditions on all four sides and a constraint on the pressure in the lower left corner of the domain\n",
    "5. we describe the **discrete weak forms**, `S` and `f`, that will be used to assemble the matrix $\\mathbf{S}$ and vector $\\mathbf{f}$\n",
    "6. we solve the matrix problem using a linear algebra back-end and return the solution"
   ]
  },
  {
   "cell_type": "code",
   "execution_count": null,
   "id": "2d81ad31-0597-42d4-ad0e-ac770045eedb",
   "metadata": {},
   "outputs": [],
   "source": [
    "def solve_batchelor(ne, p=1, U=1, petsc_options=None, attach_nullspace=False):\n",
    "    \"\"\"\n",
    "    A python function to solve a two-dimensional corner flow \n",
    "    problem on a unit square domain.\n",
    "    Parameters:\n",
    "    * ne - number of elements in each dimension\n",
    "    * p  - polynomial order of the pressure solution (defaults to 1)\n",
    "    * U  - convergence speed of lower boundary (defaults to 1)\n",
    "    * petsc_options - a dictionary of petsc options to pass to the solver \n",
    "                      (defaults to an LU direct solver using the MUMPS library)\n",
    "    \"\"\"\n",
    "\n",
    "    if petsc_options is None:\n",
    "        petsc_options = {\"ksp_type\": \"preonly\", \\\n",
    "                         \"pc_type\": \"lu\",\n",
    "                         \"pc_factor_mat_solver_type\": \"mumps\"}\n",
    "    pc_type = petsc_options.get('pc_type', None)\n",
    "    \n",
    "    opts = PETSc.Options(); opts.clear()\n",
    "    for k, v in petsc_options.items(): opts[k] = v\n",
    "\n",
    "    # Describe the domain (a unit square)\n",
    "    # and also the tessellation of that domain into ne\n",
    "    # equally spaced squared in each dimension, which are\n",
    "    # subduvided into two triangular elements each\n",
    "    with df.common.Timer(\"Mesh\"):\n",
    "        mesh = df.mesh.create_unit_square(MPI.COMM_WORLD, ne, ne)\n",
    "\n",
    "    with df.common.Timer(\"Functions\"):\n",
    "        # Define velocity and pressure elements\n",
    "        v_e = basix.ufl.element(\"Lagrange\", mesh.basix_cell(), p+1, shape=(mesh.geometry.dim,))\n",
    "        p_e = basix.ufl.element(\"Lagrange\", mesh.basix_cell(), p)\n",
    "\n",
    "        # Define the velocity and pressure function spaces\n",
    "        V_v = df.fem.functionspace(mesh, v_e)\n",
    "        V_p = df.fem.functionspace(mesh, p_e)\n",
    "\n",
    "        # Define functions for the velocity and pressure solutions\n",
    "        v_i, p_i = df.fem.Function(V_v), df.fem.Function(V_p)\n",
    "\n",
    "    with df.common.Timer(\"Dirichlet BCs\"):\n",
    "        # Declare a list of boundary conditions\n",
    "        bcs = []\n",
    "        \n",
    "        # Define the location of the left boundary and find the velocity DOFs\n",
    "        def boundary_left(x):\n",
    "            return np.isclose(x[0], 0)\n",
    "        dofs_v_left = df.fem.locate_dofs_geometrical(V_v, boundary_left)\n",
    "        # Specify the velocity value and define a Dirichlet boundary condition\n",
    "        zero_v = df.fem.Constant(mesh, df.default_scalar_type((0.0, 0.0)))\n",
    "        bcs.append(df.fem.dirichletbc(zero_v, dofs_v_left, V_v))\n",
    "\n",
    "        # Define the location of the bottom boundary and find the velocity DOFs\n",
    "        # for x velocity (0) and y velocity (1) separately\n",
    "        def boundary_base(x):\n",
    "            return np.isclose(x[1], 0)\n",
    "        dofs_v_base = df.fem.locate_dofs_geometrical(V_v, boundary_base)\n",
    "        # Specify the value of the x component of velocity and define a Dirichlet boundary condition\n",
    "        U_v = df.fem.Constant(mesh, df.default_scalar_type((U, 0.0)))\n",
    "        bcs.append(df.fem.dirichletbc(U_v, dofs_v_base, V_v))\n",
    "\n",
    "        # Define the location of the right and top boundaries and find the velocity DOFs\n",
    "        def boundary_rightandtop(x):\n",
    "            return np.logical_or(np.isclose(x[0], 1), np.isclose(x[1], 1))\n",
    "        dofs_v_rightandtop = df.fem.locate_dofs_geometrical(V_v, boundary_rightandtop)\n",
    "        # Specify the exact velocity value and define a Dirichlet boundary condition\n",
    "        exact_v = df.fem.Function(V_v)\n",
    "        # Interpolate from a UFL expression, evaluated at the velocity interpolation points\n",
    "        exact_v.interpolate(df.fem.Expression(v_exact_batchelor(mesh, U=U), V_v.element.interpolation_points()))\n",
    "        bcs.append(df.fem.dirichletbc(exact_v, dofs_v_rightandtop))\n",
    "\n",
    "        if not attach_nullspace:\n",
    "            # Define the location of the lower left corner of the domain and find the pressure DOF there\n",
    "            def corner_lowerleft(x):\n",
    "                return np.logical_and(np.isclose(x[0], 0), np.isclose(x[1], 0))\n",
    "            dofs_p_lowerleft = df.fem.locate_dofs_geometrical(V_p, corner_lowerleft)\n",
    "            # Specify the arbitrary pressure value and define a Dirichlet boundary condition\n",
    "            zero_p = df.fem.Constant(mesh, df.default_scalar_type(0.0))\n",
    "            bcs.append(df.fem.dirichletbc(zero_p, dofs_p_lowerleft, V_p))\n",
    "\n",
    "    with df.common.Timer(\"Forms\"):\n",
    "        # Define the trial functions for velocity and pressure\n",
    "        v_a, p_a = ufl.TrialFunction(V_v), ufl.TrialFunction(V_p)\n",
    "        # Define the test functions for velocity and pressure\n",
    "        v_t, p_t = ufl.TestFunction(V_v),  ufl.TestFunction(V_p)\n",
    "\n",
    "        # Define the integrals to be assembled into the stiffness matrix\n",
    "        K = ufl.inner(ufl.sym(ufl.grad(v_t)), ufl.sym(ufl.grad(v_a))) * ufl.dx\n",
    "        G = -ufl.div(v_t)*p_a*ufl.dx\n",
    "        D = -p_t*ufl.div(v_a)*ufl.dx\n",
    "        if attach_nullspace:\n",
    "            S = df.fem.form([[K, G], [D, None]])\n",
    "        else:\n",
    "            S = df.fem.form([[K, G], [D, p_t*p_a*zero_p*ufl.dx]])\n",
    "\n",
    "        # Define the integral to the assembled into the forcing vector\n",
    "        # which in this case is just zero\n",
    "        zero = df.fem.Constant(mesh, df.default_scalar_type(0.0))\n",
    "        f = df.fem.form([ufl.inner(v_t, zero_v)*ufl.dx, zero*p_t*ufl.dx])\n",
    "        \n",
    "        M = None\n",
    "        P = None\n",
    "        if pc_type != \"lu\":\n",
    "            # The pressure preconditioner\n",
    "            M = ufl.inner(p_t, p_a)*ufl.dx\n",
    "            P = df.fem.form([[K, None], [None, M]])\n",
    "\n",
    "    with df.common.Timer(\"Assemble\"):\n",
    "        A = df.fem.petsc.assemble_matrix_block(S, bcs=bcs)\n",
    "        A.assemble()\n",
    "\n",
    "        b = df.fem.petsc.assemble_vector_block(f, S, bcs=bcs)\n",
    "\n",
    "        B = None\n",
    "        if pc_type != \"lu\":\n",
    "            # The pressure preconditioner\n",
    "            B = df.fem.petsc.assemble_matrix_block(P, bcs=bcs)\n",
    "            B.assemble()\n",
    "        \n",
    "        if attach_nullspace:\n",
    "            null_p = A.createVecLeft()\n",
    "            offset = V_v.dofmap.index_map.size_local*V_v.dofmap.index_map_bs\n",
    "            null_p.array[offset:] = 1.0\n",
    "            null_p.normalize()\n",
    "            nsp = PETSc.NullSpace().create(vectors=[null_p])\n",
    "            assert(nsp.test(A))\n",
    "            A.setNullSpace(nsp)\n",
    "    \n",
    "    with df.common.Timer(\"Solve\"):\n",
    "        ksp = PETSc.KSP().create(MPI.COMM_WORLD)\n",
    "        ksp.setOperators(A, B)\n",
    "        ksp.setFromOptions()\n",
    "        \n",
    "        if pc_type == \"fieldsplit\":\n",
    "            map_v, bs_v = V_v.dofmap.index_map, V_v.dofmap.index_map_bs\n",
    "            map_p = V_p.dofmap.index_map\n",
    "            is_size_v = map_v.size_local*bs_v\n",
    "            is_first_v = map_v.local_range[0]*bs_v + map_p.local_range[0]\n",
    "            is_v = PETSc.IS().createStride(is_size_v, is_first_v, 1, comm=PETSc.COMM_SELF)\n",
    "            is_size_p = map_p.size_local\n",
    "            is_first_p = is_first_v + map_v.size_local*bs_v\n",
    "            is_p = PETSc.IS().createStride(is_size_p, is_first_p, 1, comm=PETSc.COMM_SELF)\n",
    "            ksp.getPC().setFieldSplitIS((\"v\", is_v), (\"p\", is_p))\n",
    "\n",
    "            ksp.getPC().setUp()\n",
    "            ksp_v, ksp_p = ksp.getPC().getFieldSplitSubKSP()\n",
    "            Bv, _ = ksp_v.getPC().getOperators()\n",
    "            Bv.setBlockSize(bs_v)\n",
    "\n",
    "        # Compute the solution\n",
    "        x = A.createVecRight()\n",
    "        ksp.solve(b, x)\n",
    "\n",
    "        # Extract the velocity and pressure solutions for the coupled problem\n",
    "        offset = V_v.dofmap.index_map.size_local*V_v.dofmap.index_map_bs\n",
    "        v_i.x.array[:offset] = x.array_r[:offset]\n",
    "        p_i.x.array[:(len(x.array_r) - offset)] = x.array_r[offset:]\n",
    "        v_i.x.scatter_forward()\n",
    "        p_i.x.scatter_forward()\n",
    "\n",
    "    opts.clear()\n",
    "\n",
    "    return v_i, p_i"
   ]
  },
  {
   "cell_type": "markdown",
   "id": "cf35e293-506d-447c-8a51-639e94ca5cca",
   "metadata": {},
   "source": [
    "We can now numerically solve the equations using, e.g., 10 elements in each dimension and piecewise linear polynomials for pressure."
   ]
  },
  {
   "cell_type": "code",
   "execution_count": null,
   "id": "e0b87dec-fb8c-41d0-970e-d2d377fe2d29",
   "metadata": {
    "tags": [
     "main"
    ]
   },
   "outputs": [],
   "source": [
    "ne = 10\n",
    "p = 1\n",
    "U = 1\n",
    "petsc_options = {'ksp_type':'minres', \n",
    "                    'pc_type':'fieldsplit', \n",
    "                    'pc_fieldsplit_type': 'additive',\n",
    "                    #'ksp_view':None,\n",
    "                    'fieldsplit_v_ksp_type':'cg',\n",
    "                    'fieldsplit_v_pc_type':'gamg',\n",
    "                    'fieldsplit_p_ksp_type':'cg',\n",
    "                    'fieldsplit_p_pc_type':'jacobi'}\n",
    "v, p = solve_batchelor(ne, p=p, U=U, petsc_options=petsc_options)\n",
    "v.name = \"Velocity\""
   ]
  },
  {
   "cell_type": "code",
   "execution_count": null,
   "id": "818d2f34",
   "metadata": {
    "tags": [
     "main"
    ]
   },
   "outputs": [],
   "source": [
    "ne = 10\n",
    "p = 1\n",
    "U = 1\n",
    "petsc_options = {'ksp_type':'minres', \n",
    "                    'pc_type':'fieldsplit', \n",
    "                    'pc_fieldsplit_type': 'additive',\n",
    "                    #'ksp_view':None,\n",
    "                    'fieldsplit_v_ksp_type':'cg',\n",
    "                    'fieldsplit_v_pc_type':'gamg',\n",
    "                    'fieldsplit_p_ksp_type':'cg',\n",
    "                    'fieldsplit_p_pc_type':'jacobi'}\n",
    "v, p = solve_batchelor(ne, p=p, U=U, petsc_options=petsc_options, attach_nullspace=True)\n",
    "v.name = \"Velocity\""
   ]
  },
  {
   "cell_type": "markdown",
   "id": "b25cf73d-b848-4d92-bab8-b9130cdb4541",
   "metadata": {},
   "source": [
    "```{admonition} __main__\n",
    "Note that this code block starts with `if __name__ == \"__main__\":` to prevent it from being run unless being run as a script or in a Jupyter notebook.  This prevents unecessary computations when this code is used as a python module.\n",
    "```"
   ]
  },
  {
   "cell_type": "markdown",
   "id": "8eaa60aa-3cf6-4345-920d-e1b71930f6fe",
   "metadata": {},
   "source": [
    "And use some utility functions (see `../../python/utils.py`) to plot the velocity glyphs."
   ]
  },
  {
   "cell_type": "code",
   "execution_count": null,
   "id": "6f427b04-215c-42ef-8430-9b54b76840ce",
   "metadata": {
    "tags": [
     "main"
    ]
   },
   "outputs": [],
   "source": [
    "plotter = utils.plot_mesh(v.function_space.mesh, gather=True, show_edges=True, style=\"wireframe\")\n",
    "utils.plot_vector_glyphs(v, plotter=plotter, gather=True, factor=0.3)\n",
    "utils.plot_show(plotter)\n",
    "utils.plot_save(plotter, output_folder / 'batchelor_solution.png')\n",
    "comm = v.function_space.mesh.comm\n",
    "if comm.size > 1:\n",
    "    # if we're running in parallel (e.g. from a script) then save an image per process as well\n",
    "    plotter_p = utils.plot_mesh(v.function_space.mesh, show_edges=True, style=\"wireframe\")\n",
    "    utils.plot_vector_glyphs(v, plotter=plotter_p, factor=0.3)\n",
    "    utils.plot_show(plotter_p)\n",
    "    utils.plot_save(plotter_p, output_folder / 'batchelor_solution_p{:d}.png'.format(comm.rank,))"
   ]
  },
  {
   "cell_type": "markdown",
   "id": "c478db36-f890-4ce5-aad2-c25112d565fb",
   "metadata": {},
   "source": [
    "## Testing"
   ]
  },
  {
   "cell_type": "markdown",
   "id": "3ffde768-be5b-4c5a-8e55-7a68e98547d7",
   "metadata": {},
   "source": [
    "### Error analysis"
   ]
  },
  {
   "cell_type": "markdown",
   "id": "8f9f2300-7ee6-4e89-adc2-c3b3dfe89a6b",
   "metadata": {},
   "source": [
    "We can quantify the error in cases where the analytical solution is known by taking the L2 norm of the difference between the numerical and exact solutions."
   ]
  },
  {
   "cell_type": "code",
   "execution_count": null,
   "id": "de15d3f6-6e1d-41d3-8f56-bcf76a7b1a59",
   "metadata": {},
   "outputs": [],
   "source": [
    "def evaluate_error(v_i, U=1):\n",
    "    \"\"\"\n",
    "    A python function to evaluate the l2 norm of the error in \n",
    "    the two dimensional Batchelor corner flow problem given the known analytical\n",
    "    solution.\n",
    "    \"\"\"\n",
    "    # Define the exact solution (in UFL)\n",
    "    ve = v_exact_batchelor(v_i.function_space.mesh, U=U)\n",
    "\n",
    "    # Define the error as the squared difference between the exact solution and the given approximate solution\n",
    "    l2err = df.fem.assemble_scalar(df.fem.form(ufl.inner(v_i - ve, v_i - ve)*ufl.dx))\n",
    "    l2err = v_i.function_space.mesh.comm.allreduce(l2err, op=MPI.SUM)**0.5\n",
    "\n",
    "    # Return the l2 norm of the error\n",
    "    return l2err"
   ]
  },
  {
   "cell_type": "markdown",
   "id": "0eb74b6f-8b05-4da1-b917-b167d83c5288",
   "metadata": {},
   "source": [
    "### Convergence test"
   ]
  },
  {
   "cell_type": "code",
   "execution_count": null,
   "id": "7b488e33-8759-4d1c-98dc-13c7e9ccfb39",
   "metadata": {},
   "outputs": [],
   "source": [
    "def run_convergence_batchelor(ps, nelements, U=1, petsc_options=None, attach_nullspace=False):\n",
    "    \"\"\"\n",
    "    A python function to run a convergence test of a two-dimensional corner flow \n",
    "    problem on a unit square domain.\n",
    "    Parameters:\n",
    "    * ps        - a list of polynomial orders to test\n",
    "    * nelements - a list of the number of elements to test\n",
    "    * U         - convergence speed of lower boundary (defaults to 1)\n",
    "    * petsc_options - a dictionary of petsc options to pass to the solver \n",
    "                      (defaults to an LU direct solver using the MUMPS library)\n",
    "    Returns:\n",
    "    * errors_l2 - a list of l2 errors\n",
    "    \"\"\"\n",
    "    errors_l2 = []\n",
    "    # Loop over the polynomial orders\n",
    "    for p in ps:\n",
    "        # Accumulate the errors\n",
    "        errors_l2_p = []\n",
    "        # Loop over the resolutions\n",
    "        for ne in nelements:\n",
    "            # Solve the 2D Batchelor corner flow problem\n",
    "            v_i, p_i = solve_batchelor(ne, p=p, U=U, \n",
    "                                       petsc_options=petsc_options,\n",
    "                                       attach_nullspace=attach_nullspace)\n",
    "            # Evaluate the error in the approximate solution\n",
    "            l2error = evaluate_error(v_i, U=U)\n",
    "            errors_l2_p.append(l2error)\n",
    "        errors_l2.append(errors_l2_p)\n",
    "    \n",
    "    return errors_l2\n",
    "\n",
    "def test_convergence_batchelor(ps, nelements, errors_l2, output_basename=None):\n",
    "    \"\"\"\n",
    "    A python function to test convergence of a two-dimensional corner flow \n",
    "    problem on a unit square domain.\n",
    "    Parameters:\n",
    "    * ps              - a list of polynomial orders to test\n",
    "    * nelements       - a list of the number of elements to test\n",
    "    * errors_l2       - errors_l2 from convergence_batchelor\n",
    "    * output_basename - basename for output (defaults to no output)\n",
    "    Returns:\n",
    "    * test_passes     - a boolean indicating if the convergence test has passed\n",
    "    \"\"\"\n",
    "\n",
    "    # Open a figure for plotting\n",
    "    if MPI.COMM_WORLD.rank == 0:\n",
    "        fig = pl.figure()\n",
    "        ax = fig.gca()\n",
    "\n",
    "    # Keep track of whether we get the expected order of convergence\n",
    "    test_passes = True\n",
    "\n",
    "    # Loop over the polynomial orders\n",
    "    for pi, p in enumerate(ps):\n",
    "        # Loop over the resolutions\n",
    "        for nei, ne in enumerate(nelements):\n",
    "            # Print to screen and save if on rank 0\n",
    "            if MPI.COMM_WORLD.rank == 0:\n",
    "                print('ne = ', ne, ', l2error = ', errors_l2[pi][nei])\n",
    "\n",
    "        # Work out the order of convergence at this p\n",
    "        hs = 1./np.array(nelements)/p\n",
    "\n",
    "        # Fit a line to the convergence data\n",
    "        fit = np.polyfit(np.log(hs), np.log(errors_l2[pi]),1)\n",
    "\n",
    "        # Test if the order of convergence is as expected (first order)\n",
    "        test_passes = test_passes and abs(fit[0]-1) < 0.1\n",
    "\n",
    "        # Write the errors to disk\n",
    "        if MPI.COMM_WORLD.rank == 0:\n",
    "            if output_basename is not None:\n",
    "                with open(str(output_basename) + '_p{}.csv'.format(p), 'w') as f:\n",
    "                    np.savetxt(f, np.c_[nelements, hs, errors_l2[pi]], delimiter=',', \n",
    "                             header='nelements, hs, l2errs')\n",
    "            print(\"***********  order of accuracy p={}, order={}\".format(p,fit[0]))\n",
    "        \n",
    "            # log-log plot of the L2 error \n",
    "            ax.loglog(hs,errors_l2[pi],'o-',label='p={}, order={:.2f}'.format(p,fit[0]))\n",
    "        \n",
    "    if MPI.COMM_WORLD.rank == 0:\n",
    "        # Tidy up the plot\n",
    "        ax.set_xlabel('h')\n",
    "        ax.set_ylabel('||e||_2')\n",
    "        ax.grid()\n",
    "        ax.set_title('Convergence')\n",
    "        ax.legend()\n",
    "\n",
    "        # Write convergence to disk\n",
    "        if output_basename is not None:\n",
    "            fig.savefig(str(output_basename) + '.pdf')\n",
    "\n",
    "            print(\"***********  convergence figure in \"+str(output_basename)+\".pdf\")\n",
    "    \n",
    "    return test_passes\n",
    "\n",
    "def convergence_batchelor(ps, nelements, U=1, petsc_options=None, attach_nullspace=False, output_basename=None):\n",
    "    \"\"\"\n",
    "    A python function to run and test convergence of a two-dimensional corner flow \n",
    "    problem on a unit square domain.\n",
    "    Parameters:\n",
    "    * ps        - a list of polynomial orders to test\n",
    "    * nelements - a list of the number of elements to test\n",
    "    * U         - convergence speed of lower boundary (defaults to 1)\n",
    "    * petsc_options - a dictionary of petsc options to pass to the solver \n",
    "                      (defaults to an LU direct solver using the MUMPS library)\n",
    "    * output_basename - basename for output (defaults to no output)\n",
    "    Returns:\n",
    "    * test_passes - a boolean indicating if the convergence test has passed\n",
    "    \"\"\"\n",
    "    \n",
    "    errors = run_convergence_batchelor(ps, nelements, U=U, \n",
    "                                    petsc_options=petsc_options, \n",
    "                                    attach_nullspace=attach_nullspace)\n",
    "    \n",
    "    return test_convergence_batchelor(ps, nelements, errors, output_basename=output_basename)\n"
   ]
  },
  {
   "cell_type": "code",
   "execution_count": null,
   "id": "cd346e83",
   "metadata": {
    "tags": [
     "main"
    ]
   },
   "outputs": [],
   "source": [
    "# List of polynomial orders to try\n",
    "ps = [1, 2]\n",
    "# List of resolutions to try\n",
    "nelements = [10, 20, 40, 80, 160]\n",
    "\n",
    "test_passes = convergence_batchelor(ps, nelements, output_basename=output_folder / 'batchelor_convergence')\n",
    "\n",
    "assert(test_passes)"
   ]
  },
  {
   "cell_type": "markdown",
   "id": "48169baa-bdad-4e69-b2e9-c99a9cf11837",
   "metadata": {},
   "source": [
    "Solving the equations on a series of successively finer meshes and comparing the resulting solution to the analytical result using the error metric\n",
    "\\begin{equation}\n",
    "e_{L^2} = \\sqrt{\\int_\\Omega (\\tilde{\\vec{v}}-\\vec{v})\\cdot(\\tilde{\\vec{v}}-\\vec{v}) dx }\n",
    "\\end{equation}\n",
    "shows linear rather than quadratic convergence, regardless of the polynomial order we select for our numerical solution.\n",
    "\n",
    "This first-order convergence rate is lower than would be expected for piecewise quadratic or piecewise cubic velocity functions (recall that the velocity is one degree higher than the specified pressure polynomial degree). This drop in convergence is caused by the boundary conditions at the origin being discontinuous, which cannot be represented in the selected function space and results in a pressure singularity at that point.  This is an example where convergence analysis demonstrates suboptimal results due to our inability to represent the solution in the selected finite element function space."
   ]
  },
  {
   "cell_type": "markdown",
   "id": "5d363a61-50e7-4577-84ee-fe6ae9ca572a",
   "metadata": {},
   "source": [
    "## Finish up"
   ]
  },
  {
   "cell_type": "markdown",
   "id": "ffa4659b-e692-419b-8545-a661eb5f81f4",
   "metadata": {},
   "source": [
    "Convert this notebook to a python script (making sure to save first)"
   ]
  },
  {
   "cell_type": "code",
   "execution_count": null,
   "id": "caccf403-d279-4221-b9ea-5822f0cc0fb9",
   "metadata": {
    "tags": [
     "ipy"
    ]
   },
   "outputs": [],
   "source": [
    "from ipylab import JupyterFrontEnd\n",
    "app = JupyterFrontEnd()\n",
    "app.commands.execute('docmanager:save')\n",
    "!jupyter nbconvert --TagRemovePreprocessor.enabled=True --TagRemovePreprocessor.remove_cell_tags=\"['main', 'ipy']\" --TemplateExporter.exclude_markdown=True --TemplateExporter.exclude_input_prompt=True --TemplateExporter.exclude_output_prompt=True --NbConvertApp.export_format=script --ClearOutputPreprocessor.enabled=True --FilesWriter.build_directory=../../python/background --NbConvertApp.output_base=batchelor 2.4b_batchelor.ipynb"
   ]
  },
  {
   "cell_type": "code",
   "execution_count": null,
   "id": "160d2191-b090-46ef-8d2d-edcbca6c2cd0",
   "metadata": {},
   "outputs": [],
   "source": []
  }
 ],
 "metadata": {
  "kernelspec": {
   "display_name": "dolfinx-env",
   "language": "python",
   "name": "python3"
  },
  "language_info": {
   "codemirror_mode": {
    "name": "ipython",
    "version": 3
   },
   "file_extension": ".py",
   "mimetype": "text/x-python",
   "name": "python",
   "nbconvert_exporter": "python",
   "pygments_lexer": "ipython3",
   "version": "3.12.3"
  }
 },
 "nbformat": 4,
 "nbformat_minor": 5
}
