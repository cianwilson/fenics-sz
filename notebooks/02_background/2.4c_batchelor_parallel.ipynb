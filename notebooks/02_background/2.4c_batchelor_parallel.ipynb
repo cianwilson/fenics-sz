{
 "cells": [
  {
   "cell_type": "markdown",
   "id": "42b684ba",
   "metadata": {},
   "source": [
    "# Batchelor Cornerflow Example\n",
    "\n",
    "Author: Cian Wilson"
   ]
  },
  {
   "cell_type": "markdown",
   "id": "1ed76dd7",
   "metadata": {},
   "source": [
    "## Description\n",
    "\n",
    "As a reminder we are seeking the approximate velocity and pressure solution of the Stokes equation\n",
    "\\begin{align}\n",
    "-\\nabla\\cdot \\left(\\frac{\\nabla\\tilde{\\vec{v}} + \\nabla\\tilde{\\vec{v}}^T}{2}\\right) + \\nabla \\tilde{P} &= 0 && \\text{in }\\Omega \\\\\n",
    "\\nabla\\cdot\\tilde{\\vec{v}} &= 0 && \\text{in }\\Omega\n",
    "\\end{align}\n",
    "in a unit square domain, $\\Omega = [0,1]\\times[0,1]$.\n",
    "\n",
    "We apply strong Dirichlet boundary conditions for velocity on all four boundaries\n",
    "\\begin{align}\n",
    "  \\tilde{\\vec{v}} &= (0,0)^T && \\text{on } \\partial\\Omega \\text{ where } x=0  \\\\\n",
    "  \\tilde{\\vec{v}} &= (U, 0)^T  && \\text{on } \\partial\\Omega \\text{ where } y=0 \\\\\n",
    "  \\tilde{\\vec{v}} &= \\vec{v} && \\text{on } \\partial\\Omega \\text{ where } x=1 \\text{ or } y = 1\n",
    "\\end{align}\n",
    "and an additional point constraint on pressure\n",
    "\\begin{align}\n",
    "  P &= 0 && \\text{at } (x, y) = (0,0)\n",
    "\\end{align}\n",
    "to remove its null space."
   ]
  },
  {
   "cell_type": "markdown",
   "id": "cfefe9ba",
   "metadata": {},
   "source": [
    "## Parallel Scaling\n",
    "\n",
    "In [the previous notebook](./2.4b_batchelor.ipynb) we tested that the error in our implementation of a Batchelor corner-flow problem in two-dimensions converged as the number of elements or the polynomial degree increased and found suboptimal results owing to the discontinuous boundary conditions imposed in this problem.  We also wish to test for parallel scaling of this problem, assessing if the simulation wall time decreases as the number of processors used to solve it is increases.\n",
    "\n",
    "Here we perform strong scaling tests on our function `solve_batchelor` from [`notebooks/02_background/2.4b_batchelor.ipynb`](./2.4b_batchelor.ipynb).  As we will see this is more challenging than in the [2D Poisson](./2.3d_poisson_2d_parallel.ipynb) case as the solution algorithm must deal with the pressure null space and the fact that we are seeking the solution to a saddle-point problem with a zero diagonal block."
   ]
  },
  {
   "cell_type": "markdown",
   "id": "de751f09",
   "metadata": {},
   "source": [
    "### Preamble\n",
    "\n",
    "We start by loading all the modules we will require."
   ]
  },
  {
   "cell_type": "code",
   "execution_count": null,
   "id": "2119c25a",
   "metadata": {},
   "outputs": [],
   "source": [
    "import sys, os\n",
    "basedir = ''\n",
    "if \"__file__\" in globals(): basedir = os.path.dirname(__file__)\n",
    "path = os.path.join(basedir, os.path.pardir, os.path.pardir, 'python')\n",
    "sys.path.append(path)\n",
    "import utils.ipp\n",
    "from background.batchelor import test_plot_convergence\n",
    "import matplotlib.pyplot as pl\n",
    "import pathlib\n",
    "output_folder = pathlib.Path(os.path.join(basedir, \"output\"))\n",
    "output_folder.mkdir(exist_ok=True, parents=True)"
   ]
  },
  {
   "cell_type": "markdown",
   "id": "c59cc057",
   "metadata": {},
   "source": [
    "### Implementation\n",
    "\n",
    "We perform the strong parallel scaling test using a utility function (from [`python/utils/ipp.py`](../../python/utils/ipp.py)) that loops over a list of the number of processors calling our function for a given number of elements, `ne`, and polynomial order `p`.  It runs our function `solve_batchelor` a specified `number` of times and evaluates and returns the time taken for each of a number of requested `steps`."
   ]
  },
  {
   "cell_type": "code",
   "execution_count": null,
   "id": "cd6c94d1",
   "metadata": {},
   "outputs": [],
   "source": [
    "# the list of the number of processors we will use\n",
    "nprocs_scale = [1, 2, 4]\n",
    "\n",
    "# the number of elements to solve the problem on\n",
    "ne = 256\n",
    "\n",
    "# the polynomial degree of our pressure field\n",
    "p = 1\n",
    "\n",
    "# perform the calculation a set number of times\n",
    "number = 10\n",
    "\n",
    "# We are interested in the time to create the mesh,\n",
    "# declare the functions, assemble the problem and solve it.\n",
    "# From our implementation in `solve_poisson_2d` it is also\n",
    "# possible to request the time to declare the Dirichlet and\n",
    "# Neumann boundary conditions and the forms.\n",
    "steps = [\n",
    "          'Mesh', 'Function spaces',\n",
    "          'Assemble', 'Solve',\n",
    "         ]\n",
    "\n",
    "# declare a dictionary to store the times each step takes\n",
    "maxtimes = {}"
   ]
  },
  {
   "cell_type": "markdown",
   "id": "64e07621",
   "metadata": {},
   "source": [
    "#### Direct\n",
    "\n",
    "To start with we test the scaling with the default solver options, which is a direct LU decomposition using the MUMPS library implementation."
   ]
  },
  {
   "cell_type": "code",
   "execution_count": null,
   "id": "bcba7fba-4cb9-412d-9284-7e2c9946ec73",
   "metadata": {},
   "outputs": [],
   "source": [
    "maxtimes['Direct'] = utils.ipp.profile_parallel(nprocs_scale, steps, path, 'background.batchelor', 'solve_batchelor', \n",
    "                                                ne, p, number=number,\n",
    "                                                output_filename=output_folder / 'batchelor_scaling_direct.png')"
   ]
  },
  {
   "cell_type": "code",
   "execution_count": null,
   "id": "21591bf2",
   "metadata": {},
   "outputs": [],
   "source": [
    "# the list of the number of processors to test the convergence on\n",
    "nprocs_conv = [2,]\n",
    "# List of polynomial orders to try\n",
    "ps = [1, 2]\n",
    "# List of resolutions to try\n",
    "nelements = [10, 20, 40, 80]"
   ]
  },
  {
   "cell_type": "code",
   "execution_count": null,
   "id": "676f8faf",
   "metadata": {},
   "outputs": [],
   "source": [
    "errors_l2_all = utils.ipp.run_parallel(nprocs_conv, path, 'background.batchelor', 'convergence_errors', ps, nelements)\n",
    "\n",
    "for errors_l2 in errors_l2_all:\n",
    "    test_passes = test_plot_convergence(ps, nelements, errors_l2)\n",
    "    assert(test_passes)"
   ]
  },
  {
   "cell_type": "code",
   "execution_count": null,
   "id": "c4c31a5a",
   "metadata": {},
   "outputs": [],
   "source": []
  }
 ],
 "metadata": {
  "kernelspec": {
   "display_name": "dolfinx-env",
   "language": "python",
   "name": "python3"
  },
  "language_info": {
   "codemirror_mode": {
    "name": "ipython",
    "version": 3
   },
   "file_extension": ".py",
   "mimetype": "text/x-python",
   "name": "python",
   "nbconvert_exporter": "python",
   "pygments_lexer": "ipython3",
   "version": "3.12.3"
  }
 },
 "nbformat": 4,
 "nbformat_minor": 5
}
