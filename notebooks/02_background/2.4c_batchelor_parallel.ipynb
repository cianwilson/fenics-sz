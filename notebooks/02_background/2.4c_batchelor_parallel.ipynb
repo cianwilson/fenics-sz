{
 "cells": [
  {
   "cell_type": "markdown",
   "id": "42b684ba",
   "metadata": {},
   "source": [
    "# Batchelor Cornerflow Example\n",
    "\n",
    "Authors: Cian Wilson"
   ]
  },
  {
   "cell_type": "code",
   "execution_count": null,
   "id": "e55862d1",
   "metadata": {},
   "outputs": [],
   "source": [
    "import ipyparallel as ipp\n",
    "import sys, os"
   ]
  },
  {
   "cell_type": "code",
   "execution_count": null,
   "id": "9d2afab5",
   "metadata": {},
   "outputs": [],
   "source": [
    "path = os.path.join(os.path.pardir, os.path.pardir, 'python')\n",
    "sys.path.append(path)\n",
    "import utils\n",
    "from background.batchelor import test_convergence_batchelor"
   ]
  },
  {
   "cell_type": "code",
   "execution_count": null,
   "id": "96d0511f",
   "metadata": {},
   "outputs": [],
   "source": [
    "labels = [\n",
    "          'Mesh', 'Functions',\n",
    "          #'Dirichlet BCs', 'Forms',\n",
    "          'Assemble', 'Solve',\n",
    "         ]\n",
    "number = 2\n",
    "nprocs = [1, 2, 3, 4]"
   ]
  },
  {
   "cell_type": "code",
   "execution_count": null,
   "id": "64d62cd5",
   "metadata": {},
   "outputs": [],
   "source": [
    "ne = 256\n",
    "p = 1\n",
    "petsc_options=None\n",
    "\n",
    "_ = utils.profile_parallel(nprocs, labels, path, 'background.batchelor', 'solve_batchelor', \n",
    "                           ne, p, number=number, petsc_options=petsc_options)\n"
   ]
  },
  {
   "cell_type": "code",
   "execution_count": null,
   "id": "14fe8702",
   "metadata": {},
   "outputs": [],
   "source": [
    "# List of polynomial orders to try\n",
    "ps = [1,2]\n",
    "# List of resolutions to try\n",
    "nelements = [10, 20, 40, 80]\n",
    "\n",
    "errors_l2_all = utils.run_parallel([2,], path, 'background.batchelor', 'run_convergence_batchelor', \n",
    "                                   ps, nelements, petsc_options=petsc_options, attach_nullspace=False)\n",
    "\n",
    "for errors in errors_l2_all:\n",
    "    test_convergence_batchelor(ps, nelements, errors)"
   ]
  },
  {
   "cell_type": "code",
   "execution_count": null,
   "id": "403915dd",
   "metadata": {},
   "outputs": [],
   "source": [
    "ne = 256\n",
    "p = 1\n",
    "petsc_options = {'ksp_type':'minres', \n",
    "                 'pc_type':'fieldsplit', \n",
    "                 'pc_fieldsplit_type': 'additive',\n",
    "                 'ksp_view':None,\n",
    "                 'fieldsplit_v_ksp_type':'preonly',\n",
    "                 'fieldsplit_v_pc_type':'gamg',\n",
    "                 'fieldsplit_p_ksp_type':'preonly',\n",
    "                 'fieldsplit_p_pc_type':'jacobi'}\n",
    "\n",
    "_ = utils.profile_parallel(nprocs, labels, path, 'background.batchelor', 'solve_batchelor', \n",
    "                           ne, p, number=number, petsc_options=petsc_options)\n"
   ]
  },
  {
   "cell_type": "code",
   "execution_count": null,
   "id": "82671ba4",
   "metadata": {},
   "outputs": [],
   "source": [
    "# List of polynomial orders to try\n",
    "ps = [1,2]\n",
    "# List of resolutions to try\n",
    "nelements = [10, 20, 40, 80]\n",
    "\n",
    "errors_l2_all = utils.run_parallel([2,], path, 'background.batchelor', 'run_convergence_batchelor', \n",
    "                                   ps, nelements, petsc_options=petsc_options)\n",
    "\n",
    "for errors in errors_l2_all:\n",
    "    test_convergence_batchelor(ps, nelements, errors)"
   ]
  },
  {
   "cell_type": "code",
   "execution_count": null,
   "id": "aedae72e",
   "metadata": {},
   "outputs": [],
   "source": [
    "ne = 256\n",
    "p = 1\n",
    "petsc_options = {'ksp_type':'minres', \n",
    "                 'pc_type':'fieldsplit', \n",
    "                 'pc_fieldsplit_type': 'additive',\n",
    "                 'ksp_view':None,\n",
    "                 'fieldsplit_v_ksp_type':'preonly',\n",
    "                 'fieldsplit_v_pc_type':'gamg',\n",
    "                 'fieldsplit_p_ksp_type':'preonly',\n",
    "                 'fieldsplit_p_pc_type':'jacobi'}\n",
    "\n",
    "_ = utils.profile_parallel(nprocs, labels, path, 'background.batchelor', 'solve_batchelor', \n",
    "                           ne, p, number=number, petsc_options=petsc_options, attach_nullspace=True)\n"
   ]
  },
  {
   "cell_type": "code",
   "execution_count": null,
   "id": "ef7d0928",
   "metadata": {},
   "outputs": [],
   "source": [
    "# List of polynomial orders to try\n",
    "ps = [1,2]\n",
    "# List of resolutions to try\n",
    "nelements = [10, 20, 40, 80]\n",
    "\n",
    "errors_l2_all = utils.run_parallel([2,], path, 'background.batchelor', 'run_convergence_batchelor', \n",
    "                                   ps, nelements, petsc_options=petsc_options, attach_nullspace=True)\n",
    "\n",
    "for errors in errors_l2_all:\n",
    "    test_convergence_batchelor(ps, nelements, errors)"
   ]
  },
  {
   "cell_type": "code",
   "execution_count": null,
   "id": "95a6f417",
   "metadata": {},
   "outputs": [],
   "source": []
  },
  {
   "cell_type": "code",
   "execution_count": null,
   "id": "f95446d2",
   "metadata": {},
   "outputs": [],
   "source": []
  },
  {
   "cell_type": "code",
   "execution_count": null,
   "id": "bc8bef43",
   "metadata": {},
   "outputs": [],
   "source": []
  },
  {
   "cell_type": "code",
   "execution_count": null,
   "id": "c4c31a5a",
   "metadata": {},
   "outputs": [],
   "source": []
  }
 ],
 "metadata": {
  "kernelspec": {
   "display_name": "dolfinx-env",
   "language": "python",
   "name": "python3"
  },
  "language_info": {
   "codemirror_mode": {
    "name": "ipython",
    "version": 3
   },
   "file_extension": ".py",
   "mimetype": "text/x-python",
   "name": "python",
   "nbconvert_exporter": "python",
   "pygments_lexer": "ipython3",
   "version": "3.12.3"
  }
 },
 "nbformat": 4,
 "nbformat_minor": 5
}
