{
 "cells": [
  {
   "cell_type": "markdown",
   "id": "42b684ba",
   "metadata": {},
   "source": [
    "# Batchelor Cornerflow Example\n",
    "\n",
    "Author: Cian Wilson"
   ]
  },
  {
   "cell_type": "markdown",
   "id": "ab0a4b03-df32-4ba7-82f2-8506d8083717",
   "metadata": {
    "jp-MarkdownHeadingCollapsed": true
   },
   "source": [
    "## Description\n",
    "\n",
    "As a reminder we are seeking the approximate velocity and pressure solution of the Stokes equation\n",
    "\\begin{align}\n",
    "-\\nabla\\cdot \\left(\\frac{\\nabla\\tilde{\\vec{v}} + \\nabla\\tilde{\\vec{v}}^T}{2}\\right) + \\nabla \\tilde{P} &= 0 && \\text{in }\\Omega \\\\\n",
    "\\nabla\\cdot\\tilde{\\vec{v}} &= 0 && \\text{in }\\Omega\n",
    "\\end{align}\n",
    "in a unit square domain, $\\Omega = [0,1]\\times[0,1]$.\n",
    "\n",
    "We apply strong Dirichlet boundary conditions for velocity on all four boundaries\n",
    "\\begin{align}\n",
    "  \\tilde{\\vec{v}} &= (0,0)^T && \\text{on } \\partial\\Omega \\text{ where } x=0  \\\\\n",
    "  \\tilde{\\vec{v}} &= (U, 0)^T  && \\text{on } \\partial\\Omega \\text{ where } y=0 \\\\\n",
    "  \\tilde{\\vec{v}} &= \\vec{v} && \\text{on } \\partial\\Omega \\text{ where } x=1 \\text{ or } y = 1\n",
    "\\end{align}\n",
    "and a constraint on the pressure to remove its null space, e.g. by applying a reference point\n",
    "\\begin{align}\n",
    "  P &= 0 && \\text{at } (x, y) = (0,0)\n",
    "\\end{align}"
   ]
  },
  {
   "cell_type": "markdown",
   "id": "cfefe9ba",
   "metadata": {},
   "source": [
    "## Solver Requirements\n",
    "\n",
    "In [the previous notebook](./2.4b_batchelor_parallel.ipynb) we found that our default solution algorithm didn't scale well in parallel.  In the [Poisson 2D](./2.3d_poisson_2d_parallel.ipynb) we fixed this by switching to an iterative solver.  To be able to do that for the Stokes system we need a solver that can\n",
    " 1. precondition a saddle point system with a zero pressure block\n",
    " 2. precondition each block of the matrix individually to get improved convergence\n",
    " 3. deal with the pressure null space\n",
    "\n",
    "These requirements mean that we must modify our implementation of our Batchelor solution algorithm.  We choose to do this using a PETSc [MATNEST](https://petsc.org/release/manualpages/Mat/MATNEST/) matrix that most easily and efficiently allows us to treat each block of the coupled matrix separately.  We additionally add the option to remove the pressure null space at each iteration of the iterative solver rather than imposing a reference point on the pressure solution.  For alternative setups for solving the Stokes system we recommend looking at the [Stokes demo](https://github.com/FEniCS/dolfinx/blob/main/python/demo/demo_stokes.py) from FEniCS."
   ]
  },
  {
   "cell_type": "markdown",
   "id": "de751f09",
   "metadata": {},
   "source": [
    "### Preamble\n",
    "\n",
    "We start by loading all the modules we will require."
   ]
  },
  {
   "cell_type": "code",
   "execution_count": null,
   "id": "2119c25a",
   "metadata": {},
   "outputs": [],
   "source": [
    "from mpi4py import MPI\n",
    "import dolfinx as df\n",
    "import dolfinx.fem.petsc\n",
    "from petsc4py import PETSc\n",
    "import ufl\n",
    "import sys, os\n",
    "basedir = ''\n",
    "if \"__file__\" in globals(): basedir = os.path.dirname(__file__)\n",
    "path = os.path.join(basedir, os.path.pardir, os.path.pardir, 'python')\n",
    "sys.path.append(path)\n",
    "import utils.ipp\n",
    "import utils.plot\n",
    "from background.batchelor import (unit_square_mesh, \n",
    "                                  functionspaces, \n",
    "                                  velocity_bcs, \n",
    "                                  pressure_bcs,\n",
    "                                  stokes_weakforms,\n",
    "                                  dummy_pressure_weakform,\n",
    "                                  evaluate_error,\n",
    "                                  test_plot_convergence)\n",
    "import pathlib\n",
    "output_folder = pathlib.Path(os.path.join(basedir, \"output\"))\n",
    "output_folder.mkdir(exist_ok=True, parents=True)"
   ]
  },
  {
   "attachments": {},
   "cell_type": "markdown",
   "id": "062f33fb-d309-4b5e-a615-2b3cf337039f",
   "metadata": {},
   "source": [
    "### Implementation\n",
    "\n",
    "Our modifications to the solution strategy require us to:\n",
    "\n",
    " 1. describe a weak form for a pressure pre-conditioner matrix, for which we use a pressure mass matrix - this pre-conditioner matrix has to be different to the coupled system matrix owing to the zero block in the saddle-point system"
   ]
  },
  {
   "cell_type": "code",
   "execution_count": null,
   "id": "5104fe8c-e067-42dc-89d2-87396ca17e94",
   "metadata": {},
   "outputs": [],
   "source": [
    "def pressure_preconditioner_weakform(V_p):\n",
    "    \"\"\"\n",
    "    A python function to return a weak form for the pressure preconditioner of \n",
    "    the Stokes problem.\n",
    "    Parameters:\n",
    "    * V_p - pressure function space\n",
    "    Returns:\n",
    "    * M   - a bilinear form\n",
    "    \"\"\"  \n",
    "    with df.common.Timer(\"Forms\"):\n",
    "        # Grab the mesh\n",
    "        mesh = V_p.mesh\n",
    "\n",
    "        # Define the trial function for the pressure\n",
    "        p_a = ufl.TrialFunction(V_p)\n",
    "        # Define the test function for the pressure\n",
    "        p_t = ufl.TestFunction(V_p)\n",
    "\n",
    "        # Define the integrals to be assembled into a pressure mass matrix\n",
    "        M = df.fem.form(p_t*p_a*ufl.dx)\n",
    "    \n",
    "    return M"
   ]
  },
  {
   "cell_type": "markdown",
   "id": "c60c7efc-378b-4a28-ace4-a577dc5ec23f",
   "metadata": {},
   "source": [
    " 2. define a new assembly function to return a nested matrix and (optionally) a preconditioner matrix"
   ]
  },
  {
   "cell_type": "code",
   "execution_count": null,
   "id": "7a682698-e808-4a9e-a557-cf6c91b1d0be",
   "metadata": {},
   "outputs": [],
   "source": [
    "def assemble_nest(S, f, bcs, M=None, attach_nullspace=False, attach_nearnullspace=True):\n",
    "    \"\"\"\n",
    "    A python function to assemble the forms into a nested matrix and a vector.\n",
    "    Parameters:\n",
    "    * S   - Stokes form\n",
    "    * f   - RHS form\n",
    "    * bcs - list of boundary conditions\n",
    "    * M   - pressure mass matrix form (defaults to None)\n",
    "    * attach_nullspace - attach the pressure nullspace to the matrix (defaults to False)\n",
    "    * attach_nearnullspace - attach the possible (near) velocity nullspaces to the preconditioning matrix (defaults to True)\n",
    "    Returns:\n",
    "    * A   - a matrix\n",
    "    * B   - preconditioner matrix (None if P is None)\n",
    "    * b   - a vector\n",
    "    \"\"\"  \n",
    "    with df.common.Timer(\"Assemble\"):\n",
    "        # assemble the matrix\n",
    "        A = df.fem.petsc.assemble_matrix_nest(S, bcs=bcs)\n",
    "        A.assemble()\n",
    "        # set a flag to indicate that the velocity block is\n",
    "        # symmetric positive definite (SPD)\n",
    "        A00 = A.getNestSubMatrix(0, 0)\n",
    "        A00.setOption(PETSc.Mat.Option.SPD, True)\n",
    "\n",
    "        # assemble the RHS vector\n",
    "        b = df.fem.petsc.assemble_vector_nest(f)\n",
    "        # apply the boundary conditions\n",
    "        df.fem.petsc.apply_lifting_nest(b, S, bcs=bcs)\n",
    "        # update the ghost values\n",
    "        for b_sub in b.getNestSubVecs():\n",
    "            b_sub.ghostUpdate(addv=PETSc.InsertMode.ADD, mode=PETSc.ScatterMode.REVERSE)\n",
    "        bcs_by_block = df.fem.bcs_by_block(df.fem.extract_function_spaces(f), bcs)\n",
    "        df.fem.petsc.set_bc_nest(b, bcs_by_block)\n",
    "\n",
    "        # assemble the pre-conditioner (if M was supplied)\n",
    "        B = None\n",
    "        if M is not None:\n",
    "            BM = df.fem.petsc.assemble_matrix(M, bcs=bcs_by_block[1])\n",
    "            BM.assemble()\n",
    "            B = PETSc.Mat().createNest([[A.getNestSubMatrix(0, 0), None], [None, BM]])\n",
    "\n",
    "            # set the SPD flag on the diagonal blocks of the preconditioner\n",
    "            B00, B11 = B.getNestSubMatrix(0, 0), B.getNestSubMatrix(1, 1)\n",
    "            B00.setOption(PETSc.Mat.Option.SPD, True)\n",
    "            B11.setOption(PETSc.Mat.Option.SPD, True)\n",
    "            \n",
    "            if attach_nearnullspace:\n",
    "                V_v_cpp = df.fem.extract_function_spaces(f)[0]\n",
    "                \n",
    "                bs = V_v_cpp.dofmap.index_map_bs\n",
    "                length0 = V_v_cpp.dofmap.index_map.size_local\n",
    "                ns_basis = [df.la.vector(V_v_cpp.dofmap.index_map, bs=bs, dtype=PETSc.ScalarType) for i in range(3)]\n",
    "                ns_arrays = [ns_b.array for ns_b in ns_basis]\n",
    "                \n",
    "                dofs = [V_v_cpp.sub([i]).dofmap.map().flatten() for i in range(bs)]\n",
    "                \n",
    "                # Set the three translational rigid body modes\n",
    "                for i in range(2):\n",
    "                    ns_arrays[i][dofs[i]] = 1.0\n",
    "                \n",
    "                x = V_v_cpp.tabulate_dof_coordinates()\n",
    "                dofs_block = V_v_cpp.dofmap.map().flatten()\n",
    "                x0, x1 = x[dofs_block, 0], x[dofs_block, 1]\n",
    "                ns_arrays[2][dofs[0]] = -x1\n",
    "                ns_arrays[2][dofs[1]] = x0\n",
    "                \n",
    "                df.la.orthonormalize(ns_basis)\n",
    "                \n",
    "                ns_basis_petsc = [PETSc.Vec().createWithArray(ns_b[: bs * length0], bsize=bs, comm=V_v_cpp.mesh.comm) for ns_b in ns_arrays]\n",
    "                nns = PETSc.NullSpace().create(vectors=ns_basis_petsc)\n",
    "                B00.setNearNullSpace(nns)\n",
    "\n",
    "        if attach_nullspace:\n",
    "            # set up a null space vector indicating the null space \n",
    "            # in the pressure DOFs\n",
    "            null_vec = df.fem.petsc.create_vector_nest(f)\n",
    "            null_vecs = null_vec.getNestSubVecs()\n",
    "            null_vecs[0].set(0.0)\n",
    "            null_vecs[1].set(1.0)\n",
    "            null_vec.normalize()\n",
    "            nsp = PETSc.NullSpace().create(vectors=[null_vec])\n",
    "            # test the null space is actually a null space\n",
    "            assert(nsp.test(A))\n",
    "            A.setNullSpace(nsp)\n",
    "\n",
    "    with df.common.Timer(\"Cleanup\"):\n",
    "        if attach_nullspace: null_vec.destroy()\n",
    "        if M is not None and attach_nearnullspace:\n",
    "            for ns_b_p in ns_basis_petsc: ns_b_p.destroy()\n",
    "            nns.destroy()\n",
    "        \n",
    "    return A, B, b"
   ]
  },
  {
   "cell_type": "markdown",
   "id": "4ee9dc68-bb5b-434c-a7ec-0fb6b5f2c0ff",
   "metadata": {},
   "source": [
    " 3. define a new solve function to solve a nested matrix allowing preconditioning options to be set on each block using a \"fieldsplit\" preconditioner"
   ]
  },
  {
   "cell_type": "code",
   "execution_count": null,
   "id": "2ff89c62-fa50-4bea-a269-c33014f5d73f",
   "metadata": {},
   "outputs": [],
   "source": [
    "def solve_nest(A, b, V_v, V_p, B=None):\n",
    "    \"\"\"\n",
    "    A python function to solve a nested matrix vector system.\n",
    "    Parameters:\n",
    "    * A   - matrix\n",
    "    * b   - vector\n",
    "    * V_v - velocity function space\n",
    "    * V_p - pressure function space\n",
    "    * B   - preconditioner matrix (defaults to None)\n",
    "    Returns:\n",
    "    * v_i - velocity solution function\n",
    "    * p_i - pressure solution function\n",
    "    \"\"\"  \n",
    "\n",
    "    # retrieve the petsc options\n",
    "    opts = PETSc.Options()\n",
    "    pc_type = opts.getString('pc_type')\n",
    "\n",
    "    with df.common.Timer(\"Solve\"):\n",
    "        solver = PETSc.KSP().create(MPI.COMM_WORLD)\n",
    "        solver.setOperators(A, B)\n",
    "        solver.setFromOptions()\n",
    "\n",
    "        # a fieldsplit preconditioner allows us to precondition\n",
    "        # each block of the matrix independently but we first\n",
    "        # have to set the index sets (ISs) of the DOFs on which \n",
    "        # each block is defined\n",
    "        if pc_type == \"fieldsplit\":\n",
    "            iss = B.getNestISs()\n",
    "            solver.getPC().setFieldSplitIS((\"v\", iss[0][0]), (\"p\", iss[0][1]))\n",
    "\n",
    "        # Set up the solution functions\n",
    "        v_i = df.fem.Function(V_v)\n",
    "        p_i = df.fem.Function(V_p)\n",
    "\n",
    "        # Create a solution vector and solve the system\n",
    "        x = PETSc.Vec().createNest([v_i.x.petsc_vec, p_i.x.petsc_vec])\n",
    "        solver.solve(b, x)\n",
    "\n",
    "        # Update the ghost values\n",
    "        v_i.x.scatter_forward()\n",
    "        p_i.x.scatter_forward()\n",
    "    \n",
    "    with df.common.Timer(\"Cleanup\"):\n",
    "        solver.destroy()\n",
    "        x.destroy()\n",
    "        if pc_type == \"fieldsplit\":\n",
    "            for isl in iss[0]: isl.destroy()\n",
    "\n",
    "    return v_i, p_i"
   ]
  },
  {
   "cell_type": "markdown",
   "id": "7dcdc444-3290-44dd-a910-023af19d28ea",
   "metadata": {},
   "source": [
    "Finally we set up a python function, `solve_batchelor_nest`, that brings  these steps together with the unchanged ones from `solver_batchelor`."
   ]
  },
  {
   "cell_type": "code",
   "execution_count": null,
   "id": "d98fc10f-11b0-4bd6-be3b-8bff31204a2d",
   "metadata": {},
   "outputs": [],
   "source": [
    "def solve_batchelor_nest(ne, p=1, U=1, petsc_options=None, attach_nullspace=False, attach_nearnullspace=True):\n",
    "    \"\"\"\n",
    "    A python function to solve a two-dimensional corner flow \n",
    "    problem on a unit square domain.\n",
    "    Parameters:\n",
    "    * ne - number of elements in each dimension\n",
    "    * p  - polynomial order of the pressure solution (defaults to 1)\n",
    "    * U  - convergence speed of lower boundary (defaults to 1)\n",
    "    * petsc_options - a dictionary of petsc options to pass to the solver \n",
    "                      (defaults to an LU direct solver using the MUMPS library)\n",
    "    * attach_nullspace - flag indicating if the null space should be removed \n",
    "                         iteratively rather than using a pressure reference point\n",
    "                         (defaults to False)\n",
    "    * attach_nearnullspace - flag indicating if the preconditioner should be made\n",
    "                             aware of the possible (near) nullspaces in the velocity\n",
    "                             (defaults to True)\n",
    "    Returns:\n",
    "    * v_i - velocity solution function\n",
    "    * p_i - pressure solution function\n",
    "    \"\"\"\n",
    "\n",
    "    # 0. Set some default PETSc options\n",
    "    if petsc_options is None:\n",
    "        petsc_options = {\"ksp_type\": \"preonly\", \\\n",
    "                         \"pc_type\": \"lu\",\n",
    "                         \"pc_factor_mat_solver_type\": \"mumps\"}\n",
    "    # and load them into the PETSc options system\n",
    "    opts = PETSc.Options()\n",
    "    for k, v in petsc_options.items(): opts[k] = v\n",
    "    pc_type = opts.getString('pc_type')\n",
    "    \n",
    "    # 1. Set up a mesh\n",
    "    mesh = unit_square_mesh(ne)\n",
    "    # 2. Declare the appropriate function spaces\n",
    "    V_v, V_p = functionspaces(mesh, p)\n",
    "    # 3. Collect all the boundary conditions into a list\n",
    "    bcs  = velocity_bcs(V_v, U=U)\n",
    "    #    We only require the pressure bc if we're not attaching the nullspace\n",
    "    if not attach_nullspace: bcs += pressure_bcs(V_p)\n",
    "    # 4. Declare the weak forms\n",
    "    S, f = stokes_weakforms(V_v, V_p)\n",
    "    #    If not attaching the nullspace, include a dummy zero pressure mass \n",
    "    #    matrix to allow us to set a pressure constraint\n",
    "    if not attach_nullspace: S[1][1] = dummy_pressure_weakform(V_p)\n",
    "    #    If we're not using a direct LU method we need to set up\n",
    "    #    a weak form for the pressure preconditioner block (also a \n",
    "    #    pressure mass matrix\n",
    "    M = None\n",
    "    if pc_type != \"lu\": M = pressure_preconditioner_weakform(V_p)\n",
    "    # 5. Assemble the matrix equation (now using _nest)\n",
    "    A, B, b = assemble_nest(S, f, bcs, M=M, attach_nullspace=attach_nullspace, attach_nearnullspace=attach_nearnullspace)\n",
    "    # 6. Solve the matrix equation (now using _nest)\n",
    "    v_i, p_i = solve_nest(A, b, V_v, V_p, B=B)\n",
    "    \n",
    "    with df.common.Timer(\"Cleanup\"):\n",
    "        A.destroy()\n",
    "        if B is not None: B.destroy()\n",
    "        b.destroy()\n",
    "\n",
    "    return v_i, p_i"
   ]
  },
  {
   "cell_type": "markdown",
   "id": "c4dd5ca1-c865-44fb-85ff-60748ee62162",
   "metadata": {},
   "source": [
    "Let's check that we can now numerically solve the equations using the new function.  With the default options we should still be using a direct LU solver, just with a new nested matrix format."
   ]
  },
  {
   "cell_type": "code",
   "execution_count": null,
   "id": "4115859d-4284-4e55-9594-5bf625b3d356",
   "metadata": {
    "tags": [
     "main"
    ]
   },
   "outputs": [],
   "source": [
    "ne = 10\n",
    "p = 1\n",
    "U = 1\n",
    "\n",
    "v, p = solve_batchelor_nest(ne, p=p, U=U)\n",
    "v.name = \"Velocity\""
   ]
  },
  {
   "cell_type": "markdown",
   "id": "37c372db-92da-4d14-89d6-71d07724585e",
   "metadata": {},
   "source": [
    "And visualize the result."
   ]
  },
  {
   "cell_type": "code",
   "execution_count": null,
   "id": "8816a208-8e20-425e-b5f1-935a567d06aa",
   "metadata": {
    "tags": [
     "main"
    ]
   },
   "outputs": [],
   "source": [
    "plotter = utils.plot.plot_mesh(v.function_space.mesh, gather=True, show_edges=True, style=\"wireframe\")\n",
    "utils.plot.plot_vector_glyphs(v, plotter=plotter, gather=True, factor=0.3)\n",
    "utils.plot.plot_show(plotter)\n",
    "utils.plot.plot_save(plotter, output_folder / 'batchelor_solution_nest.png')"
   ]
  },
  {
   "cell_type": "markdown",
   "id": "71d91810-2ff8-4398-9eca-2923b67b417c",
   "metadata": {},
   "source": [
    "We can also perform a convergence test to check the solution is still correct."
   ]
  },
  {
   "cell_type": "code",
   "execution_count": null,
   "id": "b82aaa84-55fc-49d7-9ae8-f3b71bed8990",
   "metadata": {},
   "outputs": [],
   "source": [
    "def convergence_errors_nest(ps, nelements, U=1, petsc_options=None, attach_nullspace=False, attach_nearnullspace=True):\n",
    "    \"\"\"\n",
    "    A python function to run a convergence test of a two-dimensional corner flow \n",
    "    problem on a unit square domain.\n",
    "    Parameters:\n",
    "    * ps        - a list of pressure polynomial orders to test\n",
    "    * nelements - a list of the number of elements to test\n",
    "    * U         - convergence speed of lower boundary (defaults to 1)\n",
    "    * petsc_options - a dictionary of petsc options to pass to the solver \n",
    "                      (defaults to an LU direct solver using the MUMPS library)\n",
    "    * attach_nullspace - whether to remove the null space iteratively (defaults to False)\n",
    "    Returns:\n",
    "    * errors_l2 - a list of l2 errors\n",
    "    \"\"\"\n",
    "    errors_l2 = []\n",
    "    # Loop over the polynomial orders\n",
    "    for p in ps:\n",
    "        # Accumulate the errors\n",
    "        errors_l2_p = []\n",
    "        # Loop over the resolutions\n",
    "        for ne in nelements:\n",
    "            # Solve the 2D Batchelor corner flow problem\n",
    "            v_i, p_i = solve_batchelor_nest(ne, p=p, U=U, \n",
    "                                            petsc_options=petsc_options,\n",
    "                                            attach_nullspace=attach_nullspace,\n",
    "                                            attach_nearnullspace=attach_nearnullspace)\n",
    "            # Evaluate the error in the approximate solution\n",
    "            l2error = evaluate_error(v_i, U=U)\n",
    "            # Print to screen and save if on rank 0\n",
    "            if MPI.COMM_WORLD.rank == 0:\n",
    "                print('p={}, ne={}, l2error={}'.format(p, ne, l2error))\n",
    "            errors_l2_p.append(l2error)\n",
    "        if MPI.COMM_WORLD.rank == 0:\n",
    "            print('*************************************************')\n",
    "        errors_l2.append(errors_l2_p)\n",
    "    \n",
    "    return errors_l2"
   ]
  },
  {
   "cell_type": "code",
   "execution_count": null,
   "id": "b1a7ab2e-9bec-4574-bd07-30b4a11b1047",
   "metadata": {
    "tags": [
     "main"
    ]
   },
   "outputs": [],
   "source": [
    "# List of polynomial orders to try\n",
    "ps = [1, 2]\n",
    "# List of resolutions to try\n",
    "nelements = [10, 20, 40, 80, 160]"
   ]
  },
  {
   "cell_type": "code",
   "execution_count": null,
   "id": "a7681999-7b32-4c2f-ba22-1fee0c8c6ba8",
   "metadata": {
    "tags": [
     "main"
    ]
   },
   "outputs": [],
   "source": [
    "errors_l2 = convergence_errors_nest(ps, nelements)\n",
    "\n",
    "test_passes = test_plot_convergence(ps, nelements, errors_l2,\n",
    "                                    output_basename=output_folder / 'batchelor_convergence_nest')\n",
    "\n",
    "assert(test_passes)"
   ]
  },
  {
   "attachments": {},
   "cell_type": "markdown",
   "id": "ad794b0d-fc8c-41d5-b12b-68dc4e372f8b",
   "metadata": {},
   "source": [
    "## Finish up\n",
    "\n",
    "Convert this notebook to a python module (saving first and ignoring markdown cells and those tagged as \"main\" or \"ipy\")."
   ]
  },
  {
   "cell_type": "code",
   "execution_count": null,
   "id": "c1c366c4-c134-4f70-bc39-5c534d713676",
   "metadata": {
    "tags": [
     "ipy"
    ]
   },
   "outputs": [],
   "source": [
    "from ipylab import JupyterFrontEnd\n",
    "app = JupyterFrontEnd()\n",
    "app.commands.execute('docmanager:save')\n",
    "!jupyter nbconvert --TagRemovePreprocessor.enabled=True --TagRemovePreprocessor.remove_cell_tags=\"['main', 'ipy']\" --TemplateExporter.exclude_markdown=True --TemplateExporter.exclude_input_prompt=True --TemplateExporter.exclude_output_prompt=True --NbConvertApp.export_format=script --ClearOutputPreprocessor.enabled=True --FilesWriter.build_directory=../../python/background --NbConvertApp.output_base=batchelor_nest 2.4d_batchelor_nest.ipynb"
   ]
  },
  {
   "cell_type": "code",
   "execution_count": null,
   "id": "9677043a-5d60-4833-87e3-18394dd5d40f",
   "metadata": {},
   "outputs": [],
   "source": []
  }
 ],
 "metadata": {
  "kernelspec": {
   "display_name": "dolfinx-env",
   "language": "python",
   "name": "python3"
  },
  "language_info": {
   "codemirror_mode": {
    "name": "ipython",
    "version": 3
   },
   "file_extension": ".py",
   "mimetype": "text/x-python",
   "name": "python",
   "nbconvert_exporter": "python",
   "pygments_lexer": "ipython3",
   "version": "3.12.3"
  }
 },
 "nbformat": 4,
 "nbformat_minor": 5
}
