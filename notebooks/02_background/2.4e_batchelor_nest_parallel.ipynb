{
 "cells": [
  {
   "cell_type": "markdown",
   "id": "42b684ba",
   "metadata": {},
   "source": [
    "# Batchelor Cornerflow Example\n",
    "\n",
    "Author: Cian Wilson"
   ]
  },
  {
   "cell_type": "markdown",
   "id": "0419ee73-1291-4e12-8641-425a71e331c1",
   "metadata": {
    "jp-MarkdownHeadingCollapsed": true
   },
   "source": [
    "## Description\n",
    "\n",
    "As a reminder we are seeking the approximate velocity and pressure solution of the Stokes equation\n",
    "\\begin{align}\n",
    "-\\nabla\\cdot \\left(\\frac{\\nabla\\tilde{\\vec{v}} + \\nabla\\tilde{\\vec{v}}^T}{2}\\right) + \\nabla \\tilde{P} &= 0 && \\text{in }\\Omega \\\\\n",
    "\\nabla\\cdot\\tilde{\\vec{v}} &= 0 && \\text{in }\\Omega\n",
    "\\end{align}\n",
    "in a unit square domain, $\\Omega = [0,1]\\times[0,1]$.\n",
    "\n",
    "We apply strong Dirichlet boundary conditions for velocity on all four boundaries\n",
    "\\begin{align}\n",
    "  \\tilde{\\vec{v}} &= (0,0)^T && \\text{on } \\partial\\Omega \\text{ where } x=0  \\\\\n",
    "  \\tilde{\\vec{v}} &= (U, 0)^T  && \\text{on } \\partial\\Omega \\text{ where } y=0 \\\\\n",
    "  \\tilde{\\vec{v}} &= \\vec{v} && \\text{on } \\partial\\Omega \\text{ where } x=1 \\text{ or } y = 1\n",
    "\\end{align}\n",
    "and a constraint on the pressure to remove its null space, e.g. by applying a reference point\n",
    "\\begin{align}\n",
    "  P &= 0 && \\text{at } (x, y) = (0,0)\n",
    "\\end{align}"
   ]
  },
  {
   "cell_type": "markdown",
   "id": "cfefe9ba",
   "metadata": {},
   "source": [
    "## Parallel Scaling\n",
    "\n",
    "In [the previous notebook](./2.4d_batchelor_nest.ipynb) we tested that the solution of the Batchelor cornerflow problem using our new implementation of the Stokes equation, using a PETSc [MATNEST](https://petsc.org/release/manualpages/Mat/MATNEST/) matrix, converged at the same suboptimal rate as [our original implementation](./2.4b_batchelor.ipynb).  We also wish to test for parallel scaling of the new implementation, assessing if the simulation wall time decreases as the number of processors used to solve it is increases.\n",
    "\n",
    "Here we perform strong scaling tests on our function `solve_batchelor_nest` from [`notebooks/02_background/2.4d_batchelor_nest.ipynb`](./2.4d_batchelor_nest.ipynb)."
   ]
  },
  {
   "cell_type": "markdown",
   "id": "de751f09",
   "metadata": {},
   "source": [
    "### Preamble\n",
    "\n",
    "We start by loading all the modules we will require."
   ]
  },
  {
   "cell_type": "code",
   "execution_count": null,
   "id": "2119c25a",
   "metadata": {},
   "outputs": [],
   "source": [
    "import sys, os\n",
    "basedir = ''\n",
    "if \"__file__\" in globals(): basedir = os.path.dirname(__file__)\n",
    "path = os.path.join(basedir, os.path.pardir, os.path.pardir, 'python')\n",
    "sys.path.append(path)\n",
    "import utils.ipp\n",
    "from background.batchelor import test_plot_convergence\n",
    "import matplotlib.pyplot as pl\n",
    "import pathlib\n",
    "output_folder = pathlib.Path(os.path.join(basedir, \"output\"))\n",
    "output_folder.mkdir(exist_ok=True, parents=True)"
   ]
  },
  {
   "cell_type": "markdown",
   "id": "c59cc057",
   "metadata": {},
   "source": [
    "### Implementation\n",
    "\n",
    "We perform the strong parallel scaling test using a utility function (from `python/utils/ipp.py`) that loops over a list of the number of processors calling our function for a given number of elements, `ne`, and polynomial order `p`.  It runs our function `solve_batchelor` a specified `number` of times and evaluates and returns the time taken for each of a number of requested `steps`."
   ]
  },
  {
   "cell_type": "code",
   "execution_count": null,
   "id": "cd6c94d1",
   "metadata": {
    "tags": [
     "main"
    ]
   },
   "outputs": [],
   "source": [
    "# the list of the number of processors we will use\n",
    "nprocs_scale = [1, 2, 4]\n",
    "\n",
    "# the number of elements to solve the problem on\n",
    "ne = 128\n",
    "\n",
    "# the polynomial degree of our pressure field\n",
    "p = 1\n",
    "\n",
    "# perform the calculation a set number of times\n",
    "number = 1\n",
    "\n",
    "# We are interested in the time to create the mesh,\n",
    "# declare the functions, assemble the problem and solve it.\n",
    "# From our implementation in `solve_poisson_2d` it is also\n",
    "# possible to request the time to declare the Dirichlet and\n",
    "# Neumann boundary conditions and the forms.\n",
    "steps = [\n",
    "          'Mesh', 'Function spaces',\n",
    "          'Assemble', 'Solve',\n",
    "         ]\n",
    "\n",
    "# declare a dictionary to store the times each step takes\n",
    "maxtimes = {}"
   ]
  },
  {
   "cell_type": "markdown",
   "id": "64e07621",
   "metadata": {},
   "source": [
    "#### Direct (block)\n",
    "\n",
    "To start with we test the scaling with the original implementation and the default solver options, which are a direct LU decomposition using the MUMPS library implementation."
   ]
  },
  {
   "cell_type": "code",
   "execution_count": null,
   "id": "bcba7fba-4cb9-412d-9284-7e2c9946ec73",
   "metadata": {
    "tags": [
     "main"
    ]
   },
   "outputs": [],
   "source": [
    "maxtimes['Direct (block)'] = utils.ipp.profile_parallel(nprocs_scale, steps, path, 'background.batchelor', 'solve_batchelor', \n",
    "                                                        ne, p, number=number)"
   ]
  },
  {
   "cell_type": "markdown",
   "id": "e6ae8ef5-47d4-4d7c-9302-c1f8bc36979f",
   "metadata": {},
   "source": [
    "The behavior of the scaling test will strongly depend on the computational resources available on the machine where this notebook is run.  In particular when the website is generated it has to run as quickly as possible on github, hence we limit our requested numbers of processors, size of the problem (`ne` and `p`) and number of calculations to average over (`number`) in the default setup of this notebook.\n",
    "\n",
    "For comparison we provide the output of this notebook using `ne = 256`, `p = 1` and `number = 10` in Figure 2.4.2 generated on a dedicated machine using a local [conda](../01_introduction/1.1_overview.ipynb) installation of the software.\n",
    "\n",
    "![Direct Scaling](images/batchelor_scaling_direct_block.png)\n",
    "\n",
    "*Figure 2.4.2 Scaling results for a direct solver with `ne = 256`, `p = 1` averaged over `number = 10` calculations using a local [conda](../01_introduction/1.1_overview.ipynb) installation of the software on a dedicated machine.*\n",
    "\n",
    "We can see in Figure 2.4.2 that assembly and function space declarations scale well, with assembly being almost ideal.  However meshing and the solve barely scale at all.  As previously discussed, the meshing takes place on a single process before being communicated to the other processors, hence we do not expect this step to scale.  Additionally the cost (wall time taken) of meshing is so small that it is not a significant factor in these simulations.  The solution step is our most significant cost and would ideally scale.\n",
    "\n",
    "We have already tested that this implementation converges in parallel so we move onto testing if the new implementation behaves any better."
   ]
  },
  {
   "cell_type": "markdown",
   "id": "16951399-c122-44c0-a5d1-9e6099de6331",
   "metadata": {},
   "source": [
    "#### Direct (nest)\n",
    "\n",
    "We test the new implementation, using a PETSc [MATNEST](https://petsc.org/release/manualpages/Mat/MATNEST/) matrix with the same default solver options."
   ]
  },
  {
   "cell_type": "code",
   "execution_count": null,
   "id": "96474c96-d3c6-4d14-8182-904ba76d279a",
   "metadata": {
    "tags": [
     "main"
    ]
   },
   "outputs": [],
   "source": [
    "maxtimes['Direct (nest)'] = utils.ipp.profile_parallel(nprocs_scale, steps, path, 'background.batchelor_nest', 'solve_batchelor_nest', \n",
    "                                                        ne, p, number=number,\n",
    "                                                        output_filename=output_folder / 'batchelor_scaling_direct_nest.png')"
   ]
  },
  {
   "cell_type": "markdown",
   "id": "6b358a7c-464a-4dfe-8a2b-3c39cb324faf",
   "metadata": {},
   "source": [
    "If sufficient computational resources are available when running this notebook (unlikely during website generation) this should show similar results to the original version.  For comparison we provide the output of this notebook using `ne = 256`, `p = 1` and `number = 10` in Figure 2.4.3 generated on a dedicated machine using a local [conda](../01_introduction/1.1_overview.ipynb) installation of the software.\n",
    "\n",
    "![Direct Scaling](images/batchelor_scaling_direct_nest.png)\n",
    "\n",
    "*Figure 2.4.3 Scaling results for a direct solver using a MATNEST matrix with `ne = 256`, `p = 1` averaged over `number = 10` calculations using a local [conda](../01_introduction/1.1_overview.ipynb) installation of the software on a dedicated machine.*\n",
    "\n",
    "Figure 2.4.3 shows that our new implementation scales in a similar manner to the original when using a direct solver.  To double check that it is working we re-run our convergence test in parallel."
   ]
  },
  {
   "cell_type": "code",
   "execution_count": null,
   "id": "21591bf2",
   "metadata": {
    "tags": [
     "main"
    ]
   },
   "outputs": [],
   "source": [
    "# the list of the number of processors to test the convergence on\n",
    "nprocs_conv = [2,]\n",
    "# List of polynomial orders to try\n",
    "ps = [1, 2]\n",
    "# List of resolutions to try\n",
    "nelements = [10, 20, 40, 80]"
   ]
  },
  {
   "cell_type": "code",
   "execution_count": null,
   "id": "851e5801-ebf8-4f22-8434-03deacc90ef2",
   "metadata": {
    "tags": [
     "main"
    ]
   },
   "outputs": [],
   "source": [
    "errors_l2_all = utils.ipp.run_parallel(nprocs_conv, path, 'background.batchelor_nest', 'convergence_errors_nest', ps, nelements)\n",
    "\n",
    "for errors_l2 in errors_l2_all:\n",
    "    test_passes = test_plot_convergence(ps, nelements, errors_l2)\n",
    "    assert(test_passes)"
   ]
  },
  {
   "cell_type": "markdown",
   "id": "aabb35d9-691b-4767-856c-c84dad180ed7",
   "metadata": {},
   "source": [
    "#### Iterative (nest, refpt)\n",
    "\n",
    "Unlike the original implementation, we should be able to use an iterative solver (`minres`) on the new implementation.  We do this by applying a `fieldsplit` preconditioner using a pressure mass matrix to precondition the zero saddle point block of the Stokes problem."
   ]
  },
  {
   "cell_type": "code",
   "execution_count": null,
   "id": "5c62445b-a3b9-4f85-a3e9-4a042d7f93fc",
   "metadata": {
    "tags": [
     "main"
    ]
   },
   "outputs": [],
   "source": [
    "petsc_options = {'ksp_type':'minres', \n",
    "                 'pc_type':'fieldsplit', \n",
    "                 'pc_fieldsplit_type': 'additive',\n",
    "                 'fieldsplit_v_ksp_type':'preonly',\n",
    "                 'fieldsplit_v_pc_type':'gamg',\n",
    "                 'fieldsplit_p_ksp_type':'preonly',\n",
    "                 'fieldsplit_p_pc_type':'jacobi'}\n",
    "\n",
    "maxtimes['Iterative (nest, refpt)'] = utils.ipp.profile_parallel(nprocs_scale, steps, path, 'background.batchelor_nest', 'solve_batchelor_nest', \n",
    "                                                        ne, p, number=number, petsc_options=petsc_options,\n",
    "                                                        output_filename=output_folder / 'batchelor_scaling_iterative_refpt.png')"
   ]
  },
  {
   "cell_type": "markdown",
   "id": "2e428139-f6e1-498d-a49d-a408488ce865",
   "metadata": {},
   "source": [
    "If sufficient computational resources are available when running this notebook (unlikely during website generation) this should show that the scaling (\"speed up\") of our solve step has improved but the overall wall time appears larger than when using a direct (LU) solver.  For comparison we provide the output of this notebook using `ne = 256`, `p = 1` and `number = 10` in Figure 2.4.4 generated on a dedicated machine using a local [conda](../01_introduction/1.1_overview.ipynb) installation of the software.\n",
    "\n",
    "![Iterative Scaling](images/batchelor_scaling_iterative_refpt.png)\n",
    "\n",
    "*Figure 2.4.4 Scaling results for a direct solver using a MATNEST matrix with `ne = 256`, `p = 1` averaged over `number = 10` calculations using a local [conda](../01_introduction/1.1_overview.ipynb) installation of the software on a dedicated machine.*\n",
    "\n",
    "Figure 2.4.4 indeed shows that the scaling (\"speed up\") of our solve step has improved but the overall wall time appears larger than when using a direct (LU) solver.  As before, we double check our solution is converging in parallel using these solver options."
   ]
  },
  {
   "cell_type": "code",
   "execution_count": null,
   "id": "864e64dc-9e7a-4090-8473-bc92af3180d0",
   "metadata": {},
   "outputs": [],
   "source": []
  },
  {
   "cell_type": "code",
   "execution_count": null,
   "id": "28274bb9-4429-412c-af82-2df57130fe8a",
   "metadata": {
    "tags": [
     "main"
    ]
   },
   "outputs": [],
   "source": [
    "errors_l2_all = utils.ipp.run_parallel(nprocs_conv, path, 'background.batchelor_nest', 'convergence_errors_nest', ps, nelements, petsc_options=petsc_options)\n",
    "\n",
    "for errors_l2 in errors_l2_all:\n",
    "    test_passes = test_plot_convergence(ps, nelements, errors_l2)\n",
    "    assert(test_passes)"
   ]
  },
  {
   "cell_type": "markdown",
   "id": "5503b808-c53c-43a3-9a64-f9c3efe9d20c",
   "metadata": {},
   "source": [
    "#### Iterative (nest, null space)\n",
    "\n",
    "Our new implementation also allows us to try another method of dealing with the pressure nullspace - removing the null space at each iteration of the solver rather than imposing a reference point.  We can test this method by setting the `attach_nullspace` flag to `True`."
   ]
  },
  {
   "cell_type": "code",
   "execution_count": null,
   "id": "2718cc0b-8618-4ab2-95a2-555622dd679d",
   "metadata": {
    "tags": [
     "main"
    ]
   },
   "outputs": [],
   "source": [
    "petsc_options = {'ksp_type':'minres', \n",
    "                 'pc_type':'fieldsplit', \n",
    "                 'pc_fieldsplit_type': 'additive',\n",
    "                 'fieldsplit_v_ksp_type':'preonly',\n",
    "                 'fieldsplit_v_pc_type':'gamg',\n",
    "                 'fieldsplit_p_ksp_type':'preonly',\n",
    "                 'fieldsplit_p_pc_type':'jacobi'}\n",
    "\n",
    "maxtimes['Iterative (nest, ns)'] = utils.ipp.profile_parallel(nprocs_scale, steps, path, 'background.batchelor_nest', 'solve_batchelor_nest', \n",
    "                                                        ne, p, number=number, petsc_options=petsc_options, attach_nullspace=True,\n",
    "                                                        output_filename=output_folder / 'batchelor_scaling_iterative_ns.png')"
   ]
  },
  {
   "cell_type": "markdown",
   "id": "bde683f2-7fa9-4177-b94e-bc04539cdf2d",
   "metadata": {},
   "source": [
    "If sufficient computational resources are available when running this notebook (unlikely during website generation) this should show that a substantial reduction in the cost of our solution while maintaining reasonable scaling (\"speed up\") at this problem size.  For comparison we provide the output of this notebook using `ne = 256`, `p = 1` and `number = 10` in Figure 2.4.5 generated on a dedicated machine using a local [conda](../01_introduction/1.1_overview.ipynb) installation of the software.\n",
    "\n",
    "![Iterative Scaling](images/batchelor_scaling_iterative_ns.png)\n",
    "\n",
    "*Figure 2.4.5 Scaling results for a direct solver using a MATNEST matrix with `ne = 256`, `p = 1` averaged over `number = 10` calculations using a local [conda](../01_introduction/1.1_overview.ipynb) installation of the software on a dedicated machine.*\n",
    "\n",
    "Figure 2.4.5 indeed shows a substantially lower cost while also scaling reasonably well. Again, we double check our solution is converging in parallel using these solver options."
   ]
  },
  {
   "cell_type": "code",
   "execution_count": null,
   "id": "bf3beddc-5722-4742-a935-1ffa68a4ff0c",
   "metadata": {
    "tags": [
     "main"
    ]
   },
   "outputs": [],
   "source": [
    "errors_l2_all = utils.ipp.run_parallel(nprocs_conv, path, 'background.batchelor_nest', 'convergence_errors_nest', ps, nelements, petsc_options=petsc_options, attach_nullspace=True)\n",
    "\n",
    "for errors_l2 in errors_l2_all:\n",
    "    test_passes = test_plot_convergence(ps, nelements, errors_l2)\n",
    "    assert(test_passes)"
   ]
  },
  {
   "cell_type": "markdown",
   "id": "e7841a6c-6f41-42fd-860d-50a0189ceec1",
   "metadata": {},
   "source": [
    "We see that we are converging but at a slightly lower rate than using the reference point."
   ]
  },
  {
   "cell_type": "markdown",
   "id": "d24d1f94-39d8-45fb-9e1e-988e6ac47627",
   "metadata": {},
   "source": [
    "#### Comparison\n",
    "\n",
    "We can more easily compare the different solution method directly by plotting their walltimes for assembly and solution."
   ]
  },
  {
   "cell_type": "code",
   "execution_count": null,
   "id": "7542e9e1-5e30-4dab-b564-03e3c4d86511",
   "metadata": {},
   "outputs": [],
   "source": [
    "# choose which steps to compare\n",
    "compare_steps = ['Assemble', 'Solve']\n",
    "\n",
    "# set up a figure for plotting\n",
    "fig, axs = pl.subplots(nrows=len(compare_steps), figsize=[6.4,4.8*len(compare_steps)], sharex=True)\n",
    "if len(compare_steps) == 1: axs = [axs]\n",
    "for i, step in enumerate(compare_steps):\n",
    "    s = steps.index(step)\n",
    "    for name, lmaxtimes in maxtimes.items():\n",
    "        axs[i].plot(nprocs_scale, [t[s] for t in lmaxtimes], 'o-', label=name)\n",
    "    axs[i].set_title(step)\n",
    "    axs[i].legend()\n",
    "    axs[i].set_ylabel('wall time (s)')\n",
    "    axs[i].grid()\n",
    "axs[-1].set_xlabel('number processors')\n",
    "# save the figure\n",
    "fig.savefig(output_folder / 'batchelor_scaling_comparison.png')"
   ]
  },
  {
   "cell_type": "markdown",
   "id": "58d2fc64-8719-4c9c-847e-713fa7a29655",
   "metadata": {},
   "source": [
    "With sufficient computational resources we will see that the MATNEST approach has lowered our assembly costs, though as this is such a small overall part of our wall time it doesn't make a big impact in this case.  However, the decreased cost and improved scaling of the iterative solver method (removing the nullspace iteratively) makes a substantial difference to the cost of our solution.  We provide the output of this notebook using `ne = 256`, `p = 1` and `number = 10` in Figure 2.4.6 generated on a dedicated machine using a local [conda](../01_introduction/1.1_overview.ipynb) installation of the software.\n",
    "\n",
    "![Scaling Comparison](images/batchelor_scaling_comparison.png)\n",
    "\n",
    "*Figure 2.4.6 Comparison of scaling results for different solution strategies with `ne = 256`, `p = 1` averaged over `number = 10` calculations using a local [conda](../01_introduction/1.1_overview.ipynb) installation of the software on a dedicated machine.*\n",
    "\n",
    "In the [next example](./2.5a_blankenbach_intro.ipynb) we will see how the advantage of using the iterative method is removed at these problem sizes when we have to solve the equations multiple times."
   ]
  },
  {
   "cell_type": "code",
   "execution_count": null,
   "id": "6f6d0958-ec0a-4bab-ac43-4b8f8ce92679",
   "metadata": {},
   "outputs": [],
   "source": []
  }
 ],
 "metadata": {
  "kernelspec": {
   "display_name": "Python 3 (ipykernel)",
   "language": "python",
   "name": "python3"
  },
  "language_info": {
   "codemirror_mode": {
    "name": "ipython",
    "version": 3
   },
   "file_extension": ".py",
   "mimetype": "text/x-python",
   "name": "python",
   "nbconvert_exporter": "python",
   "pygments_lexer": "ipython3",
   "version": "3.12.3"
  }
 },
 "nbformat": 4,
 "nbformat_minor": 5
}
