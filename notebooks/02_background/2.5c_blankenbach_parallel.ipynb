{
 "cells": [
  {
   "cell_type": "markdown",
   "id": "42b684ba",
   "metadata": {},
   "source": [
    "# Blankenbach Thermal Convection Example\n",
    "\n",
    "Authors: Cian Wilson"
   ]
  },
  {
   "cell_type": "code",
   "execution_count": null,
   "id": "74227609",
   "metadata": {},
   "outputs": [],
   "source": [
    "from mpi4py import MPI\n",
    "if MPI.COMM_WORLD.size > 1:\n",
    "    raise Warning(\"This script shouldn't be run in parallel!\")"
   ]
  },
  {
   "cell_type": "code",
   "execution_count": null,
   "id": "e55862d1",
   "metadata": {},
   "outputs": [],
   "source": [
    "import ipyparallel as ipp\n",
    "import numpy as np"
   ]
  },
  {
   "cell_type": "code",
   "execution_count": null,
   "id": "25269551",
   "metadata": {},
   "outputs": [],
   "source": [
    "labels = [\n",
    "          'Blankenbach Mesh', 'Blankenbach Functions',\n",
    "          'Blankenbach Dirichlet BCs', 'Blankenbach Forms',\n",
    "          'Blankenbach Problem Setup Stokes', 'Blankenbach Problem Setup Temperature',\n",
    "          'Blankenbach Residual', 'Blankenbach Solve Stokes', 'Blankenbach Solve Temperature',\n",
    "         ]"
   ]
  },
  {
   "cell_type": "code",
   "execution_count": null,
   "id": "0031ea47",
   "metadata": {},
   "outputs": [],
   "source": [
    "def profile_blankenbach(Ra, ne, pp, pT, labels, b=None, petsc_options_s=None, petsc_options_T=None):\n",
    "     # import necessary modules\n",
    "     import sys, os\n",
    "     basedir = ''\n",
    "     if \"__file__\" in globals(): basedir = os.path.dirname(__file__)\n",
    "     sys.path.append(os.path.join(basedir, os.path.pardir, os.path.pardir, 'python'))\n",
    "     from background.blankenbach import solve_blankenbach\n",
    "     import dolfinx as df\n",
    "     from mpi4py import MPI\n",
    "    \n",
    "     # solve the Blankenbach problem\n",
    "     v_i, p_i, T_i = solve_blankenbach(Ra, ne, pp=pp, pT=pT, b=b, \n",
    "                                       petsc_options_s=petsc_options_s, \n",
    "                                       petsc_options_T=petsc_options_T)\n",
    "\n",
    "     # extract and return the computation times from dolfinx\n",
    "     times = [df.common.timing(l)[1] for l in labels]\n",
    "     maxtimes = T_i.function_space.mesh.comm.reduce(times, op=MPI.MAX)\n",
    "     return maxtimes\n"
   ]
  },
  {
   "cell_type": "code",
   "execution_count": null,
   "id": "30c57859",
   "metadata": {},
   "outputs": [],
   "source": [
    "ne = 128\n",
    "pp = 1\n",
    "pT = 1\n",
    "Ra = 1.e4\n",
    "b = np.log(1.e3)\n",
    "petsc_options_s = {'ksp_type' : 'preonly', 'pc_type' : 'lu', 'pc_factor_mat_solver_type' : 'superlu_dist', 'mat_superlu_dist_iterrefine' : True, 'ksp_view':None}\n",
    "\n",
    "profile_blankenbach(Ra, ne, pp, pT, labels, b=b, petsc_options_s=petsc_options_s)"
   ]
  },
  {
   "cell_type": "code",
   "execution_count": null,
   "id": "8f51c5ab",
   "metadata": {},
   "outputs": [],
   "source": [
    "nproc = 2\n",
    "ne = 160\n",
    "pp = 1\n",
    "pT = 1\n",
    "Ra = 1.e4\n",
    "petsc_options_s = {'ksp_type' : 'preonly', 'pc_type' : 'lu', 'pc_factor_mat_solver_type' : 'superlu_dist', 'mat_superlu_dist_iterrefine' : True}\n",
    "\n",
    "cluster = ipp.Cluster(engine_launcher_class=\"mpi\", n=nproc)\n",
    "rc = cluster.start_and_connect_sync()\n",
    "view = rc[:]\n",
    "\n",
    "maxtimes = [view.remote(block=True)(profile_blankenbach)(Ra, ne, pp, pT, labels, petsc_options_s=petsc_options_s)[0]]\n",
    "\n",
    "print('=========================', flush=True)\n",
    "print('\\t'.join(['\\t']+[repr(nproc) for nproc in [nproc]]))\n",
    "for l, label in enumerate(labels):\n",
    "    print('\\t'.join([label]+[repr(t[l]) for t in maxtimes]))\n",
    "print('=========================')\n",
    "\n",
    "rc.shutdown(hub=True)\n"
   ]
  },
  {
   "cell_type": "code",
   "execution_count": null,
   "id": "3b78b8e4",
   "metadata": {},
   "outputs": [],
   "source": []
  },
  {
   "cell_type": "code",
   "execution_count": null,
   "id": "114634e4",
   "metadata": {},
   "outputs": [],
   "source": []
  },
  {
   "cell_type": "code",
   "execution_count": null,
   "id": "522d1267",
   "metadata": {},
   "outputs": [],
   "source": [
    "def scale_blankenbach_parallel(nprocs, Ra, ne, pp, pT, labels, b=None, petsc_options_s=None, petsc_options_T=None):\n",
    "    maxtimes = []\n",
    "    for nproc in nprocs:\n",
    "        cluster = ipp.Cluster(engine_launcher_class=\"mpi\", n=nproc)\n",
    "        rc = cluster.start_and_connect_sync()\n",
    "        view = rc[:]\n",
    "\n",
    "        maxtimes.append(view.remote(block=True)(profile_blankenbach)(Ra, ne, pp, pT, labels, b=b, petsc_options_s=petsc_options_s, petsc_options_T=petsc_options_T)[0])\n",
    "\n",
    "        rc.shutdown(hub=True)\n",
    "\n",
    "    print('=========================', flush=True)\n",
    "    print('\\t'.join(['\\t']+[repr(nproc) for nproc in nprocs]))\n",
    "    for l, label in enumerate(labels):\n",
    "        print('\\t'.join([label]+[repr(t[l]) for t in maxtimes]))\n",
    "    print('=========================')\n",
    "\n",
    "    return maxtimes\n"
   ]
  },
  {
   "cell_type": "code",
   "execution_count": null,
   "id": "2f02eed0",
   "metadata": {},
   "outputs": [],
   "source": [
    "ne = 256\n",
    "pp = 1\n",
    "pT = 1\n",
    "Ra = 1.e4\n",
    "nprocs = [1, 2, 4, 8]\n",
    "\n",
    "scale_blankenbach_parallel(nprocs, Ra, ne, pp, pT, labels)\n"
   ]
  },
  {
   "cell_type": "code",
   "execution_count": null,
   "id": "5878df9e",
   "metadata": {},
   "outputs": [],
   "source": [
    "ne = 256\n",
    "pp = 1\n",
    "pT = 1\n",
    "Ra = 1.e4\n",
    "b = np.log(1.e3)\n",
    "nprocs = [1, 2, 4, 8]\n",
    "\n",
    "scale_blankenbach_parallel(nprocs, Ra, ne, pp, pT, labels, b=b)\n"
   ]
  },
  {
   "cell_type": "code",
   "execution_count": null,
   "id": "527a9e4b",
   "metadata": {},
   "outputs": [],
   "source": [
    "ne = 120\n",
    "pp = 1\n",
    "pT = 1\n",
    "Ra = 1.e4\n",
    "b = np.log(1.e3)\n",
    "petsc_options_s = {'ksp_type' : 'preonly', 'pc_type' : 'lu', 'pc_factor_mat_solver_type' : 'superlu_dist', 'mat_superlu_dist_iterrefine' : True}\n",
    "nprocs = [1, 2, 4, 8]\n",
    "\n",
    "scale_blankenbach_parallel(nprocs, Ra, ne, pp, pT, labels, b=b, petsc_options_s=petsc_options_s)\n"
   ]
  },
  {
   "cell_type": "code",
   "execution_count": null,
   "id": "dd7894cd",
   "metadata": {},
   "outputs": [],
   "source": []
  },
  {
   "cell_type": "code",
   "execution_count": null,
   "id": "82970aa8",
   "metadata": {},
   "outputs": [],
   "source": []
  },
  {
   "cell_type": "code",
   "execution_count": null,
   "id": "3b04d6c7",
   "metadata": {},
   "outputs": [],
   "source": []
  },
  {
   "cell_type": "markdown",
   "id": "a1e2fc50",
   "metadata": {},
   "source": [
    "## Finish up"
   ]
  },
  {
   "cell_type": "markdown",
   "id": "1cf1fc53",
   "metadata": {},
   "source": [
    "Convert this notebook to a python script (making sure to save first)"
   ]
  },
  {
   "cell_type": "code",
   "execution_count": null,
   "id": "0425c5ad",
   "metadata": {},
   "outputs": [],
   "source": [
    "if __name__ == \"__main__\" and \"__file__\" not in globals():\n",
    "    from ipylab import JupyterFrontEnd\n",
    "    app = JupyterFrontEnd()\n",
    "    app.commands.execute('docmanager:save')\n",
    "    !jupyter nbconvert --TagRemovePreprocessor.enabled=True --TagRemovePreprocessor.remove_cell_tags=\"['main', 'ipy']\" --TemplateExporter.exclude_markdown=True --TemplateExporter.exclude_input_prompt=True --TemplateExporter.exclude_output_prompt=True --NbConvertApp.export_format=script --ClearOutputPreprocessor.enabled=True --FilesWriter.build_directory=../../python/background --NbConvertApp.output_base=blankenbach_parallel 2.5c_blankenbach_parallel.ipynb"
   ]
  },
  {
   "cell_type": "code",
   "execution_count": null,
   "id": "dc849b8e",
   "metadata": {},
   "outputs": [],
   "source": []
  }
 ],
 "metadata": {
  "kernelspec": {
   "display_name": "dolfinx-env",
   "language": "python",
   "name": "python3"
  },
  "language_info": {
   "codemirror_mode": {
    "name": "ipython",
    "version": 3
   },
   "file_extension": ".py",
   "mimetype": "text/x-python",
   "name": "python",
   "nbconvert_exporter": "python",
   "pygments_lexer": "ipython3",
   "version": "3.12.3"
  }
 },
 "nbformat": 4,
 "nbformat_minor": 5
}
