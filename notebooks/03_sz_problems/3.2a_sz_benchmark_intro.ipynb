{
 "cells": [
  {
   "cell_type": "markdown",
   "id": "2c497204-d668-44eb-9f1f-3a62b2e198d1",
   "metadata": {},
   "source": [
    "# Subduction Zone Benchmark\n",
    "\n",
    "Authors: Cian Wilson, Peter van Keken"
   ]
  },
  {
   "cell_type": "markdown",
   "id": "018ddd41-738b-4aec-86f4-c613d38e28bb",
   "metadata": {},
   "source": [
    "## A Revised Benchmark"
   ]
  },
  {
   "cell_type": "markdown",
   "id": "6b944c3a-252e-4448-a790-d0d4b26b6757",
   "metadata": {},
   "source": [
    "The community subduction zone benchmark [van Keken et al, 2008](http://dx.doi.org/10.1016/j.pepi.2008.04.015) provides a set of simplified models well suited to test the accuracy of the solution of the governing equations that are relevant for subduction zones. Unfortunately, the model geometry and assumptions that were chosen at the time are such that they introduce a few artifacts that do not occur, as best as we know, in any subduction zone on Earth. These artifacts include a slab that dips at a constant angle of 45$^\\circ$ to 600 km depth, an overriding plate that excludes continental heat production,  and imposes slab-wedge coupling at 50 km rather than at 75-80 km depth.  The lack of crustal heating and the large width of the model, combined with the assumption of steady state, lead in the cases with temperature-dependent rheology to a very thick top boundary layer. This is caused by the cooling in the lithosphere, which results in a gradual thickening of the overriding lid in regions of the model that are far away from the arc-side boundary condition. While this is less of a problem in time-dependent problems (where time may not be sufficient for significant growth of the boundary layer), it shows up dramatically as a \"viscous belly\" in steady-state cases when the model domain is large. In time-dependent models it can show up if integration time is very long compared to the typical age of subduction zones.  The models in [Syracuse et al., 2010](http://dx.doi.org/10.1016/j.pepi.2010.02.004) avoided this issue by using time integration to \n",
    "only $\\sim$20-40 Myr.  The models in [Wada & Wang, 2009](http://dx.doi.org/10.1029/2009GC002570) avoided it using steady-state models in a domain that is both narrower and shallower.\n",
    "\n",
    "\n",
    "To mitigate the artifacts of the previous benchmark [Wilson & van Keken, 2023](http://dx.doi.org/10.1186/s40645-023-00588-6) proposed a new benchmark model. Modifications include a more shallowly dipping slab that only extends to a depth of 200 km, the incorporation of radiogenic heating in the overriding crust and a deeper slab-wedge coupling point. The geometry is still highly simplified:\n",
    "![Figure 1a of Wilson & van Keken, 2023](images/benchmarkgeometry.png)\n",
    "with a constant slab dip \n",
    "$\\Delta=\\tan^{-1}(1/2)=26.56505^\\circ$ with respect to the horizontal.\n",
    "The maximum depth $D$=200 defines $L$=400. \n",
    "The benchmark assumes ocean-continent subduction with heat production in a two-layer crust with crustal density and thermal conductivity ($\\rho_c$ and $k_c$ respectively) distinct from the mantle ($\\rho_m$ and $k_m$) and a backarc boundary condition on temperature. \n",
    "Upper and lower crustal depths, $z_1$ and $z_2$, are chosen as 15 and 40 respectively. \n",
    "$z_\\text{io}$ depends on wedge geometry and rheology and is therefore variable between models, though as long as $z_\\text{io}$ is larger than the depth where the actual switch between inflow and outflow occurs nearly identical solutions can be obtained.\n",
    "\n",
    "\n",
    "We will use the case-specific parameters given by [Wilson & van Keken, 2023](http://dx.doi.org/10.1186/s40645-023-00588-6) \n",
    "\n",
    "| case | type | $\\eta$ | $q_s^*$   | $A^*$ | $z_2$ | $z_\\text{io}$ | $z_\\text{trench}$ | $x_\\text{coast}$ | $D$ | $L$ | $V_s^*$ |\n",
    "| ---- | ---- | ------ | --------- | ----- | ----- | ------------- | ----------------- | ---------------- | --- | --- | ------- |\n",
    "|      |      |        | (W/m$^2$) | (Myr) |       |               |                   |                  |     |     | (mm/yr) |\n",
    "| 1    | continental    | 1      | 0.065     | 100   | 40    | 139           | 0                 | 0                | 200 | 400 | 100     |\n",
    "| 2    | continental    | $\\eta_\\text{disl}$ | 0.065 | 100 | 40 | 154        | 0                 | 0                | 200 | 400 | 100     |"
   ]
  },
  {
   "cell_type": "code",
   "execution_count": null,
   "id": "f4ee1818-43f7-4b15-9434-11281ffe40f4",
   "metadata": {},
   "outputs": [],
   "source": []
  }
 ],
 "metadata": {
  "kernelspec": {
   "display_name": "Python 3",
   "language": "python",
   "name": "python3"
  },
  "language_info": {
   "codemirror_mode": {
    "name": "ipython",
    "version": 3
   },
   "file_extension": ".py",
   "mimetype": "text/x-python",
   "name": "python",
   "nbconvert_exporter": "python",
   "pygments_lexer": "ipython3",
   "version": "3.10.12"
  }
 },
 "nbformat": 4,
 "nbformat_minor": 5
}
