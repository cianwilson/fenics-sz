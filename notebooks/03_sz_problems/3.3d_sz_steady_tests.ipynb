{
 "cells": [
  {
   "cell_type": "markdown",
   "id": "6827fa3a",
   "metadata": {},
   "source": [
    "# Steady-State Subduction Zone Setup\n",
    "\n",
    "Authors: Kidus Teshome, Cian Wilson"
   ]
  },
  {
   "cell_type": "markdown",
   "id": "c0953de3-f2c4-4904-b0bf-248e08e9e734",
   "metadata": {},
   "source": [
    "## Themes and variations"
   ]
  },
  {
   "cell_type": "markdown",
   "id": "ecf339cc-55ce-4525-9d53-7e28927f5c58",
   "metadata": {},
   "source": [
    "Some variations from the previous notebook\n",
    "\n",
    "* Try higher resolution versions of the benchmark cases\n",
    "* Varying the coupling depth\n",
    "* Try some cases from the global suite using the data in `allsz_params`"
   ]
  },
  {
   "cell_type": "markdown",
   "id": "6e34c38f-5d19-4741-a5f2-03db72ace774",
   "metadata": {},
   "source": [
    "### Preamble"
   ]
  },
  {
   "cell_type": "markdown",
   "id": "1116d459-abd2-4bfb-a284-d21f47da0b2c",
   "metadata": {},
   "source": [
    "Let's start by adding the path to the modules in the `python` folder to the system path (so we can find the our custom modules)."
   ]
  },
  {
   "cell_type": "code",
   "execution_count": null,
   "id": "a40c0a8e-4ebd-4e5e-936b-0e2386aba3d8",
   "metadata": {},
   "outputs": [],
   "source": [
    "import sys, os\n",
    "basedir = ''\n",
    "if \"__file__\" in globals(): basedir = os.path.dirname(__file__)\n",
    "sys.path.append(os.path.join(basedir, os.path.pardir, os.path.pardir, 'python'))"
   ]
  },
  {
   "cell_type": "markdown",
   "id": "0d485e8c-03d6-4828-868b-815f5b87647b",
   "metadata": {},
   "source": [
    "Then load everything we need from `sz_problem` and also set our default plotting preferences."
   ]
  },
  {
   "cell_type": "code",
   "execution_count": null,
   "id": "ab44bc2a-31ac-45b3-9d32-165412442cd1",
   "metadata": {},
   "outputs": [],
   "source": [
    "import utils\n",
    "from sz_problems.sz_params import default_params, allsz_params\n",
    "from sz_problems.sz_slab import create_slab\n",
    "from sz_problems.sz_geometry import create_sz_geometry\n",
    "from sz_problems.sz_steady_isoviscous import SteadyIsoSubductionProblem\n",
    "from sz_problems.sz_steady_dislcreep import SteadyDislSubductionProblem\n",
    "import pathlib\n",
    "output_folder = pathlib.Path(os.path.join(basedir, \"output\"))\n",
    "output_folder.mkdir(exist_ok=True, parents=True)"
   ]
  },
  {
   "cell_type": "markdown",
   "id": "7c1bc2b0-2e6e-4588-868b-c0f85aa5adb5",
   "metadata": {},
   "source": [
    "### Higher Resolution"
   ]
  },
  {
   "cell_type": "markdown",
   "id": "be7a5d97-ae8f-48eb-97c6-78af570ceaeb",
   "metadata": {},
   "source": [
    "#### Benchmark case 1"
   ]
  },
  {
   "cell_type": "code",
   "execution_count": null,
   "id": "c5d78973-cca1-48b7-97e3-4fc11c4f192c",
   "metadata": {},
   "outputs": [],
   "source": [
    "xs = [0.0, 140.0, 240.0, 400.0]\n",
    "ys = [0.0, -70.0, -120.0, -200.0]\n",
    "lc_depth = 40\n",
    "uc_depth = 15\n",
    "coast_distance = 0\n",
    "extra_width = 0\n",
    "sztype = 'continental'\n",
    "io_depth_1 = 139\n",
    "A      = 100.0      # age of subducting slab (Myr)\n",
    "qs     = 0.065      # surface heat flux (W/m^2)\n",
    "Vs     = 100.0      # slab speed (mm/yr)"
   ]
  },
  {
   "cell_type": "code",
   "execution_count": null,
   "id": "09a871ee-7a0c-4c20-bd50-49ed66573f31",
   "metadata": {
    "scrolled": true
   },
   "outputs": [],
   "source": [
    "resscale2 = 2.5\n",
    "slab_resscale2 = create_slab(xs, ys, resscale2, lc_depth)\n",
    "geom_resscale2 = create_sz_geometry(slab_resscale2, resscale2, sztype, io_depth_1, extra_width, \n",
    "                           coast_distance, lc_depth, uc_depth)\n",
    "sz_case1_resscale2 = SteadyIsoSubductionProblem(geom_resscale2, A=A, Vs=Vs, sztype=sztype, qs=qs)"
   ]
  },
  {
   "cell_type": "code",
   "execution_count": null,
   "id": "f83f0228-fa22-4e59-8079-c3578530526e",
   "metadata": {},
   "outputs": [],
   "source": [
    "print(\"\\nSolving steady state flow with isoviscous rheology...\")\n",
    "sz_case1_resscale2.solve()"
   ]
  },
  {
   "cell_type": "code",
   "execution_count": null,
   "id": "9ae8f156-5cdb-41fe-a371-98a001157944",
   "metadata": {},
   "outputs": [],
   "source": [
    "diag_resscale2 = sz_case1_resscale2.get_diagnostics()\n",
    "\n",
    "print('')\n",
    "print('{:<12} {:<12} {:<12} {:<12} {:<12} {:<12}'.format('resscale', 'T_ndof', 'T_{200,-100}', 'Tbar_s', 'Tbar_w', 'Vrmsw'))\n",
    "print('{:<12.4g} {:<12d} {:<12.4f} {:<12.4f} {:<12.4f} {:<12.4f}'.format(resscale2, *diag_resscale2.values()))"
   ]
  },
  {
   "cell_type": "markdown",
   "id": "7a222a93-cc89-43d3-8666-27095bebeff5",
   "metadata": {},
   "source": [
    "For comparison here are the values reported for case 1 using [TerraFERMA](https://terraferma.github.io) in [Wilson & van Keken, 2023](http://dx.doi.org/10.1186/s40645-023-00588-6):\n",
    "\n",
    "| `resscale` | $T_{\\text{ndof}} $ | $T_{(200,-100)}^*$ | $\\overline{T}_s^*$ | $ \\overline{T}_w^* $ |  $V_{\\text{rms},w}^*$ |\n",
    "| - | - | - | - | - | - |\n",
    "| 2.0 | 21403  | 517.17 | 451.83 | 926.62 | 34.64 |\n",
    "| 1.0 | 83935  | 516.95 | 451.71 | 926.33 | 34.64 |\n",
    "| 0.5 | 332307 | 516.86 | 451.63 | 926.15 | 34.64 |"
   ]
  },
  {
   "cell_type": "code",
   "execution_count": null,
   "id": "414788ff-fe42-4de4-a88b-4c6a902a505a",
   "metadata": {},
   "outputs": [],
   "source": [
    "plotter_case1_resscale2 = utils.plot.plot_scalar(sz_case1_resscale2.T_i, scale=sz_case1_resscale2.T0, gather=True, cmap='coolwarm', scalar_bar_args={'title': 'Temperature (deg C)', 'bold':True})\n",
    "utils.plot.plot_vector_glyphs(sz_case1_resscale2.vw_i, plotter=plotter_case1_resscale2, gather=True, factor=0.05, color='k', scale=utils.mps_to_mmpyr(sz_case1_resscale2.v0))\n",
    "utils.plot.plot_vector_glyphs(sz_case1_resscale2.vs_i, plotter=plotter_case1_resscale2, gather=True, factor=0.05, color='k', scale=utils.mps_to_mmpyr(sz_case1_resscale2.v0))\n",
    "utils.plot.plot_geometry(sz_case1_resscale2.geom, plotter=plotter_case1_resscale2, color='green', width=2)\n",
    "utils.plot.plot_couplingdepth(sz_case1_resscale2.geom.slab_spline, plotter=plotter_case1_resscale2, render_points_as_spheres=True, point_size=10.0, color='green')\n",
    "utils.plot.plot_show(plotter_case1_resscale2)\n",
    "utils.plot.plot_save(plotter_case1_resscale2, output_folder / \"sz_steady_tests_case1_resscale2_solution.png\")"
   ]
  },
  {
   "cell_type": "code",
   "execution_count": null,
   "id": "a8c28ee4",
   "metadata": {},
   "outputs": [],
   "source": [
    "# clean up\n",
    "del plotter_case1_resscale2\n",
    "del sz_case1_resscale2\n",
    "del geom_resscale2"
   ]
  },
  {
   "cell_type": "markdown",
   "id": "9e25f250-9073-46c4-b74f-b2de7f8af42c",
   "metadata": {},
   "source": [
    "#### Benchmark case 2"
   ]
  },
  {
   "cell_type": "code",
   "execution_count": null,
   "id": "7e189954-61ca-4261-b475-bc9b0c26bfe7",
   "metadata": {
    "scrolled": true
   },
   "outputs": [],
   "source": [
    "io_depth_2 = 154.0\n",
    "geom_case2_resscale2 = create_sz_geometry(slab_resscale2, resscale2, sztype, io_depth_2, extra_width, \n",
    "                                          coast_distance, lc_depth, uc_depth)\n",
    "sz_case2_resscale2 = SteadyDislSubductionProblem(geom_case2_resscale2, A=A, Vs=Vs, sztype=sztype, qs=qs)"
   ]
  },
  {
   "cell_type": "code",
   "execution_count": null,
   "id": "766d5e1f-094c-457d-9213-7bed949e3029",
   "metadata": {},
   "outputs": [],
   "source": [
    "print(\"\\nSolving steady state flow with dislocation creep rheology...\")\n",
    "sz_case2_resscale2.solve()"
   ]
  },
  {
   "cell_type": "code",
   "execution_count": null,
   "id": "9b999ed9-2934-4c26-9c5a-d22240c7e580",
   "metadata": {},
   "outputs": [],
   "source": [
    "diag_case2_resscale2 = sz_case2_resscale2.get_diagnostics()\n",
    "\n",
    "print('')\n",
    "print('{:<12} {:<12} {:<12} {:<12} {:<12} {:<12}'.format('resscale', 'T_ndof', 'T_{200,-100}', 'Tbar_s', 'Tbar_w', 'Vrmsw'))\n",
    "print('{:<12.4g} {:<12d} {:<12.4f} {:<12.4f} {:<12.4f} {:<12.4f}'.format(resscale2, *diag_case2_resscale2.values()))"
   ]
  },
  {
   "cell_type": "markdown",
   "id": "e4aa4549-beb7-491d-81b6-e8085d828222",
   "metadata": {},
   "source": [
    "For comparison here are the values reported for case 2 using [TerraFERMA](https://terraferma.github.io) in [Wilson & van Keken, 2023](http://dx.doi.org/10.1186/s40645-023-00588-6):\n",
    "\n",
    "| `resscale` | $T_{\\text{ndof}} $ | $T_{(200,-100)}^*$ | $\\overline{T}_s^*$ | $ \\overline{T}_w^* $ |  $V_{\\text{rms},w}^*$ |\n",
    "| - | - | - | - | - | - |\n",
    "| 2.0 | 21403  | 683.05 | 571.58 | 936.65 | 40.89 |\n",
    "| 1.0 | 83935 | 682.87 | 572.23 | 936.11 | 40.78 |\n",
    "| 0.5 | 332307 | 682.80 | 572.05 | 937.37 | 40.77 |"
   ]
  },
  {
   "cell_type": "code",
   "execution_count": null,
   "id": "1ea98d39-cf44-4aa9-901b-0ef6df4d2edc",
   "metadata": {},
   "outputs": [],
   "source": [
    "plotter_case2_resscale2 = utils.plot.plot_scalar(sz_case2_resscale2.T_i, scale=sz_case2_resscale2.T0, gather=True, cmap='coolwarm', scalar_bar_args={'title': 'Temperature (deg C)', 'bold':True})\n",
    "utils.plot.plot_vector_glyphs(sz_case2_resscale2.vw_i, plotter=plotter_case2_resscale2, gather=True, factor=0.05, color='k', scale=utils.mps_to_mmpyr(sz_case2_resscale2.v0))\n",
    "utils.plot.plot_vector_glyphs(sz_case2_resscale2.vs_i, plotter=plotter_case2_resscale2, gather=True, factor=0.05, color='k', scale=utils.mps_to_mmpyr(sz_case2_resscale2.v0))\n",
    "utils.plot.plot_geometry(sz_case2_resscale2.geom, plotter=plotter_case2_resscale2, color='green', width=2)\n",
    "utils.plot.plot_couplingdepth(sz_case2_resscale2.geom.slab_spline, plotter=plotter_case2_resscale2, render_points_as_spheres=True, point_size=10.0, color='green')\n",
    "utils.plot.plot_show(plotter_case2_resscale2)\n",
    "utils.plot.plot_save(plotter_case2_resscale2, output_folder / \"sz_steady_tests_case2_resscale2_solution.png\")"
   ]
  },
  {
   "cell_type": "code",
   "execution_count": null,
   "id": "ddee3c37",
   "metadata": {},
   "outputs": [],
   "source": [
    "# clean up\n",
    "del plotter_case2_resscale2\n",
    "del sz_case2_resscale2\n",
    "del geom_case2_resscale2\n",
    "del slab_resscale2"
   ]
  },
  {
   "cell_type": "markdown",
   "id": "74123a53",
   "metadata": {},
   "source": [
    "### Vary coupling depth"
   ]
  },
  {
   "cell_type": "markdown",
   "id": "c1153e00",
   "metadata": {},
   "source": [
    "We will now re-use all of the parameters for case 2 but vary the coupling depth by passing in an additional keyword argument `coupling_depth` to `create_slab`.  The rest of the solution procedure is the same as before.\n",
    "\n",
    "Let's loop over a series of coupling depths to see how varying it changes the solution."
   ]
  },
  {
   "cell_type": "code",
   "execution_count": null,
   "id": "46f01873",
   "metadata": {},
   "outputs": [],
   "source": [
    "# set a list of coupling depths to try\n",
    "coupling_depths = [60.0, 80.0, 100.0]\n",
    "resscale3 = 3.0\n",
    "\n",
    "# set up a list to save the diagnostics from each\n",
    "diagnostics = []\n",
    "# loop over the couplings depths\n",
    "for coupling_depth in coupling_depths:\n",
    "    # create the slab object, all of the input arguments are the same as in case 2\n",
    "    # but this time we also pass in the coupling_depth keyword argument to override\n",
    "    # the default value (80 km)\n",
    "    slab_dc = create_slab(xs, ys, resscale3, lc_depth, coupling_depth=coupling_depth)\n",
    "    # set up the geometry\n",
    "    geom_dc = create_sz_geometry(slab_dc, resscale3, sztype, io_depth_2, extra_width, \n",
    "                                            coast_distance, lc_depth, uc_depth)\n",
    "    # set up the subduction zone problem\n",
    "    sz_dc = SteadyDislSubductionProblem(geom_dc, A=A, Vs=Vs, sztype=sztype, qs=qs)\n",
    "\n",
    "    # solve the steady state problem\n",
    "    if sz_dc.comm.rank == 0: print(f\"\\nSolving steady state flow with coupling depth = {coupling_depth}km...\")\n",
    "    sz_dc.solve()\n",
    "\n",
    "    # retrieve the diagnostics\n",
    "    diagnostics.append(sz_dc.get_diagnostics())\n",
    "\n",
    "    # plot the solution\n",
    "    plotter_dc = utils.plot.plot_scalar(sz_dc.T_i, scale=sz_dc.T0, gather=True, cmap='coolwarm', \n",
    "                                   scalar_bar_args={'title': 'Temperature (deg C)', 'bold':True})\n",
    "    utils.plot.plot_vector_glyphs(sz_dc.vw_i, plotter=plotter_dc, gather=True, factor=0.05, color='k', \n",
    "                             scale=utils.mps_to_mmpyr(sz_dc.v0))\n",
    "    utils.plot.plot_vector_glyphs(sz_dc.vs_i, plotter=plotter_dc, gather=True, factor=0.05, color='k', \n",
    "                             scale=utils.mps_to_mmpyr(sz_dc.v0))\n",
    "    utils.plot.plot_geometry(sz_dc.geom, plotter=plotter_dc, color='green', width=2)\n",
    "    utils.plot.plot_couplingdepth(sz_dc.geom.slab_spline, plotter=plotter_dc, render_points_as_spheres=True, \n",
    "                             point_size=10.0, color='green')\n",
    "    utils.plot.plot_show(plotter_dc)\n",
    "    utils.plot.plot_save(plotter_dc, output_folder / f\"sz_steady_tests_dc{coupling_depth}_solution.png\")\n",
    "\n",
    "    # clean up\n",
    "    del plotter_dc\n",
    "    del sz_dc\n",
    "    del geom_dc\n",
    "    del slab_dc\n"
   ]
  },
  {
   "cell_type": "markdown",
   "id": "39d0b0e2",
   "metadata": {},
   "source": [
    "As well as visualizing the solutions we can see what effect varying the coupling depth has on the global diagnostics from the benchmark."
   ]
  },
  {
   "cell_type": "code",
   "execution_count": null,
   "id": "2e4909cf",
   "metadata": {},
   "outputs": [],
   "source": [
    "# print the varying coupling depth output\n",
    "print('')\n",
    "print('{:<12} {:<12} {:<12} {:<12} {:<12} {:<12}'.format('d_c', 'T_ndof', 'T_{200,-100}', 'Tbar_s', 'Tbar_w', 'Vrmsw'))\n",
    "for dc, diag in zip(coupling_depths, diagnostics):\n",
    "    print('{:<12.4g} {:<12d} {:<12.4f} {:<12.4f} {:<12.4f} {:<12.4f}'.format(dc, *diag.values()))"
   ]
  },
  {
   "cell_type": "markdown",
   "id": "ae3d9ad8",
   "metadata": {},
   "source": [
    "Note the dramatic drop in temperature at (200, -100), `T_{200,-100}`, once the coupling depth reaches 100km."
   ]
  },
  {
   "cell_type": "markdown",
   "id": "9fdf1aa4-c3b1-4ff8-966a-53338137bab3",
   "metadata": {},
   "source": [
    "### Global suite examples"
   ]
  },
  {
   "cell_type": "markdown",
   "id": "ef70e714-df11-4051-b02e-c4e5073543f5",
   "metadata": {},
   "source": [
    "#### Alaska Peninsula (dislocation creep, low res)"
   ]
  },
  {
   "cell_type": "code",
   "execution_count": null,
   "id": "971c8e26-cb91-4caa-8f0e-ebc7adc78079",
   "metadata": {
    "scrolled": true
   },
   "outputs": [],
   "source": [
    "resscale_ak = 5.0\n",
    "szdict_ak = allsz_params['01_Alaska_Peninsula']\n",
    "slab_ak = create_slab(szdict_ak['xs'], szdict_ak['ys'], resscale_ak, szdict_ak['lc_depth'])\n",
    "geom_ak = create_sz_geometry(slab_ak, resscale_ak, szdict_ak['sztype'], szdict_ak['io_depth'], szdict_ak['extra_width'], \n",
    "                             szdict_ak['coast_distance'], szdict_ak['lc_depth'], szdict_ak['uc_depth'])\n",
    "sz_ak = SteadyDislSubductionProblem(geom_ak, **szdict_ak)"
   ]
  },
  {
   "cell_type": "code",
   "execution_count": null,
   "id": "c9c8e806-6985-456e-8e00-250b623664db",
   "metadata": {},
   "outputs": [],
   "source": [
    "print(\"\\nSolving steady state flow with isoviscous rheology...\")\n",
    "sz_ak.solve()"
   ]
  },
  {
   "cell_type": "code",
   "execution_count": null,
   "id": "474888b8-2b80-4de7-8f58-5903cf47beff",
   "metadata": {},
   "outputs": [],
   "source": [
    "plotter_ak = utils.plot.plot_scalar(sz_ak.T_i, scale=sz_ak.T0, gather=True, cmap='coolwarm', scalar_bar_args={'title': 'Temperature (deg C)', 'bold':True})\n",
    "utils.plot.plot_vector_glyphs(sz_ak.vw_i, plotter=plotter_ak, gather=True, factor=0.1, color='k', scale=utils.mps_to_mmpyr(sz_ak.v0))\n",
    "utils.plot.plot_vector_glyphs(sz_ak.vs_i, plotter=plotter_ak, gather=True, factor=0.1, color='k', scale=utils.mps_to_mmpyr(sz_ak.v0))\n",
    "utils.plot.plot_geometry(sz_ak.geom, plotter=plotter_ak, color='green', width=2)\n",
    "utils.plot.plot_couplingdepth(sz_ak.geom.slab_spline, plotter=plotter_ak, render_points_as_spheres=True, point_size=10.0, color='green')\n",
    "utils.plot.plot_show(plotter_ak)\n",
    "utils.plot.plot_save(plotter_ak, output_folder / \"sz_steady_tests_ak_solution.png\")"
   ]
  },
  {
   "cell_type": "code",
   "execution_count": null,
   "id": "8f4a4296-34b4-4777-b868-ac869a3c6de2",
   "metadata": {},
   "outputs": [],
   "source": [
    "eta_ak = sz_ak.project_dislocationcreep_viscosity()\n",
    "plotter_eta_ak = utils.plot.plot_scalar(eta_ak, scale=sz_ak.eta0, gather=True, log_scale=True, show_edges=True, scalar_bar_args={'title': 'Viscosity (Pa s)', 'bold':True})\n",
    "utils.plot.plot_geometry(sz_ak.geom, plotter=plotter_eta_ak, color='green', width=2)\n",
    "utils.plot.plot_couplingdepth(sz_ak.geom.slab_spline, plotter=plotter_eta_ak, render_points_as_spheres=True, point_size=10.0, color='green')\n",
    "utils.plot.plot_show(plotter_eta_ak)\n",
    "utils.plot.plot_save(plotter_eta_ak, output_folder / \"sz_steady_tests_ak_eta.png\")"
   ]
  },
  {
   "cell_type": "code",
   "execution_count": null,
   "id": "6447f6cb",
   "metadata": {},
   "outputs": [],
   "source": [
    "# clean up\n",
    "del plotter_eta_ak\n",
    "del sz_ak\n",
    "del geom_ak\n",
    "del slab_ak"
   ]
  },
  {
   "cell_type": "markdown",
   "id": "c7befbfa-09e0-4d54-9b33-d83c7eaeb15a",
   "metadata": {},
   "source": [
    "#### N Antilles (dislocation creep, low res)"
   ]
  },
  {
   "cell_type": "code",
   "execution_count": null,
   "id": "686bf3ae-6c56-47f9-afa6-85341b4bff43",
   "metadata": {
    "scrolled": true
   },
   "outputs": [],
   "source": [
    "resscale_ant = 5.0\n",
    "szdict_ant = allsz_params['19_N_Antilles']\n",
    "slab_ant = create_slab(szdict_ant['xs'], szdict_ant['ys'], resscale_ant, szdict_ant['lc_depth'])\n",
    "geom_ant = create_sz_geometry(slab_ant, resscale_ant, szdict_ant['sztype'], szdict_ant['io_depth'], szdict_ant['extra_width'], \n",
    "                              szdict_ant['coast_distance'], szdict_ant['lc_depth'], szdict_ant['uc_depth'])\n",
    "sz_ant = SteadyDislSubductionProblem(geom_ant, **szdict_ant)"
   ]
  },
  {
   "cell_type": "code",
   "execution_count": null,
   "id": "072989a1-a9ba-4eca-b984-c695f3d3b4ae",
   "metadata": {},
   "outputs": [],
   "source": [
    "print(\"\\nSolving steady state flow with isoviscous rheology...\")\n",
    "sz_ant.solve()"
   ]
  },
  {
   "cell_type": "code",
   "execution_count": null,
   "id": "eb2e133b-9e76-4132-b5b1-8fa675b063ab",
   "metadata": {},
   "outputs": [],
   "source": [
    "plotter_ant = utils.plot.plot_scalar(sz_ant.T_i, scale=sz_ant.T0, gather=True, cmap='coolwarm', scalar_bar_args={'title': 'Temperature (deg C)', 'bold':True})\n",
    "utils.plot.plot_vector_glyphs(sz_ant.vw_i, plotter=plotter_ant, gather=True, factor=0.25, color='k', scale=utils.mps_to_mmpyr(sz_ant.v0))\n",
    "utils.plot.plot_vector_glyphs(sz_ant.vs_i, plotter=plotter_ant, gather=True, factor=0.25, color='k', scale=utils.mps_to_mmpyr(sz_ant.v0))\n",
    "utils.plot.plot_geometry(sz_ant.geom, plotter=plotter_ant, color='green', width=2)\n",
    "utils.plot.plot_couplingdepth(sz_ant.geom.slab_spline, plotter=plotter_ant, render_points_as_spheres=True, point_size=10.0, color='green')\n",
    "utils.plot.plot_show(plotter_ant)\n",
    "utils.plot.plot_save(plotter_ant, output_folder / \"sz_steady_tests_ant_solution.png\")"
   ]
  },
  {
   "cell_type": "code",
   "execution_count": null,
   "id": "83b38a67-797f-4f25-a36a-73cf1049f9d5",
   "metadata": {},
   "outputs": [],
   "source": [
    "eta_ant = sz_ant.project_dislocationcreep_viscosity()\n",
    "plotter_eta_ant = utils.plot.plot_scalar(eta_ant, scale=sz_ant.eta0, gather=True, log_scale=True, show_edges=True, scalar_bar_args={'title': 'Viscosity (Pa s)', 'bold':True})\n",
    "utils.plot.plot_geometry(sz_ant.geom, plotter=plotter_eta_ant, color='green', width=2)\n",
    "utils.plot.plot_couplingdepth(sz_ant.geom.slab_spline, plotter=plotter_eta_ant, render_points_as_spheres=True, point_size=10.0, color='green')\n",
    "utils.plot.plot_show(plotter_eta_ant)\n",
    "utils.plot.plot_save(plotter_eta_ant, output_folder / \"sz_steady_tests_ant_eta.png\")"
   ]
  },
  {
   "cell_type": "code",
   "execution_count": null,
   "id": "5c776aa2",
   "metadata": {},
   "outputs": [],
   "source": [
    "# clean up\n",
    "del plotter_eta_ant\n",
    "del sz_ant\n",
    "del geom_ant\n",
    "del slab_ant"
   ]
  },
  {
   "cell_type": "code",
   "execution_count": null,
   "id": "69b4248d",
   "metadata": {},
   "outputs": [],
   "source": []
  }
 ],
 "metadata": {
  "kernelspec": {
   "display_name": "dolfinx-env",
   "language": "python",
   "name": "python3"
  },
  "language_info": {
   "codemirror_mode": {
    "name": "ipython",
    "version": 3
   },
   "file_extension": ".py",
   "mimetype": "text/x-python",
   "name": "python",
   "nbconvert_exporter": "python",
   "pygments_lexer": "ipython3",
   "version": "3.12.3"
  }
 },
 "nbformat": 4,
 "nbformat_minor": 5
}
