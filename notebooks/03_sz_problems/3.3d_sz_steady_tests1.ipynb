{
 "cells": [
  {
   "cell_type": "markdown",
   "id": "6827fa3a",
   "metadata": {},
   "source": [
    "# Steady-State Subduction Zone Setup\n",
    "\n",
    "Authors: Kidus Teshome, Cian Wilson"
   ]
  },
  {
   "cell_type": "markdown",
   "id": "c0953de3-f2c4-4904-b0bf-248e08e9e734",
   "metadata": {},
   "source": [
    "## Themes and variations - higher resolution\n",
    "\n",
    "In this notebook we will try increasing the resolution of the benchmark cases to see if we match the benchmarks better."
   ]
  },
  {
   "cell_type": "markdown",
   "id": "6e34c38f-5d19-4741-a5f2-03db72ace774",
   "metadata": {},
   "source": [
    "### Preamble\n",
    "\n",
    "Let's start by adding the path to the modules in the `python` folder to the system path (so we can find the our custom modules)."
   ]
  },
  {
   "cell_type": "code",
   "execution_count": null,
   "id": "a40c0a8e-4ebd-4e5e-936b-0e2386aba3d8",
   "metadata": {},
   "outputs": [],
   "source": [
    "import sys, os\n",
    "basedir = ''\n",
    "if \"__file__\" in globals(): basedir = os.path.dirname(__file__)\n",
    "sys.path.append(os.path.join(basedir, os.path.pardir, os.path.pardir, 'python'))"
   ]
  },
  {
   "cell_type": "markdown",
   "id": "0d485e8c-03d6-4828-868b-815f5b87647b",
   "metadata": {},
   "source": [
    "Then load everything we need from `sz_problems` and other modules."
   ]
  },
  {
   "cell_type": "code",
   "execution_count": null,
   "id": "ab44bc2a-31ac-45b3-9d32-165412442cd1",
   "metadata": {},
   "outputs": [],
   "source": [
    "import utils\n",
    "from sz_problems.sz_params import default_params, allsz_params\n",
    "from sz_problems.sz_slab import create_slab\n",
    "from sz_problems.sz_geometry import create_sz_geometry\n",
    "from sz_problems.sz_steady_isoviscous import SteadyIsoSubductionProblem\n",
    "from sz_problems.sz_steady_dislcreep import SteadyDislSubductionProblem\n",
    "import pathlib\n",
    "output_folder = pathlib.Path(os.path.join(basedir, \"output\"))\n",
    "output_folder.mkdir(exist_ok=True, parents=True)"
   ]
  },
  {
   "cell_type": "markdown",
   "id": "be7a5d97-ae8f-48eb-97c6-78af570ceaeb",
   "metadata": {},
   "source": [
    "### Benchmark case 1"
   ]
  },
  {
   "cell_type": "code",
   "execution_count": null,
   "id": "c5d78973-cca1-48b7-97e3-4fc11c4f192c",
   "metadata": {},
   "outputs": [],
   "source": [
    "xs = [0.0, 140.0, 240.0, 400.0]\n",
    "ys = [0.0, -70.0, -120.0, -200.0]\n",
    "lc_depth = 40\n",
    "uc_depth = 15\n",
    "coast_distance = 0\n",
    "extra_width = 0\n",
    "sztype = 'continental'\n",
    "io_depth_1 = 139\n",
    "A      = 100.0      # age of subducting slab (Myr)\n",
    "qs     = 0.065      # surface heat flux (W/m^2)\n",
    "Vs     = 100.0      # slab speed (mm/yr)"
   ]
  },
  {
   "cell_type": "code",
   "execution_count": null,
   "id": "09a871ee-7a0c-4c20-bd50-49ed66573f31",
   "metadata": {
    "scrolled": true
   },
   "outputs": [],
   "source": [
    "resscale2 = 2.5\n",
    "slab_resscale2 = create_slab(xs, ys, resscale2, lc_depth)\n",
    "geom_resscale2 = create_sz_geometry(slab_resscale2, resscale2, sztype, io_depth_1, extra_width, \n",
    "                           coast_distance, lc_depth, uc_depth)\n",
    "sz_case1_resscale2 = SteadyIsoSubductionProblem(geom_resscale2, A=A, Vs=Vs, sztype=sztype, qs=qs)"
   ]
  },
  {
   "cell_type": "code",
   "execution_count": null,
   "id": "f83f0228-fa22-4e59-8079-c3578530526e",
   "metadata": {},
   "outputs": [],
   "source": [
    "print(\"\\nSolving steady state flow with isoviscous rheology...\")\n",
    "sz_case1_resscale2.solve()"
   ]
  },
  {
   "cell_type": "code",
   "execution_count": null,
   "id": "9ae8f156-5cdb-41fe-a371-98a001157944",
   "metadata": {},
   "outputs": [],
   "source": [
    "diag_resscale2 = sz_case1_resscale2.get_diagnostics()\n",
    "\n",
    "print('')\n",
    "print('{:<12} {:<12} {:<12} {:<12} {:<12} {:<12}'.format('resscale', 'T_ndof', 'T_{200,-100}', 'Tbar_s', 'Tbar_w', 'Vrmsw'))\n",
    "print('{:<12.4g} {:<12d} {:<12.4f} {:<12.4f} {:<12.4f} {:<12.4f}'.format(resscale2, *diag_resscale2.values()))"
   ]
  },
  {
   "cell_type": "markdown",
   "id": "7a222a93-cc89-43d3-8666-27095bebeff5",
   "metadata": {},
   "source": [
    "For comparison here are the values reported for case 1 using [TerraFERMA](https://terraferma.github.io) in [Wilson & van Keken, 2023](http://dx.doi.org/10.1186/s40645-023-00588-6):\n",
    "\n",
    "| `resscale` | $T_{\\text{ndof}} $ | $T_{(200,-100)}^*$ | $\\overline{T}_s^*$ | $ \\overline{T}_w^* $ |  $V_{\\text{rms},w}^*$ |\n",
    "| - | - | - | - | - | - |\n",
    "| 2.0 | 21403  | 517.17 | 451.83 | 926.62 | 34.64 |\n",
    "| 1.0 | 83935  | 516.95 | 451.71 | 926.33 | 34.64 |\n",
    "| 0.5 | 332307 | 516.86 | 451.63 | 926.15 | 34.64 |"
   ]
  },
  {
   "cell_type": "code",
   "execution_count": null,
   "id": "414788ff-fe42-4de4-a88b-4c6a902a505a",
   "metadata": {},
   "outputs": [],
   "source": [
    "plotter_case1_resscale2 = utils.plot.plot_scalar(sz_case1_resscale2.T_i, scale=sz_case1_resscale2.T0, gather=True, cmap='coolwarm', scalar_bar_args={'title': 'Temperature (deg C)', 'bold':True})\n",
    "utils.plot.plot_vector_glyphs(sz_case1_resscale2.vw_i, plotter=plotter_case1_resscale2, gather=True, factor=0.05, color='k', scale=utils.mps_to_mmpyr(sz_case1_resscale2.v0))\n",
    "utils.plot.plot_vector_glyphs(sz_case1_resscale2.vs_i, plotter=plotter_case1_resscale2, gather=True, factor=0.05, color='k', scale=utils.mps_to_mmpyr(sz_case1_resscale2.v0))\n",
    "utils.plot.plot_geometry(sz_case1_resscale2.geom, plotter=plotter_case1_resscale2, color='green', width=2)\n",
    "utils.plot.plot_couplingdepth(sz_case1_resscale2.geom.slab_spline, plotter=plotter_case1_resscale2, render_points_as_spheres=True, point_size=10.0, color='green')\n",
    "utils.plot.plot_show(plotter_case1_resscale2)\n",
    "utils.plot.plot_save(plotter_case1_resscale2, output_folder / \"sz_steady_tests_case1_resscale2_solution.png\")"
   ]
  },
  {
   "cell_type": "code",
   "execution_count": null,
   "id": "a8c28ee4",
   "metadata": {},
   "outputs": [],
   "source": [
    "# clean up\n",
    "del plotter_case1_resscale2\n",
    "del sz_case1_resscale2\n",
    "del geom_resscale2"
   ]
  },
  {
   "cell_type": "markdown",
   "id": "9e25f250-9073-46c4-b74f-b2de7f8af42c",
   "metadata": {},
   "source": [
    "### Benchmark case 2"
   ]
  },
  {
   "cell_type": "code",
   "execution_count": null,
   "id": "7e189954-61ca-4261-b475-bc9b0c26bfe7",
   "metadata": {
    "scrolled": true
   },
   "outputs": [],
   "source": [
    "io_depth_2 = 154.0\n",
    "geom_case2_resscale2 = create_sz_geometry(slab_resscale2, resscale2, sztype, io_depth_2, extra_width, \n",
    "                                          coast_distance, lc_depth, uc_depth)\n",
    "sz_case2_resscale2 = SteadyDislSubductionProblem(geom_case2_resscale2, A=A, Vs=Vs, sztype=sztype, qs=qs)"
   ]
  },
  {
   "cell_type": "code",
   "execution_count": null,
   "id": "766d5e1f-094c-457d-9213-7bed949e3029",
   "metadata": {},
   "outputs": [],
   "source": [
    "print(\"\\nSolving steady state flow with dislocation creep rheology...\")\n",
    "sz_case2_resscale2.solve()"
   ]
  },
  {
   "cell_type": "code",
   "execution_count": null,
   "id": "9b999ed9-2934-4c26-9c5a-d22240c7e580",
   "metadata": {},
   "outputs": [],
   "source": [
    "diag_case2_resscale2 = sz_case2_resscale2.get_diagnostics()\n",
    "\n",
    "print('')\n",
    "print('{:<12} {:<12} {:<12} {:<12} {:<12} {:<12}'.format('resscale', 'T_ndof', 'T_{200,-100}', 'Tbar_s', 'Tbar_w', 'Vrmsw'))\n",
    "print('{:<12.4g} {:<12d} {:<12.4f} {:<12.4f} {:<12.4f} {:<12.4f}'.format(resscale2, *diag_case2_resscale2.values()))"
   ]
  },
  {
   "cell_type": "markdown",
   "id": "e4aa4549-beb7-491d-81b6-e8085d828222",
   "metadata": {},
   "source": [
    "For comparison here are the values reported for case 2 using [TerraFERMA](https://terraferma.github.io) in [Wilson & van Keken, 2023](http://dx.doi.org/10.1186/s40645-023-00588-6):\n",
    "\n",
    "| `resscale` | $T_{\\text{ndof}} $ | $T_{(200,-100)}^*$ | $\\overline{T}_s^*$ | $ \\overline{T}_w^* $ |  $V_{\\text{rms},w}^*$ |\n",
    "| - | - | - | - | - | - |\n",
    "| 2.0 | 21403  | 683.05 | 571.58 | 936.65 | 40.89 |\n",
    "| 1.0 | 83935 | 682.87 | 572.23 | 936.11 | 40.78 |\n",
    "| 0.5 | 332307 | 682.80 | 572.05 | 937.37 | 40.77 |"
   ]
  },
  {
   "cell_type": "code",
   "execution_count": null,
   "id": "1ea98d39-cf44-4aa9-901b-0ef6df4d2edc",
   "metadata": {},
   "outputs": [],
   "source": [
    "plotter_case2_resscale2 = utils.plot.plot_scalar(sz_case2_resscale2.T_i, scale=sz_case2_resscale2.T0, gather=True, cmap='coolwarm', scalar_bar_args={'title': 'Temperature (deg C)', 'bold':True})\n",
    "utils.plot.plot_vector_glyphs(sz_case2_resscale2.vw_i, plotter=plotter_case2_resscale2, gather=True, factor=0.05, color='k', scale=utils.mps_to_mmpyr(sz_case2_resscale2.v0))\n",
    "utils.plot.plot_vector_glyphs(sz_case2_resscale2.vs_i, plotter=plotter_case2_resscale2, gather=True, factor=0.05, color='k', scale=utils.mps_to_mmpyr(sz_case2_resscale2.v0))\n",
    "utils.plot.plot_geometry(sz_case2_resscale2.geom, plotter=plotter_case2_resscale2, color='green', width=2)\n",
    "utils.plot.plot_couplingdepth(sz_case2_resscale2.geom.slab_spline, plotter=plotter_case2_resscale2, render_points_as_spheres=True, point_size=10.0, color='green')\n",
    "utils.plot.plot_show(plotter_case2_resscale2)\n",
    "utils.plot.plot_save(plotter_case2_resscale2, output_folder / \"sz_steady_tests_case2_resscale2_solution.png\")"
   ]
  },
  {
   "cell_type": "code",
   "execution_count": null,
   "id": "ddee3c37",
   "metadata": {},
   "outputs": [],
   "source": [
    "# clean up\n",
    "del plotter_case2_resscale2\n",
    "del sz_case2_resscale2\n",
    "del geom_case2_resscale2\n",
    "del slab_resscale2"
   ]
  },
  {
   "cell_type": "markdown",
   "id": "a23a7c21",
   "metadata": {},
   "source": [
    "In the [next notebook](./3.3e_sz_steady_tests2.ipynb) we will try seeing the effect of varying the coupling depth."
   ]
  },
  {
   "cell_type": "markdown",
   "id": "bda5d826",
   "metadata": {},
   "source": []
  }
 ],
 "metadata": {
  "kernelspec": {
   "display_name": "dolfinx-env",
   "language": "python",
   "name": "python3"
  },
  "language_info": {
   "codemirror_mode": {
    "name": "ipython",
    "version": 3
   },
   "file_extension": ".py",
   "mimetype": "text/x-python",
   "name": "python",
   "nbconvert_exporter": "python",
   "pygments_lexer": "ipython3",
   "version": "3.12.3"
  }
 },
 "nbformat": 4,
 "nbformat_minor": 5
}
