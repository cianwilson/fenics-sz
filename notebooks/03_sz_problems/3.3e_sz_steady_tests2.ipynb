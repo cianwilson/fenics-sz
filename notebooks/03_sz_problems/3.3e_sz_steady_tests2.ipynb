{
 "cells": [
  {
   "cell_type": "markdown",
   "id": "6827fa3a",
   "metadata": {},
   "source": [
    "# Steady-State Subduction Zone Setup\n",
    "\n",
    "Authors: Kidus Teshome, Cian Wilson"
   ]
  },
  {
   "cell_type": "markdown",
   "id": "1d0a273d",
   "metadata": {},
   "source": [
    "## Themes and variations - varying the coupling depth\n",
    "\n",
    "In this notebook we will try seeing the effect of varying the coupling depth on the benchmark solution."
   ]
  },
  {
   "cell_type": "markdown",
   "id": "6e34c38f-5d19-4741-a5f2-03db72ace774",
   "metadata": {},
   "source": [
    "### Preamble\n",
    "\n",
    "Let's start by adding the path to the modules in the `python` folder to the system path (so we can find the our custom modules)."
   ]
  },
  {
   "cell_type": "code",
   "execution_count": null,
   "id": "a40c0a8e-4ebd-4e5e-936b-0e2386aba3d8",
   "metadata": {},
   "outputs": [],
   "source": [
    "import sys, os\n",
    "basedir = ''\n",
    "if \"__file__\" in globals(): basedir = os.path.dirname(__file__)\n",
    "sys.path.append(os.path.join(basedir, os.path.pardir, os.path.pardir, 'python'))"
   ]
  },
  {
   "cell_type": "markdown",
   "id": "0d485e8c-03d6-4828-868b-815f5b87647b",
   "metadata": {},
   "source": [
    "Then load everything we need from `sz_problems` and other modules."
   ]
  },
  {
   "cell_type": "code",
   "execution_count": null,
   "id": "ab44bc2a-31ac-45b3-9d32-165412442cd1",
   "metadata": {},
   "outputs": [],
   "source": [
    "import utils\n",
    "from sz_problems.sz_params import default_params, allsz_params\n",
    "from sz_problems.sz_slab import create_slab\n",
    "from sz_problems.sz_geometry import create_sz_geometry\n",
    "from sz_problems.sz_steady_isoviscous import SteadyIsoSubductionProblem\n",
    "from sz_problems.sz_steady_dislcreep import SteadyDislSubductionProblem\n",
    "import pathlib\n",
    "output_folder = pathlib.Path(os.path.join(basedir, \"output\"))\n",
    "output_folder.mkdir(exist_ok=True, parents=True)"
   ]
  },
  {
   "cell_type": "markdown",
   "id": "c1153e00",
   "metadata": {},
   "source": [
    "We will now re-use all of the parameters for case 2"
   ]
  },
  {
   "cell_type": "code",
   "execution_count": null,
   "id": "fd41e4aa",
   "metadata": {},
   "outputs": [],
   "source": [
    "xs = [0.0, 140.0, 240.0, 400.0]\n",
    "ys = [0.0, -70.0, -120.0, -200.0]\n",
    "lc_depth = 40\n",
    "uc_depth = 15\n",
    "coast_distance = 0\n",
    "extra_width = 0\n",
    "sztype = 'continental'\n",
    "io_depth_2 = 154.0\n",
    "A      = 100.0      # age of subducting slab (Myr)\n",
    "qs     = 0.065      # surface heat flux (W/m^2)\n",
    "Vs     = 100.0      # slab speed (mm/yr)"
   ]
  },
  {
   "cell_type": "markdown",
   "id": "3605dad5",
   "metadata": {},
   "source": [
    "but vary the coupling depth by passing in an additional keyword argument `coupling_depth` to `create_slab`.  The rest of the solution procedure is the same as [before](./3.3d_sz_steady_tests1.ipynb).\n",
    "\n",
    "Let's loop over a series of coupling depths to see how varying it changes the solution."
   ]
  },
  {
   "cell_type": "code",
   "execution_count": null,
   "id": "46f01873",
   "metadata": {},
   "outputs": [],
   "source": [
    "# set a list of coupling depths to try\n",
    "coupling_depths = [60.0, 80.0, 100.0]\n",
    "resscale3 = 3.0\n",
    "\n",
    "# set up a list to save the diagnostics from each\n",
    "diagnostics = []\n",
    "# loop over the couplings depths\n",
    "for coupling_depth in coupling_depths:\n",
    "    # create the slab object, all of the input arguments are the same as in case 2\n",
    "    # but this time we also pass in the coupling_depth keyword argument to override\n",
    "    # the default value (80 km)\n",
    "    slab_dc = create_slab(xs, ys, resscale3, lc_depth, coupling_depth=coupling_depth)\n",
    "    # set up the geometry\n",
    "    geom_dc = create_sz_geometry(slab_dc, resscale3, sztype, io_depth_2, extra_width, \n",
    "                                            coast_distance, lc_depth, uc_depth)\n",
    "    # set up the subduction zone problem\n",
    "    sz_dc = SteadyDislSubductionProblem(geom_dc, A=A, Vs=Vs, sztype=sztype, qs=qs)\n",
    "\n",
    "    # solve the steady state problem\n",
    "    if sz_dc.comm.rank == 0: print(f\"\\nSolving steady state flow with coupling depth = {coupling_depth}km...\")\n",
    "    sz_dc.solve()\n",
    "\n",
    "    # retrieve the diagnostics\n",
    "    diagnostics.append(sz_dc.get_diagnostics())\n",
    "\n",
    "    # plot the solution\n",
    "    plotter_dc = utils.plot.plot_scalar(sz_dc.T_i, scale=sz_dc.T0, gather=True, cmap='coolwarm', \n",
    "                                   scalar_bar_args={'title': 'Temperature (deg C)', 'bold':True})\n",
    "    utils.plot.plot_vector_glyphs(sz_dc.vw_i, plotter=plotter_dc, gather=True, factor=0.05, color='k', \n",
    "                             scale=utils.mps_to_mmpyr(sz_dc.v0))\n",
    "    utils.plot.plot_vector_glyphs(sz_dc.vs_i, plotter=plotter_dc, gather=True, factor=0.05, color='k', \n",
    "                             scale=utils.mps_to_mmpyr(sz_dc.v0))\n",
    "    utils.plot.plot_geometry(sz_dc.geom, plotter=plotter_dc, color='green', width=2)\n",
    "    utils.plot.plot_couplingdepth(sz_dc.geom.slab_spline, plotter=plotter_dc, render_points_as_spheres=True, \n",
    "                             point_size=10.0, color='green')\n",
    "    utils.plot.plot_show(plotter_dc)\n",
    "    utils.plot.plot_save(plotter_dc, output_folder / f\"sz_steady_tests_dc{coupling_depth}_solution.png\")\n",
    "\n",
    "    # clean up\n",
    "    del plotter_dc\n",
    "    del sz_dc\n",
    "    del geom_dc\n",
    "    del slab_dc\n"
   ]
  },
  {
   "cell_type": "markdown",
   "id": "39d0b0e2",
   "metadata": {},
   "source": [
    "As well as visualizing the solutions we can see what effect varying the coupling depth has on the global diagnostics from the benchmark."
   ]
  },
  {
   "cell_type": "code",
   "execution_count": null,
   "id": "2e4909cf",
   "metadata": {},
   "outputs": [],
   "source": [
    "# print the varying coupling depth output\n",
    "print('')\n",
    "print('{:<12} {:<12} {:<12} {:<12} {:<12} {:<12}'.format('d_c', 'T_ndof', 'T_{200,-100}', 'Tbar_s', 'Tbar_w', 'Vrmsw'))\n",
    "for dc, diag in zip(coupling_depths, diagnostics):\n",
    "    print('{:<12.4g} {:<12d} {:<12.4f} {:<12.4f} {:<12.4f} {:<12.4f}'.format(dc, *diag.values()))"
   ]
  },
  {
   "cell_type": "markdown",
   "id": "ae3d9ad8",
   "metadata": {},
   "source": [
    "Note the dramatic drop in temperature at (200, -100), `T_{200,-100}`, once the coupling depth reaches 100km.\n",
    "\n",
    "In the [next notebook](./3.3f_sz_steady_tests3.ipynb) we will try more realistic geometries."
   ]
  },
  {
   "cell_type": "code",
   "execution_count": null,
   "id": "69b4248d",
   "metadata": {},
   "outputs": [],
   "source": []
  }
 ],
 "metadata": {
  "kernelspec": {
   "display_name": "dolfinx-env",
   "language": "python",
   "name": "python3"
  },
  "language_info": {
   "codemirror_mode": {
    "name": "ipython",
    "version": 3
   },
   "file_extension": ".py",
   "mimetype": "text/x-python",
   "name": "python",
   "nbconvert_exporter": "python",
   "pygments_lexer": "ipython3",
   "version": "3.12.3"
  }
 },
 "nbformat": 4,
 "nbformat_minor": 5
}
