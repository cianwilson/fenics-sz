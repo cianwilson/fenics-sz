{
 "cells": [
  {
   "cell_type": "markdown",
   "id": "6827fa3a",
   "metadata": {},
   "source": [
    "# Steady-State Subduction Zone Setup\n",
    "\n",
    "Authors: Kidus Teshome, Cian Wilson"
   ]
  },
  {
   "cell_type": "markdown",
   "id": "1d0a273d",
   "metadata": {},
   "source": [
    "## Themes and variations - global suite geometries\n",
    "\n",
    "In this notebook we will try using more realistic geometries from the global suite."
   ]
  },
  {
   "cell_type": "markdown",
   "id": "6e34c38f-5d19-4741-a5f2-03db72ace774",
   "metadata": {},
   "source": [
    "### Preamble\n",
    "\n",
    "Let's start by adding the path to the modules in the `python` folder to the system path (so we can find the our custom modules)."
   ]
  },
  {
   "cell_type": "code",
   "execution_count": null,
   "id": "a40c0a8e-4ebd-4e5e-936b-0e2386aba3d8",
   "metadata": {},
   "outputs": [],
   "source": [
    "import sys, os\n",
    "basedir = ''\n",
    "if \"__file__\" in globals(): basedir = os.path.dirname(__file__)\n",
    "sys.path.append(os.path.join(basedir, os.path.pardir, os.path.pardir, 'python'))"
   ]
  },
  {
   "cell_type": "markdown",
   "id": "0d485e8c-03d6-4828-868b-815f5b87647b",
   "metadata": {},
   "source": [
    "Then load everything we need from `sz_problems` and other modules."
   ]
  },
  {
   "cell_type": "code",
   "execution_count": null,
   "id": "ab44bc2a-31ac-45b3-9d32-165412442cd1",
   "metadata": {},
   "outputs": [],
   "source": [
    "import utils\n",
    "from sz_problems.sz_params import default_params, allsz_params\n",
    "from sz_problems.sz_slab import create_slab\n",
    "from sz_problems.sz_geometry import create_sz_geometry\n",
    "from sz_problems.sz_steady_isoviscous import SteadyIsoSubductionProblem\n",
    "from sz_problems.sz_steady_dislcreep import SteadyDislSubductionProblem\n",
    "import pathlib\n",
    "output_folder = pathlib.Path(os.path.join(basedir, \"output\"))\n",
    "output_folder.mkdir(exist_ok=True, parents=True)"
   ]
  },
  {
   "cell_type": "markdown",
   "id": "ef70e714-df11-4051-b02e-c4e5073543f5",
   "metadata": {},
   "source": [
    "### Alaska Peninsula (dislocation creep, low res)"
   ]
  },
  {
   "cell_type": "code",
   "execution_count": null,
   "id": "971c8e26-cb91-4caa-8f0e-ebc7adc78079",
   "metadata": {
    "scrolled": true
   },
   "outputs": [],
   "source": [
    "resscale_ak = 5.0\n",
    "szdict_ak = allsz_params['01_Alaska_Peninsula']\n",
    "slab_ak = create_slab(szdict_ak['xs'], szdict_ak['ys'], resscale_ak, szdict_ak['lc_depth'])\n",
    "geom_ak = create_sz_geometry(slab_ak, resscale_ak, szdict_ak['sztype'], szdict_ak['io_depth'], szdict_ak['extra_width'], \n",
    "                             szdict_ak['coast_distance'], szdict_ak['lc_depth'], szdict_ak['uc_depth'])\n",
    "sz_ak = SteadyDislSubductionProblem(geom_ak, **szdict_ak)"
   ]
  },
  {
   "cell_type": "code",
   "execution_count": null,
   "id": "c9c8e806-6985-456e-8e00-250b623664db",
   "metadata": {},
   "outputs": [],
   "source": [
    "print(\"\\nSolving steady state flow with isoviscous rheology...\")\n",
    "sz_ak.solve()"
   ]
  },
  {
   "cell_type": "code",
   "execution_count": null,
   "id": "474888b8-2b80-4de7-8f58-5903cf47beff",
   "metadata": {},
   "outputs": [],
   "source": [
    "plotter_ak = utils.plot.plot_scalar(sz_ak.T_i, scale=sz_ak.T0, gather=True, cmap='coolwarm', scalar_bar_args={'title': 'Temperature (deg C)', 'bold':True})\n",
    "utils.plot.plot_vector_glyphs(sz_ak.vw_i, plotter=plotter_ak, gather=True, factor=0.1, color='k', scale=utils.mps_to_mmpyr(sz_ak.v0))\n",
    "utils.plot.plot_vector_glyphs(sz_ak.vs_i, plotter=plotter_ak, gather=True, factor=0.1, color='k', scale=utils.mps_to_mmpyr(sz_ak.v0))\n",
    "utils.plot.plot_geometry(sz_ak.geom, plotter=plotter_ak, color='green', width=2)\n",
    "utils.plot.plot_couplingdepth(sz_ak.geom.slab_spline, plotter=plotter_ak, render_points_as_spheres=True, point_size=10.0, color='green')\n",
    "utils.plot.plot_show(plotter_ak)\n",
    "utils.plot.plot_save(plotter_ak, output_folder / \"sz_steady_tests_ak_solution.png\")"
   ]
  },
  {
   "cell_type": "code",
   "execution_count": null,
   "id": "8f4a4296-34b4-4777-b868-ac869a3c6de2",
   "metadata": {},
   "outputs": [],
   "source": [
    "eta_ak = sz_ak.project_dislocationcreep_viscosity()\n",
    "plotter_eta_ak = utils.plot.plot_scalar(eta_ak, scale=sz_ak.eta0, gather=True, log_scale=True, show_edges=True, scalar_bar_args={'title': 'Viscosity (Pa s)', 'bold':True})\n",
    "utils.plot.plot_geometry(sz_ak.geom, plotter=plotter_eta_ak, color='green', width=2)\n",
    "utils.plot.plot_couplingdepth(sz_ak.geom.slab_spline, plotter=plotter_eta_ak, render_points_as_spheres=True, point_size=10.0, color='green')\n",
    "utils.plot.plot_show(plotter_eta_ak)\n",
    "utils.plot.plot_save(plotter_eta_ak, output_folder / \"sz_steady_tests_ak_eta.png\")"
   ]
  },
  {
   "cell_type": "code",
   "execution_count": null,
   "id": "6447f6cb",
   "metadata": {},
   "outputs": [],
   "source": [
    "# clean up\n",
    "del plotter_eta_ak\n",
    "del sz_ak\n",
    "del geom_ak\n",
    "del slab_ak"
   ]
  },
  {
   "cell_type": "markdown",
   "id": "c7befbfa-09e0-4d54-9b33-d83c7eaeb15a",
   "metadata": {},
   "source": [
    "### N Antilles (dislocation creep, low res)"
   ]
  },
  {
   "cell_type": "code",
   "execution_count": null,
   "id": "686bf3ae-6c56-47f9-afa6-85341b4bff43",
   "metadata": {
    "scrolled": true
   },
   "outputs": [],
   "source": [
    "resscale_ant = 5.0\n",
    "szdict_ant = allsz_params['19_N_Antilles']\n",
    "slab_ant = create_slab(szdict_ant['xs'], szdict_ant['ys'], resscale_ant, szdict_ant['lc_depth'])\n",
    "geom_ant = create_sz_geometry(slab_ant, resscale_ant, szdict_ant['sztype'], szdict_ant['io_depth'], szdict_ant['extra_width'], \n",
    "                              szdict_ant['coast_distance'], szdict_ant['lc_depth'], szdict_ant['uc_depth'])\n",
    "sz_ant = SteadyDislSubductionProblem(geom_ant, **szdict_ant)"
   ]
  },
  {
   "cell_type": "code",
   "execution_count": null,
   "id": "072989a1-a9ba-4eca-b984-c695f3d3b4ae",
   "metadata": {},
   "outputs": [],
   "source": [
    "print(\"\\nSolving steady state flow with isoviscous rheology...\")\n",
    "sz_ant.solve()"
   ]
  },
  {
   "cell_type": "code",
   "execution_count": null,
   "id": "eb2e133b-9e76-4132-b5b1-8fa675b063ab",
   "metadata": {},
   "outputs": [],
   "source": [
    "plotter_ant = utils.plot.plot_scalar(sz_ant.T_i, scale=sz_ant.T0, gather=True, cmap='coolwarm', scalar_bar_args={'title': 'Temperature (deg C)', 'bold':True})\n",
    "utils.plot.plot_vector_glyphs(sz_ant.vw_i, plotter=plotter_ant, gather=True, factor=0.25, color='k', scale=utils.mps_to_mmpyr(sz_ant.v0))\n",
    "utils.plot.plot_vector_glyphs(sz_ant.vs_i, plotter=plotter_ant, gather=True, factor=0.25, color='k', scale=utils.mps_to_mmpyr(sz_ant.v0))\n",
    "utils.plot.plot_geometry(sz_ant.geom, plotter=plotter_ant, color='green', width=2)\n",
    "utils.plot.plot_couplingdepth(sz_ant.geom.slab_spline, plotter=plotter_ant, render_points_as_spheres=True, point_size=10.0, color='green')\n",
    "utils.plot.plot_show(plotter_ant)\n",
    "utils.plot.plot_save(plotter_ant, output_folder / \"sz_steady_tests_ant_solution.png\")"
   ]
  },
  {
   "cell_type": "code",
   "execution_count": null,
   "id": "83b38a67-797f-4f25-a36a-73cf1049f9d5",
   "metadata": {},
   "outputs": [],
   "source": [
    "eta_ant = sz_ant.project_dislocationcreep_viscosity()\n",
    "plotter_eta_ant = utils.plot.plot_scalar(eta_ant, scale=sz_ant.eta0, gather=True, log_scale=True, show_edges=True, scalar_bar_args={'title': 'Viscosity (Pa s)', 'bold':True})\n",
    "utils.plot.plot_geometry(sz_ant.geom, plotter=plotter_eta_ant, color='green', width=2)\n",
    "utils.plot.plot_couplingdepth(sz_ant.geom.slab_spline, plotter=plotter_eta_ant, render_points_as_spheres=True, point_size=10.0, color='green')\n",
    "utils.plot.plot_show(plotter_eta_ant)\n",
    "utils.plot.plot_save(plotter_eta_ant, output_folder / \"sz_steady_tests_ant_eta.png\")"
   ]
  },
  {
   "cell_type": "code",
   "execution_count": null,
   "id": "5c776aa2",
   "metadata": {},
   "outputs": [],
   "source": [
    "# clean up\n",
    "del plotter_eta_ant\n",
    "del sz_ant\n",
    "del geom_ant\n",
    "del slab_ant"
   ]
  },
  {
   "cell_type": "markdown",
   "id": "72e5c419",
   "metadata": {},
   "source": [
    "Having played with some test examples using a steady state solver we will [next](./3.4a_sz_benchmark_intro.ipynb) formally examine the published benchmark solutions and test how our implementation performs."
   ]
  },
  {
   "cell_type": "code",
   "execution_count": null,
   "id": "69b4248d",
   "metadata": {},
   "outputs": [],
   "source": []
  }
 ],
 "metadata": {
  "kernelspec": {
   "display_name": "dolfinx-env",
   "language": "python",
   "name": "python3"
  },
  "language_info": {
   "codemirror_mode": {
    "name": "ipython",
    "version": 3
   },
   "file_extension": ".py",
   "mimetype": "text/x-python",
   "name": "python",
   "nbconvert_exporter": "python",
   "pygments_lexer": "ipython3",
   "version": "3.12.3"
  }
 },
 "nbformat": 4,
 "nbformat_minor": 5
}
