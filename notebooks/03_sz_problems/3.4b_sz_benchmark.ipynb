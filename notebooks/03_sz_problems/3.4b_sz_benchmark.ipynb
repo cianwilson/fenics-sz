{
 "cells": [
  {
   "cell_type": "markdown",
   "id": "edf2fb7b-ac53-4d67-8fad-4f94f62adb7d",
   "metadata": {},
   "source": [
    "# Subduction Zone Benchmark\n",
    "\n",
    "Authors: Kidus Teshome, Cian Wilson"
   ]
  },
  {
   "cell_type": "markdown",
   "id": "842c5c4b-1f44-42f8-a589-da9f9a574ec8",
   "metadata": {},
   "source": [
    "## Convergence testing"
   ]
  },
  {
   "cell_type": "markdown",
   "id": "6e34c38f-5d19-4741-a5f2-03db72ace774",
   "metadata": {},
   "source": [
    "### Preamble\n",
    "\n",
    "Let's start by adding the path to the modules in the `python` folder to the system path (so we can find the our custom modules)."
   ]
  },
  {
   "cell_type": "code",
   "execution_count": null,
   "id": "a1c5193a-a7f7-4ee5-a2e1-27ba5e34e8af",
   "metadata": {},
   "outputs": [],
   "source": [
    "import sys, os\n",
    "basedir = ''\n",
    "if \"__file__\" in globals(): basedir = os.path.dirname(__file__)\n",
    "sys.path.append(os.path.join(basedir, os.path.pardir, os.path.pardir, 'python'))"
   ]
  },
  {
   "cell_type": "markdown",
   "id": "0d485e8c-03d6-4828-868b-815f5b87647b",
   "metadata": {},
   "source": [
    "Then load everything we need from `sz_problems` and other modules."
   ]
  },
  {
   "cell_type": "code",
   "execution_count": null,
   "id": "ab44bc2a-31ac-45b3-9d32-165412442cd1",
   "metadata": {},
   "outputs": [],
   "source": [
    "import utils\n",
    "from sz_problems.sz_params import default_params, allsz_params\n",
    "from sz_problems.sz_slab import create_slab\n",
    "from sz_problems.sz_geometry import create_sz_geometry\n",
    "from sz_problems.sz_steady_isoviscous import SteadyIsoSubductionProblem\n",
    "from sz_problems.sz_steady_dislcreep import SteadyDislSubductionProblem\n",
    "import pathlib\n",
    "output_folder = pathlib.Path(os.path.join(basedir, \"output\"))\n",
    "output_folder.mkdir(exist_ok=True, parents=True)"
   ]
  },
  {
   "cell_type": "markdown",
   "id": "be7a5d97-ae8f-48eb-97c6-78af570ceaeb",
   "metadata": {},
   "source": [
    "### Benchmark case 1"
   ]
  },
  {
   "cell_type": "code",
   "execution_count": null,
   "id": "3171c326-d56c-48b4-9bf7-11a30c8a1400",
   "metadata": {},
   "outputs": [],
   "source": [
    "def solve_benchmark_case1(resscale, petsc_options_s=None, petsc_options_T=None):\n",
    "    xs = [0.0, 140.0, 240.0, 400.0]\n",
    "    ys = [0.0, -70.0, -120.0, -200.0]\n",
    "    lc_depth = 40\n",
    "    uc_depth = 15\n",
    "    coast_distance = 0\n",
    "    extra_width = 0\n",
    "    sztype = 'continental'\n",
    "    io_depth = 139\n",
    "    A      = 100.0      # age of subducting slab (Myr)\n",
    "    qs     = 0.065      # surface heat flux (W/m^2)\n",
    "    Vs     = 100.0      # slab speed (mm/yr)\n",
    "\n",
    "    # create the slab\n",
    "    slab = create_slab(xs, ys, resscale, lc_depth)\n",
    "    # construct the geometry\n",
    "    geom = create_sz_geometry(slab, resscale, sztype, io_depth, extra_width, \n",
    "                               coast_distance, lc_depth, uc_depth)\n",
    "    # set up a subduction zone problem\n",
    "    sz = SteadyIsoSubductionProblem(geom, A=A, Vs=Vs, sztype=sztype, qs=qs)\n",
    "\n",
    "    # solve it using a steady state assumption and an isoviscous rheology\n",
    "    sz.solve(petsc_options_s=petsc_options_s, petsc_options_T=petsc_options_T)\n",
    "\n",
    "    # evaluate the diagnostics\n",
    "    diag = sz.get_diagnostics()\n",
    "\n",
    "    return diag"
   ]
  },
  {
   "cell_type": "code",
   "execution_count": null,
   "id": "09a871ee-7a0c-4c20-bd50-49ed66573f31",
   "metadata": {
    "scrolled": true,
    "tags": [
     "main"
    ]
   },
   "outputs": [],
   "source": [
    "resscales = [4.0, 2.0, 1.0]\n",
    "diagnostics_case1 = []\n",
    "for resscale in resscales:\n",
    "    diagnostics_case1.append((resscale, solve_benchmark_case1(resscale)))"
   ]
  },
  {
   "cell_type": "code",
   "execution_count": null,
   "id": "2d6cc26e-2d13-4e13-a970-5c405535ece1",
   "metadata": {
    "tags": [
     "main"
    ]
   },
   "outputs": [],
   "source": [
    "print('')\n",
    "print('{:<12} {:<12} {:<12} {:<12} {:<12} {:<12}'.format('resscale', 'T_ndof', 'T_{200,-100}', 'Tbar_s', 'Tbar_w', 'Vrmsw'))\n",
    "for resscale, diag in diagnostics_case1:\n",
    "    print('{:<12.4g} {:<12d} {:<12.4f} {:<12.4f} {:<12.4f} {:<12.4f}'.format(resscale, *diag.values()))    "
   ]
  },
  {
   "cell_type": "markdown",
   "id": "7a222a93-cc89-43d3-8666-27095bebeff5",
   "metadata": {},
   "source": [
    "For comparison here are the values reported for case 1 using [TerraFERMA](https://terraferma.github.io) in [Wilson & van Keken, 2023](http://dx.doi.org/10.1186/s40645-023-00588-6):\n",
    "\n",
    "| `resscale` | $T_{\\text{ndof}} $ | $T_{(200,-100)}^*$ | $\\overline{T}_s^*$ | $ \\overline{T}_w^* $ |  $V_{\\text{rms},w}^*$ |\n",
    "| - | - | - | - | - | - |\n",
    "| 2.0 | 21403  | 517.17 | 451.83 | 926.62 | 34.64 |\n",
    "| 1.0 | 83935  | 516.95 | 451.71 | 926.33 | 34.64 |\n",
    "| 0.5 | 332307 | 516.86 | 451.63 | 926.15 | 34.64 |\n",
    "\n",
    "Which we can test against our values."
   ]
  },
  {
   "cell_type": "code",
   "execution_count": null,
   "id": "46fc1ccf-5708-4c2c-8029-214183ce8c07",
   "metadata": {},
   "outputs": [],
   "source": [
    "values_wvk_case1 = [\n",
    "    {'resscale': 2, 'T_ndof': 21403, 'T_{200,-100}': 517.17, 'Tbar_s': 451.83, 'Tbar_w': 926.62, 'Vrmsw': 34.64},\n",
    "    {'resscale': 1, 'T_ndof': 83935, 'T_{200,-100}': 516.95, 'Tbar_s': 451.71, 'Tbar_w': 926.33, 'Vrmsw': 34.64},\n",
    "    {'resscale': 0.5, 'T_ndof': 332307, 'T_{200,-100}': 516.86, 'Tbar_s': 451.63, 'Tbar_w': 926.15, 'Vrmsw': 34.64},\n",
    "]"
   ]
  },
  {
   "cell_type": "code",
   "execution_count": null,
   "id": "9010f71a-9216-4daf-9817-18b43b0ec561",
   "metadata": {
    "tags": [
     "main"
    ]
   },
   "outputs": [],
   "source": [
    "print('')\n",
    "print('{:<12} {:<12}'.format('', 'error'))\n",
    "for key, val in diagnostics_case1[-1][-1].items():\n",
    "    if key != \"T_ndof\":\n",
    "        err = abs(values_wvk_case1[1][key]-val)/val\n",
    "        print('{:<12} {:<12.4g}'.format(key, err))\n",
    "        assert(err < 1.e-3) # check error is less than 0.1%"
   ]
  },
  {
   "cell_type": "markdown",
   "id": "9e25f250-9073-46c4-b74f-b2de7f8af42c",
   "metadata": {},
   "source": [
    "### Benchmark case 2"
   ]
  },
  {
   "cell_type": "code",
   "execution_count": null,
   "id": "7e189954-61ca-4261-b475-bc9b0c26bfe7",
   "metadata": {
    "scrolled": true
   },
   "outputs": [],
   "source": [
    "def solve_benchmark_case2(resscale, petsc_options_s=None, petsc_options_T=None):\n",
    "    xs = [0.0, 140.0, 240.0, 400.0]\n",
    "    ys = [0.0, -70.0, -120.0, -200.0]\n",
    "    lc_depth = 40\n",
    "    uc_depth = 15\n",
    "    coast_distance = 0\n",
    "    extra_width = 0\n",
    "    sztype = 'continental'\n",
    "    io_depth = 154\n",
    "    A      = 100.0      # age of subducting slab (Myr)\n",
    "    qs     = 0.065      # surface heat flux (W/m^2)\n",
    "    Vs     = 100.0      # slab speed (mm/yr)\n",
    "\n",
    "    # create the slab\n",
    "    slab = create_slab(xs, ys, resscale, lc_depth)\n",
    "    # construct the geometry\n",
    "    geom = create_sz_geometry(slab, resscale, sztype, io_depth, extra_width, \n",
    "                               coast_distance, lc_depth, uc_depth)\n",
    "    # set up a subduction zone problem\n",
    "    sz = SteadyDislSubductionProblem(geom, A=A, Vs=Vs, sztype=sztype, qs=qs)\n",
    "\n",
    "    # solve it using a steady state assumption and a dislocation creep rheology\n",
    "    sz.solve(petsc_options_s=petsc_options_s, petsc_options_T=petsc_options_T)\n",
    "\n",
    "    # evaluate the diagnostics\n",
    "    diag = sz.get_diagnostics()\n",
    "\n",
    "    return diag"
   ]
  },
  {
   "cell_type": "code",
   "execution_count": null,
   "id": "d77a55e4-40b5-49c8-ba11-d29733b4daef",
   "metadata": {
    "scrolled": true,
    "tags": [
     "main"
    ]
   },
   "outputs": [],
   "source": [
    "resscales = [4.0, 2.0, 1.0]\n",
    "diagnostics_case2 = []\n",
    "for resscale in resscales:\n",
    "    diagnostics_case2.append((resscale, solve_benchmark_case2(resscale)))"
   ]
  },
  {
   "cell_type": "code",
   "execution_count": null,
   "id": "dbec6d3b-805a-4c1a-9c64-4c9eb54e8215",
   "metadata": {
    "tags": [
     "main"
    ]
   },
   "outputs": [],
   "source": [
    "print('')\n",
    "print('{:<12} {:<12} {:<12} {:<12} {:<12} {:<12}'.format('resscale', 'T_ndof', 'T_{200,-100}', 'Tbar_s', 'Tbar_w', 'Vrmsw'))\n",
    "for resscale, diag in diagnostics_case2:\n",
    "    print('{:<12.4g} {:<12d} {:<12.4f} {:<12.4f} {:<12.4f} {:<12.4f}'.format(resscale, *diag.values()))    "
   ]
  },
  {
   "cell_type": "markdown",
   "id": "e4aa4549-beb7-491d-81b6-e8085d828222",
   "metadata": {},
   "source": [
    "For comparison here are the values reported for case 2 using [TerraFERMA](https://terraferma.github.io) in [Wilson & van Keken, 2023](http://dx.doi.org/10.1186/s40645-023-00588-6):\n",
    "\n",
    "| `resscale` | $T_{\\text{ndof}} $ | $T_{(200,-100)}^*$ | $\\overline{T}_s^*$ | $ \\overline{T}_w^* $ |  $V_{\\text{rms},w}^*$ |\n",
    "| - | - | - | - | - | - |\n",
    "| 2.0 | 21403  | 683.05 | 571.58 | 936.65 | 40.89 |\n",
    "| 1.0 | 83935 | 682.87 | 572.23 | 936.11 | 40.78 |\n",
    "| 0.5 | 332307 | 682.80 | 572.05 | 937.37 | 40.77 |\n",
    "\n",
    "Which we can test against our values."
   ]
  },
  {
   "cell_type": "code",
   "execution_count": null,
   "id": "c2488b73-5f7e-4987-8f6b-eecc6edee4ce",
   "metadata": {},
   "outputs": [],
   "source": [
    "values_wvk_case2 = [\n",
    "    {'resscale': 2, 'T_ndof': 21403, 'T_{200,-100}': 683.05, 'Tbar_s': 571.58, 'Tbar_w': 936.65, 'Vrmsw': 40.89},\n",
    "    {'resscale': 1, 'T_ndof': 83935, 'T_{200,-100}': 682.87, 'Tbar_s': 572.23, 'Tbar_w': 936.11, 'Vrmsw': 40.78},\n",
    "    {'resscale': 0.5, 'T_ndof': 332307, 'T_{200,-100}': 682.80, 'Tbar_s': 572.05, 'Tbar_w': 937.37, 'Vrmsw': 40.77},\n",
    "]"
   ]
  },
  {
   "cell_type": "code",
   "execution_count": null,
   "id": "46940cb3-1619-4062-8f70-8b76a81f398c",
   "metadata": {
    "tags": [
     "main"
    ]
   },
   "outputs": [],
   "source": [
    "print('')\n",
    "print('{:<12} {:<12}'.format('', 'error'))\n",
    "for key, val in diagnostics_case2[-1][-1].items():\n",
    "    if key != \"T_ndof\":\n",
    "        err = abs(values_wvk_case2[1][key]-val)/val\n",
    "        print('{:<12} {:<12.4g}'.format(key, err))\n",
    "        assert(err < 1.e-3) # check error is less than 0.1%"
   ]
  },
  {
   "cell_type": "markdown",
   "id": "9e739451",
   "metadata": {},
   "source": [
    "In the [next notebook](./3.4c_sz_benchmark_parallel.ipynb) we will check that these low errors are reproducible using our implementation in parallel."
   ]
  },
  {
   "cell_type": "markdown",
   "id": "66ad4564",
   "metadata": {},
   "source": [
    "## Finish up\n",
    "\n",
    "Convert this notebook to a python module (saving first and ignoring markdown cells and those tagged as \"main\" or \"ipy\")."
   ]
  },
  {
   "cell_type": "code",
   "execution_count": null,
   "id": "2270fa0c",
   "metadata": {
    "tags": [
     "ipy"
    ]
   },
   "outputs": [],
   "source": [
    "from ipylab import JupyterFrontEnd\n",
    "app = JupyterFrontEnd()\n",
    "app.commands.execute('docmanager:save')\n",
    "!jupyter nbconvert --TagRemovePreprocessor.enabled=True --TagRemovePreprocessor.remove_cell_tags=\"['main', 'ipy']\" --TemplateExporter.exclude_markdown=True --TemplateExporter.exclude_input_prompt=True --TemplateExporter.exclude_output_prompt=True --NbConvertApp.export_format=script --ClearOutputPreprocessor.enabled=True --FilesWriter.build_directory=../../python/sz_problems --NbConvertApp.output_base=sz_benchmark 3.4b_sz_benchmark.ipynb"
   ]
  },
  {
   "cell_type": "code",
   "execution_count": null,
   "id": "4e6dbd35",
   "metadata": {},
   "outputs": [],
   "source": []
  }
 ],
 "metadata": {
  "kernelspec": {
   "display_name": "dolfinx-env",
   "language": "python",
   "name": "python3"
  },
  "language_info": {
   "codemirror_mode": {
    "name": "ipython",
    "version": 3
   },
   "file_extension": ".py",
   "mimetype": "text/x-python",
   "name": "python",
   "nbconvert_exporter": "python",
   "pygments_lexer": "ipython3",
   "version": "3.12.3"
  }
 },
 "nbformat": 4,
 "nbformat_minor": 5
}
