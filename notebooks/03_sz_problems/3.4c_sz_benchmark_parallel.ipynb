{
 "cells": [
  {
   "cell_type": "markdown",
   "id": "e2cc00fb",
   "metadata": {},
   "source": [
    "# Subduction Zone Benchmark\n",
    "\n",
    "Author: Cian Wilson\n",
    "\n",
    "**Under Construction!**"
   ]
  },
  {
   "cell_type": "markdown",
   "id": "df1ead04",
   "metadata": {},
   "source": [
    "## Parallel Scaling\n",
    "\n",
    "In [the previous notebook](./3.4b_sz_benchmark.ipynb) we tested that the error in our implementation of a steady-state thermal convection problem in two-dimensions converged towards the published benchmark value as the resolution scale (`resscale`) decreased (the number of elements increased).  We also wish to test for parallel scaling of this problem, assessing if the simulation wall time decreases as the number of processors used to solve it is increases.\n",
    "\n",
    "Here we perform strong scaling tests on our functions `solve_benchmark_case1` and `solve_benchmark_case2` from [the previous notebook](./3.4b_sz_benchmark.ipynb)."
   ]
  },
  {
   "cell_type": "markdown",
   "id": "d312acf5",
   "metadata": {},
   "source": [
    "### Preamble\n",
    "\n",
    "We start by loading all the modules we will require."
   ]
  },
  {
   "cell_type": "code",
   "execution_count": null,
   "id": "052bfcb9",
   "metadata": {},
   "outputs": [],
   "source": [
    "import sys, os\n",
    "basedir = ''\n",
    "if \"__file__\" in globals(): basedir = os.path.dirname(__file__)\n",
    "path = os.path.join(basedir, os.path.pardir, os.path.pardir, 'python')\n",
    "sys.path.append(path)\n",
    "import utils.ipp\n",
    "import matplotlib.pyplot as pl\n",
    "import numpy as np\n",
    "import pathlib\n",
    "output_folder = pathlib.Path(os.path.join(basedir, \"output\"))\n",
    "output_folder.mkdir(exist_ok=True, parents=True)"
   ]
  },
  {
   "cell_type": "markdown",
   "id": "9bc8cef9",
   "metadata": {},
   "source": [
    "### Implementation\n",
    "\n",
    "We perform the strong parallel scaling test using a utility function (from `python/utils/ipp.py`) that loops over a list of the number of processors calling our function for a given number of elements, `ne`, and pressure and temperature polynomial orders `pp` and `pT`.  It runs our function `solve_blankenbach` a specified `number` of times and evaluates and returns the time taken for each of a number of requested `steps`."
   ]
  },
  {
   "cell_type": "code",
   "execution_count": null,
   "id": "6e81268e",
   "metadata": {},
   "outputs": [],
   "source": [
    "# the list of the number of processors we will use\n",
    "nprocs_scale = [1, 2, 3, 4, 6, 8,]\n",
    "\n",
    "# the number of elements to solve the problem on\n",
    "resscale_scale = 0.5\n",
    "\n",
    "# perform the calculation a set number of times\n",
    "number = 10\n",
    "\n",
    "# We are interested in the time to create the mesh,\n",
    "# declare the functions, assemble the problem and solve it.\n",
    "# From our implementation in `solve_poisson_2d` it is also\n",
    "# possible to request the time to declare the Dirichlet and\n",
    "# Neumann boundary conditions and the forms.\n",
    "steps = [\n",
    "          'Assemble Temperature', 'Assemble Stokes',\n",
    "          'Solve Temperature', 'Solve Stokes'\n",
    "         ]\n"
   ]
  },
  {
   "cell_type": "markdown",
   "id": "2bf631dc",
   "metadata": {},
   "source": [
    "#### Case 1"
   ]
  },
  {
   "cell_type": "code",
   "execution_count": null,
   "id": "fc7cd1c9",
   "metadata": {},
   "outputs": [],
   "source": [
    "# # declare a dictionary to store the times each step takes\n",
    "# maxtimes_1 = {}"
   ]
  },
  {
   "cell_type": "code",
   "execution_count": null,
   "id": "66fe9960",
   "metadata": {},
   "outputs": [],
   "source": [
    "# maxtimes_1['Direct Stokes'] = utils.ipp.profile_parallel(nprocs_scale, steps, path, \n",
    "#                                                          'sz_problems.sz_benchmark', 'solve_benchmark_case1', \n",
    "#                                                         resscale_scale, number=number,\n",
    "#                                                         output_filename=output_folder / 'sz_benchmark_scaling_direct_1.png')"
   ]
  },
  {
   "cell_type": "code",
   "execution_count": null,
   "id": "f4178bd4",
   "metadata": {},
   "outputs": [],
   "source": [
    "# the list of the number of processors to test the convergence on\n",
    "nprocs_conv = [1, 4,]\n",
    "\n",
    "# List of resolutions to try\n",
    "resscales_conv = [2,]"
   ]
  },
  {
   "cell_type": "code",
   "execution_count": null,
   "id": "fbf34b25",
   "metadata": {},
   "outputs": [],
   "source": [
    "# diagnostics = []\n",
    "# for resscalel in resscales_conv:\n",
    "#     diagnostics.append(utils.ipp.run_parallel(nprocs_conv, path, \n",
    "#                                            'sz_problems.sz_benchmark', \n",
    "#                                            'solve_benchmark_case1', \n",
    "#                                            resscalel))\n",
    "\n",
    "# print('')\n",
    "# print('{:<12} {:<12} {:<12} {:<12} {:<12} {:<12} {:<12}'.format('nprocs', 'resscale', 'T_ndof', 'T_{200,-100}', 'Tbar_s', 'Tbar_w', 'Vrmsw'))\n",
    "# for resscalel, diag_all in zip(resscales_conv, diagnostics):\n",
    "#     for i, nproc in enumerate(nprocs_conv):\n",
    "#         print('{:<12d} {:<12.4g} {:<12d} {:<12.4f} {:<12.4f} {:<12.4f} {:<12.4f}'.format(nproc, resscalel, *diag_all[i].values()))"
   ]
  },
  {
   "cell_type": "code",
   "execution_count": null,
   "id": "ab7943b5-a554-4417-8ad9-ad1c2bc0c2df",
   "metadata": {},
   "outputs": [],
   "source": [
    "# petsc_options_s = {'ksp_type':'minres', \n",
    "#                    'ksp_rtol' : 5.e-9,\n",
    "#                    'pc_type':'fieldsplit', \n",
    "#                    'pc_fieldsplit_type': 'additive',\n",
    "#                    'fieldsplit_v_ksp_type':'preonly',\n",
    "#                    'fieldsplit_v_pc_type':'gamg',\n",
    "#                    'fieldsplit_p_ksp_type':'preonly',\n",
    "#                    'fieldsplit_p_pc_type':'jacobi'}\n",
    "\n",
    "# maxtimes_1['Iterative Stokes'] = utils.ipp.profile_parallel(nprocs_scale, steps, path, \n",
    "#                                                             'sz_problems.sz_benchmark', 'solve_benchmark_case1', \n",
    "#                                                             resscale_scale, petsc_options_s=petsc_options_s, number=number,\n",
    "#                                                             output_filename=output_folder / 'sz_benchmark_scaling_iterative_1.png')"
   ]
  },
  {
   "cell_type": "code",
   "execution_count": null,
   "id": "ecbac902-ef5a-4ca7-864e-de9d962f9982",
   "metadata": {},
   "outputs": [],
   "source": [
    "# diagnostics = []\n",
    "# for resscalel in resscales_conv:\n",
    "#     diagnostics.append(utils.ipp.run_parallel(nprocs_conv, path, \n",
    "#                                            'sz_problems.sz_benchmark', \n",
    "#                                            'solve_benchmark_case1', \n",
    "#                                            resscalel, petsc_options_s=petsc_options_s))\n",
    "\n",
    "# print('')\n",
    "# print('{:<12} {:<12} {:<12} {:<12} {:<12} {:<12} {:<12}'.format('nprocs', 'resscale', 'T_ndof', 'T_{200,-100}', 'Tbar_s', 'Tbar_w', 'Vrmsw'))\n",
    "# for resscalel, diag_all in zip(resscales_conv, diagnostics):\n",
    "#     for i, nproc in enumerate(nprocs_conv):\n",
    "#         print('{:<12d} {:<12.4g} {:<12d} {:<12.4f} {:<12.4f} {:<12.4f} {:<12.4f}'.format(nproc, resscalel, *diag_all[i].values()))"
   ]
  },
  {
   "cell_type": "code",
   "execution_count": null,
   "id": "05a02663",
   "metadata": {},
   "outputs": [],
   "source": [
    "# # choose which steps to compare\n",
    "# compare_steps = ['Assemble Stokes', 'Solve Stokes']\n",
    "\n",
    "# # set up a figure for plotting\n",
    "# fig, axs = pl.subplots(nrows=len(compare_steps), figsize=[6.4,4.8*len(compare_steps)], sharex=True)\n",
    "# if len(compare_steps) == 1: axs = [axs]\n",
    "# for i, step in enumerate(compare_steps):\n",
    "#     s = steps.index(step)\n",
    "#     for name, lmaxtimes in maxtimes_1.items():\n",
    "#         axs[i].plot(nprocs_scale, [t[s] for t in lmaxtimes], 'o-', label=name)\n",
    "#     axs[i].set_title(step)\n",
    "#     axs[i].legend()\n",
    "#     axs[i].set_ylabel('wall time (s)')\n",
    "#     axs[i].grid()\n",
    "# axs[-1].set_xlabel('number processors')\n",
    "# # save the figure\n",
    "# fig.savefig(output_folder / 'sz_benchmark_scaling_comparison_1.png')"
   ]
  },
  {
   "cell_type": "markdown",
   "id": "dcc14f63-5b0f-4240-a508-76ff4c0534de",
   "metadata": {},
   "source": [
    "#### Case 2"
   ]
  },
  {
   "cell_type": "code",
   "execution_count": null,
   "id": "e35c36c9",
   "metadata": {},
   "outputs": [],
   "source": [
    "# declare a dictionary to store the times each step takes\n",
    "maxtimes_2 = {}"
   ]
  },
  {
   "cell_type": "code",
   "execution_count": null,
   "id": "d7d6b924-d363-42af-b710-b5b900af6102",
   "metadata": {},
   "outputs": [],
   "source": [
    "maxtimes_2['Direct Stokes'] = utils.ipp.profile_parallel(nprocs_scale, steps, path, \n",
    "                                                         'sz_problems.sz_benchmark', 'solve_benchmark_case2', \n",
    "                                                        resscale_scale, number=number,\n",
    "                                                        output_filename=output_folder / 'sz_benchmark_scaling_direct_2.png')"
   ]
  },
  {
   "cell_type": "code",
   "execution_count": null,
   "id": "ad5f6579-e8db-4306-b37c-e5e21427a351",
   "metadata": {},
   "outputs": [],
   "source": [
    "diagnostics = []\n",
    "for resscalel in resscales_conv:\n",
    "    print(resscalel)\n",
    "    diagnostics.append(utils.ipp.run_parallel(nprocs_conv, path, \n",
    "                                           'sz_problems.sz_benchmark', \n",
    "                                           'solve_benchmark_case2', \n",
    "                                           resscalel))\n",
    "\n",
    "print('')\n",
    "print('{:<12} {:<12} {:<12} {:<12} {:<12} {:<12} {:<12}'.format('nprocs', 'resscale', 'T_ndof', 'T_{200,-100}', 'Tbar_s', 'Tbar_w', 'Vrmsw'))\n",
    "for resscalel, diag_all in zip(resscales_conv, diagnostics):\n",
    "    for i, nproc in enumerate(nprocs_conv):\n",
    "        print('{:<12d} {:<12.4g} {:<12d} {:<12.4f} {:<12.4f} {:<12.4f} {:<12.4f}'.format(nproc, resscalel, *diag_all[i].values()))"
   ]
  },
  {
   "cell_type": "code",
   "execution_count": null,
   "id": "1a835dbc-0946-41fd-a7aa-104d9f1e0d74",
   "metadata": {},
   "outputs": [],
   "source": [
    "petsc_options_s = {'ksp_type':'minres', \n",
    "                   'ksp_rtol' : 5.e-9,\n",
    "                   'pc_type':'fieldsplit', \n",
    "                   'pc_fieldsplit_type': 'additive',\n",
    "                   'fieldsplit_v_ksp_type':'preonly',\n",
    "                   'fieldsplit_v_pc_type':'gamg',\n",
    "                   'fieldsplit_p_ksp_type':'preonly',\n",
    "                   'fieldsplit_p_pc_type':'jacobi'}\n",
    "\n",
    "maxtimes_2['Iterative Stokes'] = utils.ipp.profile_parallel(nprocs_scale, steps, path, \n",
    "                                                            'sz_problems.sz_benchmark', 'solve_benchmark_case2', \n",
    "                                                            resscale_scale, petsc_options_s=petsc_options_s, number=number,\n",
    "                                                            output_filename=output_folder / 'sz_benchmark_scaling_iterative_2.png')"
   ]
  },
  {
   "cell_type": "code",
   "execution_count": null,
   "id": "dc461221-fe95-4b46-bc34-9fd67cfdbce2",
   "metadata": {},
   "outputs": [],
   "source": [
    "diagnostics = []\n",
    "for resscalel in resscales_conv:\n",
    "    print(resscalel)\n",
    "    diagnostics.append(utils.ipp.run_parallel(nprocs_conv, path, \n",
    "                                           'sz_problems.sz_benchmark', \n",
    "                                           'solve_benchmark_case2', \n",
    "                                           resscalel, petsc_options_s=petsc_options_s))\n",
    "\n",
    "print('')\n",
    "print('{:<12} {:<12} {:<12} {:<12} {:<12} {:<12} {:<12}'.format('nprocs', 'resscale', 'T_ndof', 'T_{200,-100}', 'Tbar_s', 'Tbar_w', 'Vrmsw'))\n",
    "for resscalel, diag_all in zip(resscales_conv, diagnostics):\n",
    "    for i, nproc in enumerate(nprocs_conv):\n",
    "        print('{:<12d} {:<12.4g} {:<12d} {:<12.4f} {:<12.4f} {:<12.4f} {:<12.4f}'.format(nproc, resscalel, *diag_all[i].values()))"
   ]
  },
  {
   "cell_type": "code",
   "execution_count": null,
   "id": "60bc8dec",
   "metadata": {},
   "outputs": [],
   "source": [
    "from sz_problems.sz_benchmark import solve_benchmark_case2\n",
    "\n",
    "petsc_options_s = {'ksp_type':'minres', \n",
    "                   'ksp_rtol' : 5.e-9,\n",
    "                   'pc_type':'fieldsplit', \n",
    "                   'pc_fieldsplit_type': 'additive',\n",
    "                   'fieldsplit_v_ksp_type':'preonly',\n",
    "                   'fieldsplit_v_pc_type':'gamg',\n",
    "                   'fieldsplit_p_ksp_type':'preonly',\n",
    "                   'fieldsplit_p_pc_type':'jacobi'}\n",
    "\n",
    "solve_benchmark_case2(2, petsc_options_s=petsc_options_s)"
   ]
  },
  {
   "cell_type": "code",
   "execution_count": null,
   "id": "59d98ea0-2fcf-4dcd-9dbf-4359f1dc45f8",
   "metadata": {},
   "outputs": [],
   "source": [
    "# choose which steps to compare\n",
    "compare_steps = ['Assemble Stokes', 'Solve Stokes']\n",
    "\n",
    "# set up a figure for plotting\n",
    "fig, axs = pl.subplots(nrows=len(compare_steps), figsize=[6.4,4.8*len(compare_steps)], sharex=True)\n",
    "if len(compare_steps) == 1: axs = [axs]\n",
    "for i, step in enumerate(compare_steps):\n",
    "    s = steps.index(step)\n",
    "    for name, lmaxtimes in maxtimes_2.items():\n",
    "        axs[i].plot(nprocs_scale, [t[s] for t in lmaxtimes], 'o-', label=name)\n",
    "    axs[i].set_title(step)\n",
    "    axs[i].legend()\n",
    "    axs[i].set_ylabel('wall time (s)')\n",
    "    axs[i].grid()\n",
    "axs[-1].set_xlabel('number processors')\n",
    "# save the figure\n",
    "fig.savefig(output_folder / 'sz_benchmark_scaling_comparison_2.png')"
   ]
  },
  {
   "cell_type": "code",
   "execution_count": null,
   "id": "60d02ee5-9229-44e7-b876-b0d7569cb2b2",
   "metadata": {},
   "outputs": [],
   "source": []
  }
 ],
 "metadata": {
  "kernelspec": {
   "display_name": "dolfinx-env",
   "language": "python",
   "name": "python3"
  },
  "language_info": {
   "codemirror_mode": {
    "name": "ipython",
    "version": 3
   },
   "file_extension": ".py",
   "mimetype": "text/x-python",
   "name": "python",
   "nbconvert_exporter": "python",
   "pygments_lexer": "ipython3",
   "version": "3.12.3"
  }
 },
 "nbformat": 4,
 "nbformat_minor": 5
}
