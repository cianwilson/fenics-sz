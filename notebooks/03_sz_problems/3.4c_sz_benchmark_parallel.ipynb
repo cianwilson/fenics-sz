{
 "cells": [
  {
   "cell_type": "markdown",
   "id": "e2cc00fb",
   "metadata": {},
   "source": [
    "# Subduction Zone Benchmark\n",
    "\n",
    "Author: Cian Wilson\n",
    "\n",
    "**FIXME: Unfinished (a.k.a. broken)!**"
   ]
  },
  {
   "cell_type": "markdown",
   "id": "df1ead04",
   "metadata": {},
   "source": [
    "## Parallel Scaling\n",
    "\n",
    "In [the previous notebook](./3.4b_sz_benchmark.ipynb) we tested that the error in our implementation of a steady-state thermal convection problem in two-dimensions converged towards the published benchmark value as the resolution scale (`resscale`) decreased (the number of elements increased).  We also wish to test for parallel scaling of this problem, assessing if the simulation wall time decreases as the number of processors used to solve it is increases.\n",
    "\n",
    "Here we perform strong scaling tests on our functions `solve_benchmark_case1` and `solve_benchmark_case2` from [the previous notebook](./3.4b_sz_benchmark.ipynb)."
   ]
  },
  {
   "cell_type": "markdown",
   "id": "d312acf5",
   "metadata": {},
   "source": [
    "### Preamble\n",
    "\n",
    "We start by loading all the modules we will require."
   ]
  },
  {
   "cell_type": "code",
   "execution_count": null,
   "id": "052bfcb9",
   "metadata": {},
   "outputs": [],
   "source": [
    "import sys, os\n",
    "basedir = ''\n",
    "if \"__file__\" in globals(): basedir = os.path.dirname(__file__)\n",
    "path = os.path.join(basedir, os.path.pardir, os.path.pardir, 'python')\n",
    "sys.path.append(path)\n",
    "import utils.ipp\n",
    "import matplotlib.pyplot as pl\n",
    "import numpy as np\n",
    "import pathlib\n",
    "output_folder = pathlib.Path(os.path.join(basedir, \"output\"))\n",
    "output_folder.mkdir(exist_ok=True, parents=True)"
   ]
  },
  {
   "cell_type": "markdown",
   "id": "9bc8cef9",
   "metadata": {},
   "source": [
    "### Implementation\n",
    "\n",
    "We perform the strong parallel scaling test using a utility function (from [`python/utils/ipp.py`](../../python/utils/ipp.py)) that loops over a list of the number of processors calling our function for a given number of elements, `ne`, and pressure and temperature polynomial orders `pp` and `pT`.  It runs our function `solve_blankenbach` a specified `number` of times and evaluates and returns the time taken for each of a number of requested `steps`."
   ]
  },
  {
   "cell_type": "code",
   "execution_count": null,
   "id": "6e81268e",
   "metadata": {},
   "outputs": [],
   "source": [
    "# the list of the number of processors we will use\n",
    "nprocs_scale = [1, 2,]\n",
    "\n",
    "# the number of elements to solve the problem on\n",
    "resscale = 1\n",
    "\n",
    "# perform the calculation a set number of times\n",
    "number = 1\n",
    "\n",
    "# We are interested in the time to create the mesh,\n",
    "# declare the functions, assemble the problem and solve it.\n",
    "# From our implementation in `solve_poisson_2d` it is also\n",
    "# possible to request the time to declare the Dirichlet and\n",
    "# Neumann boundary conditions and the forms.\n",
    "steps = [\n",
    "          'Assemble Temperature', 'Assemble Stokes',\n",
    "          'Solve Temperature', 'Solve Stokes'\n",
    "         ]\n"
   ]
  },
  {
   "cell_type": "markdown",
   "id": "2bf631dc",
   "metadata": {},
   "source": [
    "#### Case 1"
   ]
  },
  {
   "cell_type": "code",
   "execution_count": null,
   "id": "fc7cd1c9",
   "metadata": {},
   "outputs": [],
   "source": [
    "# declare a dictionary to store the times each step takes\n",
    "maxtimes_1 = {}"
   ]
  },
  {
   "cell_type": "code",
   "execution_count": null,
   "id": "66fe9960",
   "metadata": {},
   "outputs": [],
   "source": [
    "maxtimes_1['Direct Stokes'] = utils.ipp.profile_parallel(nprocs_scale, steps, path, \n",
    "                                                         'sz_problems.sz_benchmark', 'solve_benchmark_case1', \n",
    "                                                        resscale, number=number,\n",
    "                                                        output_filename=output_folder / 'sz_benchmark_scaling_direct_1a.png')"
   ]
  },
  {
   "cell_type": "code",
   "execution_count": null,
   "id": "f4178bd4",
   "metadata": {},
   "outputs": [],
   "source": [
    "# the list of the number of processors to test the convergence on\n",
    "nprocs_conv = [1, 2,]\n",
    "\n",
    "# List of resolutions to try\n",
    "resscales = [2,]"
   ]
  },
  {
   "cell_type": "code",
   "execution_count": null,
   "id": "fbf34b25",
   "metadata": {},
   "outputs": [],
   "source": [
    "diagnostics = []\n",
    "for resscale in resscales:\n",
    "    diagnostics.append(utils.ipp.run_parallel(nprocs_conv, path, \n",
    "                                           'sz_problems.sz_benchmark', \n",
    "                                           'solve_benchmark_case1', \n",
    "                                           resscale))\n",
    "\n",
    "print('')\n",
    "print('{:<12} {:<12} {:<12} {:<12} {:<12} {:<12} {:<12}'.format('nprocs', 'resscale', 'T_ndof', 'T_{200,-100}', 'Tbar_s', 'Tbar_w', 'Vrmsw'))\n",
    "for resscale, diag_all in zip(resscales, diagnostics):\n",
    "    for i, nproc in enumerate(nprocs_conv):\n",
    "        print('{:<12d} {:<12.4g} {:<12d} {:<12.4f} {:<12.4f} {:<12.4f} {:<12.4f}'.format(nproc, resscale, *diag_all[i].values()))"
   ]
  },
  {
   "cell_type": "code",
   "execution_count": null,
   "id": "05a02663",
   "metadata": {},
   "outputs": [],
   "source": []
  }
 ],
 "metadata": {
  "kernelspec": {
   "display_name": "dolfinx-env",
   "language": "python",
   "name": "python3"
  },
  "language_info": {
   "codemirror_mode": {
    "name": "ipython",
    "version": 3
   },
   "file_extension": ".py",
   "mimetype": "text/x-python",
   "name": "python",
   "nbconvert_exporter": "python",
   "pygments_lexer": "ipython3",
   "version": "3.12.3"
  }
 },
 "nbformat": 4,
 "nbformat_minor": 5
}
