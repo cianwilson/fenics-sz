{
 "cells": [
  {
   "cell_type": "markdown",
   "id": "a302eb2d",
   "metadata": {},
   "source": [
    "# Subduction Zone Global Suites\n",
    "\n",
    "Authors: Cian Wilson, Kidus Teshome, Cameron Seebeck\n",
    "\n"
   ]
  },
  {
   "cell_type": "markdown",
   "id": "ca0f03db",
   "metadata": {},
   "source": []
  }
 ],
 "metadata": {
  "language_info": {
   "name": "python"
  }
 },
 "nbformat": 4,
 "nbformat_minor": 5
}
