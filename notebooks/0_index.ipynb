{
 "cells": [
  {
   "cell_type": "markdown",
   "id": "joined-journalist",
   "metadata": {},
   "source": [
    "# FEniCS-SZ\n",
    "\n",
    "Authors: Cian Wilson, Cameron Seebeck, Kidus Teshome, Nathan Sime, Peter van Keken\n",
    "\n",
    "Welcome to the [_FEniCS Subduction Zone_ (FEniCS-SZ) Jupyter Book](https://cianwilson.github.io/fenics-sz), an online resource for the thermal modeling of subduction zones!\n",
    "\n",
    "This book was developed by undergraduate interns Kidus Teshome and Cameron Seebeck at the [Carnegie Science Earth & Planets Laboratory](https://epl.carnegiescience.edu).  It is based on [Wilson & van Keken, PEPS, 2023 (II)](http://dx.doi.org/10.1186/s40645-023-00588-6), which is part II of a three part introductory review of the thermal structure of subduction zones by Peter van Keken and Cian Wilson.\n",
    "\n",
    "Our goal is both to demonstrate how to build kinematic-slab thermal models of subduction zones using the finite element library [FEniCSx](https://fenicsproject.org) and to provide an easily accessible and modifiable source of the global suite of subduction zone models as described in [Wilson & van Keken, PEPS, 2023 (II)](http://dx.doi.org/10.1186/s40645-023-00588-6) and [van Keken & Wilson, PEPS, 2023 (III)](https://doi.org/10.1186/s40645-023-00589-5).  For comparison, the original models used in these papers are also available as open-source repositories on [github](https://github.com/cianwilson/vankeken_wilson_peps_2023) and [zenodo](https://doi.org/10.5281/zenodo.7843967).\n",
    "\n",
    "This website is published as a [jupyter book](https://jupyterbook.org/). Each page is a jupyter notebook that can be run interactively in the browser.  To start such an interactive session using [binder](https://mybinder.org/) click the ![Binder symbol](images/binder.png)-symbol in the top right corner of the relevant page.\n",
    "\n",
    "Comments and corrections to this webpage should be submitted to the issue tracker by going to the relevant page in the jupyter book, then clicking the ![git](images/git.png)-symbol in the top right corner and \"open issue\"."
   ]
  },
  {
   "cell_type": "markdown",
   "id": "5cff8701",
   "metadata": {},
   "source": [
    "## Acknowledgments\n",
    "\n",
    "This jupyter book is based on the [FEniCSx Tutorial](https://jsdokken.com/dolfinx-tutorial/) by [Jørgen S. Dokken](https://jsdokken.com/), which is an excellent resource for learning how to use [FEniCS](https://fenicsproject.org/) in a similar interactive jupyter book.\n"
   ]
  },
  {
   "cell_type": "markdown",
   "id": "3443a35a",
   "metadata": {},
   "source": []
  }
 ],
 "metadata": {
  "kernelspec": {
   "display_name": "Python 3 (ipykernel)",
   "language": "python",
   "name": "python3"
  },
  "language_info": {
   "codemirror_mode": {
    "name": "ipython",
    "version": 3
   },
   "file_extension": ".py",
   "mimetype": "text/x-python",
   "name": "python",
   "nbconvert_exporter": "python",
   "pygments_lexer": "ipython3",
   "version": "3.10.12"
  }
 },
 "nbformat": 4,
 "nbformat_minor": 5
}
