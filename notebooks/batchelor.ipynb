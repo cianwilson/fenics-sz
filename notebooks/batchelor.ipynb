{
 "cells": [
  {
   "cell_type": "markdown",
   "id": "6d1c4577-6165-4cc8-aaff-1233e161119e",
   "metadata": {},
   "source": [
    "# Batchelor Cornerflow Example\n",
    "\n",
    "Authors: Cameron Seebeck, Cian Wilson"
   ]
  },
  {
   "cell_type": "markdown",
   "id": "9c520214-db8e-476f-93a2-1e24812a3aad",
   "metadata": {},
   "source": [
    "## Description"
   ]
  },
  {
   "cell_type": "markdown",
   "id": "eae958ba-e1b6-4667-a5bd-2491d256dc5e",
   "metadata": {},
   "source": [
    "As a reminder we are seeking the approximate velocity and pressure solution of the Stokes equation\n",
    "\\begin{align}\n",
    "-\\nabla\\cdot \\left(\\frac{\\nabla\\vec{v} + \\nabla\\vec{v}^T}{2}\\right) + \\nabla P &= 0 && \\text{in }\\Omega \\\\\n",
    "\\nabla\\cdot\\vec{v} &= 0 && \\text{in }\\Omega\n",
    "\\end{align}\n",
    "in a unit square domain, $\\Omega = [0,1]\\times[0,1]$.\n",
    "\n",
    "We apply strong Dirichlet boundary conditions for velocity on all four boundaries\n",
    "\\begin{align}\n",
    "  \\vec{v} &= (0,0)^T && \\text{on } \\partial\\Omega \\text{ where } x=0  \\\\\n",
    "  \\vec{v} &= (U, 0)^T  && \\text{on } \\partial\\Omega \\text{ where } y=0 \\\\\n",
    "  \\vec{v} &= \\vec{v} && \\text{on } \\partial\\Omega \\text{ where } x=1 \\text{ or } y = 1\n",
    "\\end{align}\n",
    "and an additional point constraint on pressure\n",
    "\\begin{align}\n",
    "  P &= 0 && \\text{at } (x, y) = (0,0)\n",
    "\\end{align}\n",
    "to remove its null space."
   ]
  },
  {
   "cell_type": "markdown",
   "id": "0dc642e5-b6f9-42ef-a23b-300e067f21b5",
   "metadata": {},
   "source": [
    "## Implementation"
   ]
  },
  {
   "cell_type": "markdown",
   "id": "c387c2a2-6cab-4063-9773-488ecede32c2",
   "metadata": {},
   "source": [
    "This example was presented by [Wilson & van Keken, 2023](http://dx.doi.org/10.1186/s40645-023-00588-6) using FEniCS v2019.1.0 and [TerraFERMA](https://terraferma.github.io), a GUI-based model building framework that also uses FEniCS v2019.1.0.  Here we reproduce these results using the latest version of FEniCS, FEniCSx."
   ]
  },
  {
   "cell_type": "markdown",
   "id": "38f6d835-b1b1-459d-bfc2-3b45ea4883c8",
   "metadata": {},
   "source": [
    "### Preamble"
   ]
  },
  {
   "cell_type": "markdown",
   "id": "09d28365-5df9-4549-ba50-a7f8fa627ade",
   "metadata": {},
   "source": [
    "We start by loading all the modules we will require and initializing our plotting preferences through [pyvista](https://pyvista.org/)."
   ]
  },
  {
   "cell_type": "code",
   "execution_count": null,
   "id": "0c08f601-4df0-44f4-b0e6-ad1a9d545f06",
   "metadata": {},
   "outputs": [],
   "source": [
    "from mpi4py import MPI\n",
    "import dolfinx as df\n",
    "import dolfinx.fem.petsc\n",
    "import numpy as np\n",
    "import ufl\n",
    "import matplotlib.pyplot as pl\n",
    "import basix\n",
    "import sys, os\n",
    "basedir = ''\n",
    "if \"__file__\" in globals(): basedir = os.path.dirname(__file__)\n",
    "sys.path.append(os.path.join(basedir, os.path.pardir, 'python'))\n",
    "import utils\n",
    "import pyvista as pv\n",
    "if __name__ == \"__main__\" and \"__file__\" in globals():\n",
    "    pv.OFF_SCREEN = True\n",
    "import pathlib\n",
    "if __name__ == \"__main__\":\n",
    "    output_folder = pathlib.Path(os.path.join(basedir, \"output\"))\n",
    "    output_folder.mkdir(exist_ok=True, parents=True)"
   ]
  },
  {
   "cell_type": "markdown",
   "id": "8fa06ae7-8388-47b4-be6b-7d4738100691",
   "metadata": {},
   "source": [
    "### Solution"
   ]
  },
  {
   "cell_type": "markdown",
   "id": "7c2a14d4-6f72-4597-8674-e14d4039a44f",
   "metadata": {},
   "source": [
    "We start by defining the analytical solution\n",
    "\\begin{align}\n",
    "\\vec{v} = \\left(\\begin{array}{cc}\\cos\\theta & -\\sin\\theta \\\\\n",
    " \\sin\\theta &  \\cos\\theta\\end{array}\\right) \\left(\\begin{array}{c}\\frac{1}{r}\\frac{\\partial\\psi}{\\partial\\theta} \\\\ -\\frac{\\partial\\psi}{\\partial r}\\end{array}\\right)\n",
    "\\end{align}\n",
    "where $\\psi = \\psi(r,\\theta)$ is a function of the radius, $r$, and angle from the $x$-axis, $\\theta$\n",
    "\\begin{equation}\n",
    "\\psi (r, \\theta)~=~ - \\frac{r U }{\\frac{1}{4}\\pi^2-1} \\left( -\\frac{1}{4}\\pi^2 \\sin \\theta + \\frac{1}{2}\\pi \\theta \\sin \\theta + \\theta \\cos \\theta \\right)\n",
    "\\end{equation}\n",
    "We describe this solution using UFL in the python function `v_exact_batchelor`."
   ]
  },
  {
   "cell_type": "code",
   "execution_count": null,
   "id": "0bbac148-1658-4a4f-a1e9-57f5b77343ed",
   "metadata": {},
   "outputs": [],
   "source": [
    "def v_exact_batchelor(mesh, U=1):\n",
    "    \"\"\"\n",
    "    A python function that returns the exact Batchelor velocity solution\n",
    "    using UFL.\n",
    "    Parameters:\n",
    "    * mesh - the mesh on which we wish to define the coordinates for the solution\n",
    "    * U    - convergence speed of lower boundary (defaults to 1)\n",
    "    \"\"\"\n",
    "    # Define the coordinate systems\n",
    "    x = ufl.SpatialCoordinate(mesh)\n",
    "    theta = ufl.atan2(x[1],x[0])\n",
    "\n",
    "    # Define the derivative to the streamfunction psi\n",
    "    d_psi_d_r = -U*(-0.25*ufl.pi**2*ufl.sin(theta) \\\n",
    "                    +0.5*ufl.pi*theta*ufl.sin(theta) \\\n",
    "                    +theta*ufl.cos(theta)) \\\n",
    "                    /(0.25*ufl.pi**2-1)\n",
    "    d_psi_d_theta_over_r = -U*(-0.25*ufl.pi**2*ufl.cos(theta) \\\n",
    "                               +0.5*ufl.pi*ufl.sin(theta) \\\n",
    "                               +0.5*ufl.pi*theta*ufl.cos(theta) \\\n",
    "                               +ufl.cos(theta) \\\n",
    "                               -theta*ufl.sin(theta)) \\\n",
    "                               /(0.25*ufl.pi**2-1)\n",
    "\n",
    "    # Rotate the solution into Cartesian and return\n",
    "    return ufl.as_vector([ufl.cos(theta)*d_psi_d_theta_over_r + ufl.sin(theta)*d_psi_d_r, \\\n",
    "                          ufl.sin(theta)*d_psi_d_theta_over_r - ufl.cos(theta)*d_psi_d_r])"
   ]
  },
  {
   "cell_type": "markdown",
   "id": "0ebcd6ea-4bd9-4aef-baff-cc15b7fcef5e",
   "metadata": {},
   "source": [
    "We then declare a python function `solve_batchelor` that contains a complete description of the discrete Stokes equation problem.\n",
    "\n",
    "This function follows much the same flow as described in previous examples\n",
    "1. we describe the unit square domain $\\Omega = [0,1]\\times[0,1]$ and discretize it into $2 \\times$ `ne` $\\times$ `ne` triangular elements or cells to make a `mesh`\n",
    "2. we declare finite elements for velocity and pressure using Lagrange polynomials of degree `p+1` and `p` respectively and use these to declare the **mixed function space**, `V` of the coupled problem and the **sub function spaces**, `V_v`, `V_vx`, `V_vy`, and `V_p`, for velocity, $x$ velocity, $y$ velocity, and pressure respectively\n",
    "3. using the mixed function space we declare trial, `v_a` and `p_a`, and test, `v_t` and `p_t`, functions for the velocity and pressure respectively\n",
    "4. we define a list of Dirichlet boundary conditions, `bcs`, including velocity boundary conditions on all four sides and a constraint on the pressure in the lower left corner of the domain\n",
    "5. we describe the **discrete weak forms**, `S` and `f`, that will be used to assemble the matrix $\\mathbf{S}$ and vector $\\mathbf{f}$\n",
    "6. we solve the matrix problem using a linear algebra back-end and return the solution"
   ]
  },
  {
   "cell_type": "code",
   "execution_count": null,
   "id": "2d81ad31-0597-42d4-ad0e-ac770045eedb",
   "metadata": {},
   "outputs": [],
   "source": [
    "def solve_batchelor(ne, p=1, U=1):\n",
    "    \"\"\"\n",
    "    A python function to solve a two-dimensional corner flow \n",
    "    problem on a unit square domain.\n",
    "    Parameters:\n",
    "    * ne - number of elements in each dimension\n",
    "    * p  - polynomial order of the pressure solution (defaults to 1)\n",
    "    * U  - convergence speed of lower boundary (defaults to 1)\n",
    "    \"\"\"\n",
    "    # Describe the domain (a unit square)\n",
    "    # and also the tessellation of that domain into ne\n",
    "    # equally spaced squared in each dimension, which are\n",
    "    # subduvided into two triangular elements each\n",
    "    mesh = df.mesh.create_unit_square(MPI.COMM_WORLD, ne, ne)\n",
    "\n",
    "    # Define velocity and pressure elements\n",
    "    v_e = basix.ufl.element(\"Lagrange\", mesh.basix_cell(), p+1, shape=(mesh.geometry.dim,))\n",
    "    p_e = basix.ufl.element(\"Lagrange\", mesh.basix_cell(), p)\n",
    "\n",
    "    # Define the mixed element of the coupled velocity and pressure\n",
    "    vp_e = basix.ufl.mixed_element([v_e, p_e])\n",
    "\n",
    "    # Define the mixed function space\n",
    "    V = df.fem.functionspace(mesh, vp_e)\n",
    "\n",
    "    # Define velocity and pressure sub function spaces\n",
    "    V_v, _ = V.sub(0).collapse()\n",
    "    V_vx, _ = V_v.sub(0).collapse()\n",
    "    V_vy, _ = V_v.sub(1).collapse()\n",
    "    V_p, _ = V.sub(1).collapse()\n",
    "\n",
    "    # Define the trial functions for velocity and pressure\n",
    "    v_a, p_a = ufl.TrialFunctions(V)\n",
    "    # Define the test functions for velocity and pressure\n",
    "    v_t, p_t = ufl.TestFunctions(V)\n",
    "\n",
    "    # Declare a list of boundary conditions\n",
    "    bcs = []\n",
    "    \n",
    "    # Define the location of the left boundary and find the velocity DOFs\n",
    "    def boundary_left(x):\n",
    "        return np.isclose(x[0], 0)\n",
    "    dofs_v_left = df.fem.locate_dofs_geometrical((V.sub(0), V_v), boundary_left)\n",
    "    # Specify the velocity value and define a Dirichlet boundary condition\n",
    "    zero_v = df.fem.Function(V_v)\n",
    "    zero_v.x.array[:] = 0\n",
    "    bcs.append(df.fem.dirichletbc(zero_v, dofs_v_left, V.sub(0)))\n",
    "\n",
    "    # Define the location of the bottom boundary and find the velocity DOFs\n",
    "    # for x velocity (0) and y velocity (1) separately\n",
    "    def boundary_base(x):\n",
    "        return np.isclose(x[1], 0)\n",
    "    dofs_vx_base = df.fem.locate_dofs_geometrical((V.sub(0).sub(0), V_vx), boundary_base)\n",
    "    dofs_vy_base = df.fem.locate_dofs_geometrical((V.sub(0).sub(1), V_vy), boundary_base)\n",
    "    # Specify the value of the x component of velocity and define a Dirichlet boundary condition\n",
    "    U_vx = df.fem.Function(V_vx)\n",
    "    U_vx.x.array[:] = U\n",
    "    bcs.append(df.fem.dirichletbc(U_vx, dofs_vx_base, V.sub(0).sub(0)))\n",
    "    # Specify the value of the y component of velocity and define a Dirichlet boundary condition\n",
    "    zero_vy = df.fem.Function(V_vy)\n",
    "    zero_vy.x.array[:] = 0.0\n",
    "    bcs.append(df.fem.dirichletbc(zero_vy, dofs_vy_base, V.sub(0).sub(1)))\n",
    "\n",
    "    # Define the location of the right and top boundaries and find the velocity DOFs\n",
    "    def boundary_rightandtop(x):\n",
    "        return np.logical_or(np.isclose(x[0], 1), np.isclose(x[1], 1))\n",
    "    dofs_v_rightandtop = df.fem.locate_dofs_geometrical((V.sub(0), V_v), boundary_rightandtop)\n",
    "    # Specify the exact velocity value and define a Dirichlet boundary condition\n",
    "    exact_v = df.fem.Function(V_v)\n",
    "    # Interpolate from a UFL expression, evaluated at the velocity interpolation points\n",
    "    exact_v.interpolate(df.fem.Expression(v_exact_batchelor(mesh, U=U), V_v.element.interpolation_points()))\n",
    "    bcs.append(df.fem.dirichletbc(exact_v, dofs_v_rightandtop, V.sub(0)))\n",
    "\n",
    "    # Define the location of the lower left corner of the domain and find the pressure DOF there\n",
    "    def corner_lowerleft(x):\n",
    "        return np.logical_and(np.isclose(x[0], 0), np.isclose(x[1], 0))\n",
    "    dofs_p_lowerleft = df.fem.locate_dofs_geometrical((V.sub(1), V_p), corner_lowerleft)\n",
    "    # Specify the arbitrary pressure value and define a Dirichlet boundary condition\n",
    "    zero_p = df.fem.Function(V_p)\n",
    "    zero_p.x.array[:] = 0.0\n",
    "    bcs.append(df.fem.dirichletbc(zero_p, dofs_p_lowerleft, V.sub(1)))\n",
    "\n",
    "    # Define the integrals to be assembled into the stiffness matrix\n",
    "    K = ufl.inner(ufl.sym(ufl.grad(v_t)), ufl.sym(ufl.grad(v_a))) * ufl.dx\n",
    "    G = -ufl.div(v_t)*p_a*ufl.dx\n",
    "    D = -p_t*ufl.div(v_a)*ufl.dx\n",
    "    S = K + G + D\n",
    "\n",
    "    # Define the integral to the assembled into the forcing vector\n",
    "    # which in this case is just zero so arbitrarily use the pressure test function\n",
    "    zero = df.fem.Constant(mesh, df.default_scalar_type(0.0))\n",
    "    f = zero*p_t*ufl.dx\n",
    "\n",
    "    # Compute the solution (given the boundary conditions, bcs)\n",
    "    problem = df.fem.petsc.LinearProblem(S, f, bcs=bcs, \\\n",
    "                                         petsc_options={\"ksp_type\": \"preonly\", \\\n",
    "                                                        \"pc_type\": \"lu\", \\\n",
    "                                                        \"pc_factor_mat_solver_type\": \"mumps\"})\n",
    "    u_i = problem.solve()\n",
    "\n",
    "    # Extract the velocity and pressure solutions from the coupled problem\n",
    "    v_i = u_i.sub(0).collapse()\n",
    "    p_i = u_i.sub(1).collapse()\n",
    "\n",
    "    return v_i, p_i"
   ]
  },
  {
   "cell_type": "markdown",
   "id": "cf35e293-506d-447c-8a51-639e94ca5cca",
   "metadata": {},
   "source": [
    "We can now numerically solve the equations using, e.g., 10 elements in each dimension and piecewise linear polynomials for pressure."
   ]
  },
  {
   "cell_type": "code",
   "execution_count": null,
   "id": "e0b87dec-fb8c-41d0-970e-d2d377fe2d29",
   "metadata": {},
   "outputs": [],
   "source": [
    "if __name__ == \"__main__\":\n",
    "    ne = 10\n",
    "    p = 1\n",
    "    U = 1\n",
    "    v, p = solve_batchelor(ne, p=p, U=U)\n",
    "    v.name = \"Velocity\""
   ]
  },
  {
   "cell_type": "markdown",
   "id": "b25cf73d-b848-4d92-bab8-b9130cdb4541",
   "metadata": {},
   "source": [
    "```{admonition} __main__\n",
    "Note that this code block starts with `if __name__ == \"__main__\":` to prevent it from being run unless being run as a script or in a Jupyter notebook.  This prevents unecessary computations when this code is used as a python module.\n",
    "```"
   ]
  },
  {
   "cell_type": "markdown",
   "id": "8eaa60aa-3cf6-4345-920d-e1b71930f6fe",
   "metadata": {},
   "source": [
    "And use some utility functions (see `../python/utils.py`) to plot the velocity glyphs."
   ]
  },
  {
   "cell_type": "code",
   "execution_count": null,
   "id": "6f427b04-215c-42ef-8430-9b54b76840ce",
   "metadata": {},
   "outputs": [],
   "source": [
    "if __name__ == \"__main__\":\n",
    "    plotter = utils.plot_mesh(v.function_space.mesh, gather=True, show_edges=True, style=\"wireframe\")\n",
    "    utils.plot_vector_glyphs(v, plotter=plotter, gather=True, factor=0.3)\n",
    "    utils.plot_show(plotter)\n",
    "    utils.plot_save(plotter, output_folder / 'batchelor_solution.png')\n",
    "    comm = v.function_space.mesh.comm\n",
    "    if comm.size > 1:\n",
    "        # if we're running in parallel (e.g. from a script) then save an image per process as well\n",
    "        plotter_p = utils.plot_mesh(v.function_space.mesh, show_edges=True, style=\"wireframe\")\n",
    "        utils.plot_vector_glyphs(v, plotter=plotter_p, factor=0.3)\n",
    "        utils.plot_show(plotter_p)\n",
    "        utils.plot_save(plotter_p, output_folder / 'batchelor_solution_p{:d}.png'.format(comm.rank,))"
   ]
  },
  {
   "cell_type": "markdown",
   "id": "c478db36-f890-4ce5-aad2-c25112d565fb",
   "metadata": {},
   "source": [
    "## Testing"
   ]
  },
  {
   "cell_type": "markdown",
   "id": "3ffde768-be5b-4c5a-8e55-7a68e98547d7",
   "metadata": {},
   "source": [
    "### Error analysis"
   ]
  },
  {
   "cell_type": "markdown",
   "id": "8f9f2300-7ee6-4e89-adc2-c3b3dfe89a6b",
   "metadata": {},
   "source": [
    "We can quantify the error in cases where the analytical solution is known by taking the L2 norm of the difference between the numerical and exact solutions."
   ]
  },
  {
   "cell_type": "code",
   "execution_count": null,
   "id": "de15d3f6-6e1d-41d3-8f56-bcf76a7b1a59",
   "metadata": {},
   "outputs": [],
   "source": [
    "def evaluate_error(v_i, U=1):\n",
    "    \"\"\"\n",
    "    A python function to evaluate the l2 norm of the error in \n",
    "    the two dimensional Batchelor corner flow problem given the known analytical\n",
    "    solution.\n",
    "    \"\"\"\n",
    "    # Define the exact solution (in UFL)\n",
    "    ve = v_exact_batchelor(v_i.function_space.mesh, U=U)\n",
    "\n",
    "    # Define the error as the squared difference between the exact solution and the given approximate solution\n",
    "    l2err = df.fem.assemble_scalar(df.fem.form(ufl.inner(v_i - ve, v_i - ve)*ufl.dx))\n",
    "    l2err = v_i.function_space.mesh.comm.allreduce(l2err, op=MPI.SUM)**0.5\n",
    "\n",
    "    # Return the l2 norm of the error\n",
    "    return l2err"
   ]
  },
  {
   "cell_type": "markdown",
   "id": "0eb74b6f-8b05-4da1-b917-b167d83c5288",
   "metadata": {},
   "source": [
    "### Convergence test"
   ]
  },
  {
   "cell_type": "code",
   "execution_count": null,
   "id": "7b488e33-8759-4d1c-98dc-13c7e9ccfb39",
   "metadata": {},
   "outputs": [],
   "source": [
    "if __name__ == \"__main__\":\n",
    "    # Open a figure for plotting\n",
    "    fig = pl.figure()\n",
    "    ax = fig.gca()\n",
    "\n",
    "    # Set the convergence velocity\n",
    "    U = 1\n",
    "    # List of polynomial orders to try\n",
    "    ps = [1, 2]\n",
    "    # List of resolutions to try\n",
    "    nelements = [10, 20, 40, 80]\n",
    "    # Keep track of whether we get the expected order of convergence\n",
    "    test_passes = True\n",
    "    # Loop over the polynomial orders\n",
    "    for p in ps:\n",
    "        # Accumulate the errors\n",
    "        errors_l2_a = []\n",
    "        # Loop over the resolutions\n",
    "        for ne in nelements:\n",
    "            # Solve the 2D Batchelor corner flow problem\n",
    "            v_i, p_i = solve_batchelor(ne, p=p, U=U)\n",
    "            # Evaluate the error in the approximate solution\n",
    "            l2error = evaluate_error(v_i, U=U)\n",
    "            # Print to screen and save if on rank 0\n",
    "            if v_i.function_space.mesh.comm.rank == 0:\n",
    "                print('ne = ', ne, ', l2error = ', l2error)\n",
    "            errors_l2_a.append(l2error)\n",
    "\n",
    "        # Work out the order of convergence at this p\n",
    "        hs = 1./np.array(nelements)/p\n",
    "\n",
    "        # Write the errors to disk\n",
    "        if v_i.function_space.mesh.comm.rank == 0:\n",
    "            with open(output_folder / 'batchelor_convergence_p{}.csv'.format(p), 'w') as f:\n",
    "                np.savetxt(f, np.c_[nelements, hs, errors_l2_a], delimiter=',', \n",
    "                       header='nelements, hs, l2errs')\n",
    "\n",
    "        # Fit a line to the convergence data\n",
    "        fit = np.polyfit(np.log(hs), np.log(errors_l2_a),1)\n",
    "        if v_i.function_space.mesh.comm.rank == 0:\n",
    "            print(\"***********  order of accuracy p={}, order={}\".format(p,fit[0]))\n",
    "\n",
    "        # log-log plot of the L2 error \n",
    "        ax.loglog(hs,errors_l2_a,'o-',label='p={}, order={:.2f}'.format(p,fit[0]))\n",
    "    \n",
    "        # Test if the order of convergence is as expected (first order)\n",
    "        test_passes = test_passes and abs(fit[0]-1) < 0.1\n",
    "\n",
    "    # Tidy up the plot\n",
    "    ax.set_xlabel('h')\n",
    "    ax.set_ylabel('||e||_2')\n",
    "    ax.grid()\n",
    "    ax.set_title('Convergence')\n",
    "    ax.legend()\n",
    "\n",
    "    # Write convergence to disk\n",
    "    if v_i.function_space.mesh.comm.rank == 0:\n",
    "        fig.savefig(output_folder / 'batchelor_convergence.pdf')\n",
    "    \n",
    "        print(\"***********  convergence figure in output/batchelor_convergence.pdf\")\n",
    "    \n",
    "    # Check if we passed the test\n",
    "    assert(test_passes)"
   ]
  },
  {
   "cell_type": "markdown",
   "id": "48169baa-bdad-4e69-b2e9-c99a9cf11837",
   "metadata": {},
   "source": [
    "Solving the equations on a series of successively finer meshes and comparing the resulting solution to the analytical result using the error metric\n",
    "\\begin{equation}\n",
    "e_{L^2} = \\sqrt{\\int_\\Omega (\\tilde{\\vec{v}}-\\vec{v})\\cdot(\\tilde{\\vec{v}}-\\vec{v}) dx }\n",
    "\\end{equation}\n",
    "shows linear rather than quadratic convergence, regardless of the polynomial order we select for our numerical solution.\n",
    "\n",
    "This first-order convergence rate is lower than would be expected for piecewise quadratic or piecewise cubic velocity functions (recall that the velocity is one degree higher than the specified pressure polynomial degree). This drop in convergence is caused by the boundary conditions at the origin being discontinuous, which cannot be represented in the selected function space and results in a pressure singularity at that point.  This is an example where convergence analysis demonstrates suboptimal results due to our inability to represent the solution in the selected finite element function space."
   ]
  },
  {
   "cell_type": "markdown",
   "id": "5d363a61-50e7-4577-84ee-fe6ae9ca572a",
   "metadata": {},
   "source": [
    "## Finish up"
   ]
  },
  {
   "cell_type": "markdown",
   "id": "ffa4659b-e692-419b-8545-a661eb5f81f4",
   "metadata": {},
   "source": [
    "Convert this notebook to a python script (making sure to save first)"
   ]
  },
  {
   "cell_type": "code",
   "execution_count": null,
   "id": "caccf403-d279-4221-b9ea-5822f0cc0fb9",
   "metadata": {},
   "outputs": [],
   "source": [
    "if __name__ == \"__main__\" and \"__file__\" not in globals():\n",
    "    from ipylab import JupyterFrontEnd\n",
    "    app = JupyterFrontEnd()\n",
    "    app.commands.execute('docmanager:save')\n",
    "    !jupyter nbconvert --NbConvertApp.export_format=script --ClearOutputPreprocessor.enabled=True batchelor.ipynb"
   ]
  },
  {
   "cell_type": "code",
   "execution_count": null,
   "id": "160d2191-b090-46ef-8d2d-edcbca6c2cd0",
   "metadata": {},
   "outputs": [],
   "source": []
  }
 ],
 "metadata": {
  "kernelspec": {
   "display_name": "Python 3 (ipykernel)",
   "language": "python",
   "name": "python3"
  },
  "language_info": {
   "codemirror_mode": {
    "name": "ipython",
    "version": 3
   },
   "file_extension": ".py",
   "mimetype": "text/x-python",
   "name": "python",
   "nbconvert_exporter": "python",
   "pygments_lexer": "ipython3",
   "version": "3.10.12"
  }
 },
 "nbformat": 4,
 "nbformat_minor": 5
}
