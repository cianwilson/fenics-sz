{
 "cells": [
  {
   "cell_type": "code",
   "execution_count": null,
   "metadata": {},
   "outputs": [],
   "source": [
    "import ipyparallel as ipp\n",
    "import os\n",
    "os.environ[\"XDG_RUNTIME_DIR\"] = \"/tmp\"\n",
    "nprocs = 3\n",
    "rc = ipp.Cluster(engine_launcher_class=\"mpi\", n=nprocs).start_and_connect_sync()"
   ]
  },
  {
   "cell_type": "code",
   "execution_count": null,
   "metadata": {},
   "outputs": [],
   "source": [
    "%%px\n",
    "import gmsh\n",
    "import dolfinx as df\n",
    "import numpy as np\n",
    "from mpi4py import MPI\n",
    "comm_world = MPI.COMM_WORLD"
   ]
  },
  {
   "cell_type": "code",
   "execution_count": null,
   "metadata": {},
   "outputs": [],
   "source": [
    "%%px\n",
    "\n",
    "# Create a gmsh mesh of a unit square with various regions marked as physical groups\n",
    "gmsh.initialize()\n",
    "\n",
    "gmsh.model.add(\"square\")\n",
    "lc = 3e-2\n",
    "gmsh.model.geo.addPoint(0, 0, 0, lc, 1)\n",
    "gmsh.model.geo.addPoint(1, 0, 0, lc, 2)\n",
    "gmsh.model.geo.addPoint(1, 0.4, 0, lc, 3)\n",
    "gmsh.model.geo.addPoint(1, 0.8, 0, lc, 4)\n",
    "gmsh.model.geo.addPoint(1, 1, 0, lc, 5)\n",
    "gmsh.model.geo.addPoint(0.5, 1, 0, lc, 6)\n",
    "gmsh.model.geo.addPoint(0, 1, 0, lc, 7)\n",
    "gmsh.model.geo.addPoint(0, 0.8, 0, lc, 8)\n",
    "gmsh.model.geo.addPoint(0, 0.4, 0, lc, 9)\n",
    "gmsh.model.geo.addPoint(0.5, 0.4, 0, lc, 10)\n",
    "gmsh.model.geo.addPoint(0.5, 0.8, 0, lc, 11)\n",
    "\n",
    "gmsh.model.geo.addLine(1, 2, 1)\n",
    "gmsh.model.geo.addLine(2, 3, 2)\n",
    "gmsh.model.geo.addLine(3, 4, 3)\n",
    "gmsh.model.geo.addLine(4, 5, 4)\n",
    "gmsh.model.geo.addLine(5, 6, 5)\n",
    "gmsh.model.geo.addLine(6, 7, 6)\n",
    "gmsh.model.geo.addLine(7, 8, 7)\n",
    "gmsh.model.geo.addLine(8, 9, 8)\n",
    "gmsh.model.geo.addLine(9, 1, 9)\n",
    "gmsh.model.geo.addLine(9, 10, 10)\n",
    "gmsh.model.geo.addLine(10, 3, 11)\n",
    "gmsh.model.geo.addLine(10, 11, 12)\n",
    "gmsh.model.geo.addLine(8, 11, 13)\n",
    "gmsh.model.geo.addLine(11, 4, 14)\n",
    "gmsh.model.geo.addLine(11, 6, 15)\n",
    "\n",
    "gmsh.model.geo.addCurveLoop([1, 2, -11, -10, 9], 1)\n",
    "gmsh.model.geo.addCurveLoop([11, 3, -14, -12], 2)\n",
    "gmsh.model.geo.addCurveLoop([14, 4, 5, -15], 3)\n",
    "gmsh.model.geo.addCurveLoop([13, 15, 6, 7], 4)\n",
    "gmsh.model.geo.addCurveLoop([10, 12, -13, 8], 5)\n",
    "gmsh.model.geo.addPlaneSurface([1], 1)\n",
    "gmsh.model.geo.addPlaneSurface([2], 2)\n",
    "gmsh.model.geo.addPlaneSurface([3], 3)\n",
    "gmsh.model.geo.addPlaneSurface([4], 4)\n",
    "gmsh.model.geo.addPlaneSurface([5], 5)\n",
    "\n",
    "gmsh.model.geo.synchronize()\n",
    "\n",
    "gmsh.model.addPhysicalGroup(1, [7, 8, 9], 1)\n",
    "gmsh.model.addPhysicalGroup(1, [2, 3, 4], 2)\n",
    "gmsh.model.addPhysicalGroup(1, [1], 3)\n",
    "gmsh.model.addPhysicalGroup(1, [5, 6], 4)\n",
    "gmsh.model.addPhysicalGroup(1, [10, 11], 5)\n",
    "gmsh.model.addPhysicalGroup(1, [13, 14], 6)\n",
    "gmsh.model.addPhysicalGroup(2, [1], 1)\n",
    "gmsh.model.addPhysicalGroup(2, [2], 2)\n",
    "gmsh.model.addPhysicalGroup(2, [3], 3)\n",
    "gmsh.model.addPhysicalGroup(2, [4], 4)\n",
    "gmsh.model.addPhysicalGroup(2, [5], 5)\n",
    "\n",
    "# Generate the mesh on rank 0\n",
    "if comm_world.rank == 0:\n",
    "    gmsh.model.mesh.generate(2)\n"
   ]
  },
  {
   "cell_type": "code",
   "execution_count": null,
   "metadata": {},
   "outputs": [],
   "source": [
    "%%px\n",
    "# Get the cell information from the gmsh model\n",
    "if comm_world.rank == 0:\n",
    "    topologies = df.io.gmshio.extract_topology_and_markers(gmsh.model)\n",
    "\n",
    "    num_cell_types = len(topologies.keys())\n",
    "    cell_information = dict()\n",
    "    cell_dimensions = np.zeros(num_cell_types, dtype=np.int32)\n",
    "    for i, element in enumerate(topologies.keys()):\n",
    "        _, dim, _, num_nodes, _, _ = gmsh.model.mesh.getElementProperties(element)\n",
    "        cell_information[i] = {\"id\": element, \"dim\": dim, \"num_nodes\": num_nodes}\n",
    "        cell_dimensions[i] = dim\n",
    "\n",
    "    # Sort elements by ascending dimension\n",
    "    perm_sort = np.argsort(cell_dimensions)\n",
    "    cell_id = cell_information[perm_sort[-1]][\"id\"]\n",
    "    num_nodes = cell_information[perm_sort[-1]][\"num_nodes\"]\n",
    "    cell_id, num_nodes = comm_world.bcast([cell_id, num_nodes], root=0)\n",
    "\n",
    "    cells = np.asarray(topologies[cell_id][\"topology\"], dtype=np.int64)\n",
    "    cell_values = [np.asarray(topologies[cell_id][\"cell_data\"], dtype=np.int32)]\n",
    "else:\n",
    "    cell_id, num_nodes = comm_world.bcast([None, None], root=0)\n",
    "    cells = np.empty([0, num_nodes], dtype=np.int32)\n",
    "    cell_values = [np.empty((0,), dtype=np.int32)]\n"
   ]
  },
  {
   "cell_type": "code",
   "execution_count": null,
   "metadata": {},
   "outputs": [],
   "source": [
    "%%px\n",
    "# choose which region ids to group together (if sufficient ranks are available)\n",
    "rid_groups = [[1], [2, 5], [3, 4]]\n",
    "\n",
    "# create a partitioner that partitions the mesh depending on the cell region id\n",
    "def partitioner(comm, commsize, celltypes, topos):\n",
    "    nverts = [abs(int(celltype.value)) for celltype in celltypes]\n",
    "    ncells = sum([int(len(topo)/nverts[t]) for t, topo in enumerate(topos)])\n",
    "    if commsize == 1:\n",
    "        # trivial case\n",
    "        procs = np.zeros(ncells, dtype=np.int32)\n",
    "        al = df.graph.adjacencylist(procs)\n",
    "    elif commsize == 2:\n",
    "        # special case: not a large enough comm so \n",
    "        # group the last two rid groups together\n",
    "        groups = [rid_groups[0], rid_groups[1] + rid_groups[2]]\n",
    "        procs = np.asarray([g for t in range(len(topos)) for val in cell_values[t] for g, group in enumerate(groups) if val in group], dtype=np.int32)\n",
    "        al = df.graph.adjacencylist(procs)\n",
    "    else:\n",
    "        # arbitrary case\n",
    "        groups = rid_groups\n",
    "        if comm.rank == 0:\n",
    "            # figure out which cells belong together\n",
    "            cellorder = [None]*ncells\n",
    "            lgrouptopos = [[[] for topo in topos] for group in groups]\n",
    "            i = 0\n",
    "            for g, group in enumerate(groups):\n",
    "                for t, topo in enumerate(topos):\n",
    "                    for c, val in enumerate(cell_values[t]):\n",
    "                        if val in group:\n",
    "                            lgrouptopos[g][t] += topo[c*nverts[t]:(c+1)*nverts[t]].tolist()\n",
    "                            cellorder[c] = i # remember the order\n",
    "                            i += 1\n",
    "            grouptopos = [[np.array(grouptopo[t], dtype=np.int64) for t in range(len(topos))] for grouptopo in lgrouptopos]\n",
    "            groupsizes = [max(1, int(sum([len(grouptopo[t])/nverts[t] for t in range(len(topos))])*commsize/ncells)) for grouptopo in grouptopos]\n",
    "            # correct the logic above so that sum(groupsizes) == commsize\n",
    "            while sum(groupsizes) < commsize:\n",
    "                for g in [1, 0, 2]:\n",
    "                    groupsizes[g] = groupsizes[g] + 1\n",
    "                    if sum(groupsizes) == commsize: break\n",
    "            while sum(groupsizes) > commsize:\n",
    "                for g in [2, 0, 1]:\n",
    "                    if groupsizes[g] > 1: groupsizes[g] = groupsizes[g] - 1\n",
    "                    if sum(groupsizes) == commsize: break\n",
    "            # communicate the groupsizes\n",
    "            groupsizes = comm.bcast(groupsizes, root=0)\n",
    "        else:\n",
    "            grouptopos = [[np.empty((0,), dtype=np.int64) for t in range(len(topos))] for g in range(len(groups))]\n",
    "            cellorder = []\n",
    "            groupsizes = comm.bcast([None]*len(groups), root=0)\n",
    "        if sum(groupsizes) != commsize:\n",
    "            raise Exception(\"sum(groupsizes) != commsize\")\n",
    "        values = np.empty((0,), dtype=np.int32)\n",
    "        # for each group, partition the cells using a cell partitioner\n",
    "        for g in range(len(groups)):\n",
    "            lal = df.mesh.create_cell_partitioner(df.mesh.GhostMode.none)(\n",
    "                comm, groupsizes[g], celltypes, grouptopos[g])\n",
    "            values = np.concatenate((values, lal.array + sum(groupsizes[:g])), axis=0)\n",
    "        al = df.graph.adjacencylist(values[cellorder])\n",
    "    return al"
   ]
  },
  {
   "cell_type": "code",
   "execution_count": null,
   "metadata": {},
   "outputs": [],
   "source": [
    "%%px\n",
    "# convert the gmsh mesh to a dolfinx mesh\n",
    "mesh, ct, ft = df.io.gmshio.model_to_mesh(gmsh.model, comm_world, 0, gdim=2, partitioner=partitioner)"
   ]
  },
  {
   "cell_type": "raw",
   "metadata": {
    "vscode": {
     "languageId": "raw"
    }
   },
   "source": [
    "%%px\n",
    "df.mesh.create_cell_partitioner(df.mesh.GhostMode.none)(mesh.comm, mesh.comm.size, [df.mesh.CellType.triangle], [cells.flatten()])"
   ]
  },
  {
   "cell_type": "code",
   "execution_count": null,
   "metadata": {},
   "outputs": [],
   "source": [
    "%%px\n",
    "def create_submesh_split_comm(mesh, cell_indices, cell_tags=None, facet_tags=None):\n",
    "    \"\"\"\n",
    "    Function to return a submesh based on the cell indices provided using a split comm\n",
    "    that excludes ranks with no cells.\n",
    "\n",
    "    Arguments:\n",
    "      * mesh         - original (parent) mesh\n",
    "      * cell_indices - cell indices of the parent mesh to include in the submesh\n",
    "\n",
    "    Keyword Arguments:\n",
    "      * cell_tags    - cell tags on parent mesh that will be mapped and returned relative to submesh (default=None)\n",
    "      * facet_tags   - facet tags on parent mesh that will be mapped and returned relative to submesh (default=None)\n",
    "\n",
    "    Returns:\n",
    "      * submesh            - submesh of mesh given cell_indices\n",
    "      * submesh_cell_tags  - cell tags relative to submesh if cell_tags provided (otherwise None)\n",
    "      * submesh_facet_tags - facet tags relative to submesh if facet_tags provided (otherwise None)\n",
    "      * submesh_cell_map   - map from submesh cells to parent cells\n",
    "    \"\"\"\n",
    "    tdim = mesh.topology.dim\n",
    "    fdim = tdim-1\n",
    "\n",
    "    # create the submesh\n",
    "    submesh, submesh_cell_map, submesh_vertex_map, submesh_geom_map = df.mesh.create_submesh(mesh, tdim, cell_indices)\n",
    "\n",
    "    # create a split comm\n",
    "    new_comm = mesh.comm.Split(submesh.topology.index_map(tdim).size_local>0)\n",
    "\n",
    "    # map from the rank on the original comm to the new split comm\n",
    "    # used to map index map owners to their new ranks\n",
    "    # this will include undefined negative numbers on ranks with no corresponding entry on the split comm that should cause failure if the mesh has ghosts on unexpected ranks\n",
    "    rank_map = np.asarray(submesh.comm.group.Translate_ranks(None, new_comm.group), dtype=np.int32)\n",
    "\n",
    "    # create a new topology on the new comm\n",
    "    new_topo = df.cpp.mesh.Topology(new_comm, submesh.topology.cell_type)\n",
    "\n",
    "    new_topo_im_0 = df.common.IndexMap(new_comm, \n",
    "                                    submesh.topology.index_map(0).size_local, \n",
    "                                    submesh.topology.index_map(0).ghosts, \n",
    "                                    rank_map[submesh.topology.index_map(0).owners])\n",
    "    new_topo.set_index_map(0, new_topo_im_0)\n",
    "\n",
    "    new_topo_im_tdim = df.common.IndexMap(new_comm, \n",
    "                                    submesh.topology.index_map(tdim).size_local, \n",
    "                                    submesh.topology.index_map(tdim).ghosts, \n",
    "                                    rank_map[submesh.topology.index_map(tdim).owners])\n",
    "    new_topo.set_index_map(tdim, new_topo_im_tdim)\n",
    "\n",
    "    new_topo.set_connectivity(submesh.topology.connectivity(0,0), 0, 0)\n",
    "    new_topo.set_connectivity(submesh.topology.connectivity(tdim, 0), tdim, 0)\n",
    "\n",
    "    gdim = submesh.geometry.dim\n",
    "    new_geom_im = df.common.IndexMap(new_comm,\n",
    "                                    submesh.geometry.index_map().size_local,\n",
    "                                    submesh.geometry.index_map().ghosts,\n",
    "                                    rank_map[submesh.geometry.index_map().owners])\n",
    "    new_geom = type(submesh.geometry._cpp_object)(new_geom_im, submesh.geometry.dofmap, \n",
    "                                    submesh.geometry.cmap._cpp_object, \n",
    "                                    submesh.geometry.x[:,:gdim], \n",
    "                                    submesh.geometry.input_global_indices)\n",
    "    \n",
    "    # set up a new submesh\n",
    "    new_submesh = df.mesh.Mesh(type(submesh._cpp_object)(new_comm, new_topo, new_geom), submesh.ufl_domain())\n",
    "    new_submesh.topology.create_connectivity(fdim, tdim)\n",
    "\n",
    "    # if cell_tags are provided then map to the new submesh\n",
    "    new_submesh_cell_tags = None\n",
    "    if cell_tags is not None:\n",
    "        submesh_cell_tags_indices = []\n",
    "        submesh_cell_tags_values  = []\n",
    "        # loop over the submesh cells, checking if they're included in\n",
    "        # the parent cell_tags\n",
    "        for i,parentind in enumerate(submesh_cell_map):\n",
    "            parent_cell_tags_indices = np.argwhere(cell_tags.indices==parentind)\n",
    "            if parent_cell_tags_indices.shape[0]>0:\n",
    "                submesh_cell_tags_indices.append(i)\n",
    "                submesh_cell_tags_values.append(cell_tags.values[parent_cell_tags_indices[0][0]])\n",
    "        submesh_cell_tags_indices = np.asarray(submesh_cell_tags_indices)\n",
    "        submesh_cell_tags_values  = np.asarray(submesh_cell_tags_values)\n",
    "\n",
    "        # create a new meshtags object\n",
    "        # indices should already be sorted by construction\n",
    "        new_submesh_cell_tags = df.mesh.meshtags(new_submesh, tdim, \n",
    "                                             submesh_cell_tags_indices, \n",
    "                                             submesh_cell_tags_values)\n",
    "            \n",
    "\n",
    "    # if facet_tags are provided then map to the new submesh\n",
    "    new_submesh_facet_tags = None\n",
    "    if facet_tags is not None:\n",
    "        # parent facet to vertices adjacency list\n",
    "        f2vs = mesh.topology.connectivity(fdim, 0)\n",
    "\n",
    "        # submesh facet to vertices adjaceny list\n",
    "        new_submesh.topology.create_connectivity(fdim, 0)\n",
    "        submesh_f2vs = new_submesh.topology.connectivity(fdim, 0)\n",
    "        # create a map from the parent vertices to the submesh facets\n",
    "        # (only for the facets that exist in the submesh)\n",
    "        submesh_parentvs2subf = dict()\n",
    "        for i in range(submesh_f2vs.num_nodes):\n",
    "            submesh_parentvs2subf[tuple(sorted([submesh_vertex_map[j] for j in submesh_f2vs.links(i)]))] = i\n",
    "\n",
    "        # loop over the facet_tags and map from the parent facet to the submesh facet\n",
    "        # via the vertices, copying over the facet_tag values\n",
    "        submesh_facet_tags_indices = []\n",
    "        submesh_facet_tags_values  = []\n",
    "        for i,parentind in enumerate(facet_tags.indices):\n",
    "            subind = submesh_parentvs2subf.get(tuple(sorted(f2vs.links(parentind))), None)\n",
    "            if subind is not None:\n",
    "                submesh_facet_tags_indices.append(subind)\n",
    "                submesh_facet_tags_values.append(facet_tags.values[i])\n",
    "        submesh_facet_tags_indices = np.asarray(submesh_facet_tags_indices)\n",
    "        submesh_facet_tags_values  = np.asarray(submesh_facet_tags_values)\n",
    "\n",
    "        perm = np.argsort(submesh_facet_tags_indices)\n",
    "        new_submesh_facet_tags = df.mesh.meshtags(new_submesh, fdim, \n",
    "                                              submesh_facet_tags_indices[perm], \n",
    "                                              submesh_facet_tags_values[perm])\n",
    "    \n",
    "    return new_submesh, new_submesh_cell_tags, new_submesh_facet_tags\n",
    "    "
   ]
  },
  {
   "cell_type": "code",
   "execution_count": null,
   "metadata": {},
   "outputs": [],
   "source": [
    "%%px\n",
    "submesh_0, submesh_0_ct, submesh_0_ft = create_submesh_split_comm(mesh, \n",
    "                                                    np.concatenate([ct.find(rid) for rid in rid_groups[0]]),\n",
    "                                                    cell_tags=ct, facet_tags=ft)\n",
    "submesh_1, submesh_1_ct, submesh_1_ft = create_submesh_split_comm(mesh, \n",
    "                                                    np.concatenate([ct.find(rid) for rid in rid_groups[1]]),\n",
    "                                                    cell_tags=ct, facet_tags=ft)"
   ]
  },
  {
   "cell_type": "markdown",
   "metadata": {},
   "source": [
    "# Plotting"
   ]
  },
  {
   "cell_type": "code",
   "execution_count": null,
   "metadata": {},
   "outputs": [],
   "source": [
    "%%px\n",
    "import sys, os\n",
    "basedir = ''\n",
    "if \"__file__\" in globals(): basedir = os.path.dirname(__file__)\n",
    "sys.path.append(os.path.join(basedir, os.path.pardir, 'python'))\n",
    "import utils\n",
    "tdim = mesh.topology.dim"
   ]
  },
  {
   "cell_type": "markdown",
   "metadata": {},
   "source": [
    "### Whole mesh (cells)"
   ]
  },
  {
   "cell_type": "code",
   "execution_count": null,
   "metadata": {},
   "outputs": [],
   "source": [
    "%%px\n",
    "plotter_mesh = utils.plot_mesh(mesh, tags=ct, gather=True, show_edges=True, line_width=1)\n",
    "utils.plot_show(plotter_mesh)"
   ]
  },
  {
   "cell_type": "code",
   "execution_count": null,
   "metadata": {},
   "outputs": [],
   "source": [
    "%%px\n",
    "plotter_mesh = utils.plot_mesh(mesh, tags=ct, gather=False, show_edges=True, line_width=1, clim=[1,5])\n",
    "utils.plot_show(plotter_mesh)"
   ]
  },
  {
   "cell_type": "markdown",
   "metadata": {},
   "source": [
    "### Submesh 0 (cells)"
   ]
  },
  {
   "cell_type": "code",
   "execution_count": null,
   "metadata": {},
   "outputs": [],
   "source": [
    "%%px\n",
    "if submesh_0.topology.index_map(tdim).size_local>0:\n",
    "    plotter_mesh = utils.plot_mesh(submesh_0, tags=submesh_0_ct, gather=True, show_edges=True, line_width=1, clim=[1,5])\n",
    "    utils.plot_show(plotter_mesh)"
   ]
  },
  {
   "cell_type": "code",
   "execution_count": null,
   "metadata": {},
   "outputs": [],
   "source": [
    "%%px\n",
    "if submesh_0.topology.index_map(tdim).size_local>0:\n",
    "    plotter_mesh = utils.plot_mesh(submesh_0, tags=submesh_0_ct, gather=False, show_edges=True, line_width=1, clim=[1,5])\n",
    "    utils.plot_show(plotter_mesh)"
   ]
  },
  {
   "cell_type": "markdown",
   "metadata": {},
   "source": [
    "### Submesh 1 (cells)"
   ]
  },
  {
   "cell_type": "code",
   "execution_count": null,
   "metadata": {},
   "outputs": [],
   "source": [
    "%%px\n",
    "if submesh_1.topology.index_map(tdim).size_local>0:\n",
    "    plotter_mesh = utils.plot_mesh(submesh_1, tags=submesh_1_ct, gather=True, show_edges=True, line_width=1, clim=[1,5])\n",
    "    utils.plot_show(plotter_mesh)"
   ]
  },
  {
   "cell_type": "code",
   "execution_count": null,
   "metadata": {},
   "outputs": [],
   "source": [
    "%%px\n",
    "if submesh_1.topology.index_map(tdim).size_local>0:\n",
    "    plotter_mesh = utils.plot_mesh(submesh_1, tags=submesh_1_ct, gather=False, show_edges=True, line_width=1, clim=[1,5])\n",
    "    utils.plot_show(plotter_mesh)"
   ]
  },
  {
   "cell_type": "markdown",
   "metadata": {},
   "source": [
    "### Whole mesh (facets)"
   ]
  },
  {
   "cell_type": "code",
   "execution_count": null,
   "metadata": {},
   "outputs": [],
   "source": [
    "%%px\n",
    "plotter_mesh = utils.plot_mesh(mesh, tags=ft, gather=True, show_edges=True, line_width=1)\n",
    "utils.plot_show(plotter_mesh)"
   ]
  },
  {
   "cell_type": "code",
   "execution_count": null,
   "metadata": {},
   "outputs": [],
   "source": [
    "%%px\n",
    "plotter_mesh = utils.plot_mesh(mesh, tags=ft, gather=False, show_edges=True, line_width=1, clim=[0,6])\n",
    "utils.plot_show(plotter_mesh)"
   ]
  },
  {
   "cell_type": "code",
   "execution_count": null,
   "metadata": {},
   "outputs": [],
   "source": [
    "%%px\n",
    "if submesh_0.topology.index_map(tdim).size_local>0:\n",
    "    plotter_mesh = utils.plot_mesh(submesh_0, tags=submesh_0_ft, gather=True, show_edges=True, line_width=1, clim=[0,6])\n",
    "    utils.plot_show(plotter_mesh)"
   ]
  },
  {
   "cell_type": "code",
   "execution_count": null,
   "metadata": {},
   "outputs": [],
   "source": [
    "%%px\n",
    "if submesh_0.topology.index_map(tdim).size_local>0:\n",
    "    plotter_mesh = utils.plot_mesh(submesh_0, tags=submesh_0_ft, gather=False, show_edges=True, line_width=1, clim=[0,6])\n",
    "    utils.plot_show(plotter_mesh)"
   ]
  },
  {
   "cell_type": "code",
   "execution_count": null,
   "metadata": {},
   "outputs": [],
   "source": [
    "%%px\n",
    "if submesh_1.topology.index_map(tdim).size_local>0:\n",
    "    plotter_mesh = utils.plot_mesh(submesh_1, tags=submesh_1_ft, gather=True, show_edges=True, line_width=1, clim=[0,6])\n",
    "    utils.plot_show(plotter_mesh)"
   ]
  },
  {
   "cell_type": "code",
   "execution_count": null,
   "metadata": {},
   "outputs": [],
   "source": [
    "%%px\n",
    "if submesh_1.topology.index_map(tdim).size_local>0:\n",
    "    plotter_mesh = utils.plot_mesh(submesh_1, tags=submesh_1_ft, gather=False, show_edges=True, line_width=1, clim=[0,6])\n",
    "    utils.plot_show(plotter_mesh)"
   ]
  },
  {
   "cell_type": "code",
   "execution_count": null,
   "metadata": {},
   "outputs": [],
   "source": [
    "%%px\n",
    "import ufl\n",
    "import dolfinx as df\n",
    "\n",
    "\n",
    "ds_0 = ufl.Measure(\"ds\", domain=submesh_0, subdomain_data=submesh_0_ft)\n",
    "print(df.fem.assemble_scalar(df.fem.form(df.fem.Constant(submesh_0, df.default_scalar_type(1.0))*ds_0((1,2,3,5,)))))\n",
    "\n",
    "ds_1 = ufl.Measure(\"ds\", domain=submesh_1, subdomain_data=submesh_1_ft)\n",
    "print(df.fem.assemble_scalar(df.fem.form(df.fem.Constant(submesh_1, df.default_scalar_type(1.0))*ds_1((1,2,5,6,)))))"
   ]
  },
  {
   "cell_type": "code",
   "execution_count": null,
   "metadata": {},
   "outputs": [],
   "source": []
  }
 ],
 "metadata": {
  "kernelspec": {
   "display_name": "dolfinx-env",
   "language": "python",
   "name": "python3"
  },
  "language_info": {
   "codemirror_mode": {
    "name": "ipython",
    "version": 3
   },
   "file_extension": ".py",
   "mimetype": "text/x-python",
   "name": "python",
   "nbconvert_exporter": "python",
   "pygments_lexer": "ipython3",
   "version": "3.12.3"
  }
 },
 "nbformat": 4,
 "nbformat_minor": 2
}
