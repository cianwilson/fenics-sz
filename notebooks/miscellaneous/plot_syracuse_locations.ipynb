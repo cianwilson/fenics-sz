{
 "cells": [
  {
   "cell_type": "markdown",
   "metadata": {},
   "source": [
    "# Create a map of the global suite locations\n",
    "\n",
    "Authors: Cian Wilson"
   ]
  },
  {
   "cell_type": "code",
   "execution_count": null,
   "metadata": {},
   "outputs": [],
   "source": [
    "import sys, os\n",
    "basedir = ''\n",
    "if \"__file__\" in globals(): basedir = os.path.dirname(__file__)\n",
    "import pathlib\n",
    "output_folder = pathlib.Path(os.path.join(basedir, \"output\"))\n",
    "output_folder.mkdir(exist_ok=True, parents=True)"
   ]
  },
  {
   "cell_type": "code",
   "execution_count": null,
   "metadata": {},
   "outputs": [],
   "source": [
    "import pygmt\n",
    "import pandas as pd"
   ]
  },
  {
   "cell_type": "code",
   "execution_count": null,
   "metadata": {},
   "outputs": [],
   "source": [
    "locs = pd.read_csv(\"data/syracuselocations.csv\", index_col=\"No\")"
   ]
  },
  {
   "cell_type": "code",
   "execution_count": null,
   "metadata": {},
   "outputs": [],
   "source": [
    "fig = pygmt.Figure()\n",
    "fig.basemap(region=\"d\", projection=\"W-115/25c\", frame=True)\n",
    "fig.coast(shorelines=\"1/1p,black\")\n",
    "cmap = pygmt.makecpt(cmap=\"viridis\", series=[locs.index.min(), locs.index.max()])\n",
    "for c, i in enumerate([val for pair in zip(list(range(0, 28)), list(range(28, 56))) for val in pair]):\n",
    "#for i, data in locs.iterrows():\n",
    "    data = locs.iloc[i]\n",
    "    label = \"{} {}\".format(repr(i+1).zfill(1), data[\"Name\"])\n",
    "    if c%2==0: label += \"+N2\"\n",
    "    fig.plot(x=data[\"Lat\"], y=data[\"Lon\"], fill=\"+z\", zvalue=i, style=\"c0.3c\", pen=\"black\", cmap=True, label=label)\n",
    "    fig.text(x=data['Lat'], y=data['Lon'], text=repr(i+1).zfill(1), offset=[\"{}/{}\".format(data['Offx'], data['Offy'])])\n",
    "    #fig.text(x=data['Lat'], y=data['Lon'], text=repr(i+1).zfill(1), fill=\"+z\", zvalue=i)#offset=[\"{}/{}\".format(data['Offx'], data['Offy'])])\n",
    "fig.legend(position=\"JMC+jMC+o12.5/0+w60\")\n",
    "fig.show()\n",
    "fig.savefig(output_folder / \"syracuselocations.png\")"
   ]
  },
  {
   "cell_type": "code",
   "execution_count": null,
   "metadata": {},
   "outputs": [],
   "source": []
  }
 ],
 "metadata": {
  "kernelspec": {
   "display_name": "dolfinx-env",
   "language": "python",
   "name": "python3"
  },
  "language_info": {
   "codemirror_mode": {
    "name": "ipython",
    "version": 3
   },
   "file_extension": ".py",
   "mimetype": "text/x-python",
   "name": "python",
   "nbconvert_exporter": "python",
   "pygments_lexer": "ipython3",
   "version": "3.12.3"
  }
 },
 "nbformat": 4,
 "nbformat_minor": 2
}
