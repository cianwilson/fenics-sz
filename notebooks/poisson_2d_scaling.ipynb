{
 "cells": [
  {
   "cell_type": "code",
   "execution_count": null,
   "metadata": {},
   "outputs": [],
   "source": [
    "import ipyparallel as ipp"
   ]
  },
  {
   "cell_type": "code",
   "execution_count": null,
   "metadata": {},
   "outputs": [],
   "source": [
    "np = 2\n",
    "ne = 64\n",
    "p = 2\n",
    "\n",
    "labels = [\n",
    "              'Poisson Mesh', 'Poisson Functions',\n",
    "              'Poisson Dirichlet BCs', 'Poisson Neumann BCs',\n",
    "              'Poisson Forms', 'Poisson Assemble',\n",
    "              'Poisson Solve'\n",
    "         ]\n",
    "\n",
    "cluster = ipp.Cluster(engine_launcher_class=\"mpi\", n=np)\n",
    "rc = cluster.start_and_connect_sync()\n",
    "view = rc[:]\n",
    "\n",
    "@view.remote(block=True)\n",
    "def poisson_parallel(ne, p, labels):\n",
    "    from poisson_2d import solve_poisson_2d\n",
    "    import dolfinx as df\n",
    "    from mpi4py import MPI\n",
    "    \n",
    "    T_i = solve_poisson_2d(ne, p)\n",
    "    \n",
    "    print(T_i.function_space.mesh.comm.rank, T_i.function_space.mesh.comm.size)\n",
    "    \n",
    "    times = [df.common.timing(l)[1] for l in labels]\n",
    "    maxtimes = T_i.function_space.mesh.comm.reduce(times, op=MPI.MAX)\n",
    "    \n",
    "    return maxtimes\n",
    "\n",
    "poisson_parallel(ne, p, labels)[0]\n"
   ]
  },
  {
   "cell_type": "code",
   "execution_count": null,
   "metadata": {},
   "outputs": [],
   "source": [
    "type(rc)"
   ]
  },
  {
   "cell_type": "code",
   "execution_count": null,
   "metadata": {},
   "outputs": [],
   "source": [
    "rc.shutdown(hub=True)"
   ]
  },
  {
   "cell_type": "code",
   "execution_count": null,
   "metadata": {},
   "outputs": [],
   "source": []
  },
  {
   "cell_type": "code",
   "execution_count": null,
   "metadata": {},
   "outputs": [],
   "source": [
    "ne = 640\n",
    "p = 2\n",
    "nps = [1, 2, 4, 8]\n",
    "\n",
    "labels = [\n",
    "              'Poisson Mesh', 'Poisson Functions',\n",
    "              'Poisson Dirichlet BCs', 'Poisson Neumann BCs',\n",
    "              'Poisson Forms', 'Poisson Assemble',\n",
    "              'Poisson Solve'\n",
    "         ]\n",
    "\n",
    "maxtimes = []\n",
    "for np in nps:\n",
    "    cluster = ipp.Cluster(engine_launcher_class=\"mpi\", n=np)\n",
    "    rc = cluster.start_and_connect_sync()\n",
    "    view = rc[:]\n",
    "\n",
    "    @view.remote(block=True)\n",
    "    def poisson_parallel(ne, p, labels):\n",
    "        from poisson_2d import solve_poisson_2d\n",
    "        import dolfinx as df\n",
    "        from mpi4py import MPI\n",
    "        \n",
    "        T_i = solve_poisson_2d(ne, p)\n",
    "        \n",
    "        print(T_i.function_space.mesh.comm.rank, T_i.function_space.mesh.comm.size)\n",
    "        \n",
    "        times = [df.common.timing(l)[1] for l in labels]\n",
    "        maxtimes = T_i.function_space.mesh.comm.reduce(times, op=MPI.MAX)\n",
    "        \n",
    "        return maxtimes\n",
    "\n",
    "    maxtimes.append(poisson_parallel(ne, p, labels)[0])\n",
    "    rc.shutdown(hub=True)\n"
   ]
  },
  {
   "cell_type": "code",
   "execution_count": null,
   "metadata": {},
   "outputs": [],
   "source": [
    "print('\\t'.join(['\\t']+[repr(np) for np in nps]))\n",
    "for l, label in enumerate(labels):\n",
    "    print('\\t'.join([label]+[repr(t[l]) for t in maxtimes]))"
   ]
  },
  {
   "cell_type": "code",
   "execution_count": null,
   "metadata": {},
   "outputs": [],
   "source": []
  }
 ],
 "metadata": {
  "kernelspec": {
   "display_name": "Python 3",
   "language": "python",
   "name": "python3"
  },
  "language_info": {
   "codemirror_mode": {
    "name": "ipython",
    "version": 3
   },
   "file_extension": ".py",
   "mimetype": "text/x-python",
   "name": "python",
   "nbconvert_exporter": "python",
   "pygments_lexer": "ipython3",
   "version": "3.10.12"
  }
 },
 "nbformat": 4,
 "nbformat_minor": 2
}
