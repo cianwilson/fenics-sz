{
 "cells": [
  {
   "cell_type": "code",
   "execution_count": null,
   "id": "5f579a8f",
   "metadata": {},
   "outputs": [],
   "source": [
    "import ipyparallel as ipp\n",
    "\n",
    "rc = ipp.Cluster(n=2).start_and_connect_sync()"
   ]
  },
  {
   "cell_type": "code",
   "execution_count": null,
   "id": "a3c0c86c-7233-4209-8128-0d78e38e8a64",
   "metadata": {},
   "outputs": [],
   "source": [
    "%%px\n",
    "from poisson_2d import solve_poisson_2d\n",
    "import dolfinx as df\n",
    "import utils"
   ]
  },
  {
   "cell_type": "code",
   "execution_count": null,
   "id": "ca0596f6-4bd1-4baa-a5fa-13e0a897723c",
   "metadata": {},
   "outputs": [],
   "source": [
    "%%px\n",
    "T_P2 =  solve_poisson_2d(300, p=2, petsc_options={\"ksp_type\": \"cg\", \\\n",
    "                                                  \"pc_type\": \"lu\", \\\n",
    "                                                  \"pc_factor_mat_solver_type\": \"mumps\"})\n",
    "filename = \"poisson_2d_tests2_solution.bp\"\n",
    "with df.io.VTXWriter(T_P2.function_space.mesh.comm, filename, [T_P2]) as vtx:\n",
    "    vtx.write(0.0)\n",
    "plotter_P2_p = utils.plot_scalar(T_P2)\n",
    "#utils.plot_mesh(T_P2.function_space.mesh, plotter=plotter_P2_p, show_edges=True, style=\"wireframe\", color='k', line_width=2)\n",
    "# utils.plot_scalar_values(T_P2, plotter=plotter_P2_p, point_size=15, font_size=12, shape_color='w', text_color='k', bold=False)\n",
    "utils.plot_show(plotter_P2_p)\n",
    "# utils.plot_save(plotter_P2_p, output_folder / \"2d_poisson_P2_solution_p{:d}.png\".format(comm.rank,))"
   ]
  },
  {
   "cell_type": "code",
   "execution_count": null,
   "id": "aded779b",
   "metadata": {},
   "outputs": [],
   "source": [
    "from poisson_2d import solve_poisson_2d\n",
    "import dolfinx as df\n",
    "import utils"
   ]
  },
  {
   "cell_type": "code",
   "execution_count": null,
   "id": "31aa16c0",
   "metadata": {},
   "outputs": [],
   "source": [
    "T_P2 =  solve_poisson_2d(300, p=2, petsc_options={\"ksp_type\": \"cg\", \\\n",
    "                                                  \"pc_type\": \"lu\", \\\n",
    "                                                  \"pc_factor_mat_solver_type\": \"mumps\"})\n",
    "filename = \"poisson_2d_tests2_solution.bp\"\n",
    "with df.io.VTXWriter(T_P2.function_space.mesh.comm, filename, [T_P2]) as vtx:\n",
    "    vtx.write(0.0)\n",
    "plotter_P2_p = utils.plot_scalar(T_P2)\n",
    "#utils.plot_mesh(T_P2.function_space.mesh, plotter=plotter_P2_p, show_edges=True, style=\"wireframe\", color='k', line_width=2)\n",
    "# utils.plot_scalar_values(T_P2, plotter=plotter_P2_p, point_size=15, font_size=12, shape_color='w', text_color='k', bold=False)\n",
    "utils.plot_show(plotter_P2_p)\n",
    "# utils.plot_save(plotter_P2_p, output_folder / \"2d_poisson_P2_solution_p{:d}.png\".format(comm.rank,))"
   ]
  },
  {
   "cell_type": "code",
   "execution_count": null,
   "id": "180c8164",
   "metadata": {},
   "outputs": [],
   "source": []
  }
 ],
 "metadata": {
  "kernelspec": {
   "display_name": "Python 3",
   "language": "python",
   "name": "python3"
  },
  "language_info": {
   "codemirror_mode": {
    "name": "ipython",
    "version": 3
   },
   "file_extension": ".py",
   "mimetype": "text/x-python",
   "name": "python",
   "nbconvert_exporter": "python",
   "pygments_lexer": "ipython3",
   "version": "3.10.12"
  }
 },
 "nbformat": 4,
 "nbformat_minor": 5
}
