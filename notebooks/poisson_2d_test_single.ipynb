{
 "cells": [
  {
   "cell_type": "markdown",
   "id": "873326ab-056d-4165-95e4-be0270cc3ea4",
   "metadata": {},
   "source": [
    "# Poisson Example 2D\n",
    "\n",
    "Authors: Kidus Teshome, Cameron Seebeck, Cian Wilson"
   ]
  },
  {
   "cell_type": "markdown",
   "id": "d34770fc-5114-458e-8850-3e091fe9e999",
   "metadata": {},
   "source": [
    "## Description"
   ]
  },
  {
   "cell_type": "markdown",
   "id": "490426df-24b9-4f91-bbb9-2a02ef7ce188",
   "metadata": {},
   "source": [
    "As a reminder, in this case we are seeking the approximate solution to\n",
    "\\begin{equation}\n",
    "- \\nabla^2 T = -\\tfrac{5}{4} \\exp \\left( x+\\tfrac{y}{2} \\right)\n",
    "\\end{equation}\n",
    "in a unit square, $\\Omega=[0,1]\\times[0,1]$, imposing the boundary conditions\n",
    "\\begin{align}\n",
    "  T &= \\exp\\left(x+\\tfrac{y}{2}\\right) && \\text{on } \\partial\\Omega \\text{ where } x=0 \\text{ or } y=0 \\\\\n",
    "  \\nabla T\\cdot \\hat{\\vec{n}} &= \\exp\\left(x + \\tfrac{y}{2}\\right) && \\text{on } \\partial\\Omega \\text{ where } x=1  \\\\\n",
    "  \\nabla T\\cdot \\hat{\\vec{n}} &= \\tfrac{1}{2}\\exp\\left(x + \\tfrac{y}{2}\\right) && \\text{on } \\partial\\Omega \\text{ where } y=1\n",
    " \\end{align}\n",
    "\n",
    "The analytical solution to this problem is $T(x,y) = \\exp\\left(x+\\tfrac{y}{2}\\right)$."
   ]
  },
  {
   "cell_type": "markdown",
   "id": "c5ae6af0-4e8d-41ab-8aae-131a3690bc21",
   "metadata": {},
   "source": [
    "## Themes and variations"
   ]
  },
  {
   "cell_type": "markdown",
   "id": "514bf2cd-8236-4b3c-92b0-0a6c794501c3",
   "metadata": {},
   "source": [
    "* Given that we know the exact solution to this problem is $T(x,y)$=$\\exp\\left(x+\\tfrac{y}{2}\\right)$ write a python function to evaluate the error in our numerical solution.\n",
    "* Loop over a variety of numbers of elements, `ne`, and polynomial degrees, `p`, and check that the numerical solution converges with an increasing number of degrees of freedom.\n",
    "* Write an equation for the gradient of $\\tilde{T}$, describe it using UFL, solve it, and plot the solution."
   ]
  },
  {
   "cell_type": "markdown",
   "id": "75ea99bb-ee37-4be9-b4f6-32f060d90102",
   "metadata": {},
   "source": [
    "### Preamble"
   ]
  },
  {
   "cell_type": "markdown",
   "id": "4f7ab789-6830-4668-87c9-faa13608f7ac",
   "metadata": {},
   "source": [
    "Start by loading `solve_poisson_2d` from `notebooks/poisson_2d.ipynb` and setting up some paths."
   ]
  },
  {
   "cell_type": "code",
   "execution_count": 1,
   "id": "a3c0c86c-7233-4209-8128-0d78e38e8a64",
   "metadata": {},
   "outputs": [],
   "source": [
    "from poisson_2d import solve_poisson_2d\n",
    "from mpi4py import MPI\n",
    "import numpy as np\n",
    "import ufl\n",
    "import sys, os\n",
    "basedir = ''\n",
    "if \"__file__\" in globals(): basedir = os.path.dirname(__file__)\n",
    "sys.path.append(os.path.join(basedir, os.path.pardir, 'python'))\n",
    "import utils\n",
    "import matplotlib.pyplot as pl\n",
    "import pyvista as pv\n",
    "if __name__ == \"__main__\" and \"__file__\" in globals():\n",
    "    pv.OFF_SCREEN = True\n",
    "import pathlib\n",
    "if __name__ == \"__main__\":\n",
    "    output_folder = pathlib.Path(os.path.join(basedir, \"output\"))\n",
    "    output_folder.mkdir(exist_ok=True, parents=True)\n",
    "import time\n",
    "import dolfinx as df"
   ]
  },
  {
   "cell_type": "code",
   "execution_count": 2,
   "id": "49a0791a",
   "metadata": {},
   "outputs": [
    {
     "name": "stdout",
     "output_type": "stream",
     "text": [
      "0 1\n"
     ]
    }
   ],
   "source": [
    "print(MPI.COMM_WORLD.rank, MPI.COMM_WORLD.size)"
   ]
  },
  {
   "cell_type": "code",
   "execution_count": 3,
   "id": "d03c68d4-c22c-4768-b20d-c91b8ddc5fbc",
   "metadata": {},
   "outputs": [
    {
     "name": "stdout",
     "output_type": "stream",
     "text": [
      "Generate mesh (0) 0.7449302673339844\n",
      "Generate functionspace (0) 0.1630251407623291\n",
      "Generate functions (0) 0.0001227855682373047\n",
      "Generate Dirichlet bcs (0) 0.14616608619689941\n",
      "Generate Neumann bcs (0) 0.0008246898651123047\n",
      "Generate forms (0) 0.009706735610961914\n",
      "Assemble problem (0) 0.8549404144287109\n",
      "Solve problem (0) 99.56922197341919\n",
      "0 (1640961) - time taken: 101.5154230594635 seconds\n",
      "\n",
      "[MPI_MAX] Summary of timings                                                |  reps  wall avg  wall tot\n",
      "-------------------------------------------------------------------------------------------------------\n",
      "Build dofmap data                                                           |     2  0.048434  0.096868\n",
      "Build sparsity                                                              |     1  0.228433  0.228433\n",
      "Compute connectivity 1-0                                                    |     1  0.004792  0.004792\n",
      "Compute dof reordering map                                                  |     2  0.004015  0.008030\n",
      "Compute entities of dim = 1                                                 |     1  0.087491  0.087491\n",
      "Compute local part of mesh dual graph                                       |     1  0.208992  0.208992\n",
      "Compute local-to-local map                                                  |     1  0.032480  0.032480\n",
      "Compute-local-to-global links for global/local adjacency list               |     1  0.002152  0.002152\n",
      "Distribute row-wise data (scalable)                                         |     1  0.001815  0.001815\n",
      "GPS: create_level_structure                                                 |     2  0.008000  0.016000\n",
      "Gibbs-Poole-Stockmeyer ordering                                             |     1  0.081195  0.081195\n",
      "Init dofmap from element dofmap                                             |     2  0.041612  0.083223\n",
      "SparsityPattern::finalize                                                   |     1  0.208046  0.208046\n",
      "Topology: create                                                            |     1  0.303242  0.303242\n",
      "Topology: determine shared index ownership                                  |     1  0.000686  0.000686\n",
      "Topology: determine vertex ownership groups (owned, undetermined, unowned)  |     1  0.032535  0.032535\n"
     ]
    }
   ],
   "source": [
    "if __name__ == \"__main__\":\n",
    "    ne = 640\n",
    "    p = 2\n",
    "    # Solve the 2D Poisson problem\n",
    "    start_time = time.time()\n",
    "    T_i = solve_poisson_2d(ne, p)\n",
    "    end_time = time.time()\n",
    "    comm = T_i.function_space.mesh.comm\n",
    "    print(f\"{comm.rank} ({T_i.function_space.dofmap.index_map.size_local}) - time taken: {end_time - start_time} seconds\")\n",
    "    df.list_timings(comm, [df.common.TimingType.wall])"
   ]
  },
  {
   "cell_type": "code",
   "execution_count": 4,
   "id": "149cc6db",
   "metadata": {},
   "outputs": [],
   "source": [
    "if __name__ == \"__main__\":\n",
    "    # plot the solution as a colormap\n",
    "    plotter = utils.plot_scalar(T_i, gather=True)\n",
    "    # save the plot\n",
    "    utils.plot_save(plotter, output_folder / \"2d_poisson_test_single_solution_ne{:d}.png\".format(ne,))\n",
    "    comm = T_i.function_space.mesh.comm\n",
    "    if comm.size > 1:\n",
    "        # if we're running in parallel (e.g. from a script) then save an image per process as well\n",
    "        plotter_p = utils.plot_scalar(T_i)\n",
    "        utils.plot_save(plotter_p, output_folder / \"2d_poisson_test_single_solution_ne{:d}_p{:d}.png\".format(ne,comm.rank,))"
   ]
  },
  {
   "cell_type": "markdown",
   "id": "6e0e2bb2-976a-40b1-b0b4-9e0682c566f2",
   "metadata": {},
   "source": [
    "## Finish up"
   ]
  },
  {
   "cell_type": "markdown",
   "id": "39640a16-0566-44e6-aa74-c0bba5348839",
   "metadata": {},
   "source": [
    "Convert this notebook to a python script (making sure to save first)"
   ]
  },
  {
   "cell_type": "code",
   "execution_count": 5,
   "id": "042ed12a-b3ba-4c98-88f4-fce01594c8e9",
   "metadata": {},
   "outputs": [
    {
     "name": "stdout",
     "output_type": "stream",
     "text": [
      "[NbConvertApp] Converting notebook poisson_2d_test_single.ipynb to script\n",
      "[NbConvertApp] Writing 3572 bytes to poisson_2d_test_single.py\n"
     ]
    }
   ],
   "source": [
    "if __name__ == \"__main__\" and \"__file__\" not in globals():\n",
    "    from ipylab import JupyterFrontEnd\n",
    "    app = JupyterFrontEnd()\n",
    "    app.commands.execute('docmanager:save')\n",
    "    !jupyter nbconvert --NbConvertApp.export_format=script --ClearOutputPreprocessor.enabled=True poisson_2d_test_single.ipynb"
   ]
  },
  {
   "cell_type": "code",
   "execution_count": null,
   "id": "ca0596f6-4bd1-4baa-a5fa-13e0a897723c",
   "metadata": {},
   "outputs": [],
   "source": []
  }
 ],
 "metadata": {
  "kernelspec": {
   "display_name": "Python 3",
   "language": "python",
   "name": "python3"
  },
  "language_info": {
   "codemirror_mode": {
    "name": "ipython",
    "version": 3
   },
   "file_extension": ".py",
   "mimetype": "text/x-python",
   "name": "python",
   "nbconvert_exporter": "python",
   "pygments_lexer": "ipython3",
   "version": "3.10.12"
  }
 },
 "nbformat": 4,
 "nbformat_minor": 5
}
