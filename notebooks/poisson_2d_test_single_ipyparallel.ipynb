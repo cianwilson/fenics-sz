{
 "cells": [
  {
   "cell_type": "markdown",
   "id": "873326ab-056d-4165-95e4-be0270cc3ea4",
   "metadata": {},
   "source": [
    "# Poisson Example 2D\n",
    "\n",
    "Authors: Kidus Teshome, Cameron Seebeck, Cian Wilson"
   ]
  },
  {
   "cell_type": "markdown",
   "id": "d34770fc-5114-458e-8850-3e091fe9e999",
   "metadata": {},
   "source": [
    "## Description"
   ]
  },
  {
   "cell_type": "markdown",
   "id": "490426df-24b9-4f91-bbb9-2a02ef7ce188",
   "metadata": {},
   "source": [
    "As a reminder, in this case we are seeking the approximate solution to\n",
    "\\begin{equation}\n",
    "- \\nabla^2 T = -\\tfrac{5}{4} \\exp \\left( x+\\tfrac{y}{2} \\right)\n",
    "\\end{equation}\n",
    "in a unit square, $\\Omega=[0,1]\\times[0,1]$, imposing the boundary conditions\n",
    "\\begin{align}\n",
    "  T &= \\exp\\left(x+\\tfrac{y}{2}\\right) && \\text{on } \\partial\\Omega \\text{ where } x=0 \\text{ or } y=0 \\\\\n",
    "  \\nabla T\\cdot \\hat{\\vec{n}} &= \\exp\\left(x + \\tfrac{y}{2}\\right) && \\text{on } \\partial\\Omega \\text{ where } x=1  \\\\\n",
    "  \\nabla T\\cdot \\hat{\\vec{n}} &= \\tfrac{1}{2}\\exp\\left(x + \\tfrac{y}{2}\\right) && \\text{on } \\partial\\Omega \\text{ where } y=1\n",
    " \\end{align}\n",
    "\n",
    "The analytical solution to this problem is $T(x,y) = \\exp\\left(x+\\tfrac{y}{2}\\right)$."
   ]
  },
  {
   "cell_type": "markdown",
   "id": "c5ae6af0-4e8d-41ab-8aae-131a3690bc21",
   "metadata": {},
   "source": [
    "## Themes and variations"
   ]
  },
  {
   "cell_type": "markdown",
   "id": "514bf2cd-8236-4b3c-92b0-0a6c794501c3",
   "metadata": {},
   "source": [
    "* Given that we know the exact solution to this problem is $T(x,y)$=$\\exp\\left(x+\\tfrac{y}{2}\\right)$ write a python function to evaluate the error in our numerical solution.\n",
    "* Loop over a variety of numbers of elements, `ne`, and polynomial degrees, `p`, and check that the numerical solution converges with an increasing number of degrees of freedom.\n",
    "* Write an equation for the gradient of $\\tilde{T}$, describe it using UFL, solve it, and plot the solution."
   ]
  },
  {
   "cell_type": "markdown",
   "id": "75ea99bb-ee37-4be9-b4f6-32f060d90102",
   "metadata": {},
   "source": [
    "### Preamble"
   ]
  },
  {
   "cell_type": "markdown",
   "id": "4f7ab789-6830-4668-87c9-faa13608f7ac",
   "metadata": {},
   "source": [
    "Start by loading `solve_poisson_2d` from `notebooks/poisson_2d.ipynb` and setting up some paths."
   ]
  },
  {
   "cell_type": "code",
   "execution_count": null,
   "id": "f7ff2241",
   "metadata": {},
   "outputs": [
    {
     "name": "stdout",
     "output_type": "stream",
     "text": [
      "Starting 2 engines with <class 'ipyparallel.cluster.launcher.MPIEngineSetLauncher'>\n"
     ]
    },
    {
     "data": {
      "application/json": {
       "ascii": false,
       "bar_format": null,
       "colour": null,
       "elapsed": 0.00642848014831543,
       "initial": 0,
       "n": 0,
       "ncols": null,
       "nrows": null,
       "postfix": null,
       "prefix": "",
       "rate": null,
       "total": 2,
       "unit": "engine",
       "unit_divisor": 1000,
       "unit_scale": false
      },
      "application/vnd.jupyter.widget-view+json": {
       "model_id": "d728c96fc93c404c8c0e8d4790ef1f4a",
       "version_major": 2,
       "version_minor": 0
      },
      "text/plain": [
       "  0%|          | 0/2 [00:00<?, ?engine/s]"
      ]
     },
     "metadata": {},
     "output_type": "display_data"
    },
    {
     "name": "stdout",
     "output_type": "stream",
     "text": [
      "mpiexec error output:\n",
      "-------------------------------------------------------------------------------------------------------\n",
      "Build dofmap data                                                           |     2  0.023841  0.047682\n",
      "Build sparsity                                                              |     1  0.077160  0.077160\n",
      "Compute connectivity 1-0                                                    |     1  0.003491  0.003491\n",
      "Compute dof reordering map                                                  |     2  0.002667  0.005333\n",
      "Compute entities of dim = 1                                                 |     1  0.050300  0.050300\n",
      "Compute graph partition (SCOTCH)                                            |     1  0.088290  0.088290\n",
      "Compute local part of mesh dual graph                                       |     2  0.116206  0.232412\n",
      "Compute local-to-local map                                                  |     1  0.018157  0.018157\n",
      "Compute non-local part of mesh dual graph                                   |     1  0.001176  0.001176\n",
      "Compute-local-to-global links for global/local adjacency list               |     1  0.001101  0.001101\n",
      "Distribute AdjacencyList nodes to destination ranks                         |     1  0.334261  0.334261\n",
      "Distribute row-wise data (scalable)                                         |     1  0.010443  0.010443\n",
      "Extract partition boundaries from SCOTCH graph                              |     1  0.002051  0.002051\n",
      "GPS: create_level_structure                                                 |     2  0.001945  0.007780\n",
      "Get SCOTCH graph data                                                       |     1  0.000000  0.000000\n",
      "Gibbs-Poole-Stockmeyer ordering                                             |     1  0.024984  0.024984\n",
      "Init dofmap from element dofmap                                             |     2  0.019517  0.039033\n",
      "SCOTCH: call SCOTCH_dgraphBuild                                             |     1  0.000312  0.000312\n",
      "SCOTCH: call SCOTCH_dgraphHalo                                              |     1  0.001929  0.001929\n",
      "SCOTCH: call SCOTCH_dgraphPart                                              |     1  0.075904  0.075904\n",
      "SparsityPattern::finalize                                                   |     1  0.107900  0.107900\n",
      "Topology: create                                                            |     1  0.186683  0.186683\n",
      "Topology: determine shared index ownership                                  |     1  0.027127  0.027127\n",
      "Topology: determine vertex ownership groups (owned, undetermined, unowned)  |     1  0.014727  0.014727\n",
      "2025-02-28 21:48:36.155 [IPEngine.1] {'header': {'msg_id': '14979069-3cd638dce37cd3bcbecd7b38_72295_17', 'msg_type': 'execute_reply', 'username': 'username', 'session': '14979069-3cd638dce37cd3bcbecd7b38', 'date': datetime.datetime(2025, 3, 1, 2, 48, 36, 154943, tzinfo=datetime.timezone.utc), 'version': '5.3'}, 'msg_id': '14979069-3cd638dce37cd3bcbecd7b38_72295_17', 'msg_type': 'execute_reply', 'parent_header': {'msg_id': '8a56ba78-3737aaf892f4a8d1aab581ea_72230_6', 'msg_type': 'execute_request', 'username': 'username', 'session': '8a56ba78-3737aaf892f4a8d1aab581ea', 'date': '2025-03-01T02:48:23.782496Z', 'version': '5.3'}, 'content': {'status': 'ok', 'execution_count': 3, 'user_expressions': {}, 'payload': []}, 'metadata': {'started': datetime.datetime(2025, 3, 1, 2, 48, 23, 784989, tzinfo=datetime.timezone.utc), 'dependencies_met': True, 'engine': '14979069-3cd638dce37cd3bcbecd7b38', 'is_broadcast': False, 'is_coalescing': False, 'original_msg_id': '', 'status': 'ok'}, 'tracker': <zmq.sugar.tracker.MessageTracker object at 0xffff7ff00a30>}\n",
      "2025-02-28 21:48:36.155 [IPEngine.0] {'header': {'msg_id': 'da04a9ec-796ba4d5938f2c1917105db3_72294_17', 'msg_type': 'execute_reply', 'username': 'username', 'session': 'da04a9ec-796ba4d5938f2c1917105db3', 'date': datetime.datetime(2025, 3, 1, 2, 48, 36, 155424, tzinfo=datetime.timezone.utc), 'version': '5.3'}, 'msg_id': 'da04a9ec-796ba4d5938f2c1917105db3_72294_17', 'msg_type': 'execute_reply', 'parent_header': {'msg_id': '8a56ba78-3737aaf892f4a8d1aab581ea_72230_5', 'msg_type': 'execute_request', 'username': 'username', 'session': '8a56ba78-3737aaf892f4a8d1aab581ea', 'date': '2025-03-01T02:48:23.782236Z', 'version': '5.3'}, 'content': {'status': 'ok', 'execution_count': 3, 'user_expressions': {}, 'payload': []}, 'metadata': {'started': datetime.datetime(2025, 3, 1, 2, 48, 23, 785159, tzinfo=datetime.timezone.utc), 'dependencies_met': True, 'engine': 'da04a9ec-796ba4d5938f2c1917105db3', 'is_broadcast': False, 'is_coalescing': False, 'original_msg_id': '', 'status': 'ok'}, 'tracker': <zmq.sugar.tracker.MessageTracker object at 0xffff851a0a30>}\n",
      "2025-02-28 21:48:36.203 [IPEngine.0] \n",
      "*** MESSAGE TYPE:execute_request***\n",
      "2025-02-28 21:48:36.203 [IPEngine.0]    Content: {'code': 'if __name__ == \"__main__\":\\n    # plot the solution as a colormap\\n    plotter = utils.plot_scalar(T_i, gather=True)\\n    # save the plot\\n    utils.plot_save(plotter, output_folder / \"2d_poisson_test_single_solution_ipyparallel_ne{:d}.png\".format(ne,))\\n    comm = T_i.function_space.mesh.comm\\n    if comm.size > 1:\\n        # if we\\'re running in parallel (e.g. from a script) then save an image per process as well\\n        plotter_p = utils.plot_scalar(T_i)\\n        utils.plot_save(plotter_p, output_folder / \"2d_poisson_test_single_solution_ipyparallel_ne{:d}_p{:d}.png\".format(ne,comm.rank,))\\n', 'silent': False, 'user_expressions': {}}\n",
      "   --->\n",
      "   \n",
      "2025-02-28 21:48:36.203 [IPEngine.0] Handling execute_request: 8a56ba78-3737aaf892f4a8d1aab581ea_72230_7\n",
      "2025-02-28 21:48:36.203 [IPEngine.0] execute_request: {'header': {'msg_id': '8a56ba78-3737aaf892f4a8d1aab581ea_72230_7', 'msg_type': 'execute_request', 'username': 'username', 'session': '8a56ba78-3737aaf892f4a8d1aab581ea', 'date': '2025-03-01T02:48:36.201681Z', 'version': '5.3'}, 'msg_id': '8a56ba78-3737aaf892f4a8d1aab581ea_72230_7', 'msg_type': 'execute_request', 'parent_header': {}, 'metadata': {}, 'content': {'code': 'if __name__ == \"__main__\":\\n    # plot the solution as a colormap\\n    plotter = utils.plot_scalar(T_i, gather=True)\\n    # save the plot\\n    utils.plot_save(plotter, output_folder / \"2d_poisson_test_single_solution_ipyparallel_ne{:d}.png\".format(ne,))\\n    comm = T_i.function_space.mesh.comm\\n    if comm.size > 1:\\n        # if we\\'re running in parallel (e.g. from a script) then save an image per process as well\\n        plotter_p = utils.plot_scalar(T_i)\\n        utils.plot_save(plotter_p, output_folder / \"2d_poisson_test_single_solution_ipyparallel_ne{:d}_p{:d}.png\".format(ne,comm.rank,))\\n', 'silent': False, 'user_expressions': {}}, 'buffers': []}\n",
      "2025-02-28 21:48:36.203 [IPEngine.1] \n",
      "*** MESSAGE TYPE:execute_request***\n",
      "2025-02-28 21:48:36.203 [IPEngine.1]    Content: {'code': 'if __name__ == \"__main__\":\\n    # plot the solution as a colormap\\n    plotter = utils.plot_scalar(T_i, gather=True)\\n    # save the plot\\n    utils.plot_save(plotter, output_folder / \"2d_poisson_test_single_solution_ipyparallel_ne{:d}.png\".format(ne,))\\n    comm = T_i.function_space.mesh.comm\\n    if comm.size > 1:\\n        # if we\\'re running in parallel (e.g. from a script) then save an image per process as well\\n        plotter_p = utils.plot_scalar(T_i)\\n        utils.plot_save(plotter_p, output_folder / \"2d_poisson_test_single_solution_ipyparallel_ne{:d}_p{:d}.png\".format(ne,comm.rank,))\\n', 'silent': False, 'user_expressions': {}}\n",
      "   --->\n",
      "   \n",
      "2025-02-28 21:48:36.203 [IPEngine.1] Handling execute_request: 8a56ba78-3737aaf892f4a8d1aab581ea_72230_8\n",
      "2025-02-28 21:48:36.203 [IPEngine.1] execute_request: {'header': {'msg_id': '8a56ba78-3737aaf892f4a8d1aab581ea_72230_8', 'msg_type': 'execute_request', 'username': 'username', 'session': '8a56ba78-3737aaf892f4a8d1aab581ea', 'date': '2025-03-01T02:48:36.201772Z', 'version': '5.3'}, 'msg_id': '8a56ba78-3737aaf892f4a8d1aab581ea_72230_8', 'msg_type': 'execute_request', 'parent_header': {}, 'metadata': {}, 'content': {'code': 'if __name__ == \"__main__\":\\n    # plot the solution as a colormap\\n    plotter = utils.plot_scalar(T_i, gather=True)\\n    # save the plot\\n    utils.plot_save(plotter, output_folder / \"2d_poisson_test_single_solution_ipyparallel_ne{:d}.png\".format(ne,))\\n    comm = T_i.function_space.mesh.comm\\n    if comm.size > 1:\\n        # if we\\'re running in parallel (e.g. from a script) then save an image per process as well\\n        plotter_p = utils.plot_scalar(T_i)\\n        utils.plot_save(plotter_p, output_folder / \"2d_poisson_test_single_solution_ipyparallel_ne{:d}_p{:d}.png\".format(ne,comm.rank,))\\n', 'silent': False, 'user_expressions': {}}, 'buffers': []}\n",
      "2025-02-28 21:48:37.403 [IPEngine.1] {'header': {'msg_id': '14979069-3cd638dce37cd3bcbecd7b38_72295_21', 'msg_type': 'execute_reply', 'username': 'username', 'session': '14979069-3cd638dce37cd3bcbecd7b38', 'date': datetime.datetime(2025, 3, 1, 2, 48, 37, 403808, tzinfo=datetime.timezone.utc), 'version': '5.3'}, 'msg_id': '14979069-3cd638dce37cd3bcbecd7b38_72295_21', 'msg_type': 'execute_reply', 'parent_header': {'msg_id': '8a56ba78-3737aaf892f4a8d1aab581ea_72230_8', 'msg_type': 'execute_request', 'username': 'username', 'session': '8a56ba78-3737aaf892f4a8d1aab581ea', 'date': '2025-03-01T02:48:36.201772Z', 'version': '5.3'}, 'content': {'status': 'ok', 'execution_count': 4, 'user_expressions': {}, 'payload': []}, 'metadata': {'started': datetime.datetime(2025, 3, 1, 2, 48, 36, 203698, tzinfo=datetime.timezone.utc), 'dependencies_met': True, 'engine': '14979069-3cd638dce37cd3bcbecd7b38', 'is_broadcast': False, 'is_coalescing': False, 'original_msg_id': '', 'status': 'ok'}, 'tracker': <zmq.sugar.tracker.MessageTracker object at 0xffff7ff00a30>}\n",
      "2025-02-28 21:48:38.514 [IPEngine.0] {'header': {'msg_id': 'da04a9ec-796ba4d5938f2c1917105db3_72294_22', 'msg_type': 'execute_reply', 'username': 'username', 'session': 'da04a9ec-796ba4d5938f2c1917105db3', 'date': datetime.datetime(2025, 3, 1, 2, 48, 38, 514696, tzinfo=datetime.timezone.utc), 'version': '5.3'}, 'msg_id': 'da04a9ec-796ba4d5938f2c1917105db3_72294_22', 'msg_type': 'execute_reply', 'parent_header': {'msg_id': '8a56ba78-3737aaf892f4a8d1aab581ea_72230_7', 'msg_type': 'execute_request', 'username': 'username', 'session': '8a56ba78-3737aaf892f4a8d1aab581ea', 'date': '2025-03-01T02:48:36.201681Z', 'version': '5.3'}, 'content': {'status': 'ok', 'execution_count': 4, 'user_expressions': {}, 'payload': []}, 'metadata': {'started': datetime.datetime(2025, 3, 1, 2, 48, 36, 203269, tzinfo=datetime.timezone.utc), 'dependencies_met': True, 'engine': 'da04a9ec-796ba4d5938f2c1917105db3', 'is_broadcast': False, 'is_coalescing': False, 'original_msg_id': '', 'status': 'ok'}, 'tracker': <zmq.sugar.tracker.MessageTracker object at 0xffff851a0a30>}\n",
      "2025-02-28 21:50:25.547 [IPEngine.0] WARNING | No heartbeat in the last 3500 ms (1 time(s) in a row).\n",
      "2025-02-28 21:50:25.592 [IPEngine.1] WARNING | No heartbeat in the last 3500 ms (1 time(s) in a row).\n",
      "2025-02-28 21:50:33.529 [IPEngine.0] WARNING | No heartbeat in the last 3500 ms (1 time(s) in a row).\n",
      "2025-02-28 21:50:36.750 [IPEngine.1] WARNING | No heartbeat in the last 3500 ms (1 time(s) in a row).\n",
      "2025-02-28 21:50:58.457 [IPEngine.0] WARNING | No heartbeat in the last 3500 ms (1 time(s) in a row).\n",
      "2025-02-28 21:51:00.289 [IPEngine.1] WARNING | No heartbeat in the last 3500 ms (1 time(s) in a row).\n",
      "2025-02-28 21:51:15.755 [IPEngine.0] WARNING | No heartbeat in the last 3500 ms (2 time(s) in a row).\n",
      "2025-02-28 21:51:24.459 [IPEngine.1] WARNING | No heartbeat in the last 3500 ms (1 time(s) in a row).\n",
      "2025-02-28 21:51:28.283 [IPEngine.1] WARNING | No heartbeat in the last 3500 ms (2 time(s) in a row).\n",
      "2025-02-28 21:51:28.650 [IPEngine.0] WARNING | No heartbeat in the last 3500 ms (1 time(s) in a row).\n",
      "2025-02-28 21:51:40.455 [KernelNanny.0] Pipe closed, parent 72294 has status: zombie\n",
      "2025-02-28 21:51:40.458 [KernelNanny.0] Notifying Hub that our parent has shut down\n",
      "2025-02-28 21:51:40.606 [KernelNanny.1] Pipe closed, parent 72295 has status: zombie\n",
      "2025-02-28 21:51:40.610 [KernelNanny.1] Notifying Hub that our parent has shut down\n",
      "2025-02-28 21:51:40.617 [KernelNanny.1] Parent 72295 exited with status None.\n",
      "\n",
      "===================================================================================\n",
      "=   BAD TERMINATION OF ONE OF YOUR APPLICATION PROCESSES\n",
      "\n",
      "engine set stopped 1740797294: {'exit_code': 9, 'pid': 72288, 'identifier': 'ipengine-1740797292-tdgu-1740797294-72230'}\n"
     ]
    }
   ],
   "source": [
    "import ipyparallel as ipp\n",
    "np = 2\n",
    "rc = ipp.Cluster(engine_launcher_class=\"mpi\", n=np).start_and_connect_sync()"
   ]
  },
  {
   "cell_type": "code",
   "execution_count": 2,
   "id": "a3c0c86c-7233-4209-8128-0d78e38e8a64",
   "metadata": {},
   "outputs": [
    {
     "data": {
      "application/json": {
       "ascii": false,
       "bar_format": null,
       "colour": null,
       "elapsed": 0.004912137985229492,
       "initial": 0,
       "n": 0,
       "ncols": null,
       "nrows": null,
       "postfix": null,
       "prefix": "%px",
       "rate": null,
       "total": 2,
       "unit": "tasks",
       "unit_divisor": 1000,
       "unit_scale": false
      },
      "application/vnd.jupyter.widget-view+json": {
       "model_id": "8fe1fc53f5504eb8b48eb2fbc50cc807",
       "version_major": 2,
       "version_minor": 0
      },
      "text/plain": [
       "%px:   0%|          | 0/2 [00:00<?, ?tasks/s]"
      ]
     },
     "metadata": {},
     "output_type": "display_data"
    }
   ],
   "source": [
    "%%px\n",
    "from poisson_2d import solve_poisson_2d\n",
    "from mpi4py import MPI\n",
    "import numpy as np\n",
    "import ufl\n",
    "import sys, os\n",
    "basedir = ''\n",
    "if \"__file__\" in globals(): basedir = os.path.dirname(__file__)\n",
    "sys.path.append(os.path.join(basedir, os.path.pardir, 'python'))\n",
    "import utils\n",
    "import matplotlib.pyplot as pl\n",
    "import pyvista as pv\n",
    "if __name__ == \"__main__\" and \"__file__\" in globals():\n",
    "    pv.OFF_SCREEN = True\n",
    "import pathlib\n",
    "if __name__ == \"__main__\":\n",
    "    output_folder = pathlib.Path(os.path.join(basedir, \"output\"))\n",
    "    output_folder.mkdir(exist_ok=True, parents=True)\n",
    "import time"
   ]
  },
  {
   "cell_type": "code",
   "execution_count": 3,
   "id": "e3024fa5",
   "metadata": {},
   "outputs": [
    {
     "data": {
      "text/plain": [
       "[stdout:1] 1 2\n"
      ]
     },
     "metadata": {},
     "output_type": "display_data"
    },
    {
     "data": {
      "text/plain": [
       "[stdout:0] 0 2\n"
      ]
     },
     "metadata": {},
     "output_type": "display_data"
    }
   ],
   "source": [
    "%%px\n",
    "print(MPI.COMM_WORLD.rank, MPI.COMM_WORLD.size)"
   ]
  },
  {
   "cell_type": "code",
   "execution_count": 4,
   "id": "d03c68d4-c22c-4768-b20d-c91b8ddc5fbc",
   "metadata": {},
   "outputs": [
    {
     "data": {
      "text/plain": [
       "[stdout:0] Generate mesh (0) 0.66274094581604\n",
       "Generate functionspace (0) 0.0859217643737793\n",
       "Generate functions (0) 6.556510925292969e-05\n",
       "Generate Dirichlet bcs (0) 0.071990966796875\n",
       "Generate Neumann bcs (0) 0.000469207763671875\n",
       "Generate forms (0) 0.005739450454711914\n",
       "Assemble problem (0) 0.41512322425842285\n",
       "Solve problem (0) 11.12532353401184\n",
       "0 (820490) - time taken: 12.367806673049927 seconds\n",
       "\n",
       "[MPI_MAX] Summary of timings                                                |  reps  wall avg  wall tot\n",
       "-------------------------------------------------------------------------------------------------------\n",
       "Build dofmap data                                                           |     2  0.023841  0.047682\n",
       "Build sparsity                                                              |     1  0.077160  0.077160\n",
       "Compute connectivity 1-0                                                    |     1  0.003491  0.003491\n",
       "Compute dof reordering map                                                  |     2  0.002667  0.005333\n",
       "Compute entities of dim = 1                                                 |     1  0.050300  0.050300\n",
       "Compute graph partition (SCOTCH)                                            |     1  0.088290  0.088290\n",
       "Compute local part of mesh dual graph                                       |     2  0.116206  0.232412\n",
       "Compute local-to-local map                                                  |     1  0.018157  0.018157\n",
       "Compute non-local part of mesh dual graph                                   |     1  0.001176  0.001176\n",
       "Compute-local-to-global links for global/local adjacency list               |     1  0.001101  0.001101\n",
       "Distribute AdjacencyList nodes to destination ranks                         |     1  0.334261  0.334261\n",
       "Distribute row-wise data (scalable)                                         |     1  0.010443  0.010443\n",
       "Extract partition boundaries from SCOTCH graph                              |     1  0.002051  0.002051\n",
       "GPS: create_level_structure                                                 |     2  0.001945  0.007780\n",
       "Get SCOTCH graph data                                                       |     1  0.000000  0.000000\n",
       "Gibbs-Poole-Stockmeyer ordering                                             |     1  0.024984  0.024984\n",
       "Init dofmap from element dofmap                                             |     2  0.019517  0.039033\n",
       "SCOTCH: call SCOTCH_dgraphBuild                                             |     1  0.000312  0.000312\n",
       "SCOTCH: call SCOTCH_dgraphHalo                                              |     1  0.001929  0.001929\n",
       "SCOTCH: call SCOTCH_dgraphPart                                              |     1  0.075904  0.075904\n",
       "SparsityPattern::finalize                                                   |     1  0.107900  0.107900\n",
       "Topology: create                                                            |     1  0.186683  0.186683\n",
       "Topology: determine shared index ownership                                  |     1  0.027127  0.027127\n",
       "Topology: determine vertex ownership groups (owned, undetermined, unowned)  |     1  0.014727  0.014727\n"
      ]
     },
     "metadata": {},
     "output_type": "display_data"
    },
    {
     "data": {
      "text/plain": [
       "[stdout:1] Generate mesh (1) 0.6630446910858154\n",
       "Generate functionspace (1) 0.08593606948852539\n",
       "Generate functions (1) 5.507469177246094e-05\n",
       "Generate Dirichlet bcs (1) 0.0711526870727539\n",
       "Generate Neumann bcs (1) 0.0005049705505371094\n",
       "Generate forms (1) 0.007612705230712891\n",
       "Assemble problem (1) 0.41404247283935547\n",
       "Solve problem (1) 11.125169515609741\n",
       "1 (820471) - time taken: 12.36797022819519 seconds\n"
      ]
     },
     "metadata": {},
     "output_type": "display_data"
    },
    {
     "data": {
      "application/json": {
       "ascii": false,
       "bar_format": null,
       "colour": null,
       "elapsed": 0.00226593017578125,
       "initial": 0,
       "n": 0,
       "ncols": null,
       "nrows": null,
       "postfix": null,
       "prefix": "%px",
       "rate": null,
       "total": 2,
       "unit": "tasks",
       "unit_divisor": 1000,
       "unit_scale": false
      },
      "application/vnd.jupyter.widget-view+json": {
       "model_id": "f033c138f37e4687a77c8489dc65c20e",
       "version_major": 2,
       "version_minor": 0
      },
      "text/plain": [
       "%px:   0%|          | 0/2 [00:00<?, ?tasks/s]"
      ]
     },
     "metadata": {},
     "output_type": "display_data"
    }
   ],
   "source": [
    "%%px\n",
    "if __name__ == \"__main__\":\n",
    "    ne = 640\n",
    "    p = 2\n",
    "    # Solve the 2D Poisson problem\n",
    "    start_time = time.time()\n",
    "    T_i = solve_poisson_2d(ne, p)\n",
    "    end_time = time.time()\n",
    "    comm = T_i.function_space.mesh.comm\n",
    "    print(f\"{comm.rank} ({T_i.function_space.dofmap.index_map.size_local}) - time taken: {end_time - start_time} seconds\")"
   ]
  },
  {
   "cell_type": "code",
   "execution_count": 5,
   "id": "149cc6db",
   "metadata": {},
   "outputs": [
    {
     "data": {
      "application/json": {
       "ascii": false,
       "bar_format": null,
       "colour": null,
       "elapsed": 0.005695819854736328,
       "initial": 0,
       "n": 0,
       "ncols": null,
       "nrows": null,
       "postfix": null,
       "prefix": "%px",
       "rate": null,
       "total": 2,
       "unit": "tasks",
       "unit_divisor": 1000,
       "unit_scale": false
      },
      "application/vnd.jupyter.widget-view+json": {
       "model_id": "5b8da784261a41cfb5dea818671f549c",
       "version_major": 2,
       "version_minor": 0
      },
      "text/plain": [
       "%px:   0%|          | 0/2 [00:00<?, ?tasks/s]"
      ]
     },
     "metadata": {},
     "output_type": "display_data"
    }
   ],
   "source": [
    "%%px\n",
    "if __name__ == \"__main__\":\n",
    "    # plot the solution as a colormap\n",
    "    plotter = utils.plot_scalar(T_i, gather=True)\n",
    "    # save the plot\n",
    "    utils.plot_save(plotter, output_folder / \"2d_poisson_test_single_solution_ipyparallel_ne{:d}.png\".format(ne,))\n",
    "    comm = T_i.function_space.mesh.comm\n",
    "    if comm.size > 1:\n",
    "        # if we're running in parallel (e.g. from a script) then save an image per process as well\n",
    "        plotter_p = utils.plot_scalar(T_i)\n",
    "        utils.plot_save(plotter_p, output_folder / \"2d_poisson_test_single_solution_ipyparallel_ne{:d}_p{:d}.png\".format(ne,comm.rank,))"
   ]
  },
  {
   "cell_type": "code",
   "execution_count": null,
   "id": "cba98d95",
   "metadata": {},
   "outputs": [],
   "source": []
  }
 ],
 "metadata": {
  "kernelspec": {
   "display_name": "Python 3",
   "language": "python",
   "name": "python3"
  },
  "language_info": {
   "codemirror_mode": {
    "name": "ipython",
    "version": 3
   },
   "file_extension": ".py",
   "mimetype": "text/x-python",
   "name": "python",
   "nbconvert_exporter": "python",
   "pygments_lexer": "ipython3",
   "version": "3.10.12"
  }
 },
 "nbformat": 4,
 "nbformat_minor": 5
}
