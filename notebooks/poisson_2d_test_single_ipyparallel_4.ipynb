{
 "cells": [
  {
   "cell_type": "markdown",
   "id": "873326ab-056d-4165-95e4-be0270cc3ea4",
   "metadata": {},
   "source": [
    "# Poisson Example 2D\n",
    "\n",
    "Authors: Kidus Teshome, Cameron Seebeck, Cian Wilson"
   ]
  },
  {
   "cell_type": "markdown",
   "id": "d34770fc-5114-458e-8850-3e091fe9e999",
   "metadata": {},
   "source": [
    "## Description"
   ]
  },
  {
   "cell_type": "markdown",
   "id": "490426df-24b9-4f91-bbb9-2a02ef7ce188",
   "metadata": {},
   "source": [
    "As a reminder, in this case we are seeking the approximate solution to\n",
    "\\begin{equation}\n",
    "- \\nabla^2 T = -\\tfrac{5}{4} \\exp \\left( x+\\tfrac{y}{2} \\right)\n",
    "\\end{equation}\n",
    "in a unit square, $\\Omega=[0,1]\\times[0,1]$, imposing the boundary conditions\n",
    "\\begin{align}\n",
    "  T &= \\exp\\left(x+\\tfrac{y}{2}\\right) && \\text{on } \\partial\\Omega \\text{ where } x=0 \\text{ or } y=0 \\\\\n",
    "  \\nabla T\\cdot \\hat{\\vec{n}} &= \\exp\\left(x + \\tfrac{y}{2}\\right) && \\text{on } \\partial\\Omega \\text{ where } x=1  \\\\\n",
    "  \\nabla T\\cdot \\hat{\\vec{n}} &= \\tfrac{1}{2}\\exp\\left(x + \\tfrac{y}{2}\\right) && \\text{on } \\partial\\Omega \\text{ where } y=1\n",
    " \\end{align}\n",
    "\n",
    "The analytical solution to this problem is $T(x,y) = \\exp\\left(x+\\tfrac{y}{2}\\right)$."
   ]
  },
  {
   "cell_type": "markdown",
   "id": "c5ae6af0-4e8d-41ab-8aae-131a3690bc21",
   "metadata": {},
   "source": [
    "## Themes and variations"
   ]
  },
  {
   "cell_type": "markdown",
   "id": "514bf2cd-8236-4b3c-92b0-0a6c794501c3",
   "metadata": {},
   "source": [
    "* Given that we know the exact solution to this problem is $T(x,y)$=$\\exp\\left(x+\\tfrac{y}{2}\\right)$ write a python function to evaluate the error in our numerical solution.\n",
    "* Loop over a variety of numbers of elements, `ne`, and polynomial degrees, `p`, and check that the numerical solution converges with an increasing number of degrees of freedom.\n",
    "* Write an equation for the gradient of $\\tilde{T}$, describe it using UFL, solve it, and plot the solution."
   ]
  },
  {
   "cell_type": "markdown",
   "id": "75ea99bb-ee37-4be9-b4f6-32f060d90102",
   "metadata": {},
   "source": [
    "### Preamble"
   ]
  },
  {
   "cell_type": "markdown",
   "id": "4f7ab789-6830-4668-87c9-faa13608f7ac",
   "metadata": {},
   "source": [
    "Start by loading `solve_poisson_2d` from `notebooks/poisson_2d.ipynb` and setting up some paths."
   ]
  },
  {
   "cell_type": "code",
   "execution_count": 1,
   "id": "f7ff2241",
   "metadata": {},
   "outputs": [
    {
     "name": "stdout",
     "output_type": "stream",
     "text": [
      "Starting 4 engines with <class 'ipyparallel.cluster.launcher.MPIEngineSetLauncher'>\n"
     ]
    },
    {
     "data": {
      "application/json": {
       "ascii": false,
       "bar_format": null,
       "colour": null,
       "elapsed": 0.011764287948608398,
       "initial": 0,
       "n": 0,
       "ncols": null,
       "nrows": null,
       "postfix": null,
       "prefix": "",
       "rate": null,
       "total": 4,
       "unit": "engine",
       "unit_divisor": 1000,
       "unit_scale": false
      },
      "application/vnd.jupyter.widget-view+json": {
       "model_id": "89578fba4e2143dea59163054a15037b",
       "version_major": 2,
       "version_minor": 0
      },
      "text/plain": [
       "  0%|          | 0/4 [00:00<?, ?engine/s]"
      ]
     },
     "metadata": {},
     "output_type": "display_data"
    },
    {
     "name": "stdout",
     "output_type": "stream",
     "text": [
      "mpiexec error output:\n",
      "-------------------------------------------------------------------------------------------------------\n",
      "Build dofmap data                                                           |     2  0.028485  0.056970\n",
      "Build sparsity                                                              |     1  0.039056  0.039056\n",
      "Compute connectivity 1-0                                                    |     1  0.002149  0.002149\n",
      "Compute dof reordering map                                                  |     2  0.001772  0.003543\n",
      "Compute entities of dim = 1                                                 |     1  0.043096  0.043096\n",
      "Compute graph partition (SCOTCH)                                            |     1  0.172813  0.172813\n",
      "Compute local part of mesh dual graph                                       |     2  0.106380  0.212761\n",
      "Compute local-to-local map                                                  |     1  0.009454  0.009454\n",
      "Compute non-local part of mesh dual graph                                   |     1  0.001040  0.001040\n",
      "Compute-local-to-global links for global/local adjacency list               |     1  0.000595  0.000595\n",
      "Distribute AdjacencyList nodes to destination ranks                         |     1  0.436922  0.436922\n",
      "Distribute row-wise data (scalable)                                         |     1  0.016870  0.016870\n",
      "Extract partition boundaries from SCOTCH graph                              |     1  0.002090  0.002090\n",
      "GPS: create_level_structure                                                 |     2  0.001043  0.154549\n",
      "Get SCOTCH graph data                                                       |     1  0.000000  0.000000\n",
      "Gibbs-Poole-Stockmeyer ordering                                             |     1  0.160598  0.160598\n",
      "Init dofmap from element dofmap                                             |     2  0.016047  0.032095\n",
      "SCOTCH: call SCOTCH_dgraphBuild                                             |     1  0.000507  0.000507\n",
      "SCOTCH: call SCOTCH_dgraphHalo                                              |     1  0.002167  0.002167\n",
      "SCOTCH: call SCOTCH_dgraphPart                                              |     1  0.154451  0.154451\n",
      "SparsityPattern::finalize                                                   |     1  0.051353  0.051353\n",
      "Topology: create                                                            |     1  0.248803  0.248803\n",
      "Topology: determine shared index ownership                                  |     1  0.163215  0.163215\n",
      "Topology: determine vertex ownership groups (owned, undetermined, unowned)  |     1  0.008561  0.008561\n",
      "2025-02-28 21:43:47.154 [IPEngine.2] {'header': {'msg_id': '01395902-dd2b7dd3a5c69fae956bddc2_70944_17', 'msg_type': 'execute_reply', 'username': 'username', 'session': '01395902-dd2b7dd3a5c69fae956bddc2', 'date': datetime.datetime(2025, 3, 1, 2, 43, 47, 154031, tzinfo=datetime.timezone.utc), 'version': '5.3'}, 'msg_id': '01395902-dd2b7dd3a5c69fae956bddc2_70944_17', 'msg_type': 'execute_reply', 'parent_header': {'msg_id': '23c0bf81-13be16aa1d2cc66632185709_70881_11', 'msg_type': 'execute_request', 'username': 'username', 'session': '23c0bf81-13be16aa1d2cc66632185709', 'date': '2025-03-01T02:43:35.067517Z', 'version': '5.3'}, 'content': {'status': 'ok', 'execution_count': 3, 'user_expressions': {}, 'payload': []}, 'metadata': {'started': datetime.datetime(2025, 3, 1, 2, 43, 35, 74254, tzinfo=datetime.timezone.utc), 'dependencies_met': True, 'engine': '01395902-dd2b7dd3a5c69fae956bddc2', 'is_broadcast': False, 'is_coalescing': False, 'original_msg_id': '', 'status': 'ok'}, 'tracker': <zmq.sugar.tracker.MessageTracker object at 0xffff94ff0a60>}\n",
      "2025-02-28 21:43:47.157 [IPEngine.3] {'header': {'msg_id': '67ab7304-17f4d5b438b9daf03dacf847_70945_17', 'msg_type': 'execute_reply', 'username': 'username', 'session': '67ab7304-17f4d5b438b9daf03dacf847', 'date': datetime.datetime(2025, 3, 1, 2, 43, 47, 157138, tzinfo=datetime.timezone.utc), 'version': '5.3'}, 'msg_id': '67ab7304-17f4d5b438b9daf03dacf847_70945_17', 'msg_type': 'execute_reply', 'parent_header': {'msg_id': '23c0bf81-13be16aa1d2cc66632185709_70881_12', 'msg_type': 'execute_request', 'username': 'username', 'session': '23c0bf81-13be16aa1d2cc66632185709', 'date': '2025-03-01T02:43:35.067800Z', 'version': '5.3'}, 'content': {'status': 'ok', 'execution_count': 3, 'user_expressions': {}, 'payload': []}, 'metadata': {'started': datetime.datetime(2025, 3, 1, 2, 43, 35, 73469, tzinfo=datetime.timezone.utc), 'dependencies_met': True, 'engine': '67ab7304-17f4d5b438b9daf03dacf847', 'is_broadcast': False, 'is_coalescing': False, 'original_msg_id': '', 'status': 'ok'}, 'tracker': <zmq.sugar.tracker.MessageTracker object at 0xffff81400a30>}\n",
      "2025-02-28 21:43:47.157 [IPEngine.0] {'header': {'msg_id': '68d1ba0c-0e0dcc9a350bd9e852b324b9_70942_17', 'msg_type': 'execute_reply', 'username': 'username', 'session': '68d1ba0c-0e0dcc9a350bd9e852b324b9', 'date': datetime.datetime(2025, 3, 1, 2, 43, 47, 157414, tzinfo=datetime.timezone.utc), 'version': '5.3'}, 'msg_id': '68d1ba0c-0e0dcc9a350bd9e852b324b9_70942_17', 'msg_type': 'execute_reply', 'parent_header': {'msg_id': '23c0bf81-13be16aa1d2cc66632185709_70881_9', 'msg_type': 'execute_request', 'username': 'username', 'session': '23c0bf81-13be16aa1d2cc66632185709', 'date': '2025-03-01T02:43:35.064187Z', 'version': '5.3'}, 'content': {'status': 'ok', 'execution_count': 3, 'user_expressions': {}, 'payload': []}, 'metadata': {'started': datetime.datetime(2025, 3, 1, 2, 43, 35, 72559, tzinfo=datetime.timezone.utc), 'dependencies_met': True, 'engine': '68d1ba0c-0e0dcc9a350bd9e852b324b9', 'is_broadcast': False, 'is_coalescing': False, 'original_msg_id': '', 'status': 'ok'}, 'tracker': <zmq.sugar.tracker.MessageTracker object at 0xffffb6b00a30>}\n",
      "2025-02-28 21:43:47.213 [IPEngine.1] WARNING | No heartbeat in the last 3500 ms (1 time(s) in a row).\n",
      "2025-02-28 21:43:47.216 [IPEngine.0] \n",
      "*** MESSAGE TYPE:execute_request***\n",
      "2025-02-28 21:43:47.216 [IPEngine.0]    Content: {'code': 'if __name__ == \"__main__\":\\n    # plot the solution as a colormap\\n    plotter = utils.plot_scalar(T_i, gather=True)\\n    # save the plot\\n    utils.plot_save(plotter, output_folder / \"2d_poisson_test_single_solution_ipyparallel_ne{:d}.png\".format(ne,))\\n    comm = T_i.function_space.mesh.comm\\n    if comm.size > 1:\\n        # if we\\'re running in parallel (e.g. from a script) then save an image per process as well\\n        plotter_p = utils.plot_scalar(T_i)\\n        utils.plot_save(plotter_p, output_folder / \"2d_poisson_test_single_solution_ipyparallel_ne{:d}_p{:d}.png\".format(ne,comm.rank,))\\n', 'silent': False, 'user_expressions': {}}\n",
      "   --->\n",
      "   \n",
      "2025-02-28 21:43:47.216 [IPEngine.0] Handling execute_request: 23c0bf81-13be16aa1d2cc66632185709_70881_13\n",
      "2025-02-28 21:43:47.216 [IPEngine.0] execute_request: {'header': {'msg_id': '23c0bf81-13be16aa1d2cc66632185709_70881_13', 'msg_type': 'execute_request', 'username': 'username', 'session': '23c0bf81-13be16aa1d2cc66632185709', 'date': '2025-03-01T02:43:47.214929Z', 'version': '5.3'}, 'msg_id': '23c0bf81-13be16aa1d2cc66632185709_70881_13', 'msg_type': 'execute_request', 'parent_header': {}, 'metadata': {}, 'content': {'code': 'if __name__ == \"__main__\":\\n    # plot the solution as a colormap\\n    plotter = utils.plot_scalar(T_i, gather=True)\\n    # save the plot\\n    utils.plot_save(plotter, output_folder / \"2d_poisson_test_single_solution_ipyparallel_ne{:d}.png\".format(ne,))\\n    comm = T_i.function_space.mesh.comm\\n    if comm.size > 1:\\n        # if we\\'re running in parallel (e.g. from a script) then save an image per process as well\\n        plotter_p = utils.plot_scalar(T_i)\\n        utils.plot_save(plotter_p, output_folder / \"2d_poisson_test_single_solution_ipyparallel_ne{:d}_p{:d}.png\".format(ne,comm.rank,))\\n', 'silent': False, 'user_expressions': {}}, 'buffers': []}\n",
      "2025-02-28 21:43:47.217 [IPEngine.1] \n",
      "*** MESSAGE TYPE:execute_request***\n",
      "2025-02-28 21:43:47.217 [IPEngine.1]    Content: {'code': 'if __name__ == \"__main__\":\\n    # plot the solution as a colormap\\n    plotter = utils.plot_scalar(T_i, gather=True)\\n    # save the plot\\n    utils.plot_save(plotter, output_folder / \"2d_poisson_test_single_solution_ipyparallel_ne{:d}.png\".format(ne,))\\n    comm = T_i.function_space.mesh.comm\\n    if comm.size > 1:\\n        # if we\\'re running in parallel (e.g. from a script) then save an image per process as well\\n        plotter_p = utils.plot_scalar(T_i)\\n        utils.plot_save(plotter_p, output_folder / \"2d_poisson_test_single_solution_ipyparallel_ne{:d}_p{:d}.png\".format(ne,comm.rank,))\\n', 'silent': False, 'user_expressions': {}}\n",
      "   --->\n",
      "   \n",
      "2025-02-28 21:43:47.217 [IPEngine.1] Handling execute_request: 23c0bf81-13be16aa1d2cc66632185709_70881_14\n",
      "2025-02-28 21:43:47.217 [IPEngine.1] execute_request: {'header': {'msg_id': '23c0bf81-13be16aa1d2cc66632185709_70881_14', 'msg_type': 'execute_request', 'username': 'username', 'session': '23c0bf81-13be16aa1d2cc66632185709', 'date': '2025-03-01T02:43:47.215022Z', 'version': '5.3'}, 'msg_id': '23c0bf81-13be16aa1d2cc66632185709_70881_14', 'msg_type': 'execute_request', 'parent_header': {}, 'metadata': {}, 'content': {'code': 'if __name__ == \"__main__\":\\n    # plot the solution as a colormap\\n    plotter = utils.plot_scalar(T_i, gather=True)\\n    # save the plot\\n    utils.plot_save(plotter, output_folder / \"2d_poisson_test_single_solution_ipyparallel_ne{:d}.png\".format(ne,))\\n    comm = T_i.function_space.mesh.comm\\n    if comm.size > 1:\\n        # if we\\'re running in parallel (e.g. from a script) then save an image per process as well\\n        plotter_p = utils.plot_scalar(T_i)\\n        utils.plot_save(plotter_p, output_folder / \"2d_poisson_test_single_solution_ipyparallel_ne{:d}_p{:d}.png\".format(ne,comm.rank,))\\n', 'silent': False, 'user_expressions': {}}, 'buffers': []}\n",
      "2025-02-28 21:43:47.218 [IPEngine.2] \n",
      "*** MESSAGE TYPE:execute_request***\n",
      "2025-02-28 21:43:47.218 [IPEngine.2]    Content: {'code': 'if __name__ == \"__main__\":\\n    # plot the solution as a colormap\\n    plotter = utils.plot_scalar(T_i, gather=True)\\n    # save the plot\\n    utils.plot_save(plotter, output_folder / \"2d_poisson_test_single_solution_ipyparallel_ne{:d}.png\".format(ne,))\\n    comm = T_i.function_space.mesh.comm\\n    if comm.size > 1:\\n        # if we\\'re running in parallel (e.g. from a script) then save an image per process as well\\n        plotter_p = utils.plot_scalar(T_i)\\n        utils.plot_save(plotter_p, output_folder / \"2d_poisson_test_single_solution_ipyparallel_ne{:d}_p{:d}.png\".format(ne,comm.rank,))\\n', 'silent': False, 'user_expressions': {}}\n",
      "   --->\n",
      "   \n",
      "2025-02-28 21:43:47.218 [IPEngine.2] Handling execute_request: 23c0bf81-13be16aa1d2cc66632185709_70881_15\n",
      "2025-02-28 21:43:47.218 [IPEngine.2] execute_request: {'header': {'msg_id': '23c0bf81-13be16aa1d2cc66632185709_70881_15', 'msg_type': 'execute_request', 'username': 'username', 'session': '23c0bf81-13be16aa1d2cc66632185709', 'date': '2025-03-01T02:43:47.215079Z', 'version': '5.3'}, 'msg_id': '23c0bf81-13be16aa1d2cc66632185709_70881_15', 'msg_type': 'execute_request', 'parent_header': {}, 'metadata': {}, 'content': {'code': 'if __name__ == \"__main__\":\\n    # plot the solution as a colormap\\n    plotter = utils.plot_scalar(T_i, gather=True)\\n    # save the plot\\n    utils.plot_save(plotter, output_folder / \"2d_poisson_test_single_solution_ipyparallel_ne{:d}.png\".format(ne,))\\n    comm = T_i.function_space.mesh.comm\\n    if comm.size > 1:\\n        # if we\\'re running in parallel (e.g. from a script) then save an image per process as well\\n        plotter_p = utils.plot_scalar(T_i)\\n        utils.plot_save(plotter_p, output_folder / \"2d_poisson_test_single_solution_ipyparallel_ne{:d}_p{:d}.png\".format(ne,comm.rank,))\\n', 'silent': False, 'user_expressions': {}}, 'buffers': []}\n",
      "2025-02-28 21:43:47.217 [IPEngine.3] \n",
      "*** MESSAGE TYPE:execute_request***\n",
      "2025-02-28 21:43:47.217 [IPEngine.3]    Content: {'code': 'if __name__ == \"__main__\":\\n    # plot the solution as a colormap\\n    plotter = utils.plot_scalar(T_i, gather=True)\\n    # save the plot\\n    utils.plot_save(plotter, output_folder / \"2d_poisson_test_single_solution_ipyparallel_ne{:d}.png\".format(ne,))\\n    comm = T_i.function_space.mesh.comm\\n    if comm.size > 1:\\n        # if we\\'re running in parallel (e.g. from a script) then save an image per process as well\\n        plotter_p = utils.plot_scalar(T_i)\\n        utils.plot_save(plotter_p, output_folder / \"2d_poisson_test_single_solution_ipyparallel_ne{:d}_p{:d}.png\".format(ne,comm.rank,))\\n', 'silent': False, 'user_expressions': {}}\n",
      "   --->\n",
      "   \n",
      "2025-02-28 21:43:47.217 [IPEngine.3] Handling execute_request: 23c0bf81-13be16aa1d2cc66632185709_70881_16\n",
      "2025-02-28 21:43:47.217 [IPEngine.3] execute_request: {'header': {'msg_id': '23c0bf81-13be16aa1d2cc66632185709_70881_16', 'msg_type': 'execute_request', 'username': 'username', 'session': '23c0bf81-13be16aa1d2cc66632185709', 'date': '2025-03-01T02:43:47.215281Z', 'version': '5.3'}, 'msg_id': '23c0bf81-13be16aa1d2cc66632185709_70881_16', 'msg_type': 'execute_request', 'parent_header': {}, 'metadata': {}, 'content': {'code': 'if __name__ == \"__main__\":\\n    # plot the solution as a colormap\\n    plotter = utils.plot_scalar(T_i, gather=True)\\n    # save the plot\\n    utils.plot_save(plotter, output_folder / \"2d_poisson_test_single_solution_ipyparallel_ne{:d}.png\".format(ne,))\\n    comm = T_i.function_space.mesh.comm\\n    if comm.size > 1:\\n        # if we\\'re running in parallel (e.g. from a script) then save an image per process as well\\n        plotter_p = utils.plot_scalar(T_i)\\n        utils.plot_save(plotter_p, output_folder / \"2d_poisson_test_single_solution_ipyparallel_ne{:d}_p{:d}.png\".format(ne,comm.rank,))\\n', 'silent': False, 'user_expressions': {}}, 'buffers': []}\n",
      "2025-02-28 21:44:12.455 [KernelNanny.0] Pipe closed, parent 70942 has status: zombie\n",
      "2025-02-28 21:44:12.464 [KernelNanny.0] Notifying Hub that our parent has shut down\n",
      "2025-02-28 21:44:12.485 [KernelNanny.0] Parent 70942 exited with status None.\n",
      "2025-02-28 21:44:12.548 [KernelNanny.2] Pipe closed, parent 70944 has status: zombie\n",
      "2025-02-28 21:44:12.548 [KernelNanny.2] Notifying Hub that our parent has shut down\n",
      "2025-02-28 21:44:12.559 [KernelNanny.2] Parent 70944 exited with status None.\n",
      "2025-02-28 21:44:12.672 [KernelNanny.3] Pipe closed, parent 70945 has status: zombie\n",
      "2025-02-28 21:44:12.672 [KernelNanny.3] Notifying Hub that our parent has shut down\n",
      "2025-02-28 21:44:12.686 [KernelNanny.1] Pipe closed, parent 70943 has status: None\n",
      "2025-02-28 21:44:12.686 [KernelNanny.1] Notifying Hub that our parent has shut down\n",
      "2025-02-28 21:44:12.693 [KernelNanny.1] Parent 70943 exited with status None.\n",
      "\n",
      "===================================================================================\n",
      "=   BAD TERMINATION OF ONE OF YOUR APPLICATION PROCESSES\n",
      "\n",
      "engine set stopped 1740797004: {'exit_code': 9, 'pid': 70936, 'identifier': 'ipengine-1740797003-pfwj-1740797004-70881'}\n"
     ]
    }
   ],
   "source": [
    "import ipyparallel as ipp\n",
    "np = 4\n",
    "rc = ipp.Cluster(engine_launcher_class=\"mpi\", n=np).start_and_connect_sync()"
   ]
  },
  {
   "cell_type": "code",
   "execution_count": 2,
   "id": "a3c0c86c-7233-4209-8128-0d78e38e8a64",
   "metadata": {},
   "outputs": [
    {
     "data": {
      "application/json": {
       "ascii": false,
       "bar_format": null,
       "colour": null,
       "elapsed": 0.008130073547363281,
       "initial": 0,
       "n": 0,
       "ncols": null,
       "nrows": null,
       "postfix": null,
       "prefix": "%px",
       "rate": null,
       "total": 4,
       "unit": "tasks",
       "unit_divisor": 1000,
       "unit_scale": false
      },
      "application/vnd.jupyter.widget-view+json": {
       "model_id": "57a5f67636e644aca545811121122062",
       "version_major": 2,
       "version_minor": 0
      },
      "text/plain": [
       "%px:   0%|          | 0/4 [00:00<?, ?tasks/s]"
      ]
     },
     "metadata": {},
     "output_type": "display_data"
    }
   ],
   "source": [
    "%%px\n",
    "from poisson_2d import solve_poisson_2d\n",
    "from mpi4py import MPI\n",
    "import numpy as np\n",
    "import ufl\n",
    "import sys, os\n",
    "basedir = ''\n",
    "if \"__file__\" in globals(): basedir = os.path.dirname(__file__)\n",
    "sys.path.append(os.path.join(basedir, os.path.pardir, 'python'))\n",
    "import utils\n",
    "import matplotlib.pyplot as pl\n",
    "import pyvista as pv\n",
    "if __name__ == \"__main__\" and \"__file__\" in globals():\n",
    "    pv.OFF_SCREEN = True\n",
    "import pathlib\n",
    "if __name__ == \"__main__\":\n",
    "    output_folder = pathlib.Path(os.path.join(basedir, \"output\"))\n",
    "    output_folder.mkdir(exist_ok=True, parents=True)\n",
    "import time"
   ]
  },
  {
   "cell_type": "code",
   "execution_count": 3,
   "id": "963dd29f",
   "metadata": {},
   "outputs": [
    {
     "data": {
      "text/plain": [
       "[stdout:1] 1 4\n"
      ]
     },
     "metadata": {},
     "output_type": "display_data"
    },
    {
     "data": {
      "text/plain": [
       "[stdout:0] 0 4\n"
      ]
     },
     "metadata": {},
     "output_type": "display_data"
    },
    {
     "data": {
      "text/plain": [
       "[stdout:3] 3 4\n"
      ]
     },
     "metadata": {},
     "output_type": "display_data"
    },
    {
     "data": {
      "text/plain": [
       "[stdout:2] 2 4\n"
      ]
     },
     "metadata": {},
     "output_type": "display_data"
    }
   ],
   "source": [
    "%%px\n",
    "print(MPI.COMM_WORLD.rank, MPI.COMM_WORLD.size)"
   ]
  },
  {
   "cell_type": "code",
   "execution_count": 4,
   "id": "d03c68d4-c22c-4768-b20d-c91b8ddc5fbc",
   "metadata": {},
   "outputs": [
    {
     "data": {
      "text/plain": [
       "[stdout:1] Generate mesh (1) 0.7812075614929199\n",
       "Generate functionspace (1) 0.09311032295227051\n",
       "Generate functions (1) 5.412101745605469e-05\n",
       "Generate Dirichlet bcs (1) 0.04608035087585449\n",
       "Generate Neumann bcs (1) 0.0005326271057128906\n",
       "Generate forms (1) 0.00896000862121582\n",
       "Assemble problem (1) 0.3468780517578125\n",
       "Solve problem (1) 10.798412084579468\n",
       "1 (410114) - time taken: 12.07573413848877 seconds\n"
      ]
     },
     "metadata": {},
     "output_type": "display_data"
    },
    {
     "data": {
      "text/plain": [
       "[stdout:0] Generate mesh (0) 0.781559944152832\n",
       "Generate functionspace (0) 0.09321904182434082\n",
       "Generate functions (0) 0.0001461505889892578\n",
       "Generate Dirichlet bcs (0) 0.036893367767333984\n",
       "Generate Neumann bcs (0) 0.0004787445068359375\n",
       "Generate forms (0) 0.017628908157348633\n",
       "Assemble problem (0) 0.347092866897583\n",
       "Solve problem (0) 10.800966739654541\n",
       "0 (410577) - time taken: 12.078472375869751 seconds\n",
       "\n",
       "[MPI_MAX] Summary of timings                                                |  reps  wall avg  wall tot\n",
       "-------------------------------------------------------------------------------------------------------\n",
       "Build dofmap data                                                           |     2  0.028485  0.056970\n",
       "Build sparsity                                                              |     1  0.039056  0.039056\n",
       "Compute connectivity 1-0                                                    |     1  0.002149  0.002149\n",
       "Compute dof reordering map                                                  |     2  0.001772  0.003543\n",
       "Compute entities of dim = 1                                                 |     1  0.043096  0.043096\n",
       "Compute graph partition (SCOTCH)                                            |     1  0.172813  0.172813\n",
       "Compute local part of mesh dual graph                                       |     2  0.106380  0.212761\n",
       "Compute local-to-local map                                                  |     1  0.009454  0.009454\n",
       "Compute non-local part of mesh dual graph                                   |     1  0.001040  0.001040\n",
       "Compute-local-to-global links for global/local adjacency list               |     1  0.000595  0.000595\n",
       "Distribute AdjacencyList nodes to destination ranks                         |     1  0.436922  0.436922\n",
       "Distribute row-wise data (scalable)                                         |     1  0.016870  0.016870\n",
       "Extract partition boundaries from SCOTCH graph                              |     1  0.002090  0.002090\n",
       "GPS: create_level_structure                                                 |     2  0.001043  0.154549\n",
       "Get SCOTCH graph data                                                       |     1  0.000000  0.000000\n",
       "Gibbs-Poole-Stockmeyer ordering                                             |     1  0.160598  0.160598\n",
       "Init dofmap from element dofmap                                             |     2  0.016047  0.032095\n",
       "SCOTCH: call SCOTCH_dgraphBuild                                             |     1  0.000507  0.000507\n",
       "SCOTCH: call SCOTCH_dgraphHalo                                              |     1  0.002167  0.002167\n",
       "SCOTCH: call SCOTCH_dgraphPart                                              |     1  0.154451  0.154451\n",
       "SparsityPattern::finalize                                                   |     1  0.051353  0.051353\n",
       "Topology: create                                                            |     1  0.248803  0.248803\n",
       "Topology: determine shared index ownership                                  |     1  0.163215  0.163215\n",
       "Topology: determine vertex ownership groups (owned, undetermined, unowned)  |     1  0.008561  0.008561\n"
      ]
     },
     "metadata": {},
     "output_type": "display_data"
    },
    {
     "data": {
      "text/plain": [
       "[stdout:3] Generate mesh (3) 0.7805020809173584\n",
       "Generate functionspace (3) 0.09324145317077637\n",
       "Generate functions (3) 5.6743621826171875e-05\n",
       "Generate Dirichlet bcs (3) 0.04704904556274414\n",
       "Generate Neumann bcs (3) 0.0004742145538330078\n",
       "Generate forms (3) 0.01034998893737793\n",
       "Assemble problem (3) 0.3444197177886963\n",
       "Solve problem (3) 10.79893445968628\n",
       "3 (409815) - time taken: 12.075514554977417 seconds\n"
      ]
     },
     "metadata": {},
     "output_type": "display_data"
    },
    {
     "data": {
      "text/plain": [
       "[stdout:2] Generate mesh (2) 0.7809104919433594\n",
       "Generate functionspace (2) 0.09273457527160645\n",
       "Generate functions (2) 6.389617919921875e-05\n",
       "Generate Dirichlet bcs (2) 0.047963857650756836\n",
       "Generate Neumann bcs (2) 0.0004975795745849609\n",
       "Generate forms (2) 0.008292198181152344\n",
       "Assemble problem (2) 0.34354662895202637\n",
       "Solve problem (2) 10.801195859909058\n",
       "2 (410455) - time taken: 12.075725078582764 seconds\n"
      ]
     },
     "metadata": {},
     "output_type": "display_data"
    },
    {
     "data": {
      "application/json": {
       "ascii": false,
       "bar_format": null,
       "colour": null,
       "elapsed": 0.00222015380859375,
       "initial": 0,
       "n": 0,
       "ncols": null,
       "nrows": null,
       "postfix": null,
       "prefix": "%px",
       "rate": null,
       "total": 4,
       "unit": "tasks",
       "unit_divisor": 1000,
       "unit_scale": false
      },
      "application/vnd.jupyter.widget-view+json": {
       "model_id": "83387ff0d8de4a47bc35e1d3f9432bd5",
       "version_major": 2,
       "version_minor": 0
      },
      "text/plain": [
       "%px:   0%|          | 0/4 [00:00<?, ?tasks/s]"
      ]
     },
     "metadata": {},
     "output_type": "display_data"
    }
   ],
   "source": [
    "%%px\n",
    "if __name__ == \"__main__\":\n",
    "    ne = 640\n",
    "    p = 2\n",
    "    # Solve the 2D Poisson problem\n",
    "    start_time = time.time()\n",
    "    T_i = solve_poisson_2d(ne, p)\n",
    "    end_time = time.time()\n",
    "    comm = T_i.function_space.mesh.comm\n",
    "    print(f\"{comm.rank} ({T_i.function_space.dofmap.index_map.size_local}) - time taken: {end_time - start_time} seconds\")"
   ]
  },
  {
   "cell_type": "code",
   "execution_count": null,
   "id": "149cc6db",
   "metadata": {},
   "outputs": [
    {
     "data": {
      "application/json": {
       "ascii": false,
       "bar_format": null,
       "colour": null,
       "elapsed": 23.11253833770752,
       "initial": 0,
       "n": 0,
       "ncols": null,
       "nrows": null,
       "postfix": null,
       "prefix": "%px",
       "rate": null,
       "total": 4,
       "unit": "tasks",
       "unit_divisor": 1000,
       "unit_scale": false
      },
      "application/vnd.jupyter.widget-view+json": {
       "model_id": "2e4c0d333ef241308b0b307f6b931640",
       "version_major": 2,
       "version_minor": 0
      },
      "text/plain": [
       "%px:   0%|          | 0/4 [00:23<?, ?tasks/s]"
      ]
     },
     "metadata": {},
     "output_type": "display_data"
    },
    {
     "ename": "CompositeError",
     "evalue": "one or more exceptions from call to method: %px\n[Engine Exception]EngineError: Engine 0 died while running task '23c0bf81-13be16aa1d2cc66632185709_70881_13'\n[Engine Exception]EngineError: Engine 1 died while running task '23c0bf81-13be16aa1d2cc66632185709_70881_14'\n[Engine Exception]EngineError: Engine 2 died while running task '23c0bf81-13be16aa1d2cc66632185709_70881_15'\n[Engine Exception]EngineError: Engine 3 died while running task '23c0bf81-13be16aa1d2cc66632185709_70881_16'",
     "output_type": "error",
     "traceback": [
      "[Engine Exception]",
      "Traceback (most recent call last):",
      "",
      "  File \"/usr/lib/python3/dist-packages/ipyparallel/client/client.py\", line 896, in _handle_stranded_msgs",
      "    raise error.EngineError(",
      "",
      "ipyparallel.error.EngineError: Engine 0 died while running task '23c0bf81-13be16aa1d2cc66632185709_70881_13'",
      "",
      "[Engine Exception]",
      "Traceback (most recent call last):",
      "",
      "  File \"/usr/lib/python3/dist-packages/ipyparallel/client/client.py\", line 896, in _handle_stranded_msgs",
      "    raise error.EngineError(",
      "",
      "ipyparallel.error.EngineError: Engine 1 died while running task '23c0bf81-13be16aa1d2cc66632185709_70881_14'",
      "",
      "[Engine Exception]",
      "Traceback (most recent call last):",
      "",
      "  File \"/usr/lib/python3/dist-packages/ipyparallel/client/client.py\", line 896, in _handle_stranded_msgs",
      "    raise error.EngineError(",
      "",
      "ipyparallel.error.EngineError: Engine 2 died while running task '23c0bf81-13be16aa1d2cc66632185709_70881_15'",
      "",
      "[Engine Exception]",
      "Traceback (most recent call last):",
      "",
      "  File \"/usr/lib/python3/dist-packages/ipyparallel/client/client.py\", line 896, in _handle_stranded_msgs",
      "    raise error.EngineError(",
      "",
      "ipyparallel.error.EngineError: Engine 3 died while running task '23c0bf81-13be16aa1d2cc66632185709_70881_16'",
      ""
     ]
    }
   ],
   "source": [
    "%%px\n",
    "if __name__ == \"__main__\":\n",
    "    # plot the solution as a colormap\n",
    "    plotter = utils.plot_scalar(T_i, gather=True)\n",
    "    # save the plot\n",
    "    utils.plot_save(plotter, output_folder / \"2d_poisson_test_single_solution_ipyparallel_4_ne{:d}.png\".format(ne,))\n",
    "    comm = T_i.function_space.mesh.comm\n",
    "    if comm.size > 1:\n",
    "        # if we're running in parallel (e.g. from a script) then save an image per process as well\n",
    "        plotter_p = utils.plot_scalar(T_i)\n",
    "        utils.plot_save(plotter_p, output_folder / \"2d_poisson_test_single_solution_ipyparallel_4_ne{:d}_p{:d}.png\".format(ne,comm.rank,))"
   ]
  },
  {
   "cell_type": "code",
   "execution_count": null,
   "id": "cba98d95",
   "metadata": {},
   "outputs": [],
   "source": []
  }
 ],
 "metadata": {
  "kernelspec": {
   "display_name": "Python 3",
   "language": "python",
   "name": "python3"
  },
  "language_info": {
   "codemirror_mode": {
    "name": "ipython",
    "version": 3
   },
   "file_extension": ".py",
   "mimetype": "text/x-python",
   "name": "python",
   "nbconvert_exporter": "python",
   "pygments_lexer": "ipython3",
   "version": "3.10.12"
  }
 },
 "nbformat": 4,
 "nbformat_minor": 5
}
