{
 "cells": [
  {
   "cell_type": "markdown",
   "id": "873326ab-056d-4165-95e4-be0270cc3ea4",
   "metadata": {},
   "source": [
    "# Poisson Example 2D\n",
    "\n",
    "Authors: Kidus Teshome, Cameron Seebeck, Cian Wilson"
   ]
  },
  {
   "cell_type": "markdown",
   "id": "d34770fc-5114-458e-8850-3e091fe9e999",
   "metadata": {},
   "source": [
    "## Description"
   ]
  },
  {
   "cell_type": "markdown",
   "id": "490426df-24b9-4f91-bbb9-2a02ef7ce188",
   "metadata": {},
   "source": [
    "As a reminder, in this case we are seeking the approximate solution to\n",
    "\\begin{equation}\n",
    "- \\nabla^2 T = -\\tfrac{5}{4} \\exp \\left( x+\\tfrac{y}{2} \\right)\n",
    "\\end{equation}\n",
    "in a unit square, $\\Omega=[0,1]\\times[0,1]$, imposing the boundary conditions\n",
    "\\begin{align}\n",
    "  T &= \\exp\\left(x+\\tfrac{y}{2}\\right) && \\text{on } \\partial\\Omega \\text{ where } x=0 \\text{ or } y=0 \\\\\n",
    "  \\nabla T\\cdot \\hat{\\vec{n}} &= \\exp\\left(x + \\tfrac{y}{2}\\right) && \\text{on } \\partial\\Omega \\text{ where } x=1  \\\\\n",
    "  \\nabla T\\cdot \\hat{\\vec{n}} &= \\tfrac{1}{2}\\exp\\left(x + \\tfrac{y}{2}\\right) && \\text{on } \\partial\\Omega \\text{ where } y=1\n",
    " \\end{align}\n",
    "\n",
    "The analytical solution to this problem is $T(x,y) = \\exp\\left(x+\\tfrac{y}{2}\\right)$."
   ]
  },
  {
   "cell_type": "markdown",
   "id": "c5ae6af0-4e8d-41ab-8aae-131a3690bc21",
   "metadata": {},
   "source": [
    "## Themes and variations"
   ]
  },
  {
   "cell_type": "markdown",
   "id": "514bf2cd-8236-4b3c-92b0-0a6c794501c3",
   "metadata": {},
   "source": [
    "* Given that we know the exact solution to this problem is $T(x,y)$=$\\exp\\left(x+\\tfrac{y}{2}\\right)$ write a python function to evaluate the error in our numerical solution.\n",
    "* Loop over a variety of numbers of elements, `ne`, and polynomial degrees, `p`, and check that the numerical solution converges with an increasing number of degrees of freedom.\n",
    "* Write an equation for the gradient of $\\tilde{T}$, describe it using UFL, solve it, and plot the solution."
   ]
  },
  {
   "cell_type": "markdown",
   "id": "75ea99bb-ee37-4be9-b4f6-32f060d90102",
   "metadata": {},
   "source": [
    "### Preamble"
   ]
  },
  {
   "cell_type": "markdown",
   "id": "4f7ab789-6830-4668-87c9-faa13608f7ac",
   "metadata": {},
   "source": [
    "Start by loading `solve_poisson_2d` from `notebooks/poisson_2d.ipynb` and setting up some paths."
   ]
  },
  {
   "cell_type": "code",
   "execution_count": null,
   "id": "f7ff2241",
   "metadata": {},
   "outputs": [],
   "source": [
    "import ipyparallel as ipp\n",
    "np = 4\n",
    "rc = ipp.Cluster(engine_launcher_class=\"mpi\", n=np).start_and_connect_sync()"
   ]
  },
  {
   "cell_type": "code",
   "execution_count": null,
   "id": "a3c0c86c-7233-4209-8128-0d78e38e8a64",
   "metadata": {},
   "outputs": [],
   "source": [
    "%%px\n",
    "from poisson_2d import solve_poisson_2d\n",
    "from mpi4py import MPI\n",
    "import numpy as np\n",
    "import ufl\n",
    "import sys, os\n",
    "basedir = ''\n",
    "if \"__file__\" in globals(): basedir = os.path.dirname(__file__)\n",
    "sys.path.append(os.path.join(basedir, os.path.pardir, 'python'))\n",
    "import utils\n",
    "import matplotlib.pyplot as pl\n",
    "import pyvista as pv\n",
    "if __name__ == \"__main__\" and \"__file__\" in globals():\n",
    "    pv.OFF_SCREEN = True\n",
    "import pathlib\n",
    "if __name__ == \"__main__\":\n",
    "    output_folder = pathlib.Path(os.path.join(basedir, \"output\"))\n",
    "    output_folder.mkdir(exist_ok=True, parents=True)\n",
    "import time"
   ]
  },
  {
   "cell_type": "code",
   "execution_count": null,
   "id": "963dd29f",
   "metadata": {},
   "outputs": [],
   "source": [
    "%%px\n",
    "print(MPI.COMM_WORLD.rank, MPI.COMM_WORLD.size)"
   ]
  },
  {
   "cell_type": "code",
   "execution_count": null,
   "id": "d03c68d4-c22c-4768-b20d-c91b8ddc5fbc",
   "metadata": {},
   "outputs": [],
   "source": [
    "%%px\n",
    "if __name__ == \"__main__\":\n",
    "    ne = 640\n",
    "    p = 2\n",
    "    # Solve the 2D Poisson problem\n",
    "    start_time = time.time()\n",
    "    T_i = solve_poisson_2d(ne, p)\n",
    "    end_time = time.time()\n",
    "    comm = T_i.function_space.mesh.comm\n",
    "    print(f\"{comm.rank} ({T_i.function_space.dofmap.index_map.size_local}) - time taken: {end_time - start_time} seconds\")"
   ]
  },
  {
   "cell_type": "code",
   "execution_count": null,
   "id": "149cc6db",
   "metadata": {},
   "outputs": [],
   "source": [
    "%%px\n",
    "if __name__ == \"__main__\":\n",
    "    # plot the solution as a colormap\n",
    "    plotter = utils.plot_scalar(T_i, gather=True)\n",
    "    # save the plot\n",
    "    utils.plot_save(plotter, output_folder / \"2d_poisson_test_single_solution_ipyparallel_4_ne{:d}.png\".format(ne,))\n",
    "    comm = T_i.function_space.mesh.comm\n",
    "    if comm.size > 1:\n",
    "        # if we're running in parallel (e.g. from a script) then save an image per process as well\n",
    "        plotter_p = utils.plot_scalar(T_i)\n",
    "        utils.plot_save(plotter_p, output_folder / \"2d_poisson_test_single_solution_ipyparallel_4_ne{:d}_p{:d}.png\".format(ne,comm.rank,))"
   ]
  },
  {
   "cell_type": "code",
   "execution_count": null,
   "id": "cba98d95",
   "metadata": {},
   "outputs": [],
   "source": []
  }
 ],
 "metadata": {
  "kernelspec": {
   "display_name": "Python 3",
   "language": "python",
   "name": "python3"
  },
  "language_info": {
   "codemirror_mode": {
    "name": "ipython",
    "version": 3
   },
   "file_extension": ".py",
   "mimetype": "text/x-python",
   "name": "python",
   "nbconvert_exporter": "python",
   "pygments_lexer": "ipython3",
   "version": "3.10.12"
  }
 },
 "nbformat": 4,
 "nbformat_minor": 5
}
