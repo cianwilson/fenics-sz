{
 "cells": [
  {
   "cell_type": "code",
   "execution_count": null,
   "metadata": {},
   "outputs": [],
   "source": [
    "import ipyparallel as ipp\n",
    "nprocs = 3\n",
    "rc = ipp.Cluster(engine_launcher_class=\"mpi\", n=nprocs).start_and_connect_sync()"
   ]
  },
  {
   "cell_type": "code",
   "execution_count": null,
   "metadata": {},
   "outputs": [],
   "source": [
    "%%px\n",
    "from mpi4py import MPI\n",
    "comm = MPI.COMM_WORLD\n",
    "\n",
    "print(comm.rank, comm.size)\n"
   ]
  },
  {
   "cell_type": "code",
   "execution_count": null,
   "metadata": {},
   "outputs": [],
   "source": [
    "%%px\n",
    "import sys, os\n",
    "basedir = ''\n",
    "if \"__file__\" in globals(): basedir = os.path.dirname(__file__)\n",
    "sys.path.append(os.path.join(basedir, os.path.pardir, 'python'))\n",
    "import utils"
   ]
  },
  {
   "cell_type": "code",
   "execution_count": null,
   "metadata": {},
   "outputs": [],
   "source": [
    "%%px\n",
    "resscale = 5.0\n",
    "xs = [0.0, 140.0, 240.0, 400.0]\n",
    "ys = [0.0, -70.0, -120.0, -200.0]\n",
    "lc_depth = 40\n",
    "uc_depth = 15\n",
    "coast_distance = 0\n",
    "extra_width = 0\n",
    "sztype = 'continental'\n",
    "io_depth_1 = 139\n",
    "A      = 100.0      # age of subducting slab (Myr)\n",
    "qs     = 0.065      # surface heat flux (W/m^2)\n",
    "Vs     = 100.0      # slab speed (mm/yr)\n",
    "\n",
    "from sz_problems.sz_slab import create_slab\n",
    "from sz_problems.sz_geometry import create_sz_geometry\n",
    "slab = create_slab(xs, ys, resscale, lc_depth)\n",
    "geom = create_sz_geometry(slab, resscale, sztype, io_depth_1, extra_width, \n",
    "                            coast_distance, lc_depth, uc_depth)"
   ]
  },
  {
   "cell_type": "code",
   "execution_count": null,
   "metadata": {},
   "outputs": [],
   "source": [
    "%%px\n",
    "mesh, cell_tags, facet_tags = geom.generatemesh()\n",
    "mesh.topology.index_map(2).size_local, len(cell_tags.values)"
   ]
  },
  {
   "cell_type": "code",
   "execution_count": null,
   "metadata": {},
   "outputs": [],
   "source": [
    "%%px\n",
    "plotter_mesh = utils.plot_mesh(mesh, tags=cell_tags, gather=True, show_edges=True, line_width=1, clim=[1,5])\n",
    "utils.plot_geometry(geom, plotter=plotter_mesh, color='green', width=2)\n",
    "utils.plot_couplingdepth(slab, plotter=plotter_mesh, render_points_as_spheres=True, point_size=10.0, color='green')\n",
    "utils.plot_show(plotter_mesh)"
   ]
  },
  {
   "cell_type": "code",
   "execution_count": null,
   "metadata": {},
   "outputs": [],
   "source": [
    "%%px\n",
    "import utils\n",
    "plotter_mesh = utils.plot_mesh(mesh, tags=cell_tags, gather=False, show_edges=True, line_width=1, clim=[1,5])\n",
    "utils.plot_geometry(geom, plotter=plotter_mesh, color='green', width=2)\n",
    "utils.plot_couplingdepth(slab, plotter=plotter_mesh, render_points_as_spheres=True, point_size=10.0, color='green')\n",
    "utils.plot_show(plotter_mesh)"
   ]
  },
  {
   "cell_type": "code",
   "execution_count": null,
   "metadata": {},
   "outputs": [],
   "source": [
    "%%px\n",
    "import numpy as np\n",
    "\n",
    "wedge_rids = tuple(set([v['rid'] for k,v in geom.wedge_dividers.items()]+[geom.wedge_rid]))\n",
    "slab_rids  = tuple([geom.slab_rid])\n",
    "crust_rids = tuple(set([v['rid'] for k,v in geom.crustal_layers.items()]))\n",
    "\n",
    "tdim = 2\n",
    "cell_imap = mesh.topology.index_map(tdim)\n",
    "num_cells = cell_imap.size_local + cell_imap.num_ghosts\n",
    "\n",
    "wedge_submesh, wedge_cell_tags, wedge_facet_tags, wedge_cell_map = \\\n",
    "                            utils.create_submesh(mesh, np.concatenate([cell_tags.find(rid) for rid in wedge_rids]), \\\n",
    "                                                 cell_tags, facet_tags)\n",
    "\n",
    "slab_submesh, slab_cell_tags, slab_facet_tags, slab_cell_map  = \\\n",
    "                            utils.create_submesh(mesh, np.concatenate([cell_tags.find(rid) for rid in slab_rids]), \\\n",
    "                                                 cell_tags, facet_tags)\n"
   ]
  },
  {
   "cell_type": "code",
   "execution_count": null,
   "metadata": {},
   "outputs": [],
   "source": [
    "%%px\n",
    "mesh.comm.rank, wedge_submesh.comm.rank, slab_submesh.comm.rank"
   ]
  },
  {
   "cell_type": "code",
   "execution_count": null,
   "metadata": {},
   "outputs": [],
   "source": [
    "%%px\n",
    "if wedge_submesh.topology.index_map(wedge_submesh.topology.dim).size_local > 0:\n",
    "    plotter_mesh = utils.plot_mesh(wedge_submesh, tags=wedge_cell_tags, gather=False, show_edges=True, line_width=1, clim=[1,5])\n",
    "    utils.plot_geometry(geom, plotter=plotter_mesh, color='green', width=2)\n",
    "    utils.plot_couplingdepth(slab, plotter=plotter_mesh, render_points_as_spheres=True, point_size=10.0, color='green')\n",
    "    utils.plot_show(plotter_mesh)"
   ]
  },
  {
   "cell_type": "code",
   "execution_count": null,
   "metadata": {},
   "outputs": [],
   "source": [
    "%%px\n",
    "if slab_submesh.topology.index_map(slab_submesh.topology.dim).size_local > 0:\n",
    "    plotter_mesh = utils.plot_mesh(slab_submesh, tags=slab_cell_tags, gather=False, show_edges=True, line_width=1, clim=[1,5])\n",
    "    utils.plot_geometry(geom, plotter=plotter_mesh, color='green', width=2)\n",
    "    utils.plot_couplingdepth(slab, plotter=plotter_mesh, render_points_as_spheres=True, point_size=10.0, color='green')\n",
    "    utils.plot_show(plotter_mesh)"
   ]
  },
  {
   "cell_type": "code",
   "execution_count": null,
   "metadata": {},
   "outputs": [],
   "source": [
    "%%px\n",
    "if wedge_submesh.topology.index_map(wedge_submesh.topology.dim).size_local > 0:\n",
    "    plotter_mesh = utils.plot_mesh(wedge_submesh, tags=wedge_facet_tags, gather=False, show_edges=True, line_width=1, clim=[0,10])\n",
    "    utils.plot_geometry(geom, plotter=plotter_mesh, color='green', width=2)\n",
    "    utils.plot_couplingdepth(slab, plotter=plotter_mesh, render_points_as_spheres=True, point_size=10.0, color='green')\n",
    "    utils.plot_show(plotter_mesh)"
   ]
  },
  {
   "cell_type": "code",
   "execution_count": null,
   "metadata": {},
   "outputs": [],
   "source": [
    "%%px\n",
    "if slab_submesh.topology.index_map(slab_submesh.topology.dim).size_local > 0:\n",
    "    plotter_mesh = utils.plot_mesh(slab_submesh, tags=slab_facet_tags, gather=False, show_edges=True, line_width=1)\n",
    "    utils.plot_geometry(geom, plotter=plotter_mesh, color='green', width=2)\n",
    "    utils.plot_couplingdepth(slab, plotter=plotter_mesh, render_points_as_spheres=True, point_size=10.0, color='green')\n",
    "    utils.plot_show(plotter_mesh)"
   ]
  },
  {
   "cell_type": "code",
   "execution_count": null,
   "metadata": {},
   "outputs": [],
   "source": [
    "%%px\n",
    "mesh.comm.rank, wedge_submesh.comm.rank, slab_submesh.comm.rank"
   ]
  },
  {
   "cell_type": "code",
   "execution_count": null,
   "metadata": {},
   "outputs": [],
   "source": [
    "%%px\n",
    "import ufl\n",
    "import dolfinx as df\n",
    "\n",
    "\n",
    "wedge_ds = ufl.Measure(\"ds\", domain=wedge_submesh, subdomain_data=wedge_facet_tags)\n",
    "print(df.fem.assemble_scalar(df.fem.form(df.fem.Constant(wedge_submesh, df.default_scalar_type(1.0))*wedge_ds((14,)))))\n",
    "\n",
    "slab_ds = ufl.Measure(\"ds\", domain=slab_submesh, subdomain_data=slab_facet_tags)\n",
    "print(df.fem.assemble_scalar(df.fem.form(df.fem.Constant(slab_submesh, df.default_scalar_type(1.0))*slab_ds(14))))"
   ]
  },
  {
   "cell_type": "code",
   "execution_count": null,
   "metadata": {},
   "outputs": [],
   "source": []
  }
 ],
 "metadata": {
  "kernelspec": {
   "display_name": "dolfinx-env",
   "language": "python",
   "name": "python3"
  },
  "language_info": {
   "codemirror_mode": {
    "name": "ipython",
    "version": 3
   },
   "file_extension": ".py",
   "mimetype": "text/x-python",
   "name": "python",
   "nbconvert_exporter": "python",
   "pygments_lexer": "ipython3",
   "version": "3.12.3"
  }
 },
 "nbformat": 4,
 "nbformat_minor": 2
}
