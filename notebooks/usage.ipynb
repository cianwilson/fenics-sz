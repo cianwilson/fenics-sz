{
 "cells": [
  {
   "cell_type": "markdown",
   "id": "f38a4992-51cc-4bf2-90ae-8ae9eefcc816",
   "metadata": {},
   "source": [
    "# Usage\n",
    "\n",
    "Author: Cian Wilson\n",
    "\n",
    "The notebooks in this [Jupyter Book](https://jupyterbook.org/) can all be run interactively in a web browser, either online or locally.  In addition we provide versions of most notebooks as python scripts that can be run locally from a terminal."
   ]
  },
  {
   "cell_type": "markdown",
   "id": "aa5867d3-65ca-4385-9442-aede387e9a91",
   "metadata": {},
   "source": [
    "## Online\n",
    "\n",
    "This website is published as a [Jupyter Book](https://jupyterbook.org/). Each page is a Jupyter notebook that can be run interactively in the browser.  To start such an interactive session using [binder](https://mybinder.org/) click the ![Binder symbol](images/binder.png)-symbol in the top right corner of the relevant page.  Note that [binder](https://mybinder.org/) may take some time to start.\n",
    "\n",
    "```{admonition} Interactive Changes\n",
    "Binder allows users to run notebooks interactively, making changes to the published Jupyter Book.  Note that these changes will be lost once the binder session ends unless the changed files are manually downloaded by selecting them in the Jupyter lab file browser and downloading them to the local machine.\n",
    "```\n",
    "\n",
    "```{admonition} Computational Costs\n",
    "Binder limits the amount of computational resources available.  Extremely high resolution simulations may therefore not be feasible online.\n",
    "```"
   ]
  },
  {
   "cell_type": "markdown",
   "id": "5b0e2d69-152b-4ffb-802e-65b52f175ce8",
   "metadata": {},
   "source": [
    "## Local\n",
    "\n",
    "To run the notebooks locally, outside of [binder](https://mybinder.org/), an installation of the FEniCSx is required. We strongly recommend new users do this using [Docker](https://www.docker.com/)."
   ]
  },
  {
   "cell_type": "markdown",
   "id": "c6feed65-a6bd-4efa-a5f0-7bc24df3eb87",
   "metadata": {},
   "source": [
    "### Docker\n",
    "\n",
    "Docker is software that uses _images_ and _containers_ to supply virtualized installations of software across different kinds of operating systems (Linux, Mac, Windows).  The first step is to install docker, following the instructions at their [webpage](https://docs.docker.com/get-started/).\n",
    "\n",
    "Once docker is installed we provide compatible docker images using [github packages](https://github.com/users/cianwilson/packages/container/package/fenics-sz).\n",
    "\n",
    "```{admonition} Computational Resources\n",
    "On non-linux operating systems docker limits the computational resources available to the virtualized docker container, which may limit the size of simulations it is possible to run locally.  Modify the docker settings to change these settings and make more resources available.\n",
    "```\n",
    "\n",
    "To use these images with this book on a local machine, first (using a terminal) clone the repository and change into that directory\n",
    "```bash\n",
    "  git clone -b release https://github.com/cianwilson/fenics-sz.git\n",
    "  cd fenics-sz\n",
    "```"
   ]
  },
  {
   "cell_type": "markdown",
   "id": "289dbae7-abd9-4879-a460-8981cadf55f0",
   "metadata": {},
   "source": [
    "#### Browser\n",
    "\n",
    "If running the book in a browser then run the following docker command\n",
    "\n",
    "```bash\n",
    "  docker run --init --rm -p 8888:8888 --workdir /root/shared -v \"$(pwd)\":/root/shared ghcr.io/cianwilson/fenics-sz:release\n",
    "```\n",
    "The first time this is run it will automatically download the docker image and start Jupyter lab in the docker container on the local machine.  To view the notebooks and modify them locally, copy and paste the URL printed in the terminal into a web-browser.\n",
    "\n",
    "```{admonition} Updates\n",
    "`docker run` will only download the docker image the first time it is called.  To get updates to the images run\n",
    "\n",
    "   docker pull ghcr.io/cianwilson/fenics-sz:release\n",
    "\n",
    "before calling `docker run`.\n",
    "```"
   ]
  },
  {
   "cell_type": "markdown",
   "id": "7c7afc7a-b567-41f4-b3e6-9a78ea189d59",
   "metadata": {},
   "source": [
    "#### Terminal\n",
    "\n",
    "Alternatively, the image can be used through an interactive terminal by running\n",
    "\n",
    "```bash\n",
    "  docker run -it --rm -p 8888:8888 --workdir /root/shared -v \"$(pwd)\":/root/shared  --entrypoint=\"/bin/bash\" ghcr.io/cianwilson/fenics-sz:release\n",
    "```\n",
    "\n",
    "This allows the python scripts based on the notebooks to be run, e.g.\n",
    "```bash\n",
    "  cd notebooks\n",
    "  python3 <script name>.py\n",
    "```\n",
    "where `<script name>.py` should be substituted for the desired python script.\n",
    "\n",
    "These can also be run in parallel using, e.g.\n",
    "```bash\n",
    "  cd notebooks\n",
    "  mpirun -np <p> python3 <script name>.py\n",
    "```\n",
    "where `<p>` should be substituted for the number of processes (see note above about computational resources in docker on non-linux operating systems).\n",
    "\n",
    "Jupyter lab can also be started from within the docker container\n",
    "```bash\n",
    "  jupyter lab --ip 0.0.0.0 --port 8888 --no-browser --allow-root\n",
    "```\n",
    "again copying and pasting the resulting URL into a web browser to access the notebooks."
   ]
  },
  {
   "cell_type": "markdown",
   "id": "af07bd73-b5e6-4cd2-9cfb-b1a5a032a536",
   "metadata": {},
   "source": [
    "### Install\n",
    "\n",
    "If not using docker a local installation of FEniCSx is necessary, including all of its components\n",
    " * [UFL](https://github.com/FEniCS/ufl)\n",
    " * [Basix](https://github.com/FEniCS/basix)\n",
    " * [FFCx](https://github.com/FEniCS/ffcx)\n",
    " * [DOLFINx](https://github.com/FEniCS/dolfinx)\n",
    "\n",
    "along with other dependencies, which can be seen in the files `docker/pyproject.toml` and `docker/Dockerfile`.\n",
    "\n",
    "Installation instructions for FEniCSx are available on the [FEniCS project homepage](https://fenicsproject.org/download/).\n",
    "\n",
    "This Jupyter book was built with and is known to be compatible with"
   ]
  },
  {
   "cell_type": "code",
   "execution_count": null,
   "id": "gorgeous-declaration",
   "metadata": {},
   "outputs": [],
   "source": [
    "import dolfinx\n",
    "print(f\"DOLFINx version: {dolfinx.__version__} based on GIT commit: {dolfinx.git_commit_hash} of https://github.com/FEniCS/dolfinx/\")"
   ]
  },
  {
   "cell_type": "markdown",
   "id": "1d6ba491-8dac-4662-9bdb-f495bf3c2590",
   "metadata": {},
   "source": [
    "## Acknowledgments\n",
    "\n",
    "This Jupyter Book is based on the [FEniCSx Tutorial](https://jsdokken.com/dolfinx-tutorial/) by [Jørgen S. Dokken](https://jsdokken.com/). \n"
   ]
  }
 ],
 "metadata": {
  "kernelspec": {
   "display_name": "Python 3 (ipykernel)",
   "language": "python",
   "name": "python3"
  },
  "language_info": {
   "codemirror_mode": {
    "name": "ipython",
    "version": 3
   },
   "file_extension": ".py",
   "mimetype": "text/x-python",
   "name": "python",
   "nbconvert_exporter": "python",
   "pygments_lexer": "ipython3",
   "version": "3.10.12"
  }
 },
 "nbformat": 4,
 "nbformat_minor": 5
}
